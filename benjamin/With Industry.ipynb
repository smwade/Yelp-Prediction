{
 "cells": [
  {
   "cell_type": "code",
   "execution_count": 11,
   "metadata": {
    "collapsed": false
   },
   "outputs": [],
   "source": [
    "from pymongo import MongoClient\n",
    "import numpy as np\n",
    "import gpxpy.geo\n",
    "from tqdm import tqdm\n",
    "from collections import defaultdict\n",
    "from sklearn.cluster import KMeans\n",
    "\n",
    "db = MongoClient().yelp\n",
    "\n",
    "def get_radius_for_city(city):\n",
    "    \n",
    "    def get_all_reviews_by_user_for_city(city):\n",
    "        bizes = list(db.businesses.find({\"city\": city}, { \"business_id\": 1, \"latitude\": 1, \"longitude\": 1}))\n",
    "        user_reviews = defaultdict(list)\n",
    "        for biz in tqdm(bizes):\n",
    "            rel_review = db.reviews.find({\"business_id\": biz['business_id']})\n",
    "            for review in list(rel_review):\n",
    "                user_reviews[review['user_id']].append((biz[\"latitude\"], biz[\"longitude\"]))\n",
    "        return user_reviews    \n",
    "    \n",
    "    def get_average_lat_and_long(set_lat_by_long):\n",
    "        set_lat_by_long = np.asarray(set_lat_by_long).copy()\n",
    "        return np.average(set_lat_by_long, axis=0)\n",
    "\n",
    "    def get_max_distance_from_mid(set_lat_by_long):\n",
    "        set_lat_by_long = np.asarray(set_lat_by_long)\n",
    "        mid = get_average_lat_and_long(set_lat_by_long)\n",
    "        return np.max([gpxpy.geo.haversine_distance(mid[0], mid[1], lat, lon)/1609.34 for lat, lon in set_lat_by_long])\n",
    "    \n",
    "    def get_clusters(data, n_clusters=2):\n",
    "        kmeans = KMeans(n_clusters=2).fit(data)\n",
    "        centers = kmeans.cluster_centers_\n",
    "        to_return = [[] for i in range(len(centers))]\n",
    "        \n",
    "        for x in data:\n",
    "            dist = np.linalg.norm(centers - x, 1, axis=1)\n",
    "            index = np.argmin(dist)\n",
    "            to_return[index].append(x)\n",
    "            \n",
    "        return sorted([np.vstack(i) for i in to_return], key=lambda x: len(x))[::-1]\n",
    "    \n",
    "    city_reviews = get_all_reviews_by_user_for_city(city)\n",
    "    city_radi = []\n",
    "    review_weights = [] # the more reviews that a user has given the more confident we are that they are part of the competitive region\n",
    "    for i, val in enumerate(city_reviews.values()):\n",
    "        if len(val) > 1:\n",
    "            dis_from_mid = get_max_distance_from_mid(val)\n",
    "            k = 2\n",
    "            while dis_from_mid > 100:\n",
    "                val = get_clusters(val, n_clusters=k)[0]\n",
    "                k += 1\n",
    "                dis_from_mid = get_max_distance_from_mid(val)\n",
    "            city_radi.append(dis_from_mid)\n",
    "            review_weights.append(len(val))\n",
    "            \n",
    "    final = np.dot(np.array(review_weights).T, np.array(city_radi))/np.sum(review_weights)\n",
    "    db.cityDistanceMetric.insert_one({\"city\" : city, \"radius\" : final})\n",
    "    return city, final"
   ]
  },
  {
   "cell_type": "code",
   "execution_count": 12,
   "metadata": {
    "collapsed": false
   },
   "outputs": [
    {
     "name": "stderr",
     "output_type": "stream",
     "text": [
      "  0%|          | 0/6254714 [00:00<?, ?it/s]\n"
     ]
    },
    {
     "ename": "KeyError",
     "evalue": "'latitude'",
     "output_type": "error",
     "traceback": [
      "\u001b[0;31m---------------------------------------------------------------------------\u001b[0m",
      "\u001b[0;31mKeyError\u001b[0m                                  Traceback (most recent call last)",
      "\u001b[0;32m<ipython-input-12-aebafddcaf1d>\u001b[0m in \u001b[0;36m<module>\u001b[0;34m()\u001b[0m\n\u001b[1;32m      2\u001b[0m \u001b[0;34m\u001b[0m\u001b[0m\n\u001b[1;32m      3\u001b[0m \u001b[0;32mfor\u001b[0m \u001b[0mcity\u001b[0m \u001b[0;32min\u001b[0m \u001b[0mcities\u001b[0m\u001b[0;34m:\u001b[0m\u001b[0;34m\u001b[0m\u001b[0m\n\u001b[0;32m----> 4\u001b[0;31m     \u001b[0mget_radius_for_city\u001b[0m\u001b[0;34m(\u001b[0m\u001b[0mcity\u001b[0m\u001b[0;34m)\u001b[0m\u001b[0;34m\u001b[0m\u001b[0m\n\u001b[0m",
      "\u001b[0;32m<ipython-input-11-94ae22dbbd87>\u001b[0m in \u001b[0;36mget_radius_for_city\u001b[0;34m(city)\u001b[0m\n\u001b[1;32m     40\u001b[0m         \u001b[0;32mreturn\u001b[0m \u001b[0msorted\u001b[0m\u001b[0;34m(\u001b[0m\u001b[0;34m[\u001b[0m\u001b[0mnp\u001b[0m\u001b[0;34m.\u001b[0m\u001b[0mvstack\u001b[0m\u001b[0;34m(\u001b[0m\u001b[0mi\u001b[0m\u001b[0;34m)\u001b[0m \u001b[0;32mfor\u001b[0m \u001b[0mi\u001b[0m \u001b[0;32min\u001b[0m \u001b[0mto_return\u001b[0m\u001b[0;34m]\u001b[0m\u001b[0;34m,\u001b[0m \u001b[0mkey\u001b[0m\u001b[0;34m=\u001b[0m\u001b[0;32mlambda\u001b[0m \u001b[0mx\u001b[0m\u001b[0;34m:\u001b[0m \u001b[0mlen\u001b[0m\u001b[0;34m(\u001b[0m\u001b[0mx\u001b[0m\u001b[0;34m)\u001b[0m\u001b[0;34m)\u001b[0m\u001b[0;34m[\u001b[0m\u001b[0;34m:\u001b[0m\u001b[0;34m:\u001b[0m\u001b[0;34m-\u001b[0m\u001b[0;36m1\u001b[0m\u001b[0;34m]\u001b[0m\u001b[0;34m\u001b[0m\u001b[0m\n\u001b[1;32m     41\u001b[0m \u001b[0;34m\u001b[0m\u001b[0m\n\u001b[0;32m---> 42\u001b[0;31m     \u001b[0mcity_reviews\u001b[0m \u001b[0;34m=\u001b[0m \u001b[0mget_all_reviews_by_user_for_city\u001b[0m\u001b[0;34m(\u001b[0m\u001b[0mcity\u001b[0m\u001b[0;34m)\u001b[0m\u001b[0;34m\u001b[0m\u001b[0m\n\u001b[0m\u001b[1;32m     43\u001b[0m     \u001b[0mcity_radi\u001b[0m \u001b[0;34m=\u001b[0m \u001b[0;34m[\u001b[0m\u001b[0;34m]\u001b[0m\u001b[0;34m\u001b[0m\u001b[0m\n\u001b[1;32m     44\u001b[0m     \u001b[0mreview_weights\u001b[0m \u001b[0;34m=\u001b[0m \u001b[0;34m[\u001b[0m\u001b[0;34m]\u001b[0m \u001b[0;31m# the more reviews that a user has given the more confident we are that they are part of the competitive region\u001b[0m\u001b[0;34m\u001b[0m\u001b[0m\n",
      "\u001b[0;32m<ipython-input-11-94ae22dbbd87>\u001b[0m in \u001b[0;36mget_all_reviews_by_user_for_city\u001b[0;34m(city)\u001b[0m\n\u001b[1;32m     16\u001b[0m             \u001b[0mrel_review\u001b[0m \u001b[0;34m=\u001b[0m \u001b[0mdb\u001b[0m\u001b[0;34m.\u001b[0m\u001b[0mreviews\u001b[0m\u001b[0;34m.\u001b[0m\u001b[0mfind\u001b[0m\u001b[0;34m(\u001b[0m\u001b[0;34m{\u001b[0m\u001b[0;34m\"business_id\"\u001b[0m\u001b[0;34m:\u001b[0m \u001b[0mbiz\u001b[0m\u001b[0;34m[\u001b[0m\u001b[0;34m'business_id'\u001b[0m\u001b[0;34m]\u001b[0m\u001b[0;34m}\u001b[0m\u001b[0;34m)\u001b[0m\u001b[0;34m\u001b[0m\u001b[0m\n\u001b[1;32m     17\u001b[0m             \u001b[0;32mfor\u001b[0m \u001b[0mreview\u001b[0m \u001b[0;32min\u001b[0m \u001b[0mlist\u001b[0m\u001b[0;34m(\u001b[0m\u001b[0mrel_review\u001b[0m\u001b[0;34m)\u001b[0m\u001b[0;34m:\u001b[0m\u001b[0;34m\u001b[0m\u001b[0m\n\u001b[0;32m---> 18\u001b[0;31m                 \u001b[0muser_reviews\u001b[0m\u001b[0;34m[\u001b[0m\u001b[0mreview\u001b[0m\u001b[0;34m[\u001b[0m\u001b[0;34m'user_id'\u001b[0m\u001b[0;34m]\u001b[0m\u001b[0;34m]\u001b[0m\u001b[0;34m.\u001b[0m\u001b[0mappend\u001b[0m\u001b[0;34m(\u001b[0m\u001b[0;34m(\u001b[0m\u001b[0mbiz\u001b[0m\u001b[0;34m[\u001b[0m\u001b[0;34m\"latitude\"\u001b[0m\u001b[0;34m]\u001b[0m\u001b[0;34m,\u001b[0m \u001b[0mbiz\u001b[0m\u001b[0;34m[\u001b[0m\u001b[0;34m\"longitude\"\u001b[0m\u001b[0;34m]\u001b[0m\u001b[0;34m)\u001b[0m\u001b[0;34m)\u001b[0m\u001b[0;34m\u001b[0m\u001b[0m\n\u001b[0m\u001b[1;32m     19\u001b[0m         \u001b[0;32mreturn\u001b[0m \u001b[0muser_reviews\u001b[0m\u001b[0;34m\u001b[0m\u001b[0m\n\u001b[1;32m     20\u001b[0m \u001b[0;34m\u001b[0m\u001b[0m\n",
      "\u001b[0;31mKeyError\u001b[0m: 'latitude'"
     ]
    }
   ],
   "source": [
    "cities = db.businesses.find().distinct('city')\n",
    "\n",
    "for city in cities:\n",
    "    get_radius_for_city(city)"
   ]
  }
 ],
 "metadata": {
  "kernelspec": {
   "display_name": "Python 2",
   "language": "python",
   "name": "python2"
  },
  "language_info": {
   "codemirror_mode": {
    "name": "ipython",
    "version": 2
   },
   "file_extension": ".py",
   "mimetype": "text/x-python",
   "name": "python",
   "nbconvert_exporter": "python",
   "pygments_lexer": "ipython2",
   "version": "2.7.13"
  }
 },
 "nbformat": 4,
 "nbformat_minor": 2
}
