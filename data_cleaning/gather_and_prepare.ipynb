{
 "cells": [
  {
   "cell_type": "markdown",
   "metadata": {
    "collapsed": true
   },
   "source": [
    "<img  src=\"../images/yelp-logo.png\" style=\"width:20%; hieght:20%;\" align=\"left\"/>\n",
    "# Dataset"
   ]
  },
  {
   "cell_type": "markdown",
   "metadata": {},
   "source": [
    "### Sean Wade & Luke Nelson"
   ]
  },
  {
   "cell_type": "markdown",
   "metadata": {},
   "source": [
    "## The Raw Data"
   ]
  },
  {
   "cell_type": "markdown",
   "metadata": {},
   "source": [
    "- **2.7M** reviews and **649K** tips by **687K** users for **86K** businesses\n",
    "- **566K** business attributes, e.g., hours, parking availability, ambience.\n",
    "- Social network of **687K** users for a total of **4.2M** social edges.\n",
    "- Aggregated check-ins over time for each of the **86K** businesses\n",
    "- **200,000** pictures from the included businesses"
   ]
  },
  {
   "cell_type": "markdown",
   "metadata": {},
   "source": [
    "### Cities\n",
    "- **U.K.** :  Edinburgh\n",
    "- **Germany** :  Karlsruhe\n",
    "- **Canada** :  Montreal and Waterloo\n",
    "- **U.S.** :  Pittsburgh, Charlotte, Urbana-Champaign, Phoenix, Las Vegas, Madison\n",
    "<img  src=\"images/dataset-map.png\"/>\n",
    "*source: yelp.com*"
   ]
  },
  {
   "cell_type": "markdown",
   "metadata": {},
   "source": [
    "### Data format\n",
    "The data is formated into several large JSON files."
   ]
  },
  {
   "cell_type": "markdown",
   "metadata": {
    "collapsed": true
   },
   "source": [
    "#### Business\n",
    "```json\n",
    "{\n",
    "    'type': 'business',\n",
    "    'business_id': (encrypted business id),\n",
    "    'name': (business name),\n",
    "    'neighborhoods': [(hood names)],\n",
    "    'full_address': (localized address),\n",
    "    'city': (city),\n",
    "    'state': (state),\n",
    "    'latitude': latitude,\n",
    "    'longitude': longitude,\n",
    "    'stars': (star rating, rounded to half-stars),\n",
    "    'review_count': review count,\n",
    "    'categories': [(localized category names)]\n",
    "    'open': True / False (corresponds to closed, not business hours),\n",
    "    'hours': {\n",
    "        (day_of_week): {\n",
    "            'open': (HH:MM),\n",
    "            'close': (HH:MM)\n",
    "        },\n",
    "        ...\n",
    "    },\n",
    "    'attributes': {\n",
    "        (attribute_name): (attribute_value),\n",
    "        ...\n",
    "    },\n",
    "}\n",
    "```"
   ]
  },
  {
   "cell_type": "markdown",
   "metadata": {},
   "source": [
    "#### Review\n",
    "```json\n",
    "{\n",
    "    'type': 'review',\n",
    "    'business_id': (encrypted business id),\n",
    "    'user_id': (encrypted user id),\n",
    "    'stars': (star rating, rounded to half-stars),\n",
    "    'text': (review text),\n",
    "    'date': (date, formatted like '2012-03-14'),\n",
    "    'votes': {(vote type): (count)},\n",
    "}\n",
    "```"
   ]
  },
  {
   "cell_type": "markdown",
   "metadata": {},
   "source": [
    "#### User\n",
    "```json\n",
    "{\n",
    "    'type': 'user',\n",
    "    'user_id': (encrypted user id),\n",
    "    'name': (first name),\n",
    "    'review_count': (review count),\n",
    "    'average_stars': (floating point average, like 4.31),\n",
    "    'votes': {(vote type): (count)},\n",
    "    'friends': [(friend user_ids)],\n",
    "    'elite': [(years_elite)],\n",
    "    'yelping_since': (date, formatted like '2012-03'),\n",
    "    'compliments': {\n",
    "        (compliment_type): (num_compliments_of_this_type),\n",
    "        ...\n",
    "    },\n",
    "    'fans': (num_fans),\n",
    "}\n",
    "```"
   ]
  },
  {
   "cell_type": "markdown",
   "metadata": {},
   "source": [
    "#### Check-in\n",
    "```json\n",
    "{\n",
    "    'type': 'checkin',\n",
    "    'business_id': (encrypted business id),\n",
    "    'checkin_info': {\n",
    "        '0-0': (number of checkins from 00:00 to 01:00 on all Sundays),\n",
    "        '1-0': (number of checkins from 01:00 to 02:00 on all Sundays),\n",
    "        ...\n",
    "        '14-4': (number of checkins from 14:00 to 15:00 on all Thursdays),\n",
    "        ...\n",
    "        '23-6': (number of checkins from 23:00 to 00:00 on all Saturdays)\n",
    "    }, # if there was no checkin for a hour-day block it will not be in the dict\n",
    "}\n",
    "```"
   ]
  },
  {
   "cell_type": "markdown",
   "metadata": {},
   "source": [
    "#### Tip\n",
    "```json\n",
    "{\n",
    "    'type': 'tip',\n",
    "    'text': (tip text),\n",
    "    'business_id': (encrypted business id),\n",
    "    'user_id': (encrypted user id),\n",
    "    'date': (date, formatted like '2012-03-14'),\n",
    "    'likes': (count),\n",
    "}\n",
    "```"
   ]
  },
  {
   "cell_type": "markdown",
   "metadata": {},
   "source": [
    "#### Photos\n",
    "```json\n",
    "[\n",
    "    {\n",
    "        \"photo_id\": (encrypted photo id),\n",
    "        \"business_id\" : (encrypted business id),\n",
    "        \"caption\" : (the photo caption, if any),\n",
    "        \"label\" : (the category the photo belongs to, if any)\n",
    "    },\n",
    "    {...}\n",
    "]\n",
    "```"
   ]
  },
  {
   "cell_type": "code",
   "execution_count": 28,
   "metadata": {
    "collapsed": false
   },
   "outputs": [
    {
     "data": {
      "text/html": [
       "<link href='http://fonts.googleapis.com/css?family=Fenix' rel='stylesheet' type='text/css'>\n",
       "<link href='http://fonts.googleapis.com/css?family=Alegreya+Sans:100,300,400,500,700,800,900,100italic,300italic,400italic,500italic,700italic,800italic,900italic' rel='stylesheet' type='text/css'>\n",
       "<link href='http://fonts.googleapis.com/css?family=Source+Code+Pro:300,400' rel='stylesheet' type='text/css'>\n",
       "<link href=\"https://fonts.googleapis.com/css?family=Raleway:200,300,400\" rel=\"stylesheet\" type='text/ccs'>\n",
       "<style>\n",
       "    @font-face {\n",
       "        font-family: \"Computer Modern\";\n",
       "        src: url('http://mirrors.ctan.org/fonts/cm-unicode/fonts/otf/cmunss.otf');\n",
       "    }\n",
       "    h1 {\n",
       "        font-family: 'Raleway', sans-serif;\n",
       "    }\n",
       "    h2 {\n",
       "        font-family: 'Raleway', sans-serif;\n",
       "    }\n",
       "    h3{\n",
       "\tfont-family: 'Raleway', sans-serif;\n",
       "        margin-top:12px;\n",
       "        margin-bottom: 3px;\n",
       "       }\n",
       "    h4{\n",
       "\tfont-family: 'Raleway', sans-serif;\n",
       "    }\n",
       "    h5 {\n",
       "        font-family: 'Raleway', sans-serif;\n",
       "    }\t   \n",
       "    div.text_cell_render{\n",
       "        font-family: 'Raleway', sans-serif;\n",
       "\tline-height: 23px;\n",
       "    }\n",
       "    .CodeMirror{\n",
       "            font-family: \"Source Code Pro\";\n",
       "\t\t\tfont-size: 95%;\n",
       "    }\n",
       "\n",
       "\n",
       "    \n",
       "\n",
       "    .text_cell_render h1 {\n",
       "        font-weight: 200;\n",
       "        font-size: 50pt;\n",
       "\t\tline-height: 100%;\n",
       "        color:#454851;\n",
       "        margin-top: 0.5em;\n",
       "        display: block;\n",
       "\t}\n",
       "\t.text_cell_render h2 {\n",
       "        font-weight: 400;\n",
       "\t\tcolor:#252839;\n",
       "        display: block;\n",
       "    }\t\n",
       "\t.text_cell_render h3 {\n",
       "        font-weight: 300;\n",
       "        display: block;\n",
       "    }\t\n",
       "    .text_cell_render h4 {\n",
       "        font-weight: 300;\n",
       "\tcolor:#CD2305;\n",
       "        display: block;\n",
       "    }\t\n",
       "    .text_cell_render h5 {\n",
       "        font-weight: 300;\n",
       "        font-size: 16pt;\n",
       "        color: #CD2305;\n",
       "        font-style: italic;\n",
       "        margin-bottom: .5em;\n",
       "        margin-top: 0.5em;\n",
       "        display: block;\n",
       "    }\n",
       "    \n",
       "    .warning{\n",
       "        color: rgb( 240, 20, 20 )\n",
       "        }  \n",
       "</style>\n",
       "<script>\n",
       "    MathJax.Hub.Config({\n",
       "                        TeX: {\n",
       "                           extensions: [\"AMSmath.js\"]\n",
       "                           },\n",
       "                tex2jax: {\n",
       "                    inlineMath: [ ['$','$'], [\"\\\\(\",\"\\\\)\"] ],\n",
       "                    displayMath: [ ['$$','$$'], [\"\\\\[\",\"\\\\]\"] ]\n",
       "                },\n",
       "                displayAlign: 'center', // Change this to 'center' to center equations.\n",
       "                \"HTML-CSS\": {\n",
       "                    styles: {'.MathJax_Display': {\"margin\": 4}}\n",
       "                }\n",
       "        });\n",
       "</script>\n"
      ],
      "text/plain": [
       "<IPython.core.display.HTML object>"
      ]
     },
     "execution_count": 28,
     "metadata": {},
     "output_type": "execute_result"
    }
   ],
   "source": [
    "# Import everything here\n",
    "import json\n",
    "import pandas as pd\n",
    "import numpy as np\n",
    "import scipy as sp\n",
    "from scipy import stats as stats\n",
    "from matplotlib import pyplot as plt\n",
    "from sklearn.model_selection import train_test_split\n",
    "from pylab import rcParams\n",
    "import seaborn as sns\n",
    "from glob import glob\n",
    "import re\n",
    "import string\n",
    "import plotly.plotly as py\n",
    "from plotly.graph_objs import *\n",
    "import warnings\n",
    "\n",
    "warnings.filterwarnings('ignore')\n",
    "plt.style.use('fivethirtyeight')\n",
    "%matplotlib inline\n",
    "\n",
    "from IPython.core.display import HTML\n",
    "import urllib2\n",
    "HTML(urllib2.urlopen('http://seanwade.com/jupyter.css').read())"
   ]
  },
  {
   "cell_type": "markdown",
   "metadata": {},
   "source": [
    "## Loading the CSV into DataFrames\n",
    "\n",
    "### Convert JSON to CSV\n",
    "Since reading data from a JSON file to pandas is difficult, I first convert it to a CSV file.  Sub-categories are denoted with dot notation, i.e. *'votes.funny'*, *'votes.useful'*."
   ]
  },
  {
   "cell_type": "code",
   "execution_count": 1,
   "metadata": {
    "collapsed": false
   },
   "outputs": [
    {
     "name": "stderr",
     "output_type": "stream",
     "text": [
      "/Users/seanwade/.local/lib/python2.7/site-packages/IPython/core/interactiveshell.py:2723: DtypeWarning: Columns (1,4,7,17,26,29,49,60,62,79,86,94) have mixed types. Specify dtype option on import or set low_memory=False.\n",
      "  interactivity=interactivity, compiler=compiler, result=result)\n"
     ]
    }
   ],
   "source": [
    "checkin = pd.read_csv('../raw_data/csv/yelp_academic_dataset_checkin.csv')\n",
    "business = pd.read_csv('../raw_data/csv/yelp_academic_dataset_business.csv')\n",
    "tip = pd.read_csv('../raw_data/csv/yelp_academic_dataset_tip.csv')\n",
    "users = pd.read_csv('../raw_data/csv/yelp_academic_dataset_user.csv')\n",
    "review = pd.read_csv('../raw_data/csv/yelp_academic_dataset_review.csv')"
   ]
  },
  {
   "cell_type": "markdown",
   "metadata": {},
   "source": [
    "## Cleaning the Data"
   ]
  },
  {
   "cell_type": "markdown",
   "metadata": {},
   "source": [
    "Now that we have all the data into pandas DataFrames we need to clean it.  This involves fixing mistakes in the data, dealing with empty values, feature engineering, and dropping data.  Since this data is for all 30 cities we start by grouping the data for Arizona only."
   ]
  },
  {
   "cell_type": "code",
   "execution_count": 2,
   "metadata": {
    "collapsed": false
   },
   "outputs": [],
   "source": [
    "# Groups the data into states and countries\n",
    "states = business.groupby('state')\n",
    "az_business = states.get_group('AZ')"
   ]
  },
  {
   "cell_type": "code",
   "execution_count": 3,
   "metadata": {
    "collapsed": false
   },
   "outputs": [
    {
     "data": {
      "text/html": [
       "<div>\n",
       "<table border=\"1\" class=\"dataframe\">\n",
       "  <thead>\n",
       "    <tr style=\"text-align: right;\">\n",
       "      <th></th>\n",
       "      <th>attributes.Ambience.divey</th>\n",
       "      <th>attributes.Dietary Restrictions.vegan</th>\n",
       "      <th>attributes.Happy Hour</th>\n",
       "      <th>hours.Thursday.open</th>\n",
       "      <th>attributes.Order at Counter</th>\n",
       "      <th>attributes.Hair Types Specialized In.africanamerican</th>\n",
       "      <th>attributes.Hair Types Specialized In.kids</th>\n",
       "      <th>attributes.BYOB</th>\n",
       "      <th>hours.Friday.open</th>\n",
       "      <th>attributes.Good For.latenight</th>\n",
       "      <th>...</th>\n",
       "      <th>attributes.Noise Level</th>\n",
       "      <th>attributes.Smoking</th>\n",
       "      <th>attributes.Attire</th>\n",
       "      <th>attributes.Hair Types Specialized In.curly</th>\n",
       "      <th>attributes.Good For Groups</th>\n",
       "      <th>neighborhoods</th>\n",
       "      <th>attributes.Open 24 Hours</th>\n",
       "      <th>attributes.Ambience.romantic</th>\n",
       "      <th>attributes.Music.jukebox</th>\n",
       "      <th>attributes.Ambience.upscale</th>\n",
       "    </tr>\n",
       "  </thead>\n",
       "  <tbody>\n",
       "    <tr>\n",
       "      <th>2288</th>\n",
       "      <td>NaN</td>\n",
       "      <td>NaN</td>\n",
       "      <td>NaN</td>\n",
       "      <td>10:00</td>\n",
       "      <td>NaN</td>\n",
       "      <td>NaN</td>\n",
       "      <td>NaN</td>\n",
       "      <td>NaN</td>\n",
       "      <td>10:00</td>\n",
       "      <td>NaN</td>\n",
       "      <td>...</td>\n",
       "      <td>NaN</td>\n",
       "      <td>NaN</td>\n",
       "      <td>NaN</td>\n",
       "      <td>NaN</td>\n",
       "      <td>NaN</td>\n",
       "      <td>[]</td>\n",
       "      <td>NaN</td>\n",
       "      <td>NaN</td>\n",
       "      <td>NaN</td>\n",
       "      <td>NaN</td>\n",
       "    </tr>\n",
       "    <tr>\n",
       "      <th>2376</th>\n",
       "      <td>NaN</td>\n",
       "      <td>NaN</td>\n",
       "      <td>NaN</td>\n",
       "      <td>06:00</td>\n",
       "      <td>NaN</td>\n",
       "      <td>NaN</td>\n",
       "      <td>NaN</td>\n",
       "      <td>NaN</td>\n",
       "      <td>06:00</td>\n",
       "      <td>NaN</td>\n",
       "      <td>...</td>\n",
       "      <td>NaN</td>\n",
       "      <td>NaN</td>\n",
       "      <td>NaN</td>\n",
       "      <td>NaN</td>\n",
       "      <td>NaN</td>\n",
       "      <td>[]</td>\n",
       "      <td>NaN</td>\n",
       "      <td>NaN</td>\n",
       "      <td>NaN</td>\n",
       "      <td>NaN</td>\n",
       "    </tr>\n",
       "    <tr>\n",
       "      <th>2377</th>\n",
       "      <td>False</td>\n",
       "      <td>NaN</td>\n",
       "      <td>NaN</td>\n",
       "      <td>10:00</td>\n",
       "      <td>NaN</td>\n",
       "      <td>NaN</td>\n",
       "      <td>NaN</td>\n",
       "      <td>NaN</td>\n",
       "      <td>10:00</td>\n",
       "      <td>False</td>\n",
       "      <td>...</td>\n",
       "      <td>loud</td>\n",
       "      <td>NaN</td>\n",
       "      <td>casual</td>\n",
       "      <td>NaN</td>\n",
       "      <td>False</td>\n",
       "      <td>[]</td>\n",
       "      <td>NaN</td>\n",
       "      <td>False</td>\n",
       "      <td>NaN</td>\n",
       "      <td>False</td>\n",
       "    </tr>\n",
       "    <tr>\n",
       "      <th>2378</th>\n",
       "      <td>NaN</td>\n",
       "      <td>NaN</td>\n",
       "      <td>NaN</td>\n",
       "      <td>NaN</td>\n",
       "      <td>NaN</td>\n",
       "      <td>NaN</td>\n",
       "      <td>NaN</td>\n",
       "      <td>NaN</td>\n",
       "      <td>NaN</td>\n",
       "      <td>NaN</td>\n",
       "      <td>...</td>\n",
       "      <td>quiet</td>\n",
       "      <td>NaN</td>\n",
       "      <td>NaN</td>\n",
       "      <td>NaN</td>\n",
       "      <td>True</td>\n",
       "      <td>[]</td>\n",
       "      <td>NaN</td>\n",
       "      <td>NaN</td>\n",
       "      <td>NaN</td>\n",
       "      <td>NaN</td>\n",
       "    </tr>\n",
       "    <tr>\n",
       "      <th>2379</th>\n",
       "      <td>NaN</td>\n",
       "      <td>NaN</td>\n",
       "      <td>NaN</td>\n",
       "      <td>08:00</td>\n",
       "      <td>NaN</td>\n",
       "      <td>NaN</td>\n",
       "      <td>NaN</td>\n",
       "      <td>NaN</td>\n",
       "      <td>08:00</td>\n",
       "      <td>NaN</td>\n",
       "      <td>...</td>\n",
       "      <td>NaN</td>\n",
       "      <td>NaN</td>\n",
       "      <td>NaN</td>\n",
       "      <td>NaN</td>\n",
       "      <td>NaN</td>\n",
       "      <td>[]</td>\n",
       "      <td>NaN</td>\n",
       "      <td>NaN</td>\n",
       "      <td>NaN</td>\n",
       "      <td>NaN</td>\n",
       "    </tr>\n",
       "  </tbody>\n",
       "</table>\n",
       "<p>5 rows × 98 columns</p>\n",
       "</div>"
      ],
      "text/plain": [
       "     attributes.Ambience.divey attributes.Dietary Restrictions.vegan  \\\n",
       "2288                       NaN                                   NaN   \n",
       "2376                       NaN                                   NaN   \n",
       "2377                     False                                   NaN   \n",
       "2378                       NaN                                   NaN   \n",
       "2379                       NaN                                   NaN   \n",
       "\n",
       "     attributes.Happy Hour hours.Thursday.open attributes.Order at Counter  \\\n",
       "2288                   NaN               10:00                         NaN   \n",
       "2376                   NaN               06:00                         NaN   \n",
       "2377                   NaN               10:00                         NaN   \n",
       "2378                   NaN                 NaN                         NaN   \n",
       "2379                   NaN               08:00                         NaN   \n",
       "\n",
       "     attributes.Hair Types Specialized In.africanamerican  \\\n",
       "2288                                                NaN     \n",
       "2376                                                NaN     \n",
       "2377                                                NaN     \n",
       "2378                                                NaN     \n",
       "2379                                                NaN     \n",
       "\n",
       "     attributes.Hair Types Specialized In.kids attributes.BYOB  \\\n",
       "2288                                       NaN             NaN   \n",
       "2376                                       NaN             NaN   \n",
       "2377                                       NaN             NaN   \n",
       "2378                                       NaN             NaN   \n",
       "2379                                       NaN             NaN   \n",
       "\n",
       "     hours.Friday.open attributes.Good For.latenight  \\\n",
       "2288             10:00                           NaN   \n",
       "2376             06:00                           NaN   \n",
       "2377             10:00                         False   \n",
       "2378               NaN                           NaN   \n",
       "2379             08:00                           NaN   \n",
       "\n",
       "                 ...             attributes.Noise Level attributes.Smoking  \\\n",
       "2288             ...                                NaN                NaN   \n",
       "2376             ...                                NaN                NaN   \n",
       "2377             ...                               loud                NaN   \n",
       "2378             ...                              quiet                NaN   \n",
       "2379             ...                                NaN                NaN   \n",
       "\n",
       "     attributes.Attire attributes.Hair Types Specialized In.curly  \\\n",
       "2288               NaN                                        NaN   \n",
       "2376               NaN                                        NaN   \n",
       "2377            casual                                        NaN   \n",
       "2378               NaN                                        NaN   \n",
       "2379               NaN                                        NaN   \n",
       "\n",
       "     attributes.Good For Groups neighborhoods attributes.Open 24 Hours  \\\n",
       "2288                        NaN            []                      NaN   \n",
       "2376                        NaN            []                      NaN   \n",
       "2377                      False            []                      NaN   \n",
       "2378                       True            []                      NaN   \n",
       "2379                        NaN            []                      NaN   \n",
       "\n",
       "     attributes.Ambience.romantic attributes.Music.jukebox  \\\n",
       "2288                          NaN                      NaN   \n",
       "2376                          NaN                      NaN   \n",
       "2377                        False                      NaN   \n",
       "2378                          NaN                      NaN   \n",
       "2379                          NaN                      NaN   \n",
       "\n",
       "     attributes.Ambience.upscale  \n",
       "2288                         NaN  \n",
       "2376                         NaN  \n",
       "2377                       False  \n",
       "2378                         NaN  \n",
       "2379                         NaN  \n",
       "\n",
       "[5 rows x 98 columns]"
      ]
     },
     "execution_count": 3,
     "metadata": {},
     "output_type": "execute_result"
    }
   ],
   "source": [
    "az_business.head()"
   ]
  },
  {
   "cell_type": "markdown",
   "metadata": {},
   "source": [
    "The fist 5 values are looking good. Next we use the unique business_id to cut all the other DataFrames down to deal with just AZ locations."
   ]
  },
  {
   "cell_type": "code",
   "execution_count": 4,
   "metadata": {
    "collapsed": false
   },
   "outputs": [],
   "source": [
    "# Create a set of valid businesses to check for\n",
    "business_set = set(az_business['business_id'])\n",
    "\n",
    "az_review = review[review['business_id'].isin(business_set)]\n",
    "az_checkin = checkin[checkin['business_id'].isin(business_set)]\n",
    "az_tip = tip[tip['business_id'].isin(business_set)]"
   ]
  },
  {
   "cell_type": "code",
   "execution_count": 5,
   "metadata": {
    "collapsed": false
   },
   "outputs": [],
   "source": [
    "# all the users that left reviews in AZ\n",
    "az_user = users[users['user_id'].isin(set(az_review['user_id']))]"
   ]
  },
  {
   "cell_type": "markdown",
   "metadata": {},
   "source": [
    "### Add business name to all dataFrames\n",
    "To make it easier for human readability (and plotting) we will add the business name as a feature."
   ]
  },
  {
   "cell_type": "code",
   "execution_count": 6,
   "metadata": {
    "collapsed": true
   },
   "outputs": [],
   "source": [
    "business_dict = dict(zip(business['business_id'], business['name']))"
   ]
  },
  {
   "cell_type": "code",
   "execution_count": 9,
   "metadata": {
    "collapsed": false
   },
   "outputs": [
    {
     "name": "stderr",
     "output_type": "stream",
     "text": [
      "/anaconda/lib/python2.7/site-packages/ipykernel/__main__.py:1: SettingWithCopyWarning: \n",
      "A value is trying to be set on a copy of a slice from a DataFrame.\n",
      "Try using .loc[row_indexer,col_indexer] = value instead\n",
      "\n",
      "See the caveats in the documentation: http://pandas.pydata.org/pandas-docs/stable/indexing.html#indexing-view-versus-copy\n",
      "  if __name__ == '__main__':\n",
      "/anaconda/lib/python2.7/site-packages/ipykernel/__main__.py:2: SettingWithCopyWarning: \n",
      "A value is trying to be set on a copy of a slice from a DataFrame.\n",
      "Try using .loc[row_indexer,col_indexer] = value instead\n",
      "\n",
      "See the caveats in the documentation: http://pandas.pydata.org/pandas-docs/stable/indexing.html#indexing-view-versus-copy\n",
      "  from ipykernel import kernelapp as app\n",
      "/anaconda/lib/python2.7/site-packages/ipykernel/__main__.py:3: SettingWithCopyWarning: \n",
      "A value is trying to be set on a copy of a slice from a DataFrame.\n",
      "Try using .loc[row_indexer,col_indexer] = value instead\n",
      "\n",
      "See the caveats in the documentation: http://pandas.pydata.org/pandas-docs/stable/indexing.html#indexing-view-versus-copy\n",
      "  app.launch_new_instance()\n"
     ]
    }
   ],
   "source": [
    "az_review['biz_name'] = [business_dict[x] for x in az_review['business_id'].tolist()]\n",
    "az_checkin['biz_name'] = [business_dict[x] for x in az_checkin['business_id'].tolist()]\n",
    "az_tip['biz_name'] = [business_dict[x] for x in az_tip['business_id'].tolist()]"
   ]
  },
  {
   "cell_type": "code",
   "execution_count": 10,
   "metadata": {
    "collapsed": false
   },
   "outputs": [
    {
     "data": {
      "text/html": [
       "<div>\n",
       "<table border=\"1\" class=\"dataframe\">\n",
       "  <thead>\n",
       "    <tr style=\"text-align: right;\">\n",
       "      <th></th>\n",
       "      <th>user_id</th>\n",
       "      <th>review_id</th>\n",
       "      <th>text</th>\n",
       "      <th>votes.cool</th>\n",
       "      <th>business_id</th>\n",
       "      <th>votes.funny</th>\n",
       "      <th>stars</th>\n",
       "      <th>date</th>\n",
       "      <th>type</th>\n",
       "      <th>votes.useful</th>\n",
       "      <th>biz_name</th>\n",
       "    </tr>\n",
       "  </thead>\n",
       "  <tbody>\n",
       "    <tr>\n",
       "      <th>43969</th>\n",
       "      <td>b6CL_FrloEX5BdDE10UlcA</td>\n",
       "      <td>tXtIRKfy8I8R09HnSL-siA</td>\n",
       "      <td>The scam of the century! I'm still horrified! ...</td>\n",
       "      <td>0</td>\n",
       "      <td>LUvxyWag5gpiubSxOvR92A</td>\n",
       "      <td>0</td>\n",
       "      <td>1</td>\n",
       "      <td>2014-07-28</td>\n",
       "      <td>review</td>\n",
       "      <td>3</td>\n",
       "      <td>Sleep Number</td>\n",
       "    </tr>\n",
       "    <tr>\n",
       "      <th>43970</th>\n",
       "      <td>EdyFJ9zkaCdqrH1VaIIKcA</td>\n",
       "      <td>4n04q5jH-hMJ-7HTfNXnBw</td>\n",
       "      <td>I ordered my bed on 8/31 during the Labor Day ...</td>\n",
       "      <td>0</td>\n",
       "      <td>LUvxyWag5gpiubSxOvR92A</td>\n",
       "      <td>0</td>\n",
       "      <td>1</td>\n",
       "      <td>2014-09-27</td>\n",
       "      <td>review</td>\n",
       "      <td>0</td>\n",
       "      <td>Sleep Number</td>\n",
       "    </tr>\n",
       "  </tbody>\n",
       "</table>\n",
       "</div>"
      ],
      "text/plain": [
       "                      user_id               review_id  \\\n",
       "43969  b6CL_FrloEX5BdDE10UlcA  tXtIRKfy8I8R09HnSL-siA   \n",
       "43970  EdyFJ9zkaCdqrH1VaIIKcA  4n04q5jH-hMJ-7HTfNXnBw   \n",
       "\n",
       "                                                    text  votes.cool  \\\n",
       "43969  The scam of the century! I'm still horrified! ...           0   \n",
       "43970  I ordered my bed on 8/31 during the Labor Day ...           0   \n",
       "\n",
       "                  business_id  votes.funny  stars        date    type  \\\n",
       "43969  LUvxyWag5gpiubSxOvR92A            0      1  2014-07-28  review   \n",
       "43970  LUvxyWag5gpiubSxOvR92A            0      1  2014-09-27  review   \n",
       "\n",
       "       votes.useful      biz_name  \n",
       "43969             3  Sleep Number  \n",
       "43970             0  Sleep Number  "
      ]
     },
     "execution_count": 10,
     "metadata": {},
     "output_type": "execute_result"
    }
   ],
   "source": [
    "az_review[:2]"
   ]
  },
  {
   "cell_type": "markdown",
   "metadata": {},
   "source": [
    "### Create Categorical Rating Data\n",
    "\n",
    "For grouping and clustering we will take the continuous *stars* data and group them into groups of 1, 2, 3, 4, and 5."
   ]
  },
  {
   "cell_type": "code",
   "execution_count": 26,
   "metadata": {
    "collapsed": false
   },
   "outputs": [],
   "source": [
    "az_business['star_category'] = pd.cut(az_business['stars'], 5,\n",
    "           labels=[1, 2, 3, 4, 5])"
   ]
  },
  {
   "cell_type": "markdown",
   "metadata": {},
   "source": [
    "### Drop Unnecessary Columns"
   ]
  },
  {
   "cell_type": "code",
   "execution_count": 27,
   "metadata": {
    "collapsed": false
   },
   "outputs": [],
   "source": [
    "az_business.drop(['neighborhoods','type','full_address', 'state'], inplace=True, axis=1, errors='ignore')"
   ]
  },
  {
   "cell_type": "markdown",
   "metadata": {},
   "source": [
    "### Missing Data"
   ]
  },
  {
   "cell_type": "markdown",
   "metadata": {},
   "source": [
    "As mentioned earlier, there are many missing values..."
   ]
  },
  {
   "cell_type": "code",
   "execution_count": 15,
   "metadata": {
    "collapsed": false
   },
   "outputs": [
    {
     "data": {
      "text/plain": [
       "attributes.Ambience.divey                               28331\n",
       "attributes.Dietary Restrictions.vegan                   36460\n",
       "attributes.Happy Hour                                   34896\n",
       "hours.Thursday.open                                     11575\n",
       "attributes.Order at Counter                             36308\n",
       "attributes.Hair Types Specialized In.africanamerican    36202\n",
       "attributes.Hair Types Specialized In.kids               36202\n",
       "attributes.BYOB                                         36085\n",
       "hours.Friday.open                                       11785\n",
       "attributes.Good For.latenight                           27619\n",
       "attributes.Outdoor Seating                              26449\n",
       "attributes.Alcohol                                      27371\n",
       "attributes.Ambience.classy                              28334\n",
       "attributes.By Appointment Only                          27569\n",
       "attributes.Parking.lot                                  16950\n",
       "business_id                                                 0\n",
       "attributes.Ambience.touristy                            28334\n",
       "attributes.Corkage                                      36217\n",
       "hours.Tuesday.open                                      11872\n",
       "attributes.Good For.brunch                              27646\n",
       "categories                                                  0\n",
       "attributes.Waiter Service                               28026\n",
       "hours.Monday.open                                       13244\n",
       "name                                                        0\n",
       "attributes.Parking.street                               16950\n",
       "attributes.Ambience.hipster                             28334\n",
       "attributes.BYOB/Corkage                                 35828\n",
       "attributes.Hair Types Specialized In.straightperms      36202\n",
       "attributes.Music.live                                   35653\n",
       "attributes.Dietary Restrictions.dairy-free              36460\n",
       "                                                        ...  \n",
       "attributes.Coat Check                                   34980\n",
       "longitude                                                   0\n",
       "hours.Monday.close                                      13244\n",
       "attributes.Hair Types Specialized In.extensions         36202\n",
       "hours.Tuesday.close                                     11872\n",
       "hours.Saturday.close                                    15439\n",
       "attributes.Good for Kids                                24165\n",
       "attributes.Parking.validated                            16950\n",
       "hours.Sunday.open                                       21879\n",
       "attributes.Accepts Insurance                            34534\n",
       "attributes.Music.dj                                     35278\n",
       "attributes.Dietary Restrictions.soy-free                36460\n",
       "attributes.Has TV                                       27912\n",
       "hours.Sunday.close                                      21879\n",
       "attributes.Ambience.casual                              28334\n",
       "attributes.Hair Types Specialized In.perms              36202\n",
       "attributes.Dogs Allowed                                 34627\n",
       "attributes.Drive-Thru                                   34886\n",
       "attributes.Dietary Restrictions.vegetarian              36460\n",
       "hours.Wednesday.open                                    11671\n",
       "attributes.Noise Level                                  28410\n",
       "attributes.Smoking                                      34953\n",
       "attributes.Attire                                       27391\n",
       "attributes.Hair Types Specialized In.curly              36202\n",
       "attributes.Good For Groups                              26753\n",
       "neighborhoods                                               0\n",
       "attributes.Open 24 Hours                                36328\n",
       "attributes.Ambience.romantic                            28334\n",
       "attributes.Music.jukebox                                35665\n",
       "attributes.Ambience.upscale                             28383\n",
       "dtype: int64"
      ]
     },
     "execution_count": 15,
     "metadata": {},
     "output_type": "execute_result"
    }
   ],
   "source": [
    "az_business.isnull().sum()"
   ]
  },
  {
   "cell_type": "markdown",
   "metadata": {},
   "source": [
    "Since every data point has a null value for at least one of the *attribute* columns, it would not make sense just to drop them. Instead we will look at how the attributes we do have influence the data and keep the relevant ones. This will be encoded for machine learning with 0-False, 1-True, and 2-Unknown. "
   ]
  },
  {
   "cell_type": "markdown",
   "metadata": {},
   "source": [
    "## First look at the Data"
   ]
  },
  {
   "cell_type": "code",
   "execution_count": 16,
   "metadata": {
    "collapsed": false
   },
   "outputs": [
    {
     "data": {
      "image/png": "[encoded data removed]",
      "text/plain": [
       "<matplotlib.figure.Figure at 0x12b47bdd0>"
      ]
     },
     "metadata": {},
     "output_type": "display_data"
    }
   ],
   "source": [
    "az_business['stars'].value_counts().sort_index().plot(kind='bar')\n",
    "plt.title('Distribution of Ratings')\n",
    "plt.xlabel('Stars')\n",
    "plt.ylabel('Number of Businesses')\n",
    "plt.show()"
   ]
  },
  {
   "cell_type": "markdown",
   "metadata": {},
   "source": [
    "## Which Attributes are Important"
   ]
  },
  {
   "cell_type": "markdown",
   "metadata": {},
   "source": [
    "In the business data we have 71 different attributes that the businesses could have! The next goal is to see how these affect the ratings. Does free WiFi improve your rating? Does being open 24 hours lower the rating?  For example we can just look at the starts given for places with the **romantic** attribute ."
   ]
  },
  {
   "cell_type": "code",
   "execution_count": 17,
   "metadata": {
    "collapsed": false
   },
   "outputs": [
    {
     "data": {
      "text/plain": [
       "<matplotlib.axes._subplots.AxesSubplot at 0x1211ab790>"
      ]
     },
     "execution_count": 17,
     "metadata": {},
     "output_type": "execute_result"
    },
    {
     "data": {
      "image/png": "[encoded data removed]",
      "text/plain": [
       "<matplotlib.figure.Figure at 0x10f50bd90>"
      ]
     },
     "metadata": {},
     "output_type": "display_data"
    }
   ],
   "source": [
    "az_business[az_business['attributes.Ambience.romantic'] == True]['stars'].value_counts().sort_index().plot(kind='bar')"
   ]
  },
  {
   "cell_type": "markdown",
   "metadata": {},
   "source": [
    "This is helpful, but we don't get much information. Plus, there are 71 attributes so we want to extract meaning from all these attributes. The next code is to do just that."
   ]
  },
  {
   "cell_type": "code",
   "execution_count": 18,
   "metadata": {
    "collapsed": false
   },
   "outputs": [],
   "source": [
    "# Make a list of all the attributes and parse them for readability.\n",
    "pattern = re.compile('attributes*', re.IGNORECASE)\n",
    "attribute_list = [x for x in list(az_business.columns) if pattern.search(x)]\n",
    "name_attribute_list = [re.sub('attributes.', '', x) for x in attribute_list]"
   ]
  },
  {
   "cell_type": "code",
   "execution_count": 19,
   "metadata": {
    "collapsed": false
   },
   "outputs": [
    {
     "name": "stdout",
     "output_type": "stream",
     "text": [
      "attributes.Price Range is not binary. Dropping from graph.\n"
     ]
    }
   ],
   "source": [
    "# Calculate the difference between average rating with or without the attribute.\n",
    "# NOTE: A negative number means that it hurt the score, while positive helped.\n",
    "\n",
    "difference_list = []\n",
    "for attribute in attribute_list:\n",
    "    group = az_business.groupby(attribute)\n",
    "    mean = group['stars'].mean()\n",
    "    try:\n",
    "        value = -mean[0] + mean[1]\n",
    "        difference_list.append(value)\n",
    "    except:\n",
    "        print attribute + \" is not binary. Dropping from graph.\"    "
   ]
  },
  {
   "cell_type": "code",
   "execution_count": 20,
   "metadata": {
    "collapsed": false
   },
   "outputs": [
    {
     "data": {
      "image/png": "[encoded data removed]",
      "text/plain": [
       "<matplotlib.figure.Figure at 0x12eda5290>"
      ]
     },
     "metadata": {},
     "output_type": "display_data"
    }
   ],
   "source": [
    "rcParams['figure.figsize'] = 10, 20\n",
    "\n",
    "# Sort the difference from greatest to least\n",
    "sorted_args = np.argsort(difference_list)\n",
    "\n",
    "# Change to np.array for argsort\n",
    "difference_list = np.array(difference_list)\n",
    "name_attribute_list = np.array(name_attribute_list)\n",
    "\n",
    "# Plot the graph\n",
    "y_pos = np.arange(len(difference_list))\n",
    "plt.barh(y_pos, difference_list[sorted_args])\n",
    "plt.yticks(y_pos, name_attribute_list[sorted_args], size=16)\n",
    "plt.title('How Attributes Influence Ratings', size=22)\n",
    "plt.xlabel('Mean Difference with Attribute')\n",
    "plt.ylabel('Attribute')\n",
    "plt.tight_layout()\n",
    "plt.show()"
   ]
  },
  {
   "cell_type": "markdown",
   "metadata": {},
   "source": [
    "This figure is very informative. The attributes on the extremes of the spectrum tell us, on average, whether they lean toward better or worse ratings. For example, if a restaurant caters then it is likely to have .5 more stars than one that does not. Also, strangely, if a business is good for groups its typically a whole star lower. It seems probable that these features will be useful for our model."
   ]
  },
  {
   "cell_type": "markdown",
   "metadata": {},
   "source": [
    "## Other attributes in Review Data"
   ]
  },
  {
   "cell_type": "markdown",
   "metadata": {},
   "source": [
    "In addition to the attributes involved with the business, we also have attributes of the reviews of those businesses.  In yelp other uses can rate reviews as *cool*, *funny*, and *useful*."
   ]
  },
  {
   "cell_type": "code",
   "execution_count": 21,
   "metadata": {
    "collapsed": false
   },
   "outputs": [
    {
     "data": {
      "text/plain": [
       "<matplotlib.axes._subplots.AxesSubplot at 0x12f0c7bd0>"
      ]
     },
     "execution_count": 21,
     "metadata": {},
     "output_type": "execute_result"
    },
    {
     "data": {
      "image/png": "[encoded data removed]",
      "text/plain": [
       "<matplotlib.figure.Figure at 0x12ee19910>"
      ]
     },
     "metadata": {},
     "output_type": "display_data"
    }
   ],
   "source": [
    "rcParams['figure.figsize'] = 8, 5\n",
    "az_review.plot(kind='scatter', x='stars', y='votes.useful')"
   ]
  },
  {
   "cell_type": "code",
   "execution_count": 22,
   "metadata": {
    "collapsed": false
   },
   "outputs": [
    {
     "data": {
      "text/plain": [
       "<matplotlib.axes._subplots.AxesSubplot at 0x14c052910>"
      ]
     },
     "execution_count": 22,
     "metadata": {},
     "output_type": "execute_result"
    },
    {
     "data": {
      "image/png": "[encoded data removed]",
      "text/plain": [
       "<matplotlib.figure.Figure at 0x14c079510>"
      ]
     },
     "metadata": {},
     "output_type": "display_data"
    }
   ],
   "source": [
    "az_review.plot(kind='scatter', x='stars', y='votes.funny')"
   ]
  },
  {
   "cell_type": "code",
   "execution_count": 23,
   "metadata": {
    "collapsed": false
   },
   "outputs": [
    {
     "data": {
      "text/plain": [
       "<matplotlib.axes._subplots.AxesSubplot at 0x14dd9dcd0>"
      ]
     },
     "execution_count": 23,
     "metadata": {},
     "output_type": "execute_result"
    },
    {
     "data": {
      "image/png": "[encoded data removed]",
      "text/plain": [
       "<matplotlib.figure.Figure at 0x14ddb3310>"
      ]
     },
     "metadata": {},
     "output_type": "display_data"
    }
   ],
   "source": [
    "az_review.plot(kind='scatter', x='stars', y='votes.cool')"
   ]
  },
  {
   "cell_type": "markdown",
   "metadata": {},
   "source": [
    "These three different categories give us surprisingly similar results.  The highest variance in all of them is for 1 and 5 star ratings.  This could be due to the fact that people are more likely to be passionate about really bad and really good experiences.  It is also interesting to note that on average the amount of special votes goes up as the ratings go up."
   ]
  },
  {
   "cell_type": "markdown",
   "metadata": {},
   "source": [
    "### One-hot Encoding of Attributes"
   ]
  },
  {
   "cell_type": "code",
   "execution_count": 24,
   "metadata": {
    "collapsed": false
   },
   "outputs": [
    {
     "data": {
      "text/html": [
       "<div>\n",
       "<table border=\"1\" class=\"dataframe\">\n",
       "  <thead>\n",
       "    <tr style=\"text-align: right;\">\n",
       "      <th></th>\n",
       "      <th>attributes.Ambience.divey</th>\n",
       "      <th>attributes.Dietary Restrictions.vegan</th>\n",
       "      <th>attributes.Happy Hour</th>\n",
       "      <th>attributes.Order at Counter</th>\n",
       "      <th>attributes.Hair Types Specialized In.africanamerican</th>\n",
       "      <th>attributes.Hair Types Specialized In.kids</th>\n",
       "      <th>attributes.BYOB</th>\n",
       "      <th>attributes.Good For.latenight</th>\n",
       "      <th>attributes.Outdoor Seating</th>\n",
       "      <th>attributes.Alcohol</th>\n",
       "      <th>...</th>\n",
       "      <th>attributes.Dietary Restrictions.vegetarian</th>\n",
       "      <th>attributes.Noise Level</th>\n",
       "      <th>attributes.Smoking</th>\n",
       "      <th>attributes.Attire</th>\n",
       "      <th>attributes.Hair Types Specialized In.curly</th>\n",
       "      <th>attributes.Good For Groups</th>\n",
       "      <th>attributes.Open 24 Hours</th>\n",
       "      <th>attributes.Ambience.romantic</th>\n",
       "      <th>attributes.Music.jukebox</th>\n",
       "      <th>attributes.Ambience.upscale</th>\n",
       "    </tr>\n",
       "  </thead>\n",
       "  <tbody>\n",
       "    <tr>\n",
       "      <th>2288</th>\n",
       "      <td>NaN</td>\n",
       "      <td>NaN</td>\n",
       "      <td>NaN</td>\n",
       "      <td>NaN</td>\n",
       "      <td>NaN</td>\n",
       "      <td>NaN</td>\n",
       "      <td>NaN</td>\n",
       "      <td>NaN</td>\n",
       "      <td>NaN</td>\n",
       "      <td>NaN</td>\n",
       "      <td>...</td>\n",
       "      <td>NaN</td>\n",
       "      <td>NaN</td>\n",
       "      <td>NaN</td>\n",
       "      <td>NaN</td>\n",
       "      <td>NaN</td>\n",
       "      <td>NaN</td>\n",
       "      <td>NaN</td>\n",
       "      <td>NaN</td>\n",
       "      <td>NaN</td>\n",
       "      <td>NaN</td>\n",
       "    </tr>\n",
       "    <tr>\n",
       "      <th>2376</th>\n",
       "      <td>NaN</td>\n",
       "      <td>NaN</td>\n",
       "      <td>NaN</td>\n",
       "      <td>NaN</td>\n",
       "      <td>NaN</td>\n",
       "      <td>NaN</td>\n",
       "      <td>NaN</td>\n",
       "      <td>NaN</td>\n",
       "      <td>NaN</td>\n",
       "      <td>NaN</td>\n",
       "      <td>...</td>\n",
       "      <td>NaN</td>\n",
       "      <td>NaN</td>\n",
       "      <td>NaN</td>\n",
       "      <td>NaN</td>\n",
       "      <td>NaN</td>\n",
       "      <td>NaN</td>\n",
       "      <td>NaN</td>\n",
       "      <td>NaN</td>\n",
       "      <td>NaN</td>\n",
       "      <td>NaN</td>\n",
       "    </tr>\n",
       "  </tbody>\n",
       "</table>\n",
       "<p>2 rows × 71 columns</p>\n",
       "</div>"
      ],
      "text/plain": [
       "     attributes.Ambience.divey attributes.Dietary Restrictions.vegan  \\\n",
       "2288                       NaN                                   NaN   \n",
       "2376                       NaN                                   NaN   \n",
       "\n",
       "     attributes.Happy Hour attributes.Order at Counter  \\\n",
       "2288                   NaN                         NaN   \n",
       "2376                   NaN                         NaN   \n",
       "\n",
       "     attributes.Hair Types Specialized In.africanamerican  \\\n",
       "2288                                                NaN     \n",
       "2376                                                NaN     \n",
       "\n",
       "     attributes.Hair Types Specialized In.kids attributes.BYOB  \\\n",
       "2288                                       NaN             NaN   \n",
       "2376                                       NaN             NaN   \n",
       "\n",
       "     attributes.Good For.latenight attributes.Outdoor Seating  \\\n",
       "2288                           NaN                        NaN   \n",
       "2376                           NaN                        NaN   \n",
       "\n",
       "     attributes.Alcohol             ...              \\\n",
       "2288                NaN             ...               \n",
       "2376                NaN             ...               \n",
       "\n",
       "     attributes.Dietary Restrictions.vegetarian attributes.Noise Level  \\\n",
       "2288                                        NaN                    NaN   \n",
       "2376                                        NaN                    NaN   \n",
       "\n",
       "     attributes.Smoking attributes.Attire  \\\n",
       "2288                NaN               NaN   \n",
       "2376                NaN               NaN   \n",
       "\n",
       "     attributes.Hair Types Specialized In.curly attributes.Good For Groups  \\\n",
       "2288                                        NaN                        NaN   \n",
       "2376                                        NaN                        NaN   \n",
       "\n",
       "     attributes.Open 24 Hours attributes.Ambience.romantic  \\\n",
       "2288                      NaN                          NaN   \n",
       "2376                      NaN                          NaN   \n",
       "\n",
       "     attributes.Music.jukebox attributes.Ambience.upscale  \n",
       "2288                      NaN                         NaN  \n",
       "2376                      NaN                         NaN  \n",
       "\n",
       "[2 rows x 71 columns]"
      ]
     },
     "execution_count": 24,
     "metadata": {},
     "output_type": "execute_result"
    }
   ],
   "source": [
    "az_business[attribute_list][:2]"
   ]
  },
  {
   "cell_type": "code",
   "execution_count": 25,
   "metadata": {
    "collapsed": false
   },
   "outputs": [
    {
     "name": "stdout",
     "output_type": "stream",
     "text": [
      "Did not convert: attributes.Alcohol\n",
      "Did not convert: attributes.BYOB/Corkage\n",
      "Did not convert: attributes.Ages Allowed\n",
      "Did not convert: attributes.Wi-Fi\n",
      "Did not convert: attributes.Noise Level\n",
      "Did not convert: attributes.Smoking\n",
      "Did not convert: attributes.Attire\n"
     ]
    }
   ],
   "source": [
    "failed_conversion_list = []\n",
    "\n",
    "for attribute in attribute_list:\n",
    "    try:\n",
    "        az_business[attribute] = az_business[attribute].fillna(2).astype(int)\n",
    "    except:\n",
    "        print \"Did not convert: {}\".format(attribute)\n",
    "        failed_conversion_list.append(attribute)"
   ]
  },
  {
   "cell_type": "code",
   "execution_count": 26,
   "metadata": {
    "collapsed": false
   },
   "outputs": [],
   "source": [
    "az_business = az_business.drop(failed_conversion_list, axis=1, errors='ignore')"
   ]
  },
  {
   "cell_type": "code",
   "execution_count": 27,
   "metadata": {
    "collapsed": false
   },
   "outputs": [
    {
     "data": {
      "text/html": [
       "<div>\n",
       "<table border=\"1\" class=\"dataframe\">\n",
       "  <thead>\n",
       "    <tr style=\"text-align: right;\">\n",
       "      <th></th>\n",
       "      <th>attributes.Ambience.divey</th>\n",
       "      <th>attributes.Dietary Restrictions.vegan</th>\n",
       "      <th>attributes.Happy Hour</th>\n",
       "      <th>hours.Thursday.open</th>\n",
       "      <th>attributes.Order at Counter</th>\n",
       "      <th>attributes.Hair Types Specialized In.africanamerican</th>\n",
       "      <th>attributes.Hair Types Specialized In.kids</th>\n",
       "      <th>attributes.BYOB</th>\n",
       "      <th>hours.Friday.open</th>\n",
       "      <th>attributes.Good For.latenight</th>\n",
       "      <th>...</th>\n",
       "      <th>attributes.Drive-Thru</th>\n",
       "      <th>attributes.Dietary Restrictions.vegetarian</th>\n",
       "      <th>hours.Wednesday.open</th>\n",
       "      <th>attributes.Hair Types Specialized In.curly</th>\n",
       "      <th>attributes.Good For Groups</th>\n",
       "      <th>neighborhoods</th>\n",
       "      <th>attributes.Open 24 Hours</th>\n",
       "      <th>attributes.Ambience.romantic</th>\n",
       "      <th>attributes.Music.jukebox</th>\n",
       "      <th>attributes.Ambience.upscale</th>\n",
       "    </tr>\n",
       "  </thead>\n",
       "  <tbody>\n",
       "    <tr>\n",
       "      <th>2288</th>\n",
       "      <td>2</td>\n",
       "      <td>2</td>\n",
       "      <td>2</td>\n",
       "      <td>10:00</td>\n",
       "      <td>2</td>\n",
       "      <td>2</td>\n",
       "      <td>2</td>\n",
       "      <td>2</td>\n",
       "      <td>10:00</td>\n",
       "      <td>2</td>\n",
       "      <td>...</td>\n",
       "      <td>2</td>\n",
       "      <td>2</td>\n",
       "      <td>10:00</td>\n",
       "      <td>2</td>\n",
       "      <td>2</td>\n",
       "      <td>[]</td>\n",
       "      <td>2</td>\n",
       "      <td>2</td>\n",
       "      <td>2</td>\n",
       "      <td>2</td>\n",
       "    </tr>\n",
       "    <tr>\n",
       "      <th>2376</th>\n",
       "      <td>2</td>\n",
       "      <td>2</td>\n",
       "      <td>2</td>\n",
       "      <td>06:00</td>\n",
       "      <td>2</td>\n",
       "      <td>2</td>\n",
       "      <td>2</td>\n",
       "      <td>2</td>\n",
       "      <td>06:00</td>\n",
       "      <td>2</td>\n",
       "      <td>...</td>\n",
       "      <td>2</td>\n",
       "      <td>2</td>\n",
       "      <td>06:00</td>\n",
       "      <td>2</td>\n",
       "      <td>2</td>\n",
       "      <td>[]</td>\n",
       "      <td>2</td>\n",
       "      <td>2</td>\n",
       "      <td>2</td>\n",
       "      <td>2</td>\n",
       "    </tr>\n",
       "    <tr>\n",
       "      <th>2377</th>\n",
       "      <td>0</td>\n",
       "      <td>2</td>\n",
       "      <td>2</td>\n",
       "      <td>10:00</td>\n",
       "      <td>2</td>\n",
       "      <td>2</td>\n",
       "      <td>2</td>\n",
       "      <td>2</td>\n",
       "      <td>10:00</td>\n",
       "      <td>0</td>\n",
       "      <td>...</td>\n",
       "      <td>2</td>\n",
       "      <td>2</td>\n",
       "      <td>10:00</td>\n",
       "      <td>2</td>\n",
       "      <td>0</td>\n",
       "      <td>[]</td>\n",
       "      <td>2</td>\n",
       "      <td>0</td>\n",
       "      <td>2</td>\n",
       "      <td>0</td>\n",
       "    </tr>\n",
       "  </tbody>\n",
       "</table>\n",
       "<p>3 rows × 91 columns</p>\n",
       "</div>"
      ],
      "text/plain": [
       "      attributes.Ambience.divey  attributes.Dietary Restrictions.vegan  \\\n",
       "2288                          2                                      2   \n",
       "2376                          2                                      2   \n",
       "2377                          0                                      2   \n",
       "\n",
       "      attributes.Happy Hour hours.Thursday.open  attributes.Order at Counter  \\\n",
       "2288                      2               10:00                            2   \n",
       "2376                      2               06:00                            2   \n",
       "2377                      2               10:00                            2   \n",
       "\n",
       "      attributes.Hair Types Specialized In.africanamerican  \\\n",
       "2288                                                  2      \n",
       "2376                                                  2      \n",
       "2377                                                  2      \n",
       "\n",
       "      attributes.Hair Types Specialized In.kids  attributes.BYOB  \\\n",
       "2288                                          2                2   \n",
       "2376                                          2                2   \n",
       "2377                                          2                2   \n",
       "\n",
       "     hours.Friday.open  attributes.Good For.latenight  \\\n",
       "2288             10:00                              2   \n",
       "2376             06:00                              2   \n",
       "2377             10:00                              0   \n",
       "\n",
       "                 ...              attributes.Drive-Thru  \\\n",
       "2288             ...                                  2   \n",
       "2376             ...                                  2   \n",
       "2377             ...                                  2   \n",
       "\n",
       "      attributes.Dietary Restrictions.vegetarian  hours.Wednesday.open  \\\n",
       "2288                                           2                 10:00   \n",
       "2376                                           2                 06:00   \n",
       "2377                                           2                 10:00   \n",
       "\n",
       "      attributes.Hair Types Specialized In.curly attributes.Good For Groups  \\\n",
       "2288                                           2                          2   \n",
       "2376                                           2                          2   \n",
       "2377                                           2                          0   \n",
       "\n",
       "      neighborhoods  attributes.Open 24 Hours attributes.Ambience.romantic  \\\n",
       "2288             []                         2                            2   \n",
       "2376             []                         2                            2   \n",
       "2377             []                         2                            0   \n",
       "\n",
       "      attributes.Music.jukebox attributes.Ambience.upscale  \n",
       "2288                         2                           2  \n",
       "2376                         2                           2  \n",
       "2377                         2                           0  \n",
       "\n",
       "[3 rows x 91 columns]"
      ]
     },
     "execution_count": 27,
     "metadata": {},
     "output_type": "execute_result"
    }
   ],
   "source": [
    "az_business[:3]"
   ]
  },
  {
   "cell_type": "markdown",
   "metadata": {},
   "source": [
    "By replacing the NaN's with the value 2 we can plug it as a category into clustering algorithms."
   ]
  },
  {
   "cell_type": "markdown",
   "metadata": {},
   "source": [
    "## Locations of Business"
   ]
  },
  {
   "cell_type": "markdown",
   "metadata": {},
   "source": [
    "There is the classic saying for success in business, \"Location, location, location\". We now want to explore how true that is. Do successful business cluster together? Or does one really good restaurant bring down the ratings of its neighbors?  To explore this we will plot several maps and then look at statistics for regions."
   ]
  },
  {
   "cell_type": "code",
   "execution_count": 46,
   "metadata": {
    "collapsed": true
   },
   "outputs": [],
   "source": [
    "# Higher density for STD of data"
   ]
  },
  {
   "cell_type": "code",
   "execution_count": 29,
   "metadata": {
    "collapsed": false
   },
   "outputs": [
    {
     "data": {
      "text/html": [
       "<iframe id=\"igraph\" scrolling=\"no\" style=\"border:none;\" seamless=\"seamless\" src=\"https://plot.ly/~smwade/72.embed\" height=\"525px\" width=\"100%\"></iframe>"
      ],
      "text/plain": [
       "<plotly.tools.PlotlyDisplay object>"
      ]
     },
     "execution_count": 29,
     "metadata": {},
     "output_type": "execute_result"
    }
   ],
   "source": [
    "mapbox_access_token = 'pk.eyJ1Ijoic213YWRlIiwiYSI6ImNpdzU4MmR6ZDAwbGwyeHIzcWRkeHNmeWIifQ.dyJ-FEl459ry0ebLOy8f9g'\n",
    "\n",
    "data = Data([\n",
    "    Scattermapbox(\n",
    "        name=\"Less Than 3 Stars\",\n",
    "        lat=az_business[az_business['stars'] <= 3]['latitude'],\n",
    "        lon=az_business[az_business['stars'] <= 3]['longitude'],\n",
    "        mode='markers',\n",
    "        marker=Marker(\n",
    "            size=5,\n",
    "            color='red',\n",
    "            opacity=0.5,\n",
    "        ),\n",
    "        text=az_business[az_business['stars'] <= 3]['name'],\n",
    "        hoverinfo='text',\n",
    "    ),\n",
    "        Scattermapbox(\n",
    "        name=\"More Than 3 Stars\",\n",
    "        lat=az_business[az_business['stars'] > 3]['latitude'],\n",
    "        lon=az_business[az_business['stars'] > 3]['longitude'],\n",
    "        mode='markers',\n",
    "        marker=Marker(\n",
    "            size=5,\n",
    "            color='blue',\n",
    "            opacity=0.5,\n",
    "\n",
    "        ),\n",
    "        text=az_business[az_business['stars'] > 3]['name'],\n",
    "        hoverinfo='text',\n",
    "    )      \n",
    "])\n",
    "\n",
    "layout = Layout(\n",
    "    title=\"Good vs Bad Business\",\n",
    "    autosize=True,\n",
    "    hovermode='closest',\n",
    "    mapbox=dict(\n",
    "        accesstoken=mapbox_access_token,\n",
    "        bearing=0,\n",
    "        center=dict(\n",
    "            lat=33.4484,\n",
    "            lon=-112.0740\n",
    "        ),\n",
    "        pitch=0,\n",
    "        zoom=13\n",
    "    ),\n",
    ")\n",
    "\n",
    "fig = dict(data=data, layout=layout)\n",
    "py.iplot(fig, filename='good vs bad', validate=False)"
   ]
  },
  {
   "cell_type": "markdown",
   "metadata": {},
   "source": [
    "The map above breaks our our data into two categories, greater and less than three stars.  After inspecting the map it seems like bad and good businesses are uniformly distributed.  There may be some helpful data from the large clusters in city centers."
   ]
  },
  {
   "cell_type": "markdown",
   "metadata": {},
   "source": [
    "### Types of Businesses\n",
    "We will now engineer some features for different types of businesses to plot. Specifically if it is a restaurant or Mexican food."
   ]
  },
  {
   "cell_type": "code",
   "execution_count": 32,
   "metadata": {
    "collapsed": true
   },
   "outputs": [],
   "source": [
    "food = []\n",
    "mexican = []\n",
    "for index, row in az_business['categories'].iteritems():\n",
    "    food.append('Restaurants' in row)\n",
    "    mexican.append('Mexican' in row)"
   ]
  },
  {
   "cell_type": "code",
   "execution_count": 33,
   "metadata": {
    "collapsed": true
   },
   "outputs": [],
   "source": [
    "az_business['food'] = food\n",
    "az_business['mexican'] = mexican"
   ]
  },
  {
   "cell_type": "code",
   "execution_count": 34,
   "metadata": {
    "collapsed": false
   },
   "outputs": [
    {
     "data": {
      "text/html": [
       "<iframe id=\"igraph\" scrolling=\"no\" style=\"border:none;\" seamless=\"seamless\" src=\"https://plot.ly/~smwade/74.embed\" height=\"525px\" width=\"100%\"></iframe>"
      ],
      "text/plain": [
       "<plotly.tools.PlotlyDisplay object>"
      ]
     },
     "execution_count": 34,
     "metadata": {},
     "output_type": "execute_result"
    }
   ],
   "source": [
    "mapbox_access_token = 'pk.eyJ1Ijoic213YWRlIiwiYSI6ImNpdzU4MmR6ZDAwbGwyeHIzcWRkeHNmeWIifQ.dyJ-FEl459ry0ebLOy8f9g'\n",
    "\n",
    "mask = ((az_business['food'] == True) & (az_business['mexican'] == False))\n",
    "\n",
    "data = Data([\n",
    "    Scattermapbox(\n",
    "        name=\"Mexican\",\n",
    "        lat=az_business[az_business['mexican'] == True]['latitude'],\n",
    "        lon=az_business[az_business['mexican'] == True]['longitude'],\n",
    "        mode='markers',\n",
    "        marker=Marker(\n",
    "            size=5,\n",
    "            color='red',\n",
    "            opacity=0.5,\n",
    "        ),\n",
    "        text=az_business[az_business['mexican'] == True]['name'],\n",
    "        hoverinfo='text',\n",
    "    ),\n",
    "        Scattermapbox(\n",
    "        name=\"Resturant\",\n",
    "        lat=az_business[mask]['latitude'],\n",
    "        lon=az_business[mask]['longitude'],\n",
    "        mode='markers',\n",
    "        marker=Marker(\n",
    "            size=5,\n",
    "            color='blue',\n",
    "            opacity=0.5,\n",
    "\n",
    "        ),\n",
    "        text=az_business[mask]['name'],\n",
    "        hoverinfo='text',\n",
    "    )      \n",
    "])\n",
    "\n",
    "layout = Layout(\n",
    "    title=\"Resturant Locations\",\n",
    "    autosize=True,\n",
    "    hovermode='closest',\n",
    "    mapbox=dict(\n",
    "        accesstoken=mapbox_access_token,\n",
    "        bearing=0,\n",
    "        center=dict(\n",
    "            lat=33.4484,\n",
    "            lon=-112.0740\n",
    "        ),\n",
    "        pitch=0,\n",
    "        zoom=13\n",
    "    ),\n",
    ")\n",
    "\n",
    "fig = dict(data=data, layout=layout)\n",
    "py.iplot(fig, filename='mexican', validate=False)"
   ]
  },
  {
   "cell_type": "markdown",
   "metadata": {},
   "source": [
    "### Clean the city data\n",
    "\n",
    "Main geographical areas will be very important for understanding the data.  However the dataset is not clean for this.  The cites have duplicate names and misspellings.  To fix this we will get the 5 main cities in the Phoenix Metropolitan are and standardize the spelling."
   ]
  },
  {
   "cell_type": "code",
   "execution_count": 35,
   "metadata": {
    "collapsed": false
   },
   "outputs": [
    {
     "name": "stdout",
     "output_type": "stream",
     "text": [
      "['Chandler', 'Scottsdale', 'Phoenix', 'Glendale', 'Mesa', 'Tempe', 'Florence', 'Peoria', 'Carefree', 'Phoenix, AZ', 'Cave Creek', 'scottsdale', 'Anthem', 'Rio Verde', 'Ahwatukee', 'Pheonix', 'Gilbert', 'MESA', 'Queen Creek', 'Gold Canyon', 'Apache Junction', 'Goldfield', 'Casa Grande', 'Coolidge', 'Higley', 'Sun Lakes', 'Paradise Valley', 'Fort Mcdowell', 'Fountain Hills', 'Maricopa', 'glendale', 'Surprise', 'Arlington', 'Black Canyon City', 'Buckeye', 'Goodyear', 'Litchfield Park', 'Tonopah', 'El Mirage', 'Wickenburg', 'Sedona', 'Tolleson', 'Phoneix', 'Avondale', 'New River', 'Scotesdale', 'Mesa AZ', 'Old Scottsdale', 'Tempe ', 'Guadalupe', 'Sun City', 'Gila Bend', 'Laveen', 'Youngtown', 'Morristown', 'Waddell', 'Wittmann', 'Sun City West', 'Scottdale', 'Payson', 'Roosevelt', 'North Scottsdale', 'Litchfield Park ', 'San Tan Valley', 'Tortilla Flat', 'Mesa ', nan, 'Fort McDowell', 'Peopria', 'Stanfield', 'Tonto Basin', 'MMRP', 'phoenix', 'Litchfield park', 'Grand Canyon', 'Sun City Anthem', 'Metro Phoenix', 'Phoenix ', 'Glendale Az', 'Desert Ridge', 'Surprise Crossing', 'Glbert', 'South Mountain', 'Chandler-Gilbert', 'Phoenix Sky Harbor Center', 'Central City', 'Queen Valley', 'Peoria ', 'Westworld Scottsdale', 'Phoenix AZ', 'Central City Village', 'Litchfield', 'Gelndale', 'Gilbert, AZ', 'Scottsdale AZ', 'Laveen Village', 'Phoe', 'Sun City Grand', 'Central', 'Ahwahtukee', 'Red Mountain', 'SCOTTSDALE', 'Ahwatukee Foothills Village', 'Maricopa AZ', 'Sunnyslope', \"Peoria Ave Citizen's Group\", 'PEORIA', 'Estrella Village', 'San Tan']\n"
     ]
    }
   ],
   "source": [
    "print list(az_business['city'].unique())"
   ]
  },
  {
   "cell_type": "code",
   "execution_count": 36,
   "metadata": {
    "collapsed": true
   },
   "outputs": [],
   "source": [
    "phoenix_spellings = [\"Phoenix\", \"Phoenix, AZ\", \n",
    "                     \"Pheonix\", \"Phoneix\", \"phoenix\",\n",
    "                    \"Phoenix\", \"Phoenix Sky Harbor Center\",\n",
    "                    \"Phoenix AZ\", \"Phoe\"]\n",
    "\n",
    "gilbert_spellings = [\"Gilbert\", \"Chandler-Gilbert\", \"Gilbert, AZ\"]\n",
    "\n",
    "mesa_spellings = [\"Mesa\", \"MESA\", \"Mesa AZ\", \"Mesa \"]\n",
    "\n",
    "tempe_spellings = [\"Tempe\", \"Tempe \"]\n",
    "\n",
    "scottsdale_spellings = [\"Scottsdale\", \"scottsdale\", \n",
    "                       \"Old Scottsdale\", \"Scottsdale AZ\", \"SCOTTSDALE\"]"
   ]
  },
  {
   "cell_type": "code",
   "execution_count": 37,
   "metadata": {
    "collapsed": true
   },
   "outputs": [],
   "source": [
    "az_business['city'] = az_business['city'].replace(phoenix_spellings, \"Phoenix\")\n",
    "az_business['city'] = az_business['city'].replace(gilbert_spellings, \"Gilbert\")\n",
    "az_business['city'] = az_business['city'].replace(mesa_spellings, \"Mesa\")\n",
    "az_business['city'] = az_business['city'].replace(tempe_spellings, \"Tempe\")\n",
    "az_business['city'] = az_business['city'].replace(scottsdale_spellings, \"Scottsdale\")"
   ]
  },
  {
   "cell_type": "code",
   "execution_count": 38,
   "metadata": {
    "collapsed": true
   },
   "outputs": [],
   "source": [
    "# We group the data by cities\n",
    "cities = az_business.groupby('city')"
   ]
  },
  {
   "cell_type": "markdown",
   "metadata": {},
   "source": [
    "This shows us some important data broken down by major city."
   ]
  },
  {
   "cell_type": "code",
   "execution_count": 57,
   "metadata": {
    "collapsed": false
   },
   "outputs": [
    {
     "data": {
      "text/html": [
       "<div>\n",
       "<table border=\"1\" class=\"dataframe\">\n",
       "  <thead>\n",
       "    <tr style=\"text-align: right;\">\n",
       "      <th></th>\n",
       "      <th></th>\n",
       "      <th>attributes.Price Range</th>\n",
       "      <th>review_count</th>\n",
       "      <th>stars</th>\n",
       "    </tr>\n",
       "    <tr>\n",
       "      <th>city</th>\n",
       "      <th></th>\n",
       "      <th></th>\n",
       "      <th></th>\n",
       "      <th></th>\n",
       "    </tr>\n",
       "  </thead>\n",
       "  <tbody>\n",
       "    <tr>\n",
       "      <th rowspan=\"11\" valign=\"top\">Gilbert</th>\n",
       "      <th>25%</th>\n",
       "      <td>2.000000</td>\n",
       "      <td>5.000000</td>\n",
       "      <td>3.000000</td>\n",
       "    </tr>\n",
       "    <tr>\n",
       "      <th>50%</th>\n",
       "      <td>2.000000</td>\n",
       "      <td>10.000000</td>\n",
       "      <td>4.000000</td>\n",
       "    </tr>\n",
       "    <tr>\n",
       "      <th>75%</th>\n",
       "      <td>2.000000</td>\n",
       "      <td>25.000000</td>\n",
       "      <td>4.500000</td>\n",
       "    </tr>\n",
       "    <tr>\n",
       "      <th>count</th>\n",
       "      <td>1942.000000</td>\n",
       "      <td>1942.000000</td>\n",
       "      <td>1942.000000</td>\n",
       "    </tr>\n",
       "    <tr>\n",
       "      <th>freq</th>\n",
       "      <td>NaN</td>\n",
       "      <td>NaN</td>\n",
       "      <td>NaN</td>\n",
       "    </tr>\n",
       "    <tr>\n",
       "      <th>max</th>\n",
       "      <td>4.000000</td>\n",
       "      <td>1368.000000</td>\n",
       "      <td>5.000000</td>\n",
       "    </tr>\n",
       "    <tr>\n",
       "      <th>mean</th>\n",
       "      <td>1.847065</td>\n",
       "      <td>30.129248</td>\n",
       "      <td>3.786303</td>\n",
       "    </tr>\n",
       "    <tr>\n",
       "      <th>min</th>\n",
       "      <td>1.000000</td>\n",
       "      <td>3.000000</td>\n",
       "      <td>1.000000</td>\n",
       "    </tr>\n",
       "    <tr>\n",
       "      <th>std</th>\n",
       "      <td>0.471538</td>\n",
       "      <td>69.900196</td>\n",
       "      <td>0.972527</td>\n",
       "    </tr>\n",
       "    <tr>\n",
       "      <th>top</th>\n",
       "      <td>NaN</td>\n",
       "      <td>NaN</td>\n",
       "      <td>NaN</td>\n",
       "    </tr>\n",
       "    <tr>\n",
       "      <th>unique</th>\n",
       "      <td>NaN</td>\n",
       "      <td>NaN</td>\n",
       "      <td>NaN</td>\n",
       "    </tr>\n",
       "    <tr>\n",
       "      <th rowspan=\"11\" valign=\"top\">Mesa</th>\n",
       "      <th>25%</th>\n",
       "      <td>2.000000</td>\n",
       "      <td>5.000000</td>\n",
       "      <td>3.000000</td>\n",
       "    </tr>\n",
       "    <tr>\n",
       "      <th>50%</th>\n",
       "      <td>2.000000</td>\n",
       "      <td>9.000000</td>\n",
       "      <td>3.500000</td>\n",
       "    </tr>\n",
       "    <tr>\n",
       "      <th>75%</th>\n",
       "      <td>2.000000</td>\n",
       "      <td>21.000000</td>\n",
       "      <td>4.500000</td>\n",
       "    </tr>\n",
       "    <tr>\n",
       "      <th>count</th>\n",
       "      <td>3640.000000</td>\n",
       "      <td>3640.000000</td>\n",
       "      <td>3640.000000</td>\n",
       "    </tr>\n",
       "    <tr>\n",
       "      <th>freq</th>\n",
       "      <td>NaN</td>\n",
       "      <td>NaN</td>\n",
       "      <td>NaN</td>\n",
       "    </tr>\n",
       "    <tr>\n",
       "      <th>max</th>\n",
       "      <td>4.000000</td>\n",
       "      <td>884.000000</td>\n",
       "      <td>5.000000</td>\n",
       "    </tr>\n",
       "    <tr>\n",
       "      <th>mean</th>\n",
       "      <td>1.790934</td>\n",
       "      <td>22.319505</td>\n",
       "      <td>3.616896</td>\n",
       "    </tr>\n",
       "    <tr>\n",
       "      <th>min</th>\n",
       "      <td>1.000000</td>\n",
       "      <td>3.000000</td>\n",
       "      <td>1.000000</td>\n",
       "    </tr>\n",
       "    <tr>\n",
       "      <th>std</th>\n",
       "      <td>0.504419</td>\n",
       "      <td>43.069610</td>\n",
       "      <td>1.027315</td>\n",
       "    </tr>\n",
       "    <tr>\n",
       "      <th>top</th>\n",
       "      <td>NaN</td>\n",
       "      <td>NaN</td>\n",
       "      <td>NaN</td>\n",
       "    </tr>\n",
       "    <tr>\n",
       "      <th>unique</th>\n",
       "      <td>NaN</td>\n",
       "      <td>NaN</td>\n",
       "      <td>NaN</td>\n",
       "    </tr>\n",
       "    <tr>\n",
       "      <th rowspan=\"11\" valign=\"top\">Phoenix</th>\n",
       "      <th>25%</th>\n",
       "      <td>2.000000</td>\n",
       "      <td>5.000000</td>\n",
       "      <td>3.000000</td>\n",
       "    </tr>\n",
       "    <tr>\n",
       "      <th>50%</th>\n",
       "      <td>2.000000</td>\n",
       "      <td>10.000000</td>\n",
       "      <td>4.000000</td>\n",
       "    </tr>\n",
       "    <tr>\n",
       "      <th>75%</th>\n",
       "      <td>2.000000</td>\n",
       "      <td>26.000000</td>\n",
       "      <td>4.500000</td>\n",
       "    </tr>\n",
       "    <tr>\n",
       "      <th>count</th>\n",
       "      <td>11863.000000</td>\n",
       "      <td>11863.000000</td>\n",
       "      <td>11863.000000</td>\n",
       "    </tr>\n",
       "    <tr>\n",
       "      <th>freq</th>\n",
       "      <td>NaN</td>\n",
       "      <td>NaN</td>\n",
       "      <td>NaN</td>\n",
       "    </tr>\n",
       "    <tr>\n",
       "      <th>max</th>\n",
       "      <td>4.000000</td>\n",
       "      <td>1938.000000</td>\n",
       "      <td>5.000000</td>\n",
       "    </tr>\n",
       "    <tr>\n",
       "      <th>mean</th>\n",
       "      <td>1.809576</td>\n",
       "      <td>33.439939</td>\n",
       "      <td>3.685408</td>\n",
       "    </tr>\n",
       "    <tr>\n",
       "      <th>min</th>\n",
       "      <td>1.000000</td>\n",
       "      <td>3.000000</td>\n",
       "      <td>1.000000</td>\n",
       "    </tr>\n",
       "    <tr>\n",
       "      <th>std</th>\n",
       "      <td>0.519623</td>\n",
       "      <td>83.380874</td>\n",
       "      <td>1.015412</td>\n",
       "    </tr>\n",
       "    <tr>\n",
       "      <th>top</th>\n",
       "      <td>NaN</td>\n",
       "      <td>NaN</td>\n",
       "      <td>NaN</td>\n",
       "    </tr>\n",
       "    <tr>\n",
       "      <th>unique</th>\n",
       "      <td>NaN</td>\n",
       "      <td>NaN</td>\n",
       "      <td>NaN</td>\n",
       "    </tr>\n",
       "    <tr>\n",
       "      <th rowspan=\"11\" valign=\"top\">Scottsdale</th>\n",
       "      <th>25%</th>\n",
       "      <td>2.000000</td>\n",
       "      <td>5.000000</td>\n",
       "      <td>3.500000</td>\n",
       "    </tr>\n",
       "    <tr>\n",
       "      <th>50%</th>\n",
       "      <td>2.000000</td>\n",
       "      <td>11.000000</td>\n",
       "      <td>4.000000</td>\n",
       "    </tr>\n",
       "    <tr>\n",
       "      <th>75%</th>\n",
       "      <td>2.000000</td>\n",
       "      <td>30.000000</td>\n",
       "      <td>4.500000</td>\n",
       "    </tr>\n",
       "    <tr>\n",
       "      <th>count</th>\n",
       "      <td>5644.000000</td>\n",
       "      <td>5644.000000</td>\n",
       "      <td>5644.000000</td>\n",
       "    </tr>\n",
       "    <tr>\n",
       "      <th>freq</th>\n",
       "      <td>NaN</td>\n",
       "      <td>NaN</td>\n",
       "      <td>NaN</td>\n",
       "    </tr>\n",
       "    <tr>\n",
       "      <th>max</th>\n",
       "      <td>4.000000</td>\n",
       "      <td>1326.000000</td>\n",
       "      <td>5.000000</td>\n",
       "    </tr>\n",
       "    <tr>\n",
       "      <th>mean</th>\n",
       "      <td>1.996279</td>\n",
       "      <td>37.786322</td>\n",
       "      <td>3.907247</td>\n",
       "    </tr>\n",
       "    <tr>\n",
       "      <th>min</th>\n",
       "      <td>1.000000</td>\n",
       "      <td>3.000000</td>\n",
       "      <td>1.000000</td>\n",
       "    </tr>\n",
       "    <tr>\n",
       "      <th>std</th>\n",
       "      <td>0.552878</td>\n",
       "      <td>84.301912</td>\n",
       "      <td>0.921343</td>\n",
       "    </tr>\n",
       "    <tr>\n",
       "      <th>top</th>\n",
       "      <td>NaN</td>\n",
       "      <td>NaN</td>\n",
       "      <td>NaN</td>\n",
       "    </tr>\n",
       "    <tr>\n",
       "      <th>unique</th>\n",
       "      <td>NaN</td>\n",
       "      <td>NaN</td>\n",
       "      <td>NaN</td>\n",
       "    </tr>\n",
       "    <tr>\n",
       "      <th rowspan=\"11\" valign=\"top\">Tempe</th>\n",
       "      <th>25%</th>\n",
       "      <td>1.000000</td>\n",
       "      <td>5.000000</td>\n",
       "      <td>3.000000</td>\n",
       "    </tr>\n",
       "    <tr>\n",
       "      <th>50%</th>\n",
       "      <td>2.000000</td>\n",
       "      <td>12.000000</td>\n",
       "      <td>4.000000</td>\n",
       "    </tr>\n",
       "    <tr>\n",
       "      <th>75%</th>\n",
       "      <td>2.000000</td>\n",
       "      <td>34.000000</td>\n",
       "      <td>4.500000</td>\n",
       "    </tr>\n",
       "    <tr>\n",
       "      <th>count</th>\n",
       "      <td>3044.000000</td>\n",
       "      <td>3044.000000</td>\n",
       "      <td>3044.000000</td>\n",
       "    </tr>\n",
       "    <tr>\n",
       "      <th>freq</th>\n",
       "      <td>NaN</td>\n",
       "      <td>NaN</td>\n",
       "      <td>NaN</td>\n",
       "    </tr>\n",
       "    <tr>\n",
       "      <th>max</th>\n",
       "      <td>4.000000</td>\n",
       "      <td>1725.000000</td>\n",
       "      <td>5.000000</td>\n",
       "    </tr>\n",
       "    <tr>\n",
       "      <th>mean</th>\n",
       "      <td>1.792707</td>\n",
       "      <td>37.294678</td>\n",
       "      <td>3.702037</td>\n",
       "    </tr>\n",
       "    <tr>\n",
       "      <th>min</th>\n",
       "      <td>1.000000</td>\n",
       "      <td>3.000000</td>\n",
       "      <td>1.000000</td>\n",
       "    </tr>\n",
       "    <tr>\n",
       "      <th>std</th>\n",
       "      <td>0.519169</td>\n",
       "      <td>79.604256</td>\n",
       "      <td>0.990299</td>\n",
       "    </tr>\n",
       "    <tr>\n",
       "      <th>top</th>\n",
       "      <td>NaN</td>\n",
       "      <td>NaN</td>\n",
       "      <td>NaN</td>\n",
       "    </tr>\n",
       "    <tr>\n",
       "      <th>unique</th>\n",
       "      <td>NaN</td>\n",
       "      <td>NaN</td>\n",
       "      <td>NaN</td>\n",
       "    </tr>\n",
       "  </tbody>\n",
       "</table>\n",
       "</div>"
      ],
      "text/plain": [
       "                   attributes.Price Range  review_count         stars\n",
       "city                                                                 \n",
       "Gilbert    25%                   2.000000      5.000000      3.000000\n",
       "           50%                   2.000000     10.000000      4.000000\n",
       "           75%                   2.000000     25.000000      4.500000\n",
       "           count              1942.000000   1942.000000   1942.000000\n",
       "           freq                       NaN           NaN           NaN\n",
       "           max                   4.000000   1368.000000      5.000000\n",
       "           mean                  1.847065     30.129248      3.786303\n",
       "           min                   1.000000      3.000000      1.000000\n",
       "           std                   0.471538     69.900196      0.972527\n",
       "           top                        NaN           NaN           NaN\n",
       "           unique                     NaN           NaN           NaN\n",
       "Mesa       25%                   2.000000      5.000000      3.000000\n",
       "           50%                   2.000000      9.000000      3.500000\n",
       "           75%                   2.000000     21.000000      4.500000\n",
       "           count              3640.000000   3640.000000   3640.000000\n",
       "           freq                       NaN           NaN           NaN\n",
       "           max                   4.000000    884.000000      5.000000\n",
       "           mean                  1.790934     22.319505      3.616896\n",
       "           min                   1.000000      3.000000      1.000000\n",
       "           std                   0.504419     43.069610      1.027315\n",
       "           top                        NaN           NaN           NaN\n",
       "           unique                     NaN           NaN           NaN\n",
       "Phoenix    25%                   2.000000      5.000000      3.000000\n",
       "           50%                   2.000000     10.000000      4.000000\n",
       "           75%                   2.000000     26.000000      4.500000\n",
       "           count             11863.000000  11863.000000  11863.000000\n",
       "           freq                       NaN           NaN           NaN\n",
       "           max                   4.000000   1938.000000      5.000000\n",
       "           mean                  1.809576     33.439939      3.685408\n",
       "           min                   1.000000      3.000000      1.000000\n",
       "           std                   0.519623     83.380874      1.015412\n",
       "           top                        NaN           NaN           NaN\n",
       "           unique                     NaN           NaN           NaN\n",
       "Scottsdale 25%                   2.000000      5.000000      3.500000\n",
       "           50%                   2.000000     11.000000      4.000000\n",
       "           75%                   2.000000     30.000000      4.500000\n",
       "           count              5644.000000   5644.000000   5644.000000\n",
       "           freq                       NaN           NaN           NaN\n",
       "           max                   4.000000   1326.000000      5.000000\n",
       "           mean                  1.996279     37.786322      3.907247\n",
       "           min                   1.000000      3.000000      1.000000\n",
       "           std                   0.552878     84.301912      0.921343\n",
       "           top                        NaN           NaN           NaN\n",
       "           unique                     NaN           NaN           NaN\n",
       "Tempe      25%                   1.000000      5.000000      3.000000\n",
       "           50%                   2.000000     12.000000      4.000000\n",
       "           75%                   2.000000     34.000000      4.500000\n",
       "           count              3044.000000   3044.000000   3044.000000\n",
       "           freq                       NaN           NaN           NaN\n",
       "           max                   4.000000   1725.000000      5.000000\n",
       "           mean                  1.792707     37.294678      3.702037\n",
       "           min                   1.000000      3.000000      1.000000\n",
       "           std                   0.519169     79.604256      0.990299\n",
       "           top                        NaN           NaN           NaN\n",
       "           unique                     NaN           NaN           NaN"
      ]
     },
     "execution_count": 57,
     "metadata": {},
     "output_type": "execute_result"
    }
   ],
   "source": [
    "description = cities.describe(exclude=['count'])\n",
    "description.loc[['Gilbert', 'Phoenix', 'Mesa', 'Tempe', 'Scottsdale'], ['attributes.Price Range', 'review_count', 'stars']]"
   ]
  },
  {
   "cell_type": "code",
   "execution_count": 40,
   "metadata": {
    "collapsed": false
   },
   "outputs": [
    {
     "data": {
      "image/png": "[encoded data removed]",
      "text/plain": [
       "<matplotlib.figure.Figure at 0x113707050>"
      ]
     },
     "metadata": {},
     "output_type": "display_data"
    }
   ],
   "source": [
    "rcParams['figure.figsize'] = 5, 5\n",
    "\n",
    "mean = cities.mean()\n",
    "mean.loc[['Gilbert', 'Phoenix', 'Mesa', 'Tempe', 'Scottsdale'], \"stars\"].plot(kind='bar')\n",
    "plt.title('Average Stars by City')\n",
    "plt.ylabel('Stars')\n",
    "plt.xlabel('City')\n",
    "plt.ylim(3,4)\n",
    "plt.show()"
   ]
  },
  {
   "cell_type": "code",
   "execution_count": 41,
   "metadata": {
    "collapsed": false
   },
   "outputs": [
    {
     "data": {
      "image/png": "[encoded data removed]",
      "text/plain": [
       "<matplotlib.figure.Figure at 0x11a6b5a10>"
      ]
     },
     "metadata": {},
     "output_type": "display_data"
    }
   ],
   "source": [
    "std = cities.var()\n",
    "std.loc[['Gilbert', 'Phoenix', 'Mesa', 'Tempe', 'Scottsdale'], \"stars\"].plot(kind='bar')\n",
    "plt.title('Variance of Stars by City')\n",
    "plt.ylabel('Stars')\n",
    "plt.show()"
   ]
  },
  {
   "cell_type": "code",
   "execution_count": 42,
   "metadata": {
    "collapsed": false
   },
   "outputs": [
    {
     "data": {
      "image/png": "[encoded data removed]",
      "text/plain": [
       "<matplotlib.figure.Figure at 0x11a6798d0>"
      ]
     },
     "metadata": {},
     "output_type": "display_data"
    }
   ],
   "source": [
    "mean = cities.mean()\n",
    "mean.loc[['Gilbert', 'Phoenix', 'Mesa', 'Tempe', 'Scottsdale'], \"attributes.Price Range\"].plot(kind='bar')\n",
    "plt.title('Average Price Range by City')\n",
    "plt.ylabel('Price Range')\n",
    "plt.show()"
   ]
  },
  {
   "cell_type": "markdown",
   "metadata": {},
   "source": [
    "These plots back up some prior knowledge I have about these cities.  Scottsdale is known for having the best but expensive food.  Mesa also is very inconsistent and has the greatest variance in ratings.  This data by major city is helpful but not as helpful as I predicted it would be."
   ]
  },
  {
   "cell_type": "markdown",
   "metadata": {},
   "source": [
    "## What about Reviewers?"
   ]
  },
  {
   "cell_type": "markdown",
   "metadata": {},
   "source": [
    "While there are many great features in the business and review dataFrames, there is a lot that we can learn from the users profiles.  This data comes with the following categories:"
   ]
  },
  {
   "cell_type": "code",
   "execution_count": 59,
   "metadata": {
    "collapsed": false
   },
   "outputs": [
    {
     "data": {
      "text/plain": [
       "['yelping_since',\n",
       " 'compliments.plain',\n",
       " 'review_count',\n",
       " 'friends',\n",
       " 'compliments.cute',\n",
       " 'compliments.writer',\n",
       " 'fans',\n",
       " 'compliments.note',\n",
       " 'type',\n",
       " 'compliments.hot',\n",
       " 'compliments.cool',\n",
       " 'compliments.profile',\n",
       " 'average_stars',\n",
       " 'compliments.more',\n",
       " 'elite',\n",
       " 'name',\n",
       " 'user_id',\n",
       " 'votes.cool',\n",
       " 'compliments.list',\n",
       " 'votes.funny',\n",
       " 'compliments.photos',\n",
       " 'compliments.funny',\n",
       " 'votes.useful']"
      ]
     },
     "execution_count": 59,
     "metadata": {},
     "output_type": "execute_result"
    }
   ],
   "source": [
    "list(az_user.columns)"
   ]
  },
  {
   "cell_type": "markdown",
   "metadata": {},
   "source": [
    "By knowing this data we can see how reliable a user's review is.  We can see their network with others and how influential they are.  High profile users can possibly have a very strong influence on the rating of a business. Review count and where can show quality reviews for specific places, like Indian food or spas."
   ]
  },
  {
   "cell_type": "markdown",
   "metadata": {},
   "source": [
    "### Create a Boolean for Ever Elite User"
   ]
  },
  {
   "cell_type": "markdown",
   "metadata": {},
   "source": [
    "Probably one of the most useful features in users is elite information. If a user has ever been an elite user, meaning lots of respected reviews, then they should be very reliable for determining the rating of a business. We will feature engineer a new column ever_elite that is a boolean for the user."
   ]
  },
  {
   "cell_type": "code",
   "execution_count": 60,
   "metadata": {
    "collapsed": false
   },
   "outputs": [],
   "source": [
    "elite_count = az_user['elite'].apply(lambda x: len(x))\n",
    "elite_count = [0 if x == 2 else 1 for x in elite_count]\n",
    "az_user['ever_elite'] = elite_count"
   ]
  },
  {
   "cell_type": "code",
   "execution_count": 61,
   "metadata": {
    "collapsed": false
   },
   "outputs": [
    {
     "name": "stdout",
     "output_type": "stream",
     "text": [
      "Number of Elite Users in Phoenix: 8903\n"
     ]
    }
   ],
   "source": [
    "print \"Number of Elite Users in Phoenix:\" , az_user['ever_elite'].sum()"
   ]
  },
  {
   "cell_type": "code",
   "execution_count": 62,
   "metadata": {
    "collapsed": false
   },
   "outputs": [
    {
     "data": {
      "image/png": "[encoded data removed]",
      "text/plain": [
       "<matplotlib.figure.Figure at 0x1135ea4d0>"
      ]
     },
     "metadata": {},
     "output_type": "display_data"
    }
   ],
   "source": [
    "rcParams['figure.figsize'] = 10, 15\n",
    "\n",
    "plt.subplot(211)\n",
    "az_user[az_user['ever_elite'] == 1]['average_stars'].plot(kind='hist')\n",
    "\n",
    "plt.title('Average Stars by Elite Users')\n",
    "plt.xlabel('Stars')\n",
    "\n",
    "plt.subplot(212)\n",
    "az_user[az_user['ever_elite'] == 0]['average_stars'].plot(kind='hist')\n",
    "plt.title('Average Stars by Non-Elite Users')\n",
    "plt.xlabel('Stars')\n",
    "plt.xlim(1,5)\n",
    "plt.tight_layout()\n",
    "plt.show()"
   ]
  },
  {
   "cell_type": "code",
   "execution_count": 47,
   "metadata": {
    "collapsed": false
   },
   "outputs": [
    {
     "data": {
      "image/png": "[encoded data removed]",
      "text/plain": [
       "<matplotlib.figure.Figure at 0x113da93d0>"
      ]
     },
     "metadata": {},
     "output_type": "display_data"
    }
   ],
   "source": [
    "rcParams['figure.figsize'] = 8, 8\n",
    "\n",
    "az_user[az_user['ever_elite'] == 1]['average_stars'].plot(kind='kde', label='Elite')\n",
    "az_user[az_user['ever_elite'] == 0]['average_stars'].plot(kind='kde', label='Non-Elite')\n",
    "plt.legend()\n",
    "plt.title('Elite vs Non-Elite Users')\n",
    "plt.xlabel('Stars')\n",
    "plt.xlim(.7,5.3)\n",
    "plt.show()"
   ]
  },
  {
   "cell_type": "markdown",
   "metadata": {},
   "source": [
    "This figure provides an interesting insight to user behavior. The best and most reliable users seem to be normally distributed around the 4 and moderate with their ratings. On the other hand, average users are much more extreme on the positive and negative side of the spectrum.  When making my model I will make sure to weight elite user reviews heavier."
   ]
  },
  {
   "cell_type": "markdown",
   "metadata": {},
   "source": [
    "## Review Text\n",
    "The review text has been cleaned, so it is ready for NLP.  However, even something as simple as the number of characters in a review can give us some helpful information."
   ]
  },
  {
   "cell_type": "code",
   "execution_count": 48,
   "metadata": {
    "collapsed": false
   },
   "outputs": [],
   "source": [
    "az_review['text_length'] = az_review['text'].apply(len)"
   ]
  },
  {
   "cell_type": "code",
   "execution_count": 49,
   "metadata": {
    "collapsed": false
   },
   "outputs": [
    {
     "data": {
      "text/plain": [
       "<matplotlib.axes._subplots.AxesSubplot at 0x10fdfe290>"
      ]
     },
     "execution_count": 49,
     "metadata": {},
     "output_type": "execute_result"
    },
    {
     "data": {
      "image/png": "[encoded data removed]",
      "text/plain": [
       "<matplotlib.figure.Figure at 0x10fd8fc50>"
      ]
     },
     "metadata": {},
     "output_type": "display_data"
    }
   ],
   "source": [
    "az_review[az_review['text_length'] < 2000].plot(kind='Hexbin', x='stars', y='text_length', gridsize=5)"
   ]
  },
  {
   "cell_type": "markdown",
   "metadata": {},
   "source": [
    "## Identify Potential Problems with Data\n",
    "\n",
    "- The data is provided from Yelp itself, so it is reliable.  However, there is still a selection biad because the data was specifically chosen for academic research.  THis could limit more real, and messy, information.\n",
    "\n",
    "- Like mentioned above, the missing results are with the attribibutes.  These were replaced with one-Hot encoding.  There were also many typos and human error in the spelling of cities.  Other than these issues with the data itself, there is also the limitation of not having access to every review from all users in the dataset."
   ]
  },
  {
   "cell_type": "markdown",
   "metadata": {},
   "source": [
    "## Suitability of Data\n",
    "\n",
    "This data is very rich and will be able to solve our problem."
   ]
  }
 ],
 "metadata": {
  "kernelspec": {
   "display_name": "Python 2",
   "language": "python",
   "name": "python2"
  },
  "language_info": {
   "codemirror_mode": {
    "name": "ipython",
    "version": 2
   },
   "file_extension": ".py",
   "mimetype": "text/x-python",
   "name": "python",
   "nbconvert_exporter": "python",
   "pygments_lexer": "ipython2",
   "version": "2.7.13"
  }
 },
 "nbformat": 4,
 "nbformat_minor": 0
}
