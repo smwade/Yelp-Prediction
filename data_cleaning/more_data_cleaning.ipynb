{
 "cells": [
  {
   "cell_type": "code",
   "execution_count": 1,
   "metadata": {
    "collapsed": true
   },
   "outputs": [],
   "source": [
    "import numpy as np\n",
    "import pandas as pd\n",
    "from sklearn.cluster import KMeans\n",
    "from sklearn.preprocessing import OneHotEncoder\n",
    "import re"
   ]
  },
  {
   "cell_type": "code",
   "execution_count": 2,
   "metadata": {
    "collapsed": true
   },
   "outputs": [],
   "source": [
    "# Prep data for regression\n",
    "business = pd.read_csv('data/az_business.csv')\n",
    "mexican = business[business['mexican'] == True]\n",
    "labels = mexican['stars']\n",
    "data = mexican.drop(['stars', 'star_category', 'food', 'mexican', 'business_id'], axis=1)\n",
    "data = data.drop(['city','categories'], axis=1)\n",
    "# Drop time since not good format\n",
    "drop_cols = [not bool(re.match('hour', str(x))) for x in data.columns]\n",
    "data = data.loc[:, drop_cols]"
   ]
  },
  {
   "cell_type": "code",
   "execution_count": 3,
   "metadata": {
    "collapsed": false
   },
   "outputs": [],
   "source": [
    "cols = ['name', 'attributes.Price Range','review_count',\n",
    "        'latitude', 'longitude','attributes.Accepts Credit Cards',\n",
    "        'attributes.Take-out', 'attributes.Delivery',\n",
    "        'attributes.Wheelchair Accessible', 'attributes.Good For.lunch',\n",
    "       'attributes.Good For.dinner', 'attributes.Good For.breakfast',\n",
    "       'attributes.Ambience.intimate', 'attributes.Takes Reservations']\n",
    "data = data[cols]\n",
    "\n",
    "# Make One-Hot Vectors\n",
    "for att in cols:\n",
    "    if re.match('att*', att):\n",
    "        title = att.partition('.')[-1]\n",
    "        if title != 'Price Range':\n",
    "            dummies = pd.get_dummies(data[att])\n",
    "            data['not ' + title] = dummies[0]\n",
    "            data[title] = dummies[1]\n",
    "            data = data.drop(att, axis=1)\n",
    "        else:\n",
    "            dummies = pd.get_dummies(data[att])\n",
    "            data['Price 1'] = dummies[1]\n",
    "            data['Price 2'] = dummies[2]\n",
    "            data['Price 3'] = dummies[3]\n",
    "            data['Price 4'] = dummies[4]\n",
    "            data = data.drop(att, axis=1)"
   ]
  },
  {
   "cell_type": "code",
   "execution_count": 4,
   "metadata": {
    "collapsed": false
   },
   "outputs": [
    {
     "data": {
      "text/html": [
       "<div>\n",
       "<table border=\"1\" class=\"dataframe\">\n",
       "  <thead>\n",
       "    <tr style=\"text-align: right;\">\n",
       "      <th></th>\n",
       "      <th>name</th>\n",
       "      <th>review_count</th>\n",
       "      <th>latitude</th>\n",
       "      <th>longitude</th>\n",
       "      <th>Price 1</th>\n",
       "      <th>Price 2</th>\n",
       "      <th>Price 3</th>\n",
       "      <th>Price 4</th>\n",
       "      <th>not Accepts Credit Cards</th>\n",
       "      <th>Accepts Credit Cards</th>\n",
       "      <th>...</th>\n",
       "      <th>not Good For.lunch</th>\n",
       "      <th>Good For.lunch</th>\n",
       "      <th>not Good For.dinner</th>\n",
       "      <th>Good For.dinner</th>\n",
       "      <th>not Good For.breakfast</th>\n",
       "      <th>Good For.breakfast</th>\n",
       "      <th>not Ambience.intimate</th>\n",
       "      <th>Ambience.intimate</th>\n",
       "      <th>not Takes Reservations</th>\n",
       "      <th>Takes Reservations</th>\n",
       "    </tr>\n",
       "  </thead>\n",
       "  <tbody>\n",
       "    <tr>\n",
       "      <th>19</th>\n",
       "      <td>Canyon Cafe</td>\n",
       "      <td>280</td>\n",
       "      <td>33.452154</td>\n",
       "      <td>-112.068620</td>\n",
       "      <td>0</td>\n",
       "      <td>1</td>\n",
       "      <td>0</td>\n",
       "      <td>0</td>\n",
       "      <td>0</td>\n",
       "      <td>1</td>\n",
       "      <td>...</td>\n",
       "      <td>1</td>\n",
       "      <td>0</td>\n",
       "      <td>0</td>\n",
       "      <td>1</td>\n",
       "      <td>1</td>\n",
       "      <td>0</td>\n",
       "      <td>1</td>\n",
       "      <td>0</td>\n",
       "      <td>0</td>\n",
       "      <td>1</td>\n",
       "    </tr>\n",
       "    <tr>\n",
       "      <th>29</th>\n",
       "      <td>Taco Bell</td>\n",
       "      <td>12</td>\n",
       "      <td>33.465440</td>\n",
       "      <td>-112.069090</td>\n",
       "      <td>1</td>\n",
       "      <td>0</td>\n",
       "      <td>0</td>\n",
       "      <td>0</td>\n",
       "      <td>0</td>\n",
       "      <td>1</td>\n",
       "      <td>...</td>\n",
       "      <td>0</td>\n",
       "      <td>1</td>\n",
       "      <td>1</td>\n",
       "      <td>0</td>\n",
       "      <td>1</td>\n",
       "      <td>0</td>\n",
       "      <td>1</td>\n",
       "      <td>0</td>\n",
       "      <td>1</td>\n",
       "      <td>0</td>\n",
       "    </tr>\n",
       "    <tr>\n",
       "      <th>41</th>\n",
       "      <td>Comedor Guadalajara</td>\n",
       "      <td>325</td>\n",
       "      <td>33.429424</td>\n",
       "      <td>-112.073929</td>\n",
       "      <td>0</td>\n",
       "      <td>1</td>\n",
       "      <td>0</td>\n",
       "      <td>0</td>\n",
       "      <td>0</td>\n",
       "      <td>1</td>\n",
       "      <td>...</td>\n",
       "      <td>0</td>\n",
       "      <td>1</td>\n",
       "      <td>1</td>\n",
       "      <td>0</td>\n",
       "      <td>1</td>\n",
       "      <td>0</td>\n",
       "      <td>1</td>\n",
       "      <td>0</td>\n",
       "      <td>1</td>\n",
       "      <td>0</td>\n",
       "    </tr>\n",
       "    <tr>\n",
       "      <th>44</th>\n",
       "      <td>Chico's Tacos</td>\n",
       "      <td>98</td>\n",
       "      <td>33.465712</td>\n",
       "      <td>-112.065729</td>\n",
       "      <td>1</td>\n",
       "      <td>0</td>\n",
       "      <td>0</td>\n",
       "      <td>0</td>\n",
       "      <td>0</td>\n",
       "      <td>1</td>\n",
       "      <td>...</td>\n",
       "      <td>0</td>\n",
       "      <td>1</td>\n",
       "      <td>1</td>\n",
       "      <td>0</td>\n",
       "      <td>1</td>\n",
       "      <td>0</td>\n",
       "      <td>1</td>\n",
       "      <td>0</td>\n",
       "      <td>1</td>\n",
       "      <td>0</td>\n",
       "    </tr>\n",
       "    <tr>\n",
       "      <th>51</th>\n",
       "      <td>Matador Restaurant</td>\n",
       "      <td>57</td>\n",
       "      <td>33.449309</td>\n",
       "      <td>-112.071940</td>\n",
       "      <td>0</td>\n",
       "      <td>1</td>\n",
       "      <td>0</td>\n",
       "      <td>0</td>\n",
       "      <td>0</td>\n",
       "      <td>1</td>\n",
       "      <td>...</td>\n",
       "      <td>0</td>\n",
       "      <td>1</td>\n",
       "      <td>0</td>\n",
       "      <td>1</td>\n",
       "      <td>1</td>\n",
       "      <td>0</td>\n",
       "      <td>1</td>\n",
       "      <td>0</td>\n",
       "      <td>0</td>\n",
       "      <td>1</td>\n",
       "    </tr>\n",
       "  </tbody>\n",
       "</table>\n",
       "<p>5 rows × 26 columns</p>\n",
       "</div>"
      ],
      "text/plain": [
       "                   name  review_count   latitude   longitude  Price 1  \\\n",
       "19          Canyon Cafe           280  33.452154 -112.068620        0   \n",
       "29            Taco Bell            12  33.465440 -112.069090        1   \n",
       "41  Comedor Guadalajara           325  33.429424 -112.073929        0   \n",
       "44        Chico's Tacos            98  33.465712 -112.065729        1   \n",
       "51   Matador Restaurant            57  33.449309 -112.071940        0   \n",
       "\n",
       "    Price 2  Price 3  Price 4  not Accepts Credit Cards  Accepts Credit Cards  \\\n",
       "19        1        0        0                         0                     1   \n",
       "29        0        0        0                         0                     1   \n",
       "41        1        0        0                         0                     1   \n",
       "44        0        0        0                         0                     1   \n",
       "51        1        0        0                         0                     1   \n",
       "\n",
       "           ...          not Good For.lunch  Good For.lunch  \\\n",
       "19         ...                           1               0   \n",
       "29         ...                           0               1   \n",
       "41         ...                           0               1   \n",
       "44         ...                           0               1   \n",
       "51         ...                           0               1   \n",
       "\n",
       "    not Good For.dinner  Good For.dinner  not Good For.breakfast  \\\n",
       "19                    0                1                       1   \n",
       "29                    1                0                       1   \n",
       "41                    1                0                       1   \n",
       "44                    1                0                       1   \n",
       "51                    0                1                       1   \n",
       "\n",
       "    Good For.breakfast  not Ambience.intimate  Ambience.intimate  \\\n",
       "19                   0                      1                  0   \n",
       "29                   0                      1                  0   \n",
       "41                   0                      1                  0   \n",
       "44                   0                      1                  0   \n",
       "51                   0                      1                  0   \n",
       "\n",
       "    not Takes Reservations  Takes Reservations  \n",
       "19                       0                   1  \n",
       "29                       1                   0  \n",
       "41                       1                   0  \n",
       "44                       1                   0  \n",
       "51                       0                   1  \n",
       "\n",
       "[5 rows x 26 columns]"
      ]
     },
     "execution_count": 4,
     "metadata": {},
     "output_type": "execute_result"
    }
   ],
   "source": [
    "data.head()"
   ]
  },
  {
   "cell_type": "code",
   "execution_count": 5,
   "metadata": {
    "collapsed": false
   },
   "outputs": [],
   "source": [
    "# Kmeans on lat/long\n",
    "kmean = KMeans(n_clusters=15)\n",
    "kmean.fit(data[['latitude', 'longitude']])\n",
    "centers = kmean.cluster_centers_"
   ]
  },
  {
   "cell_type": "code",
   "execution_count": 6,
   "metadata": {
    "collapsed": false
   },
   "outputs": [],
   "source": [
    "# one hot location\n",
    "col_names = data.columns.tolist()\n",
    "data = pd.DataFrame(np.hstack((data.as_matrix(), pd.get_dummies(kmean.labels_).as_matrix())))\n",
    "data.columns = col_names + range(1,16)"
   ]
  },
  {
   "cell_type": "code",
   "execution_count": 9,
   "metadata": {
    "collapsed": true
   },
   "outputs": [],
   "source": [
    "data.to_csv('data/data.csv', index=None)\n",
    "labels.to_csv('data/labels.csv', index=None)"
   ]
  },
  {
   "cell_type": "code",
   "execution_count": 16,
   "metadata": {
    "collapsed": false
   },
   "outputs": [
    {
     "data": {
      "text/plain": [
       "(1429, 1)"
      ]
     },
     "execution_count": 16,
     "metadata": {},
     "output_type": "execute_result"
    }
   ],
   "source": [
    "pd.read_csv('data/labels.csv'"
   ]
  },
  {
   "cell_type": "code",
   "execution_count": null,
   "metadata": {
    "collapsed": true
   },
   "outputs": [],
   "source": []
  }
 ],
 "metadata": {
  "kernelspec": {
   "display_name": "Python 2",
   "language": "python",
   "name": "python2"
  },
  "language_info": {
   "codemirror_mode": {
    "name": "ipython",
    "version": 2
   },
   "file_extension": ".py",
   "mimetype": "text/x-python",
   "name": "python",
   "nbconvert_exporter": "python",
   "pygments_lexer": "ipython2",
   "version": "2.7.13"
  }
 },
 "nbformat": 4,
 "nbformat_minor": 0
}
