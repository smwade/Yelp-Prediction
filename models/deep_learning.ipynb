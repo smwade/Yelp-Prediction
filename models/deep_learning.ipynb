{
 "cells": [
  {
   "cell_type": "code",
   "execution_count": 2,
   "metadata": {
    "collapsed": false
   },
   "outputs": [
    {
     "name": "stderr",
     "output_type": "stream",
     "text": [
      "Using TensorFlow backend.\n"
     ]
    }
   ],
   "source": [
    "from keras.models import Sequential\n",
    "from keras.layers import Dense, Activation\n",
    "from keras.utils import np_utils\n",
    "\n",
    "import pandas as pd"
   ]
  },
  {
   "cell_type": "code",
   "execution_count": 3,
   "metadata": {
    "collapsed": true
   },
   "outputs": [],
   "source": [
    "def star2category(stars):\n",
    "    return stars * 2\n",
    "\n",
    "def category2star(cat):\n",
    "    return cat / 2   "
   ]
  },
  {
   "cell_type": "code",
   "execution_count": 4,
   "metadata": {
    "collapsed": false
   },
   "outputs": [],
   "source": [
    "data = pd.read_csv('../data/data.csv')\n",
    "data = data.iloc[:,1:]\n",
    "data = data.as_matrix()\n",
    "labels = pd.read_csv('../data/labels.csv', squeeze=True, header=None)\n",
    "labels = star2category(labels).as_matrix()\n",
    "hot_labels = np_utils.to_categorical(labels, 11)"
   ]
  },
  {
   "cell_type": "code",
   "execution_count": 42,
   "metadata": {
    "collapsed": false
   },
   "outputs": [],
   "source": [
    "model = Sequential()\n",
    "\n",
    "model.add(Dense(input_dim=40, output_dim=30, init='he_normal'))\n",
    "model.add(Activation('relu'))\n",
    "\n",
    "model.add(Dense(output_dim=20, init='he_normal'))\n",
    "model.add(Activation('relu'))\n",
    "\n",
    "model.add(Dense(output_dim=15, init='he_normal'))\n",
    "model.add(Activation('relu'))\n",
    "\n",
    "model.add(Dense(output_dim=11, init='he_normal'))\n",
    "model.add(Activation('softmax'))\n",
    "\n",
    "model.compile(loss='categorical_crossentropy', optimizer='sgd', metrics=['accuracy'])"
   ]
  },
  {
   "cell_type": "code",
   "execution_count": 43,
   "metadata": {
    "collapsed": false
   },
   "outputs": [
    {
     "name": "stdout",
     "output_type": "stream",
     "text": [
      "Epoch 1/5\n",
      "1430/1430 [==============================] - 0s - loss: 11.7344 - acc: 0.2594     \n",
      "Epoch 2/5\n",
      "1430/1430 [==============================] - 0s - loss: 11.7110 - acc: 0.2734     \n",
      "Epoch 3/5\n",
      "1430/1430 [==============================] - 0s - loss: 11.7110 - acc: 0.2734     \n",
      "Epoch 4/5\n",
      "1430/1430 [==============================] - 0s - loss: 11.7110 - acc: 0.2734     \n",
      "Epoch 5/5\n",
      "1430/1430 [==============================] - 0s - loss: 11.7110 - acc: 0.2734     \n"
     ]
    }
   ],
   "source": [
    "h = model.fit(data, hot_labels, batch_size=32, nb_epoch=5)"
   ]
  },
  {
   "cell_type": "code",
   "execution_count": 45,
   "metadata": {
    "collapsed": false
   },
   "outputs": [
    {
     "data": {
      "text/plain": [
       "{'acc': [0.25944055956560413,\n",
       "  0.27342657338489185,\n",
       "  0.27342657338489185,\n",
       "  0.27342657348909577,\n",
       "  0.27342657355161815],\n",
       " 'loss': [11.734381825106961,\n",
       "  11.710979751106743,\n",
       "  11.710979879152525,\n",
       "  11.710979737768641,\n",
       "  11.710979815129633]}"
      ]
     },
     "execution_count": 45,
     "metadata": {},
     "output_type": "execute_result"
    }
   ],
   "source": [
    "h.history"
   ]
  },
  {
   "cell_type": "code",
   "execution_count": null,
   "metadata": {
    "collapsed": true
   },
   "outputs": [],
   "source": []
  }
 ],
 "metadata": {
  "kernelspec": {
   "display_name": "Python 2",
   "language": "python",
   "name": "python2"
  },
  "language_info": {
   "codemirror_mode": {
    "name": "ipython",
    "version": 2
   },
   "file_extension": ".py",
   "mimetype": "text/x-python",
   "name": "python",
   "nbconvert_exporter": "python",
   "pygments_lexer": "ipython2",
   "version": "2.7.13"
  }
 },
 "nbformat": 4,
 "nbformat_minor": 0
}
