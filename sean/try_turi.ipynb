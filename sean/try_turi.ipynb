{
 "cells": [
  {
   "cell_type": "markdown",
   "metadata": {},
   "source": [
    "# Try Turi"
   ]
  },
  {
   "cell_type": "code",
   "execution_count": 148,
   "metadata": {
    "collapsed": false
   },
   "outputs": [
    {
     "data": {
      "text/html": [
       "<link href='http://fonts.googleapis.com/css?family=Fenix' rel='stylesheet' type='text/css'>\n",
       "<link href='http://fonts.googleapis.com/css?family=Alegreya+Sans:100,300,400,500,700,800,900,100italic,300italic,400italic,500italic,700italic,800italic,900italic' rel='stylesheet' type='text/css'>\n",
       "<link href='http://fonts.googleapis.com/css?family=Source+Code+Pro:300,400' rel='stylesheet' type='text/css'>\n",
       "<link href=\"https://fonts.googleapis.com/css?family=Raleway:200,300,400\" rel=\"stylesheet\" type='text/ccs'>\n",
       "<style>\n",
       "    @font-face {\n",
       "        font-family: \"Computer Modern\";\n",
       "        src: url('http://mirrors.ctan.org/fonts/cm-unicode/fonts/otf/cmunss.otf');\n",
       "    }\n",
       "    h1 {\n",
       "        font-family: 'Raleway', sans-serif;\n",
       "    }\n",
       "    h2 {\n",
       "        font-family: 'Raleway', sans-serif;\n",
       "    }\n",
       "    h3{\n",
       "\tfont-family: 'Raleway', sans-serif;\n",
       "        margin-top:12px;\n",
       "        margin-bottom: 3px;\n",
       "       }\n",
       "    h4{\n",
       "\tfont-family: 'Raleway', sans-serif;\n",
       "    }\n",
       "    h5 {\n",
       "        font-family: 'Raleway', sans-serif;\n",
       "    }\t   \n",
       "    div.text_cell_render{\n",
       "        font-family: 'Raleway', sans-serif;\n",
       "\tline-height: 23px;\n",
       "    }\n",
       "    .CodeMirror{\n",
       "            font-family: \"Source Code Pro\";\n",
       "\t\t\tfont-size: 95%;\n",
       "    }\n",
       "\n",
       "\n",
       "    \n",
       "\n",
       "    .text_cell_render h1 {\n",
       "        font-weight: 200;\n",
       "        font-size: 50pt;\n",
       "\t\tline-height: 100%;\n",
       "        color:#454851;\n",
       "        margin-top: 0.5em;\n",
       "        display: block;\n",
       "\t}\n",
       "\t.text_cell_render h2 {\n",
       "        font-weight: 400;\n",
       "\t\tcolor:#252839;\n",
       "        display: block;\n",
       "    }\t\n",
       "\t.text_cell_render h3 {\n",
       "        font-weight: 300;\n",
       "        display: block;\n",
       "    }\t\n",
       "    .text_cell_render h4 {\n",
       "        font-weight: 300;\n",
       "\tcolor:#CD2305;\n",
       "        display: block;\n",
       "    }\t\n",
       "    .text_cell_render h5 {\n",
       "        font-weight: 300;\n",
       "        font-size: 16pt;\n",
       "        color: #CD2305;\n",
       "        font-style: italic;\n",
       "        margin-bottom: .5em;\n",
       "        margin-top: 0.5em;\n",
       "        display: block;\n",
       "    }\n",
       "    \n",
       "    .warning{\n",
       "        color: rgb( 240, 20, 20 )\n",
       "        }  \n",
       "</style>\n",
       "<script>\n",
       "    MathJax.Hub.Config({\n",
       "                        TeX: {\n",
       "                           extensions: [\"AMSmath.js\"]\n",
       "                           },\n",
       "                tex2jax: {\n",
       "                    inlineMath: [ ['$','$'], [\"\\\\(\",\"\\\\)\"] ],\n",
       "                    displayMath: [ ['$$','$$'], [\"\\\\[\",\"\\\\]\"] ]\n",
       "                },\n",
       "                displayAlign: 'center', // Change this to 'center' to center equations.\n",
       "                \"HTML-CSS\": {\n",
       "                    styles: {'.MathJax_Display': {\"margin\": 4}}\n",
       "                }\n",
       "        });\n",
       "</script>\n"
      ],
      "text/plain": [
       "<IPython.core.display.HTML object>"
      ]
     },
     "execution_count": 148,
     "metadata": {},
     "output_type": "execute_result"
    }
   ],
   "source": [
    "from pymongo import MongoClient\n",
    "import pandas as pd\n",
    "from utils import preprocess_reviews, data_manager\n",
    "import graphlab as gl\n",
    "from utils import text_helpers\n",
    "\n",
    "from matplotlib import pyplot as plt\n",
    "import seaborn as sns\n",
    "% matplotlib inline\n",
    "\n",
    "%load_ext autoreload\n",
    "%autoreload 2\n",
    "\n",
    "from IPython.core.display import HTML\n",
    "import urllib2\n",
    "HTML(urllib2.urlopen('http://seanwade.com/jupyter.css').read())"
   ]
  },
  {
   "cell_type": "code",
   "execution_count": 10,
   "metadata": {
    "collapsed": true
   },
   "outputs": [],
   "source": [
    "client = MongoClient()\n",
    "db = client.yelp"
   ]
  },
  {
   "cell_type": "code",
   "execution_count": 11,
   "metadata": {
    "collapsed": false
   },
   "outputs": [],
   "source": [
    "review_objects = data_manager.get_business_reviews('mVHrayjG3uZ_RLHkLj-AMg')\n",
    "reviews = [x['text'] for x in review_objects]"
   ]
  },
  {
   "cell_type": "code",
   "execution_count": 14,
   "metadata": {
    "collapsed": false
   },
   "outputs": [
    {
     "data": {
      "text/html": [
       "<div style=\"max-height:1000px;max-width:1500px;overflow:auto;\"><table frame=\"box\" rules=\"cols\">\n",
       "    <tr>\n",
       "        <th style=\"padding-left: 1em; padding-right: 1em; text-align: center\">X1</th>\n",
       "    </tr>\n",
       "    <tr>\n",
       "        <td style=\"padding-left: 1em; padding-right: 1em; text-align: center; vertical-align: top\">This place was<br>DELICIOUS!!  My parents ...</td>\n",
       "    </tr>\n",
       "    <tr>\n",
       "        <td style=\"padding-left: 1em; padding-right: 1em; text-align: center; vertical-align: top\">Can't miss stop for the<br>best Fish Sandwich in ...</td>\n",
       "    </tr>\n",
       "    <tr>\n",
       "        <td style=\"padding-left: 1em; padding-right: 1em; text-align: center; vertical-align: top\">This place should have a<br>lot more reviews - but ...</td>\n",
       "    </tr>\n",
       "    <tr>\n",
       "        <td style=\"padding-left: 1em; padding-right: 1em; text-align: center; vertical-align: top\">This place was very good.<br>I found out about Emil's ...</td>\n",
       "    </tr>\n",
       "    <tr>\n",
       "        <td style=\"padding-left: 1em; padding-right: 1em; text-align: center; vertical-align: top\">Old<br>school.....traditional ...</td>\n",
       "    </tr>\n",
       "    <tr>\n",
       "        <td style=\"padding-left: 1em; padding-right: 1em; text-align: center; vertical-align: top\">Seen this restaurant on<br>25 best places in ...</td>\n",
       "    </tr>\n",
       "    <tr>\n",
       "        <td style=\"padding-left: 1em; padding-right: 1em; text-align: center; vertical-align: top\">Good fish sandwich.</td>\n",
       "    </tr>\n",
       "    <tr>\n",
       "        <td style=\"padding-left: 1em; padding-right: 1em; text-align: center; vertical-align: top\">Wonderful reuben.  Map<br>shown on Yelp page is ...</td>\n",
       "    </tr>\n",
       "    <tr>\n",
       "        <td style=\"padding-left: 1em; padding-right: 1em; text-align: center; vertical-align: top\">After a morning of Thrift<br>Store hunting, a friend ...</td>\n",
       "    </tr>\n",
       "    <tr>\n",
       "        <td style=\"padding-left: 1em; padding-right: 1em; text-align: center; vertical-align: top\">This is a hidden gem, no<br>really. It took us ...</td>\n",
       "    </tr>\n",
       "</table>\n",
       "[25 rows x 1 columns]<br/>Note: Only the head of the SFrame is printed.<br/>You can use print_rows(num_rows=m, num_columns=n) to print more rows and columns.\n",
       "</div>"
      ],
      "text/plain": [
       "Columns:\n",
       "\tX1\tstr\n",
       "\n",
       "Rows: 25\n",
       "\n",
       "Data:\n",
       "+-------------------------------+\n",
       "|               X1              |\n",
       "+-------------------------------+\n",
       "| This place was DELICIOUS!!... |\n",
       "| Can't miss stop for the be... |\n",
       "| This place should have a l... |\n",
       "| This place was very good. ... |\n",
       "| Old school.....traditional... |\n",
       "| Seen this restaurant on 25... |\n",
       "|      Good fish sandwich.      |\n",
       "| Wonderful reuben.  Map sho... |\n",
       "| After a morning of Thrift ... |\n",
       "| This is a hidden gem, no r... |\n",
       "+-------------------------------+\n",
       "[25 rows x 1 columns]\n",
       "Note: Only the head of the SFrame is printed.\n",
       "You can use print_rows(num_rows=m, num_columns=n) to print more rows and columns."
      ]
     },
     "execution_count": 14,
     "metadata": {},
     "output_type": "execute_result"
    }
   ],
   "source": [
    "sf = gl.SFrame(reviews)\n",
    "sf"
   ]
  },
  {
   "cell_type": "code",
   "execution_count": 21,
   "metadata": {
    "collapsed": false
   },
   "outputs": [],
   "source": [
    "bow = gl.text_analytics.count_words(sf['X1'])\n",
    "sf['bow'] = bow"
   ]
  },
  {
   "cell_type": "code",
   "execution_count": 22,
   "metadata": {
    "collapsed": false
   },
   "outputs": [
    {
     "data": {
      "text/plain": [
       "dtype: int\n",
       "Rows: 25\n",
       "[1, 0, 0, 0, 0, 0, 0, 0, 1, 0, 0, 0, 0, 0, 0, 0, 0, 0, 1, 0, 0, 0, 0, 0, 0]"
      ]
     },
     "execution_count": 22,
     "metadata": {},
     "output_type": "execute_result"
    }
   ],
   "source": [
    "bow.dict_has_any_keys(['reuben'])"
   ]
  },
  {
   "cell_type": "code",
   "execution_count": 26,
   "metadata": {
    "collapsed": false
   },
   "outputs": [
    {
     "data": {
      "text/html": [
       "<div style=\"max-height:1000px;max-width:1500px;overflow:auto;\"><table frame=\"box\" rules=\"cols\">\n",
       "    <tr>\n",
       "        <th style=\"padding-left: 1em; padding-right: 1em; text-align: center\">X1</th>\n",
       "        <th style=\"padding-left: 1em; padding-right: 1em; text-align: center\">bow</th>\n",
       "        <th style=\"padding-left: 1em; padding-right: 1em; text-align: center\">nouns</th>\n",
       "    </tr>\n",
       "    <tr>\n",
       "        <td style=\"padding-left: 1em; padding-right: 1em; text-align: center; vertical-align: top\">This place was<br>DELICIOUS!!  My parents ...</td>\n",
       "        <td style=\"padding-left: 1em; padding-right: 1em; text-align: center; vertical-align: top\">{'sandwich,': 1, 'they':<br>2, 'sandwich.': 2, ...</td>\n",
       "        <td style=\"padding-left: 1em; padding-right: 1em; text-align: center; vertical-align: top\">{'NOUN': {'people': 1,<br>'Things': 1, 'fish': 3, ...</td>\n",
       "    </tr>\n",
       "    <tr>\n",
       "        <td style=\"padding-left: 1em; padding-right: 1em; text-align: center; vertical-align: top\">Can't miss stop for the<br>best Fish Sandwich in ...</td>\n",
       "        <td style=\"padding-left: 1em; padding-right: 1em; text-align: center; vertical-align: top\">{'pittsburgh.': 1, 'for':<br>1, 'fish': 1, 'stop': 1, ...</td>\n",
       "        <td style=\"padding-left: 1em; padding-right: 1em; text-align: center; vertical-align: top\">{'NOUN': {}}</td>\n",
       "    </tr>\n",
       "    <tr>\n",
       "        <td style=\"padding-left: 1em; padding-right: 1em; text-align: center; vertical-align: top\">This place should have a<br>lot more reviews - but ...</td>\n",
       "        <td style=\"padding-left: 1em; padding-right: 1em; text-align: center; vertical-align: top\">{'all': 2, 'forget': 1,<br>'just': 1, \"don't\": 3, ...</td>\n",
       "        <td style=\"padding-left: 1em; padding-right: 1em; text-align: center; vertical-align: top\">{'NOUN': {'prices': 1,<br>'people': 1, 'taste': 2, ...</td>\n",
       "    </tr>\n",
       "    <tr>\n",
       "        <td style=\"padding-left: 1em; padding-right: 1em; text-align: center; vertical-align: top\">This place was very good.<br>I found out about Emil's ...</td>\n",
       "        <td style=\"padding-left: 1em; padding-right: 1em; text-align: center; vertical-align: top\">{'love': 1, 'town,': 1,<br>'people': 1, 'when': 1, ...</td>\n",
       "        <td style=\"padding-left: 1em; padding-right: 1em; text-align: center; vertical-align: top\">{'NOUN': {'town': 1,<br>'sandwich': 1, 'shot' ...</td>\n",
       "    </tr>\n",
       "    <tr>\n",
       "        <td style=\"padding-left: 1em; padding-right: 1em; text-align: center; vertical-align: top\">Old<br>school.....traditional ...</td>\n",
       "        <td style=\"padding-left: 1em; padding-right: 1em; text-align: center; vertical-align: top\">{'enjoy': 1, 'and': 3,<br>'equally': 1, 'love': 1, ...</td>\n",
       "        <td style=\"padding-left: 1em; padding-right: 1em; text-align: center; vertical-align: top\">{'NOUN': {'vestige': 1,<br>'school': 1, 'mom': 1, ...</td>\n",
       "    </tr>\n",
       "    <tr>\n",
       "        <td style=\"padding-left: 1em; padding-right: 1em; text-align: center; vertical-align: top\">Seen this restaurant on<br>25 best places in ...</td>\n",
       "        <td style=\"padding-left: 1em; padding-right: 1em; text-align: center; vertical-align: top\">{'and': 1, 'this': 1,<br>'all': 1, 'there': 2, ...</td>\n",
       "        <td style=\"padding-left: 1em; padding-right: 1em; text-align: center; vertical-align: top\">{'NOUN': {'sandwich': 1,<br>'service': 1, 'places': ...</td>\n",
       "    </tr>\n",
       "    <tr>\n",
       "        <td style=\"padding-left: 1em; padding-right: 1em; text-align: center; vertical-align: top\">Good fish sandwich.</td>\n",
       "        <td style=\"padding-left: 1em; padding-right: 1em; text-align: center; vertical-align: top\">{'fish': 1, 'good': 1,<br>'sandwich.': 1} ...</td>\n",
       "        <td style=\"padding-left: 1em; padding-right: 1em; text-align: center; vertical-align: top\">{'NOUN': {'fish': 1,<br>'sandwich': 1}} ...</td>\n",
       "    </tr>\n",
       "    <tr>\n",
       "        <td style=\"padding-left: 1em; padding-right: 1em; text-align: center; vertical-align: top\">Wonderful reuben.  Map<br>shown on Yelp page is ...</td>\n",
       "        <td style=\"padding-left: 1em; padding-right: 1em; text-align: center; vertical-align: top\">{'a': 2, 'on': 1,<br>'different': 1, 'for' ...</td>\n",
       "        <td style=\"padding-left: 1em; padding-right: 1em; text-align: center; vertical-align: top\">{'NOUN': {'directions':<br>1, 'call': 1, 'reuben': ...</td>\n",
       "    </tr>\n",
       "    <tr>\n",
       "        <td style=\"padding-left: 1em; padding-right: 1em; text-align: center; vertical-align: top\">After a morning of Thrift<br>Store hunting, a friend ...</td>\n",
       "        <td style=\"padding-left: 1em; padding-right: 1em; text-align: center; vertical-align: top\">{'all': 1, 'huge!': 1,<br>'go': 1, 'yinzer': 1, ...</td>\n",
       "        <td style=\"padding-left: 1em; padding-right: 1em; text-align: center; vertical-align: top\">{'NOUN': {'pound': 1,<br>'neighborhood': 4, ...</td>\n",
       "    </tr>\n",
       "    <tr>\n",
       "        <td style=\"padding-left: 1em; padding-right: 1em; text-align: center; vertical-align: top\">This is a hidden gem, no<br>really. It took us ...</td>\n",
       "        <td style=\"padding-left: 1em; padding-right: 1em; text-align: center; vertical-align: top\">{'and': 1, 'the': 5,<br>'right': 1, 'sandwich,': ...</td>\n",
       "        <td style=\"padding-left: 1em; padding-right: 1em; text-align: center; vertical-align: top\">{'NOUN': {'ribeye': 1,<br>'what': 1, 'selection': ...</td>\n",
       "    </tr>\n",
       "</table>\n",
       "[25 rows x 3 columns]<br/>Note: Only the head of the SFrame is printed.<br/>You can use print_rows(num_rows=m, num_columns=n) to print more rows and columns.\n",
       "</div>"
      ],
      "text/plain": [
       "Columns:\n",
       "\tX1\tstr\n",
       "\tbow\tdict\n",
       "\tnouns\tdict\n",
       "\n",
       "Rows: 25\n",
       "\n",
       "Data:\n",
       "+-------------------------------+-------------------------------+\n",
       "|               X1              |              bow              |\n",
       "+-------------------------------+-------------------------------+\n",
       "| This place was DELICIOUS!!... | {'sandwich,': 1, 'they': 2... |\n",
       "| Can't miss stop for the be... | {'pittsburgh.': 1, 'for': ... |\n",
       "| This place should have a l... | {'all': 2, 'forget': 1, 'j... |\n",
       "| This place was very good. ... | {'love': 1, 'town,': 1, 'p... |\n",
       "| Old school.....traditional... | {'enjoy': 1, 'and': 3, 'eq... |\n",
       "| Seen this restaurant on 25... | {'and': 1, 'this': 1, 'all... |\n",
       "|      Good fish sandwich.      | {'fish': 1, 'good': 1, 'sa... |\n",
       "| Wonderful reuben.  Map sho... | {'a': 2, 'on': 1, 'differe... |\n",
       "| After a morning of Thrift ... | {'all': 1, 'huge!': 1, 'go... |\n",
       "| This is a hidden gem, no r... | {'and': 1, 'the': 5, 'righ... |\n",
       "+-------------------------------+-------------------------------+\n",
       "+-------------------------------+\n",
       "|             nouns             |\n",
       "+-------------------------------+\n",
       "| {'NOUN': {'people': 1, 'Th... |\n",
       "|          {'NOUN': {}}         |\n",
       "| {'NOUN': {'prices': 1, 'pe... |\n",
       "| {'NOUN': {'town': 1, 'sand... |\n",
       "| {'NOUN': {'vestige': 1, 's... |\n",
       "| {'NOUN': {'sandwich': 1, '... |\n",
       "| {'NOUN': {'fish': 1, 'sand... |\n",
       "| {'NOUN': {'directions': 1,... |\n",
       "| {'NOUN': {'pound': 1, 'nei... |\n",
       "| {'NOUN': {'ribeye': 1, 'wh... |\n",
       "+-------------------------------+\n",
       "[25 rows x 3 columns]\n",
       "Note: Only the head of the SFrame is printed.\n",
       "You can use print_rows(num_rows=m, num_columns=n) to print more rows and columns."
      ]
     },
     "execution_count": 26,
     "metadata": {},
     "output_type": "execute_result"
    }
   ],
   "source": [
    "sf['nouns'] = gl.text_analytics.extract_parts_of_speech(sf['X1'], chosen_pos=[gl.text_analytics.PartOfSpeech.NOUN])\n",
    "sf"
   ]
  },
  {
   "cell_type": "code",
   "execution_count": 27,
   "metadata": {
    "collapsed": false
   },
   "outputs": [
    {
     "data": {
      "text/plain": [
       "{'NOUN': {'Things': 1,\n",
       "  'bar': 1,\n",
       "  'beer': 1,\n",
       "  'fish': 1,\n",
       "  'food': 1,\n",
       "  'lounge': 1,\n",
       "  'part': 1,\n",
       "  'people': 1,\n",
       "  'place': 3,\n",
       "  'places': 1,\n",
       "  'restaurant': 1,\n",
       "  'sandwich': 1,\n",
       "  'shot': 1,\n",
       "  'show': 1,\n",
       "  'town': 1}}"
      ]
     },
     "execution_count": 27,
     "metadata": {},
     "output_type": "execute_result"
    }
   ],
   "source": [
    "sf['nouns'][3]"
   ]
  },
  {
   "cell_type": "markdown",
   "metadata": {},
   "source": [
    "## LDA"
   ]
  },
  {
   "cell_type": "code",
   "execution_count": 28,
   "metadata": {
    "collapsed": true
   },
   "outputs": [],
   "source": [
    "docs = sf['bow'].dict_trim_by_keys(gl.text_analytics.stopwords(), exclude=True)"
   ]
  },
  {
   "cell_type": "code",
   "execution_count": 32,
   "metadata": {
    "collapsed": false
   },
   "outputs": [
    {
     "data": {
      "text/html": [
       "<pre>Learning a topic model</pre>"
      ],
      "text/plain": [
       "Learning a topic model"
      ]
     },
     "metadata": {},
     "output_type": "display_data"
    },
    {
     "data": {
      "text/html": [
       "<pre>       Number of documents        25</pre>"
      ],
      "text/plain": [
       "       Number of documents        25"
      ]
     },
     "metadata": {},
     "output_type": "display_data"
    },
    {
     "data": {
      "text/html": [
       "<pre>           Vocabulary size       939</pre>"
      ],
      "text/plain": [
       "           Vocabulary size       939"
      ]
     },
     "metadata": {},
     "output_type": "display_data"
    },
    {
     "data": {
      "text/html": [
       "<pre>   Running collapsed Gibbs sampling</pre>"
      ],
      "text/plain": [
       "   Running collapsed Gibbs sampling"
      ]
     },
     "metadata": {},
     "output_type": "display_data"
    },
    {
     "data": {
      "text/html": [
       "<pre>+-----------+---------------+----------------+-----------------+</pre>"
      ],
      "text/plain": [
       "+-----------+---------------+----------------+-----------------+"
      ]
     },
     "metadata": {},
     "output_type": "display_data"
    },
    {
     "data": {
      "text/html": [
       "<pre>| Iteration | Elapsed Time  | Tokens/Second  | Est. Perplexity |</pre>"
      ],
      "text/plain": [
       "| Iteration | Elapsed Time  | Tokens/Second  | Est. Perplexity |"
      ]
     },
     "metadata": {},
     "output_type": "display_data"
    },
    {
     "data": {
      "text/html": [
       "<pre>+-----------+---------------+----------------+-----------------+</pre>"
      ],
      "text/plain": [
       "+-----------+---------------+----------------+-----------------+"
      ]
     },
     "metadata": {},
     "output_type": "display_data"
    },
    {
     "data": {
      "text/html": [
       "<pre>| 10        | 13.855ms      | 1.30272e+06    | 0               |</pre>"
      ],
      "text/plain": [
       "| 10        | 13.855ms      | 1.30272e+06    | 0               |"
      ]
     },
     "metadata": {},
     "output_type": "display_data"
    },
    {
     "data": {
      "text/html": [
       "<pre>+-----------+---------------+----------------+-----------------+</pre>"
      ],
      "text/plain": [
       "+-----------+---------------+----------------+-----------------+"
      ]
     },
     "metadata": {},
     "output_type": "display_data"
    }
   ],
   "source": [
    "model = gl.topic_model.create(sf['bow'], num_topics=50, num_iterations=50)"
   ]
  },
  {
   "cell_type": "code",
   "execution_count": 36,
   "metadata": {
    "collapsed": false
   },
   "outputs": [
    {
     "data": {
      "text/html": [
       "<div style=\"max-height:1000px;max-width:1500px;overflow:auto;\"><table frame=\"box\" rules=\"cols\">\n",
       "    <tr>\n",
       "        <th style=\"padding-left: 1em; padding-right: 1em; text-align: center\">words</th>\n",
       "    </tr>\n",
       "    <tr>\n",
       "        <td style=\"padding-left: 1em; padding-right: 1em; text-align: center; vertical-align: top\">[food, huge, stuffed,<br>italian, cabbage] ...</td>\n",
       "    </tr>\n",
       "    <tr>\n",
       "        <td style=\"padding-left: 1em; padding-right: 1em; text-align: center; vertical-align: top\">[chicken, &amp;, good, da,<br>waitress] ...</td>\n",
       "    </tr>\n",
       "    <tr>\n",
       "        <td style=\"padding-left: 1em; padding-right: 1em; text-align: center; vertical-align: top\">[week, visit, time,<br>sandwich,, day] ...</td>\n",
       "    </tr>\n",
       "    <tr>\n",
       "        <td style=\"padding-left: 1em; padding-right: 1em; text-align: center; vertical-align: top\">[place, friendly, real,<br>wonderful, good,] ...</td>\n",
       "    </tr>\n",
       "    <tr>\n",
       "        <td style=\"padding-left: 1em; padding-right: 1em; text-align: center; vertical-align: top\">[-, well., reuben,<br>looked, thick] ...</td>\n",
       "    </tr>\n",
       "    <tr>\n",
       "        <td style=\"padding-left: 1em; padding-right: 1em; text-align: center; vertical-align: top\">[service, wife, home,<br>quality, menu] ...</td>\n",
       "    </tr>\n",
       "    <tr>\n",
       "        <td style=\"padding-left: 1em; padding-right: 1em; text-align: center; vertical-align: top\">[back, place.,<br>neighborhood, friend, ...</td>\n",
       "    </tr>\n",
       "    <tr>\n",
       "        <td style=\"padding-left: 1em; padding-right: 1em; text-align: center; vertical-align: top\">[fish, sandwich, don't,<br>-, special] ...</td>\n",
       "    </tr>\n",
       "    <tr>\n",
       "        <td style=\"padding-left: 1em; padding-right: 1em; text-align: center; vertical-align: top\">[good, emil's, great,<br>crispy, there.] ...</td>\n",
       "    </tr>\n",
       "    <tr>\n",
       "        <td style=\"padding-left: 1em; padding-right: 1em; text-align: center; vertical-align: top\">[i'm, great, it., find,<br>fried] ...</td>\n",
       "    </tr>\n",
       "</table>\n",
       "[10 rows x 1 columns]<br/>\n",
       "</div>"
      ],
      "text/plain": [
       "Columns:\n",
       "\twords\tlist\n",
       "\n",
       "Rows: 10\n",
       "\n",
       "Data:\n",
       "+--------------------------------+\n",
       "|             words              |\n",
       "+--------------------------------+\n",
       "| [food, huge, stuffed, ital...  |\n",
       "| [chicken, &, good, da, wai...  |\n",
       "| [week, visit, time, sandwi...  |\n",
       "| [place, friendly, real, wo...  |\n",
       "| [-, well., reuben, looked,...  |\n",
       "| [service, wife, home, qual...  |\n",
       "| [back, place., neighborhoo...  |\n",
       "| [fish, sandwich, don't, -,...  |\n",
       "| [good, emil's, great, cris...  |\n",
       "| [i'm, great, it., find, fried] |\n",
       "+--------------------------------+\n",
       "[10 rows x 1 columns]"
      ]
     },
     "execution_count": 36,
     "metadata": {},
     "output_type": "execute_result"
    }
   ],
   "source": [
    "model.get_topics(output_type='topic_words')"
   ]
  },
  {
   "cell_type": "code",
   "execution_count": 38,
   "metadata": {
    "collapsed": true
   },
   "outputs": [],
   "source": [
    "cursor = db.reviews.find()\n",
    "review_list = []\n",
    "for review in cursor:\n",
    "    review_list.append(review['text'])"
   ]
  },
  {
   "cell_type": "code",
   "execution_count": 43,
   "metadata": {
    "collapsed": false
   },
   "outputs": [],
   "source": [
    "docs = gl.SFrame(review_list)\n",
    "docs = gl.text_analytics.count_words(docs['X1'])\n",
    "docs = docs.dict_trim_by_keys(gl.text_analytics.stopwords(), exclude=True)\n",
    "docs = gl.text_analytics.trim_rare_words(docs)"
   ]
  },
  {
   "cell_type": "code",
   "execution_count": 67,
   "metadata": {
    "collapsed": false
   },
   "outputs": [
    {
     "name": "stdout",
     "output_type": "stream",
     "text": [
      "CPU times: user 4 µs, sys: 10 µs, total: 14 µs\n",
      "Wall time: 37 µs\n"
     ]
    },
    {
     "data": {
      "text/html": [
       "<pre>Learning a topic model</pre>"
      ],
      "text/plain": [
       "Learning a topic model"
      ]
     },
     "metadata": {},
     "output_type": "display_data"
    },
    {
     "data": {
      "text/html": [
       "<pre>       Number of documents    628000</pre>"
      ],
      "text/plain": [
       "       Number of documents    628000"
      ]
     },
     "metadata": {},
     "output_type": "display_data"
    },
    {
     "data": {
      "text/html": [
       "<pre>           Vocabulary size    839527</pre>"
      ],
      "text/plain": [
       "           Vocabulary size    839527"
      ]
     },
     "metadata": {},
     "output_type": "display_data"
    },
    {
     "data": {
      "text/html": [
       "<pre>   Running collapsed Gibbs sampling</pre>"
      ],
      "text/plain": [
       "   Running collapsed Gibbs sampling"
      ]
     },
     "metadata": {},
     "output_type": "display_data"
    },
    {
     "data": {
      "text/html": [
       "<pre>+-----------+---------------+----------------+-----------------+</pre>"
      ],
      "text/plain": [
       "+-----------+---------------+----------------+-----------------+"
      ]
     },
     "metadata": {},
     "output_type": "display_data"
    },
    {
     "data": {
      "text/html": [
       "<pre>| Iteration | Elapsed Time  | Tokens/Second  | Est. Perplexity |</pre>"
      ],
      "text/plain": [
       "| Iteration | Elapsed Time  | Tokens/Second  | Est. Perplexity |"
      ]
     },
     "metadata": {},
     "output_type": "display_data"
    },
    {
     "data": {
      "text/html": [
       "<pre>+-----------+---------------+----------------+-----------------+</pre>"
      ],
      "text/plain": [
       "+-----------+---------------+----------------+-----------------+"
      ]
     },
     "metadata": {},
     "output_type": "display_data"
    },
    {
     "data": {
      "text/html": [
       "<pre>| 10        | 49.99s        | 7.50488e+06    | 0               |</pre>"
      ],
      "text/plain": [
       "| 10        | 49.99s        | 7.50488e+06    | 0               |"
      ]
     },
     "metadata": {},
     "output_type": "display_data"
    },
    {
     "data": {
      "text/html": [
       "<pre>+-----------+---------------+----------------+-----------------+</pre>"
      ],
      "text/plain": [
       "+-----------+---------------+----------------+-----------------+"
      ]
     },
     "metadata": {},
     "output_type": "display_data"
    }
   ],
   "source": [
    "model = gl.topic_model.create(docs)"
   ]
  },
  {
   "cell_type": "code",
   "execution_count": 49,
   "metadata": {
    "collapsed": false
   },
   "outputs": [
    {
     "data": {
      "text/html": [
       "<div style=\"max-height:1000px;max-width:1500px;overflow:auto;\"><table frame=\"box\" rules=\"cols\">\n",
       "    <tr>\n",
       "        <th style=\"padding-left: 1em; padding-right: 1em; text-align: center\">words</th>\n",
       "    </tr>\n",
       "    <tr>\n",
       "        <td style=\"padding-left: 1em; padding-right: 1em; text-align: center; vertical-align: top\">[service, day, don't,<br>years, location] ...</td>\n",
       "    </tr>\n",
       "    <tr>\n",
       "        <td style=\"padding-left: 1em; padding-right: 1em; text-align: center; vertical-align: top\">[back, great, people,<br>don't, i'm] ...</td>\n",
       "    </tr>\n",
       "    <tr>\n",
       "        <td style=\"padding-left: 1em; padding-right: 1em; text-align: center; vertical-align: top\">[told, time, i'm, i've,<br>didn't] ...</td>\n",
       "    </tr>\n",
       "    <tr>\n",
       "        <td style=\"padding-left: 1em; padding-right: 1em; text-align: center; vertical-align: top\">[food, -, love, great,<br>eat] ...</td>\n",
       "    </tr>\n",
       "    <tr>\n",
       "        <td style=\"padding-left: 1em; padding-right: 1em; text-align: center; vertical-align: top\">[place, good, great,<br>time, restaurant] ...</td>\n",
       "    </tr>\n",
       "    <tr>\n",
       "        <td style=\"padding-left: 1em; padding-right: 1em; text-align: center; vertical-align: top\">[it's, good, &amp;, pretty,<br>nice] ...</td>\n",
       "    </tr>\n",
       "    <tr>\n",
       "        <td style=\"padding-left: 1em; padding-right: 1em; text-align: center; vertical-align: top\">[it's, car, time, asked,<br>make] ...</td>\n",
       "    </tr>\n",
       "    <tr>\n",
       "        <td style=\"padding-left: 1em; padding-right: 1em; text-align: center; vertical-align: top\">[i've, didn't, wait, it.,<br>give] ...</td>\n",
       "    </tr>\n",
       "    <tr>\n",
       "        <td style=\"padding-left: 1em; padding-right: 1em; text-align: center; vertical-align: top\">[ordered, good, order,<br>night, service] ...</td>\n",
       "    </tr>\n",
       "    <tr>\n",
       "        <td style=\"padding-left: 1em; padding-right: 1em; text-align: center; vertical-align: top\">[place, staff, pizza,<br>can't, nice] ...</td>\n",
       "    </tr>\n",
       "</table>\n",
       "[10 rows x 1 columns]<br/>\n",
       "</div>"
      ],
      "text/plain": [
       "Columns:\n",
       "\twords\tlist\n",
       "\n",
       "Rows: 10\n",
       "\n",
       "Data:\n",
       "+--------------------------------+\n",
       "|             words              |\n",
       "+--------------------------------+\n",
       "| [service, day, don't, year...  |\n",
       "| [back, great, people, don'...  |\n",
       "| [told, time, i'm, i've, di...  |\n",
       "|  [food, -, love, great, eat]   |\n",
       "| [place, good, great, time,...  |\n",
       "| [it's, good, &, pretty, nice]  |\n",
       "| [it's, car, time, asked, make] |\n",
       "| [i've, didn't, wait, it., ...  |\n",
       "| [ordered, good, order, nig...  |\n",
       "| [place, staff, pizza, can'...  |\n",
       "+--------------------------------+\n",
       "[10 rows x 1 columns]"
      ]
     },
     "execution_count": 49,
     "metadata": {},
     "output_type": "execute_result"
    }
   ],
   "source": [
    "model.get_topics(output_type='topic_words')"
   ]
  },
  {
   "cell_type": "code",
   "execution_count": 50,
   "metadata": {
    "collapsed": false
   },
   "outputs": [
    {
     "data": {
      "text/html": [
       "<div style=\"max-height:1000px;max-width:1500px;overflow:auto;\"><table frame=\"box\" rules=\"cols\">\n",
       "    <tr>\n",
       "        <th style=\"padding-left: 1em; padding-right: 1em; text-align: center\">topic</th>\n",
       "        <th style=\"padding-left: 1em; padding-right: 1em; text-align: center\">word</th>\n",
       "        <th style=\"padding-left: 1em; padding-right: 1em; text-align: center\">score</th>\n",
       "    </tr>\n",
       "    <tr>\n",
       "        <td style=\"padding-left: 1em; padding-right: 1em; text-align: center; vertical-align: top\">0</td>\n",
       "        <td style=\"padding-left: 1em; padding-right: 1em; text-align: center; vertical-align: top\">service</td>\n",
       "        <td style=\"padding-left: 1em; padding-right: 1em; text-align: center; vertical-align: top\">0.0250971701014</td>\n",
       "    </tr>\n",
       "    <tr>\n",
       "        <td style=\"padding-left: 1em; padding-right: 1em; text-align: center; vertical-align: top\">0</td>\n",
       "        <td style=\"padding-left: 1em; padding-right: 1em; text-align: center; vertical-align: top\">day</td>\n",
       "        <td style=\"padding-left: 1em; padding-right: 1em; text-align: center; vertical-align: top\">0.0112586678505</td>\n",
       "    </tr>\n",
       "    <tr>\n",
       "        <td style=\"padding-left: 1em; padding-right: 1em; text-align: center; vertical-align: top\">0</td>\n",
       "        <td style=\"padding-left: 1em; padding-right: 1em; text-align: center; vertical-align: top\">don't</td>\n",
       "        <td style=\"padding-left: 1em; padding-right: 1em; text-align: center; vertical-align: top\">0.00953415385514</td>\n",
       "    </tr>\n",
       "    <tr>\n",
       "        <td style=\"padding-left: 1em; padding-right: 1em; text-align: center; vertical-align: top\">0</td>\n",
       "        <td style=\"padding-left: 1em; padding-right: 1em; text-align: center; vertical-align: top\">years</td>\n",
       "        <td style=\"padding-left: 1em; padding-right: 1em; text-align: center; vertical-align: top\">0.0089772996153</td>\n",
       "    </tr>\n",
       "    <tr>\n",
       "        <td style=\"padding-left: 1em; padding-right: 1em; text-align: center; vertical-align: top\">0</td>\n",
       "        <td style=\"padding-left: 1em; padding-right: 1em; text-align: center; vertical-align: top\">location</td>\n",
       "        <td style=\"padding-left: 1em; padding-right: 1em; text-align: center; vertical-align: top\">0.00890215319539</td>\n",
       "    </tr>\n",
       "    <tr>\n",
       "        <td style=\"padding-left: 1em; padding-right: 1em; text-align: center; vertical-align: top\">1</td>\n",
       "        <td style=\"padding-left: 1em; padding-right: 1em; text-align: center; vertical-align: top\">back</td>\n",
       "        <td style=\"padding-left: 1em; padding-right: 1em; text-align: center; vertical-align: top\">0.0213038095198</td>\n",
       "    </tr>\n",
       "    <tr>\n",
       "        <td style=\"padding-left: 1em; padding-right: 1em; text-align: center; vertical-align: top\">1</td>\n",
       "        <td style=\"padding-left: 1em; padding-right: 1em; text-align: center; vertical-align: top\">great</td>\n",
       "        <td style=\"padding-left: 1em; padding-right: 1em; text-align: center; vertical-align: top\">0.0151302688773</td>\n",
       "    </tr>\n",
       "    <tr>\n",
       "        <td style=\"padding-left: 1em; padding-right: 1em; text-align: center; vertical-align: top\">1</td>\n",
       "        <td style=\"padding-left: 1em; padding-right: 1em; text-align: center; vertical-align: top\">people</td>\n",
       "        <td style=\"padding-left: 1em; padding-right: 1em; text-align: center; vertical-align: top\">0.0144132928858</td>\n",
       "    </tr>\n",
       "    <tr>\n",
       "        <td style=\"padding-left: 1em; padding-right: 1em; text-align: center; vertical-align: top\">1</td>\n",
       "        <td style=\"padding-left: 1em; padding-right: 1em; text-align: center; vertical-align: top\">don't</td>\n",
       "        <td style=\"padding-left: 1em; padding-right: 1em; text-align: center; vertical-align: top\">0.01428310514</td>\n",
       "    </tr>\n",
       "    <tr>\n",
       "        <td style=\"padding-left: 1em; padding-right: 1em; text-align: center; vertical-align: top\">1</td>\n",
       "        <td style=\"padding-left: 1em; padding-right: 1em; text-align: center; vertical-align: top\">i'm</td>\n",
       "        <td style=\"padding-left: 1em; padding-right: 1em; text-align: center; vertical-align: top\">0.0135208464543</td>\n",
       "    </tr>\n",
       "</table>\n",
       "[50 rows x 3 columns]<br/>Note: Only the head of the SFrame is printed.<br/>You can use print_rows(num_rows=m, num_columns=n) to print more rows and columns.\n",
       "</div>"
      ],
      "text/plain": [
       "Columns:\n",
       "\ttopic\tint\n",
       "\tword\tstr\n",
       "\tscore\tfloat\n",
       "\n",
       "Rows: 50\n",
       "\n",
       "Data:\n",
       "+-------+----------+------------------+\n",
       "| topic |   word   |      score       |\n",
       "+-------+----------+------------------+\n",
       "|   0   | service  | 0.0250971701014  |\n",
       "|   0   |   day    | 0.0112586678505  |\n",
       "|   0   |  don't   | 0.00953415385514 |\n",
       "|   0   |  years   | 0.0089772996153  |\n",
       "|   0   | location | 0.00890215319539 |\n",
       "|   1   |   back   | 0.0213038095198  |\n",
       "|   1   |  great   | 0.0151302688773  |\n",
       "|   1   |  people  | 0.0144132928858  |\n",
       "|   1   |  don't   |  0.01428310514   |\n",
       "|   1   |   i'm    | 0.0135208464543  |\n",
       "+-------+----------+------------------+\n",
       "[50 rows x 3 columns]\n",
       "Note: Only the head of the SFrame is printed.\n",
       "You can use print_rows(num_rows=m, num_columns=n) to print more rows and columns."
      ]
     },
     "execution_count": 50,
     "metadata": {},
     "output_type": "execute_result"
    }
   ],
   "source": [
    "model.get_topics()"
   ]
  },
  {
   "cell_type": "code",
   "execution_count": 51,
   "metadata": {
    "collapsed": true
   },
   "outputs": [],
   "source": [
    "docs_in_topic_0 = docs[model.predict(docs) == 0]"
   ]
  },
  {
   "cell_type": "code",
   "execution_count": 59,
   "metadata": {
    "collapsed": false
   },
   "outputs": [
    {
     "data": {
      "text/plain": [
       "dtype: array\n",
       "Rows: 100000\n",
       "[array('d', [0.12790697674418605, 0.10465116279069768, 0.08139534883720931, 0.10465116279069768, 0.11627906976744186, 0.05813953488372093, 0.10465116279069768, 0.09302325581395349, 0.12790697674418605, 0.08139534883720931]), array('d', [0.0851063829787234, 0.09929078014184398, 0.06382978723404255, 0.07092198581560284, 0.04964539007092199, 0.1347517730496454, 0.05673758865248227, 0.20567375886524822, 0.1347517730496454, 0.09929078014184398]), array('d', [0.09375, 0.078125, 0.078125, 0.078125, 0.109375, 0.109375, 0.140625, 0.125, 0.109375, 0.078125]), array('d', [0.08860759493670886, 0.06329113924050633, 0.06329113924050633, 0.10126582278481013, 0.1518987341772152, 0.10126582278481013, 0.08860759493670886, 0.10126582278481013, 0.1518987341772152, 0.08860759493670886]), array('d', [0.06493506493506493, 0.11688311688311688, 0.09090909090909091, 0.06493506493506493, 0.12987012987012986, 0.09090909090909091, 0.09090909090909091, 0.1038961038961039, 0.14285714285714285, 0.1038961038961039]), array('d', [0.027131782945736434, 0.023255813953488372, 0.16666666666666666, 0.06201550387596899, 0.14728682170542637, 0.031007751937984496, 0.046511627906976744, 0.32945736434108525, 0.11627906976744186, 0.050387596899224806]), array('d', [0.11267605633802817, 0.09859154929577464, 0.09859154929577464, 0.07042253521126761, 0.16901408450704225, 0.07042253521126761, 0.1267605633802817, 0.07042253521126761, 0.07042253521126761, 0.11267605633802817]), array('d', [0.07407407407407407, 0.07407407407407407, 0.07407407407407407, 0.09876543209876543, 0.2222222222222222, 0.07407407407407407, 0.08641975308641975, 0.08641975308641975, 0.08641975308641975, 0.12345679012345678]), array('d', [0.0898876404494382, 0.06741573033707865, 0.06741573033707865, 0.10112359550561797, 0.0898876404494382, 0.1797752808988764, 0.12359550561797752, 0.0898876404494382, 0.11235955056179775, 0.07865168539325842]), array('d', [0.07142857142857142, 0.08571428571428572, 0.07142857142857142, 0.1, 0.1, 0.12857142857142856, 0.08571428571428572, 0.12857142857142856, 0.15714285714285714, 0.07142857142857142]), array('d', [0.04950495049504951, 0.04950495049504951, 0.04950495049504951, 0.06930693069306931, 0.2376237623762376, 0.07920792079207921, 0.10891089108910891, 0.1485148514851485, 0.1188118811881188, 0.0891089108910891]), array('d', [0.13186813186813187, 0.07692307692307693, 0.08791208791208792, 0.0989010989010989, 0.13186813186813187, 0.07692307692307693, 0.17582417582417584, 0.06593406593406594, 0.06593406593406594, 0.08791208791208792]), array('d', [0.07777777777777778, 0.07777777777777778, 0.08888888888888889, 0.06666666666666667, 0.17777777777777778, 0.16666666666666666, 0.07777777777777778, 0.06666666666666667, 0.1111111111111111, 0.08888888888888889]), array('d', [0.1111111111111111, 0.08641975308641975, 0.07407407407407407, 0.08641975308641975, 0.07407407407407407, 0.1728395061728395, 0.12345679012345678, 0.09876543209876543, 0.07407407407407407, 0.09876543209876543]), array('d', [0.12162162162162163, 0.12162162162162163, 0.06756756756756757, 0.11486486486486487, 0.06756756756756757, 0.0472972972972973, 0.12837837837837837, 0.17567567567567569, 0.06756756756756757, 0.08783783783783784]), array('d', [0.043795620437956206, 0.10948905109489052, 0.12408759124087591, 0.10948905109489052, 0.08029197080291971, 0.10948905109489052, 0.10218978102189781, 0.0948905109489051, 0.0948905109489051, 0.13138686131386862]), array('d', [0.10714285714285714, 0.10714285714285714, 0.125, 0.10714285714285714, 0.08928571428571429, 0.08928571428571429, 0.08928571428571429, 0.08928571428571429, 0.08928571428571429, 0.10714285714285714]), array('d', [0.0967741935483871, 0.12903225806451613, 0.0967741935483871, 0.0967741935483871, 0.11290322580645161, 0.1774193548387097, 0.056451612903225805, 0.11290322580645161, 0.06451612903225806, 0.056451612903225805]), array('d', [0.09782608695652174, 0.06521739130434782, 0.06521739130434782, 0.08695652173913043, 0.09782608695652174, 0.1956521739130435, 0.07608695652173914, 0.13043478260869565, 0.07608695652173914, 0.10869565217391304]), array('d', [0.0945945945945946, 0.10135135135135136, 0.11486486486486487, 0.12162162162162163, 0.08783783783783784, 0.0945945945945946, 0.0945945945945946, 0.08108108108108109, 0.08108108108108109, 0.12837837837837837]), array('d', [0.10416666666666667, 0.10416666666666667, 0.10416666666666667, 0.0625, 0.14583333333333334, 0.07291666666666667, 0.08333333333333333, 0.125, 0.08333333333333333, 0.11458333333333333]), array('d', [0.1, 0.1125, 0.075, 0.1125, 0.1, 0.1, 0.075, 0.0875, 0.125, 0.1125]), array('d', [0.09859154929577464, 0.1267605633802817, 0.11267605633802817, 0.11267605633802817, 0.1267605633802817, 0.08450704225352113, 0.08450704225352113, 0.07042253521126761, 0.08450704225352113, 0.09859154929577464]), array('d', [0.09433962264150944, 0.11320754716981132, 0.09433962264150944, 0.09433962264150944, 0.09433962264150944, 0.1320754716981132, 0.09433962264150944, 0.09433962264150944, 0.09433962264150944, 0.09433962264150944]), array('d', [0.07936507936507936, 0.12698412698412698, 0.07936507936507936, 0.07936507936507936, 0.07936507936507936, 0.12698412698412698, 0.09523809523809523, 0.12698412698412698, 0.1111111111111111, 0.09523809523809523]), array('d', [0.0684931506849315, 0.1232876712328767, 0.0958904109589041, 0.1780821917808219, 0.0821917808219178, 0.0821917808219178, 0.1232876712328767, 0.0821917808219178, 0.0821917808219178, 0.0821917808219178]), array('d', [0.1044776119402985, 0.08208955223880597, 0.05223880597014925, 0.08208955223880597, 0.11194029850746269, 0.1044776119402985, 0.05223880597014925, 0.08955223880597014, 0.14925373134328357, 0.17164179104477612]), array('d', [0.0684931506849315, 0.0958904109589041, 0.0684931506849315, 0.1232876712328767, 0.0684931506849315, 0.1506849315068493, 0.1506849315068493, 0.0821917808219178, 0.0684931506849315, 0.1232876712328767]), array('d', [0.05555555555555555, 0.08888888888888889, 0.07777777777777778, 0.1111111111111111, 0.06666666666666667, 0.15555555555555556, 0.06666666666666667, 0.13333333333333333, 0.07777777777777778, 0.16666666666666666]), array('d', [0.09375, 0.09375, 0.0625, 0.17708333333333334, 0.15625, 0.11458333333333333, 0.07291666666666667, 0.07291666666666667, 0.07291666666666667, 0.08333333333333333]), array('d', [0.10465116279069768, 0.06976744186046512, 0.12790697674418605, 0.06976744186046512, 0.09302325581395349, 0.13953488372093023, 0.10465116279069768, 0.09302325581395349, 0.10465116279069768, 0.09302325581395349]), array('d', [0.1282051282051282, 0.08974358974358974, 0.07692307692307693, 0.11538461538461539, 0.10256410256410256, 0.08974358974358974, 0.07692307692307693, 0.11538461538461539, 0.07692307692307693, 0.1282051282051282]), array('d', [0.21904761904761905, 0.10476190476190476, 0.0761904761904762, 0.13333333333333333, 0.06666666666666667, 0.05714285714285714, 0.10476190476190476, 0.11428571428571428, 0.06666666666666667, 0.05714285714285714]), array('d', [0.10126582278481013, 0.11392405063291139, 0.08860759493670886, 0.11392405063291139, 0.12658227848101267, 0.10126582278481013, 0.08860759493670886, 0.06329113924050633, 0.10126582278481013, 0.10126582278481013]), array('d', [0.09116022099447514, 0.10220994475138122, 0.07458563535911603, 0.10773480662983426, 0.1132596685082873, 0.22099447513812154, 0.08011049723756906, 0.0718232044198895, 0.07458563535911603, 0.06353591160220995]), array('d', [0.07692307692307693, 0.08653846153846154, 0.14423076923076922, 0.14423076923076922, 0.14423076923076922, 0.09615384615384616, 0.057692307692307696, 0.07692307692307693, 0.04807692307692308, 0.125]), array('d', [0.10548523206751055, 0.14767932489451477, 0.06329113924050633, 0.18565400843881857, 0.11392405063291139, 0.13924050632911392, 0.046413502109704644, 0.046413502109704644, 0.0759493670886076, 0.0759493670886076]), array('d', [0.07926829268292683, 0.04878048780487805, 0.06097560975609756, 0.20121951219512196, 0.22560975609756098, 0.14634146341463414, 0.042682926829268296, 0.08536585365853659, 0.042682926829268296, 0.06707317073170732]), array('d', [0.0958904109589041, 0.0821917808219178, 0.1780821917808219, 0.1095890410958904, 0.0684931506849315, 0.136986301369863, 0.0821917808219178, 0.0958904109589041, 0.0684931506849315, 0.0821917808219178]), array('d', [0.136986301369863, 0.1232876712328767, 0.0821917808219178, 0.1095890410958904, 0.0958904109589041, 0.0684931506849315, 0.1095890410958904, 0.1095890410958904, 0.0684931506849315, 0.0958904109589041]), array('d', [0.11494252873563218, 0.05747126436781609, 0.11494252873563218, 0.06896551724137931, 0.06896551724137931, 0.13793103448275862, 0.09195402298850575, 0.11494252873563218, 0.09195402298850575, 0.13793103448275862]), array('d', [0.07, 0.11, 0.11, 0.07, 0.07, 0.09, 0.17, 0.14, 0.06, 0.11]), array('d', [0.038461538461538464, 0.07692307692307693, 0.07692307692307693, 0.1076923076923077, 0.06923076923076923, 0.06923076923076923, 0.046153846153846156, 0.06153846153846154, 0.2, 0.25384615384615383]), array('d', [0.07777777777777778, 0.08888888888888889, 0.08888888888888889, 0.1, 0.15555555555555556, 0.12222222222222222, 0.07777777777777778, 0.07777777777777778, 0.12222222222222222, 0.08888888888888889]), array('d', [0.1595744680851064, 0.13829787234042554, 0.09574468085106383, 0.10638297872340426, 0.10638297872340426, 0.09574468085106383, 0.0851063829787234, 0.06382978723404255, 0.09574468085106383, 0.05319148936170213]), array('d', [0.07228915662650602, 0.07228915662650602, 0.08433734939759036, 0.10843373493975904, 0.18072289156626506, 0.10843373493975904, 0.0963855421686747, 0.07228915662650602, 0.10843373493975904, 0.0963855421686747]), array('d', [0.08433734939759036, 0.10843373493975904, 0.10843373493975904, 0.10843373493975904, 0.060240963855421686, 0.13253012048192772, 0.060240963855421686, 0.13253012048192772, 0.12048192771084337, 0.08433734939759036]), array('d', [0.09523809523809523, 0.07936507936507936, 0.09523809523809523, 0.12698412698412698, 0.09523809523809523, 0.12698412698412698, 0.09523809523809523, 0.07936507936507936, 0.1111111111111111, 0.09523809523809523]), array('d', [0.08955223880597014, 0.08955223880597014, 0.1044776119402985, 0.1044776119402985, 0.1044776119402985, 0.1044776119402985, 0.08955223880597014, 0.08955223880597014, 0.08955223880597014, 0.13432835820895522]), array('d', [0.07042253521126761, 0.08450704225352113, 0.07042253521126761, 0.11267605633802817, 0.07042253521126761, 0.07042253521126761, 0.1267605633802817, 0.08450704225352113, 0.11267605633802817, 0.19718309859154928]), array('d', [0.08955223880597014, 0.11940298507462686, 0.1044776119402985, 0.1044776119402985, 0.1044776119402985, 0.1044776119402985, 0.07462686567164178, 0.1044776119402985, 0.08955223880597014, 0.1044776119402985]), array('d', [0.06666666666666667, 0.075, 0.125, 0.10833333333333334, 0.08333333333333333, 0.05, 0.2, 0.125, 0.08333333333333333, 0.08333333333333333]), array('d', [0.10471204188481675, 0.05759162303664921, 0.05759162303664921, 0.09947643979057591, 0.09947643979057591, 0.1256544502617801, 0.09424083769633508, 0.041884816753926704, 0.16230366492146597, 0.15706806282722513]), array('d', [0.14492753623188406, 0.11594202898550725, 0.08695652173913043, 0.11594202898550725, 0.07246376811594203, 0.10144927536231885, 0.07246376811594203, 0.07246376811594203, 0.08695652173913043, 0.13043478260869565]), array('d', [0.08235294117647059, 0.11764705882352941, 0.07058823529411765, 0.11764705882352941, 0.12941176470588237, 0.12941176470588237, 0.07058823529411765, 0.058823529411764705, 0.11764705882352941, 0.10588235294117647]), array('d', [0.10526315789473684, 0.10526315789473684, 0.09210526315789473, 0.07894736842105263, 0.06578947368421052, 0.13157894736842105, 0.09210526315789473, 0.13157894736842105, 0.10526315789473684, 0.09210526315789473]), array('d', [0.10810810810810811, 0.0945945945945946, 0.06756756756756757, 0.13513513513513514, 0.10810810810810811, 0.10810810810810811, 0.10810810810810811, 0.06756756756756757, 0.10810810810810811, 0.0945945945945946]), array('d', [0.0880503144654088, 0.11320754716981132, 0.06918238993710692, 0.1509433962264151, 0.07547169811320754, 0.0880503144654088, 0.07547169811320754, 0.0440251572327044, 0.16352201257861634, 0.1320754716981132]), array('d', [0.11363636363636363, 0.11363636363636363, 0.056818181818181816, 0.10227272727272728, 0.10227272727272728, 0.07954545454545454, 0.10227272727272728, 0.11363636363636363, 0.10227272727272728, 0.11363636363636363]), array('d', [0.11842105263157894, 0.07894736842105263, 0.06578947368421052, 0.09210526315789473, 0.11842105263157894, 0.13157894736842105, 0.10526315789473684, 0.06578947368421052, 0.10526315789473684, 0.11842105263157894]), array('d', [0.15625, 0.109375, 0.078125, 0.078125, 0.09375, 0.109375, 0.09375, 0.09375, 0.09375, 0.09375]), array('d', [0.07407407407407407, 0.07407407407407407, 0.09876543209876543, 0.08641975308641975, 0.08641975308641975, 0.09876543209876543, 0.13580246913580246, 0.1728395061728395, 0.1111111111111111, 0.06172839506172839]), array('d', [0.05825242718446602, 0.0970873786407767, 0.20388349514563106, 0.06796116504854369, 0.04854368932038835, 0.1262135922330097, 0.13592233009708737, 0.11650485436893204, 0.08737864077669903, 0.05825242718446602]), array('d', [0.09722222222222222, 0.06944444444444445, 0.16666666666666666, 0.09722222222222222, 0.08333333333333333, 0.06944444444444445, 0.125, 0.06944444444444445, 0.1388888888888889, 0.08333333333333333]), array('d', [0.1111111111111111, 0.0707070707070707, 0.12121212121212122, 0.08080808080808081, 0.0707070707070707, 0.09090909090909091, 0.1414141414141414, 0.12121212121212122, 0.13131313131313133, 0.06060606060606061]), array('d', [0.07792207792207792, 0.06493506493506493, 0.11688311688311688, 0.06493506493506493, 0.11688311688311688, 0.1038961038961039, 0.09090909090909091, 0.19480519480519481, 0.07792207792207792, 0.09090909090909091]), array('d', [0.109375, 0.09375, 0.171875, 0.078125, 0.078125, 0.09375, 0.09375, 0.109375, 0.09375, 0.078125]), array('d', [0.11842105263157894, 0.09210526315789473, 0.14473684210526316, 0.06578947368421052, 0.06578947368421052, 0.06578947368421052, 0.14473684210526316, 0.06578947368421052, 0.13157894736842105, 0.10526315789473684]), array('d', [0.13432835820895522, 0.08955223880597014, 0.11940298507462686, 0.07462686567164178, 0.07462686567164178, 0.07462686567164178, 0.08955223880597014, 0.11940298507462686, 0.13432835820895522, 0.08955223880597014]), array('d', [0.13953488372093023, 0.11627906976744186, 0.05813953488372093, 0.08139534883720931, 0.08139534883720931, 0.12790697674418605, 0.10465116279069768, 0.12790697674418605, 0.08139534883720931, 0.08139534883720931]), array('d', [0.125, 0.10714285714285714, 0.08035714285714286, 0.15178571428571427, 0.08928571428571429, 0.07142857142857142, 0.08928571428571429, 0.10714285714285714, 0.0625, 0.11607142857142858]), array('d', [0.0963855421686747, 0.060240963855421686, 0.060240963855421686, 0.08433734939759036, 0.0963855421686747, 0.2289156626506024, 0.12048192771084337, 0.060240963855421686, 0.060240963855421686, 0.13253012048192772]), array('d', [0.13333333333333333, 0.08333333333333333, 0.1, 0.1, 0.08333333333333333, 0.13333333333333333, 0.08333333333333333, 0.1, 0.08333333333333333, 0.1]), array('d', [0.14285714285714285, 0.11688311688311688, 0.11688311688311688, 0.06493506493506493, 0.06493506493506493, 0.06493506493506493, 0.11688311688311688, 0.14285714285714285, 0.06493506493506493, 0.1038961038961039]), array('d', [0.09090909090909091, 0.09090909090909091, 0.10606060606060606, 0.07575757575757576, 0.10606060606060606, 0.09090909090909091, 0.13636363636363635, 0.15151515151515152, 0.07575757575757576, 0.07575757575757576]), array('d', [0.04011461318051576, 0.0830945558739255, 0.2607449856733524, 0.014326647564469915, 0.09742120343839542, 0.08882521489971347, 0.21203438395415472, 0.16332378223495703, 0.022922636103151862, 0.017191977077363897]), array('d', [0.11363636363636363, 0.10227272727272728, 0.20454545454545456, 0.07954545454545454, 0.17045454545454544, 0.056818181818181816, 0.09090909090909091, 0.06818181818181818, 0.056818181818181816, 0.056818181818181816]), array('d', [0.07777777777777778, 0.07777777777777778, 0.08888888888888889, 0.07777777777777778, 0.08888888888888889, 0.05555555555555555, 0.18888888888888888, 0.18888888888888888, 0.1, 0.05555555555555555]), array('d', [0.06666666666666667, 0.1037037037037037, 0.16296296296296298, 0.11851851851851852, 0.08148148148148149, 0.08148148148148149, 0.06666666666666667, 0.17037037037037037, 0.06666666666666667, 0.08148148148148149]), array('d', [0.12658227848101267, 0.06329113924050633, 0.12658227848101267, 0.0759493670886076, 0.11392405063291139, 0.08860759493670886, 0.08860759493670886, 0.1518987341772152, 0.0759493670886076, 0.08860759493670886]), array('d', [0.14093959731543623, 0.12751677852348994, 0.18791946308724833, 0.04697986577181208, 0.04697986577181208, 0.087248322147651, 0.03355704697986577, 0.174496644295302, 0.08053691275167785, 0.0738255033557047]), array('d', [0.078125, 0.109375, 0.125, 0.109375, 0.09375, 0.078125, 0.125, 0.109375, 0.09375, 0.078125]), array('d', [0.07777777777777778, 0.06666666666666667, 0.1, 0.12222222222222222, 0.13333333333333333, 0.1, 0.1111111111111111, 0.13333333333333333, 0.08888888888888889, 0.06666666666666667]), array('d', [0.10344827586206896, 0.10344827586206896, 0.1206896551724138, 0.08620689655172414, 0.08620689655172414, 0.08620689655172414, 0.15517241379310345, 0.08620689655172414, 0.08620689655172414, 0.08620689655172414]), array('d', [0.06790123456790123, 0.06790123456790123, 0.13580246913580246, 0.037037037037037035, 0.04938271604938271, 0.11728395061728394, 0.19753086419753085, 0.13580246913580246, 0.05555555555555555, 0.13580246913580246]), array('d', [0.10526315789473684, 0.10526315789473684, 0.08771929824561403, 0.08771929824561403, 0.17543859649122806, 0.08771929824561403, 0.08771929824561403, 0.08771929824561403, 0.08771929824561403, 0.08771929824561403]), array('d', [0.12087912087912088, 0.12087912087912088, 0.13186813186813187, 0.054945054945054944, 0.08791208791208792, 0.07692307692307693, 0.15384615384615385, 0.12087912087912088, 0.054945054945054944, 0.07692307692307693]), array('d', [0.04854368932038835, 0.13592233009708737, 0.07281553398058252, 0.14563106796116504, 0.10194174757281553, 0.06310679611650485, 0.10194174757281553, 0.1407766990291262, 0.08737864077669903, 0.10194174757281553]), array('d', [0.10309278350515463, 0.1134020618556701, 0.05154639175257732, 0.1134020618556701, 0.08247422680412371, 0.10309278350515463, 0.15463917525773196, 0.08247422680412371, 0.1134020618556701, 0.08247422680412371]), array('d', [0.12121212121212122, 0.06060606060606061, 0.09848484848484848, 0.08333333333333333, 0.06818181818181818, 0.10606060606060606, 0.09848484848484848, 0.09848484848484848, 0.18181818181818182, 0.08333333333333333]), array('d', [0.09803921568627451, 0.09803921568627451, 0.09803921568627451, 0.09803921568627451, 0.09803921568627451, 0.09803921568627451, 0.09803921568627451, 0.09803921568627451, 0.11764705882352941, 0.09803921568627451]), array('d', [0.08928571428571429, 0.10714285714285714, 0.10714285714285714, 0.08928571428571429, 0.10714285714285714, 0.08928571428571429, 0.08928571428571429, 0.14285714285714285, 0.08928571428571429, 0.08928571428571429]), array('d', [0.10240963855421686, 0.13253012048192772, 0.04216867469879518, 0.10843373493975904, 0.15060240963855423, 0.060240963855421686, 0.06626506024096386, 0.06626506024096386, 0.12650602409638553, 0.14457831325301204]), array('d', [0.102803738317757, 0.16822429906542055, 0.07476635514018691, 0.09345794392523364, 0.08411214953271028, 0.056074766355140186, 0.08411214953271028, 0.1308411214953271, 0.14018691588785046, 0.06542056074766354]), array('d', [0.09836065573770492, 0.08196721311475409, 0.11475409836065574, 0.09836065573770492, 0.08196721311475409, 0.09836065573770492, 0.13114754098360656, 0.08196721311475409, 0.08196721311475409, 0.13114754098360656]), array('d', [0.07462686567164178, 0.08955223880597014, 0.08955223880597014, 0.14925373134328357, 0.1044776119402985, 0.11940298507462686, 0.07462686567164178, 0.11940298507462686, 0.1044776119402985, 0.07462686567164178]), array('d', [0.13445378151260504, 0.08403361344537816, 0.14285714285714285, 0.05042016806722689, 0.07563025210084033, 0.09243697478991597, 0.04201680672268908, 0.16806722689075632, 0.1092436974789916, 0.10084033613445378]), array('d', [0.07878787878787878, 0.09696969696969697, 0.06666666666666667, 0.06060606060606061, 0.13333333333333333, 0.12727272727272726, 0.10303030303030303, 0.18181818181818182, 0.06666666666666667, 0.08484848484848485]), array('d', [0.11940298507462686, 0.08955223880597014, 0.08955223880597014, 0.07462686567164178, 0.1044776119402985, 0.08955223880597014, 0.08955223880597014, 0.14925373134328357, 0.11940298507462686, 0.07462686567164178]), array('d', [0.136986301369863, 0.0958904109589041, 0.0821917808219178, 0.0684931506849315, 0.136986301369863, 0.0684931506849315, 0.1095890410958904, 0.1506849315068493, 0.0821917808219178, 0.0684931506849315]), ... ]"
      ]
     },
     "execution_count": 59,
     "metadata": {},
     "output_type": "execute_result"
    }
   ],
   "source": [
    "pred = model.predict(docs, output_type='probability')\n",
    "pred"
   ]
  },
  {
   "cell_type": "code",
   "execution_count": 61,
   "metadata": {
    "collapsed": false
   },
   "outputs": [
    {
     "data": {
      "text/html": [
       "<div style=\"max-height:1000px;max-width:1500px;overflow:auto;\"><table frame=\"box\" rules=\"cols\">\n",
       "    <tr>\n",
       "        <th style=\"padding-left: 1em; padding-right: 1em; text-align: center\">topic_probabilities</th>\n",
       "        <th style=\"padding-left: 1em; padding-right: 1em; text-align: center\">vocabulary</th>\n",
       "    </tr>\n",
       "    <tr>\n",
       "        <td style=\"padding-left: 1em; padding-right: 1em; text-align: center; vertical-align: top\">[1.92683127971e-07,<br>3.96223574245e-06, ...</td>\n",
       "        <td style=\"padding-left: 1em; padding-right: 1em; text-align: center; vertical-align: top\">alternative</td>\n",
       "    </tr>\n",
       "    <tr>\n",
       "        <td style=\"padding-left: 1em; padding-right: 1em; text-align: center; vertical-align: top\">[0.00673446800572,<br>1.88677892498e-07, ...</td>\n",
       "        <td style=\"padding-left: 1em; padding-right: 1em; text-align: center; vertical-align: top\">good</td>\n",
       "    </tr>\n",
       "    <tr>\n",
       "        <td style=\"padding-left: 1em; padding-right: 1em; text-align: center; vertical-align: top\">[1.92683127971e-07,<br>1.88677892498e-07, ...</td>\n",
       "        <td style=\"padding-left: 1em; padding-right: 1em; text-align: center; vertical-align: top\">subway,</td>\n",
       "    </tr>\n",
       "    <tr>\n",
       "        <td style=\"padding-left: 1em; padding-right: 1em; text-align: center; vertical-align: top\">[1.92683127971e-07,<br>1.88677892498e-07, ...</td>\n",
       "        <td style=\"padding-left: 1em; padding-right: 1em; text-align: center; vertical-align: top\">overall,</td>\n",
       "    </tr>\n",
       "    <tr>\n",
       "        <td style=\"padding-left: 1em; padding-right: 1em; text-align: center; vertical-align: top\">[1.92683127971e-07,<br>0.000477543745911, ...</td>\n",
       "        <td style=\"padding-left: 1em; padding-right: 1em; text-align: center; vertical-align: top\">fresh.</td>\n",
       "    </tr>\n",
       "    <tr>\n",
       "        <td style=\"padding-left: 1em; padding-right: 1em; text-align: center; vertical-align: top\">[1.92683127971e-07,<br>1.88677892498e-07, ...</td>\n",
       "        <td style=\"padding-left: 1em; padding-right: 1em; text-align: center; vertical-align: top\">year.</td>\n",
       "    </tr>\n",
       "    <tr>\n",
       "        <td style=\"padding-left: 1em; padding-right: 1em; text-align: center; vertical-align: top\">[1.92683127971e-07,<br>1.88677892498e-07, ...</td>\n",
       "        <td style=\"padding-left: 1em; padding-right: 1em; text-align: center; vertical-align: top\">cooked</td>\n",
       "    </tr>\n",
       "    <tr>\n",
       "        <td style=\"padding-left: 1em; padding-right: 1em; text-align: center; vertical-align: top\">[0.0039058796871,<br>1.88677892498e-07, ...</td>\n",
       "        <td style=\"padding-left: 1em; padding-right: 1em; text-align: center; vertical-align: top\">order</td>\n",
       "    </tr>\n",
       "    <tr>\n",
       "        <td style=\"padding-left: 1em; padding-right: 1em; text-align: center; vertical-align: top\">[4.04634568739e-06,<br>9.45276241413e-05, ...</td>\n",
       "        <td style=\"padding-left: 1em; padding-right: 1em; text-align: center; vertical-align: top\">mr</td>\n",
       "    </tr>\n",
       "    <tr>\n",
       "        <td style=\"padding-left: 1em; padding-right: 1em; text-align: center; vertical-align: top\">[1.92683127971e-07,<br>1.88677892498e-07, ...</td>\n",
       "        <td style=\"padding-left: 1em; padding-right: 1em; text-align: center; vertical-align: top\">voted</td>\n",
       "    </tr>\n",
       "</table>\n",
       "[249838 rows x 2 columns]<br/>Note: Only the head of the SFrame is printed.<br/>You can use print_rows(num_rows=m, num_columns=n) to print more rows and columns.\n",
       "</div>"
      ],
      "text/plain": [
       "Columns:\n",
       "\ttopic_probabilities\tarray\n",
       "\tvocabulary\tstr\n",
       "\n",
       "Rows: 249838\n",
       "\n",
       "Data:\n",
       "+-------------------------------+-------------+\n",
       "|      topic_probabilities      |  vocabulary |\n",
       "+-------------------------------+-------------+\n",
       "| [1.92683127971e-07, 3.9622... | alternative |\n",
       "| [0.00673446800572, 1.88677... |     good    |\n",
       "| [1.92683127971e-07, 1.8867... |   subway,   |\n",
       "| [1.92683127971e-07, 1.8867... |   overall,  |\n",
       "| [1.92683127971e-07, 0.0004... |    fresh.   |\n",
       "| [1.92683127971e-07, 1.8867... |    year.    |\n",
       "| [1.92683127971e-07, 1.8867... |    cooked   |\n",
       "| [0.0039058796871, 1.886778... |    order    |\n",
       "| [4.04634568739e-06, 9.4527... |      mr     |\n",
       "| [1.92683127971e-07, 1.8867... |    voted    |\n",
       "+-------------------------------+-------------+\n",
       "[249838 rows x 2 columns]\n",
       "Note: Only the head of the SFrame is printed.\n",
       "You can use print_rows(num_rows=m, num_columns=n) to print more rows and columns."
      ]
     },
     "execution_count": 61,
     "metadata": {},
     "output_type": "execute_result"
    }
   ],
   "source": [
    "model['topics']"
   ]
  },
  {
   "cell_type": "code",
   "execution_count": 62,
   "metadata": {
    "collapsed": true
   },
   "outputs": [],
   "source": [
    "model.save('my_model')\n",
    "new_model = graphlab.load_model('my_model')\n",
    "\n",
    "new_model = graphlab.topic_model.create(docs,\n",
    "                                        num_topics=m['num_topics'],\n",
    "                                        initial_topics=m['topics'])"
   ]
  },
  {
   "cell_type": "code",
   "execution_count": null,
   "metadata": {
    "collapsed": true
   },
   "outputs": [],
   "source": [
    "associations = graphlab.SFrame({'word':['season', 'club', '2008', '2009'],\n",
    "                                'topic': [1, 1, 2, 2]})"
   ]
  },
  {
   "cell_type": "markdown",
   "metadata": {},
   "source": [
    "## Sentiment Analysis"
   ]
  },
  {
   "cell_type": "code",
   "execution_count": 108,
   "metadata": {
    "collapsed": false
   },
   "outputs": [],
   "source": [
    "review_objects = data_manager.get_business_reviews('4bEjOyTaDG24SY5TxsaUNQ')\n",
    "reviews = [x['text'].encode('utf-8') for x in review_objects]\n",
    "sf = gl.SFrame(reviews)"
   ]
  },
  {
   "cell_type": "code",
   "execution_count": 111,
   "metadata": {
    "collapsed": false
   },
   "outputs": [
    {
     "data": {
      "text/html": [
       "<pre>Tokenizing...</pre>"
      ],
      "text/plain": [
       "Tokenizing..."
      ]
     },
     "metadata": {},
     "output_type": "display_data"
    },
    {
     "data": {
      "text/html": [
       "<pre>TF-IDF transform...</pre>"
      ],
      "text/plain": [
       "TF-IDF transform..."
      ]
     },
     "metadata": {},
     "output_type": "display_data"
    },
    {
     "data": {
      "text/html": [
       "<pre>Creating inverted index...</pre>"
      ],
      "text/plain": [
       "Creating inverted index..."
      ]
     },
     "metadata": {},
     "output_type": "display_data"
    },
    {
     "data": {
      "text/html": [
       "<pre>Creating query expansion model...</pre>"
      ],
      "text/plain": [
       "Creating query expansion model..."
      ]
     },
     "metadata": {},
     "output_type": "display_data"
    },
    {
     "data": {
      "text/html": [
       "<pre>Saving data for querying...</pre>"
      ],
      "text/plain": [
       "Saving data for querying..."
      ]
     },
     "metadata": {},
     "output_type": "display_data"
    }
   ],
   "source": [
    "product_model = gl.product_sentiment.create(sf, features=['X1'])"
   ]
  },
  {
   "cell_type": "code",
   "execution_count": 121,
   "metadata": {
    "collapsed": true
   },
   "outputs": [],
   "source": [
    "product_model.get_most_positive??"
   ]
  },
  {
   "cell_type": "code",
   "execution_count": 122,
   "metadata": {
    "collapsed": false
   },
   "outputs": [],
   "source": [
    "a = product_model.get_most_positive(['Vegas'])['X1']"
   ]
  },
  {
   "cell_type": "code",
   "execution_count": 124,
   "metadata": {
    "collapsed": false
   },
   "outputs": [
    {
     "data": {
      "text/plain": [
       "['The day after a superb dinner at Guy Savoy (getting in later than my friends who were in Vegas to \"party\" and still waking up before them) I woke up early - feeling great I went for a run outside, the first time I\\'d ever done so in Vegas - what they say about it being \"a dry heat\" is right and the mornings are dry and cool - running from the Venetian down to Mandalay Bay and back I was more dehydrated than I normally am on a run twice the distance.  Drinking plenty of water and showering I\\'d worked up quite an appetite and made my way out for another walk south on the strip - this time to Mon Ami Gabi at Paris.  Arriving at 7:20am I was greeted by the friendly hostesses at the door and led promptly to a prime seat on the patio where I watched Vegas roll by - the best part about early morning Vegas is that there are only two sorts of people - the early morning joggers and the people just heading home.  I laughed like hell when a guy came up and yelled \"high five - yellow shirt - I love yellow shirts\" with regard to my vintage LA Kings T.  Only in Vegas.\\n\\nHaving heard much about Mon Ami Gabi\\'s view - truly awesome sitting 4 feet above Las Vegas Boulevard and directly across from the fountains at Bellagio - I must admit I\\'d heard mixed reviews of the food and went in with tempered expectations.  Greeted by my server and handed a menu I was offered coffee which I graciously accepted.  A decent French Roast with heavy nuttiness the coffee was good, but probably the worst I had during my trip to Vegas...and refills were slow at best despite the restaurant being unfilled throughout my meal.  Browsing the menu I was impressed by both the sweets and the savories - deciding between the Blueberry French Toast and Poached Pear Waffles proved difficult and thus I ended up with neither.   Placing my order I also opted to order a pain au chocolate from the limited bakery menu.\\n\\nSitting for nearly 30 minutes while I waited for my food I sipped my coffee and watched the street - I\\'ve said it before and I\\'ll say it again, half the \"Vegas Experience\" is people watching.  Eventually arriving along with only my first refill of coffee (I had to request it - thankfully after this service improved and a young man took over my coffee refills) I was somewhat surprised when the sweet arrived with my savory breakfast.  Cool and questionably fresh the Pain au Chocolate was appropriately buttery and flakey but lacked any pizzazz.  Featuring a small single vein of average chocolate I could\\'ve gotten the same dish for much less than $3.50 at most convenience stores.\\n\\nWhere I would consider the sweet a failure - I didn\\'t even finish it - my savory at MAG was actually a unique take on a classic and quite delicious.  Described as a \"classic\" Croque Madame the dish was actually presented in a \"deconstructed\" fork and knife sandwich manner with two large slices of hearty grain bread pan fried in butter and then cut in half, topped with ham and gruyere cheese plus chives, and finished with a sunny-side up egg.  Accompanying the croque on the plate was a simple salad of frisee and vinegar and on a side plate were some oily and uninspiring (and decidedly American) hash browns with Heinz ketchup poured into a small cup.  While good this croque and accoutrements certainly wasn\\'t as good as the version the previous day at Pinot and no-where near on par with the versions in Northern California at Butler and the Chef or Bouchon.\\n\\nFinishing my meal and sipping on my coffee again my female server finally returned to my table to ask if I needed anything else - when I asked for a \"to go\" cup of coffee plus the check this duty was pawned off on the young man who\\'d been filling my coffee while she went back to talking to the other female server near the register.  Like Pinot I simply don\\'t understand why \"bistro\" entails sub-par service in Las Vegas and I actually mentioned on my way out suggesting that I wanted my tip (left in cash as opposed to on my credit card as I normally do on vacation) be given to the young man and not my \"server.\"  In general I can\\'t say there is much to brag about at Mon Ami Gabi aside from the view and while the restaurant would certainly stand at the top of French cuisine in Columbus Ohio (my home) I\\'d much sooner go back to Pinot, Bouchon, Payard, or Tableau when in a dining destination city like Las Vegas.',\n",
       " 'Virtually everyone recommended this place, and I can see why.  It\\'s not a very \"Las Vegas\" type of place, considering that the portions are not huge (at least for the vegetarian options we enjoyed), and the focus was completely on the quality of ingredients rather than the spectacle of the presentation.  The food was actually kind of simple, but every single morsel was exquisite, as if the chefs had actually gone to the farmer\\'s market that afternoon to pluck the choicest specimens from each basket of fruits and vegetables, hand-selected the cheeses, or churned the butter themselves that morning.  You know that great food you get in the Bay Area when the chef is plugged into the best local growers?  That was what this was like.  Somehow, inexplicably in the Nevada desert, the chefs at Mon Ami Gabi figured out how to make it seem like the French countryside was just down the street.  Yes, it was expensive, but no more so than any other great French restaurant I\\'ve enjoyed, and ultimately it became one of the highlights of our trip.\\n\\nThat night, the kitchen was an utter disaster with a huge leak that completely flooded the entire bar and surrounding tables (where we were sitting), and it could have been absolute chaos.  People slipped on the wet floor, staff had to let patrons slosh over soaked tablecloths strewn over the slick surfaces for extra traction, and the flooding was obviously worse in the kitchen where the leak had erupted.  All of this could have made for a regrettable experience, but instead the staff rose to the challenge and kept the place afloat (pardon the pun) with excellent service, great attitudes, and appropriate kindness in the midst of what was probably (and hopefully) one of the worst work nights they\\'ve had to endure.  Such grace under pressure was inspiring. I haven\\'t seen that level of service anywhere except at the best San Francisco restaurants, so to find that right on the Vegas Strip under such extreme circumstances, combined with the lusciously fresh and perfectly prepared food, made for an experience dripping (ahem) in quality.\\n\\nI guess that means Mon Ami Gabi isn\\'t the place to visit if you want to encapsulate the Vegas experience, but is definitely the place for those who want something that transcends the strip. Mathis would be a great restaurant in any city - and that\\'s saying something.',\n",
       " 'I went to Vegas for work, i dont really like Vegas but it was all paid for so why not and they dared letting the French man stay @ Paris. Ironic. One plcae I like in Vegas is Mon Ami gabi. I always stay at the terrace and enjoy the people watch. This time I went for days in a row for lunch. Enjoyed the Whispering Angel Rose, les escargots and le burger. Just enjoyable to have some nice French food and wine while staring at all the white trash walikng around with their giant Tequila plastic glass. I do Vegas style At a terrace with some rose because I think it is funny and so Un Vegas and I am French.\\nLove the place..',\n",
       " 'Celebrated my Valentines dinner here with a beautiful view, wonderful service, and unbelievable food! The taste of that hanger steak and frites still lingers in my memory, each and every day........ This place has made it\\'s way to the top of my \"must dos in Vegas\"\\n\\n\\nUntil we meet again, hanger steak..... Au revoir :\\')',\n",
       " 'Awesome European style cafe on the Vegas Strip. Had dinner and wine with my wife at a street side table while in Vegas for a trade show.  Watched the Bellagio fountains 5 times during dinner which added to the exceptional dining experience.  Add Mon Ami Gabi to your dining plans when in Vegas.',\n",
       " 'Best restaurant in Las Vegas.  Period.  \\n\\nThe service is amazing.  The food is wonderful.  \"Classic Quiche Lorraine\" is a french dish with simple ingredients, Eggs, Bacon & Onion, but i have to say \"It\\'s the best thing i ate in Vegas\".  \\n\\nDont forget to make reservation.  Anyway, if you live or visit Vegas, you don\\'t want to miss this awesome restaurant.',\n",
       " \"Every time I am in Vegas - I eat here.  Always.  Great views, great service, great food.  A true winner when you're in Vegas!\",\n",
       " 'My favorite restaurant in Las Vegas the view is amazing plus the food is amazing I will return every time I go to Vegas',\n",
       " 'Gatsby-esque dining by the pavilion area. Hmm, Chocolate-Hazelnut Waffle, Eggs Florentine, Lemon Pancakes or Quiche Lorraine? Options like these, it had my foodie mojo pumped. But the high wore off into a malaise as I got into the second hour. But is it the restaurant\\'s fault, or my wife\\'s?\\n\\nWe finished our breakfast, but as implied, my wife wanted more. Could the Brioche be better at the \"Paris Las Vegas\" than it is back home? Verdict: Brioche really not that good, really didn\\'t melt in my mouth like really fluffy versions of it do. Not nearly good as good as Los Angeles or San Francisco standards. Plus, because of my wife, I had to wait 40 extra minutes for order, eat and exit. Drove me nuts. Is there a wisdom to be gained here? Such as: Don\\'t let wife order extra meal. I dunno, I\\'m so over \"Paris.\" But put on \"Funny Face\" (1957) with Audrey Hepburn on my DVD and I\\'m enchanted with life all over again. #crabbywhiteguy',\n",
       " 'was good. thankfully i did not pay for the food, otherwise i\\'d probably be upset.\\n\\nlooked around for the \"best burger in las vegas\" and thought it\\'d be here. it wasn\\'t.\\n\\nthe search journeys on.\\n\\n\\n**first time eating snails, though! that earned it an extra star.']"
      ]
     },
     "execution_count": 124,
     "metadata": {},
     "output_type": "execute_result"
    }
   ],
   "source": [
    "list(a)"
   ]
  },
  {
   "cell_type": "code",
   "execution_count": 138,
   "metadata": {
    "collapsed": false
   },
   "outputs": [],
   "source": [
    "a = product_model.sentiment_summary??"
   ]
  },
  {
   "cell_type": "code",
   "execution_count": null,
   "metadata": {
    "collapsed": true
   },
   "outputs": [],
   "source": [
    "a = product_model.sentiment_summary"
   ]
  },
  {
   "cell_type": "code",
   "execution_count": null,
   "metadata": {
    "collapsed": true
   },
   "outputs": [],
   "source": [
    "a = product_model.sentiment_summary"
   ]
  },
  {
   "cell_type": "code",
   "execution_count": 146,
   "metadata": {
    "collapsed": false
   },
   "outputs": [],
   "source": [
    "a = product_model.sentiment_summary(keywords=['fish'])\n"
   ]
  },
  {
   "cell_type": "code",
   "execution_count": null,
   "metadata": {
    "collapsed": true
   },
   "outputs": [],
   "source": []
  },
  {
   "cell_type": "code",
   "execution_count": 139,
   "metadata": {
    "collapsed": false
   },
   "outputs": [
    {
     "ename": "TypeError",
     "evalue": "__init__() got an unexpected keyword argument 'reverse'",
     "output_type": "error",
     "traceback": [
      "\u001b[0;31m---------------------------------------------------------------------------\u001b[0m",
      "\u001b[0;31mTypeError\u001b[0m                                 Traceback (most recent call last)",
      "\u001b[0;32m<ipython-input-139-0ea68e832d8f>\u001b[0m in \u001b[0;36m<module>\u001b[0;34m()\u001b[0m\n\u001b[0;32m----> 1\u001b[0;31m \u001b[0mpd\u001b[0m\u001b[0;34m.\u001b[0m\u001b[0mDataFrame\u001b[0m\u001b[0;34m(\u001b[0m\u001b[0ma\u001b[0m\u001b[0;34m.\u001b[0m\u001b[0mto_numpy\u001b[0m\u001b[0;34m(\u001b[0m\u001b[0;34m)\u001b[0m\u001b[0;34m,\u001b[0m \u001b[0mcolumns\u001b[0m\u001b[0;34m=\u001b[0m\u001b[0;34m[\u001b[0m\u001b[0;34m'keyword'\u001b[0m\u001b[0;34m,\u001b[0m \u001b[0;34m'sd_sentiment'\u001b[0m\u001b[0;34m,\u001b[0m \u001b[0;34m'mean_sentiment'\u001b[0m\u001b[0;34m,\u001b[0m \u001b[0;34m'review_count'\u001b[0m\u001b[0;34m]\u001b[0m\u001b[0;34m,\u001b[0m \u001b[0mreverse\u001b[0m\u001b[0;34m=\u001b[0m\u001b[0mTrue\u001b[0m\u001b[0;34m)\u001b[0m\u001b[0;34m\u001b[0m\u001b[0m\n\u001b[0m",
      "\u001b[0;31mTypeError\u001b[0m: __init__() got an unexpected keyword argument 'reverse'"
     ]
    }
   ],
   "source": [
    "pd.DataFrame(a.to_numpy(), columns=['keyword', 'sd_sentiment', 'mean_sentiment', 'review_count'])"
   ]
  },
  {
   "cell_type": "code",
   "execution_count": 97,
   "metadata": {
    "collapsed": false
   },
   "outputs": [
    {
     "data": {
      "text/html": [
       "<div style=\"max-height:1000px;max-width:1500px;overflow:auto;\"><table frame=\"box\" rules=\"cols\">\n",
       "    <tr>\n",
       "        <th style=\"padding-left: 1em; padding-right: 1em; text-align: center\">keyword</th>\n",
       "        <th style=\"padding-left: 1em; padding-right: 1em; text-align: center\">sd_sentiment</th>\n",
       "        <th style=\"padding-left: 1em; padding-right: 1em; text-align: center\">mean_sentiment</th>\n",
       "        <th style=\"padding-left: 1em; padding-right: 1em; text-align: center\">review_count</th>\n",
       "    </tr>\n",
       "    <tr>\n",
       "        <td style=\"padding-left: 1em; padding-right: 1em; text-align: center; vertical-align: top\">service</td>\n",
       "        <td style=\"padding-left: 1em; padding-right: 1em; text-align: center; vertical-align: top\">0.436567860208</td>\n",
       "        <td style=\"padding-left: 1em; padding-right: 1em; text-align: center; vertical-align: top\">0.677864034014</td>\n",
       "        <td style=\"padding-left: 1em; padding-right: 1em; text-align: center; vertical-align: top\">10</td>\n",
       "    </tr>\n",
       "</table>\n",
       "[1 rows x 4 columns]<br/>\n",
       "</div>"
      ],
      "text/plain": [
       "Columns:\n",
       "\tkeyword\tstr\n",
       "\tsd_sentiment\tfloat\n",
       "\tmean_sentiment\tfloat\n",
       "\treview_count\tint\n",
       "\n",
       "Rows: 1\n",
       "\n",
       "Data:\n",
       "+---------+----------------+----------------+--------------+\n",
       "| keyword |  sd_sentiment  | mean_sentiment | review_count |\n",
       "+---------+----------------+----------------+--------------+\n",
       "| service | 0.436567860208 | 0.677864034014 |      10      |\n",
       "+---------+----------------+----------------+--------------+\n",
       "[1 rows x 4 columns]"
      ]
     },
     "execution_count": 97,
     "metadata": {},
     "output_type": "execute_result"
    }
   ],
   "source": [
    "product_model.sentiment_summary(['service'])"
   ]
  },
  {
   "cell_type": "code",
   "execution_count": 104,
   "metadata": {
    "collapsed": false
   },
   "outputs": [
    {
     "data": {
      "text/html": [
       "<div style=\"max-height:1000px;max-width:1500px;overflow:auto;\"><table frame=\"box\" rules=\"cols\">\n",
       "    <tr>\n",
       "        <th style=\"padding-left: 1em; padding-right: 1em; text-align: center\">score</th>\n",
       "        <th style=\"padding-left: 1em; padding-right: 1em; text-align: center\">__review_id</th>\n",
       "        <th style=\"padding-left: 1em; padding-right: 1em; text-align: center\">X1</th>\n",
       "        <th style=\"padding-left: 1em; padding-right: 1em; text-align: center\">sentiment_score</th>\n",
       "    </tr>\n",
       "    <tr>\n",
       "        <td style=\"padding-left: 1em; padding-right: 1em; text-align: center; vertical-align: top\">21.5002055173</td>\n",
       "        <td style=\"padding-left: 1em; padding-right: 1em; text-align: center; vertical-align: top\">4367</td>\n",
       "        <td style=\"padding-left: 1em; padding-right: 1em; text-align: center; vertical-align: top\">The quiche Lorraine is<br>light and lovely.\\n\\nOur ...</td>\n",
       "        <td style=\"padding-left: 1em; padding-right: 1em; text-align: center; vertical-align: top\">0.98932230757</td>\n",
       "    </tr>\n",
       "    <tr>\n",
       "        <td style=\"padding-left: 1em; padding-right: 1em; text-align: center; vertical-align: top\">16.1333060022</td>\n",
       "        <td style=\"padding-left: 1em; padding-right: 1em; text-align: center; vertical-align: top\">4283</td>\n",
       "        <td style=\"padding-left: 1em; padding-right: 1em; text-align: center; vertical-align: top\">Everything was absolutely<br>amazing!  From the ...</td>\n",
       "        <td style=\"padding-left: 1em; padding-right: 1em; text-align: center; vertical-align: top\">0.999997563257</td>\n",
       "    </tr>\n",
       "    <tr>\n",
       "        <td style=\"padding-left: 1em; padding-right: 1em; text-align: center; vertical-align: top\">15.551026925</td>\n",
       "        <td style=\"padding-left: 1em; padding-right: 1em; text-align: center; vertical-align: top\">3685</td>\n",
       "        <td style=\"padding-left: 1em; padding-right: 1em; text-align: center; vertical-align: top\">Came here for my birthday<br>dinner with a special ...</td>\n",
       "        <td style=\"padding-left: 1em; padding-right: 1em; text-align: center; vertical-align: top\">0.999999961179</td>\n",
       "    </tr>\n",
       "    <tr>\n",
       "        <td style=\"padding-left: 1em; padding-right: 1em; text-align: center; vertical-align: top\">12.494580323</td>\n",
       "        <td style=\"padding-left: 1em; padding-right: 1em; text-align: center; vertical-align: top\">3274</td>\n",
       "        <td style=\"padding-left: 1em; padding-right: 1em; text-align: center; vertical-align: top\">You must order steak<br>frites when you come ...</td>\n",
       "        <td style=\"padding-left: 1em; padding-right: 1em; text-align: center; vertical-align: top\">0.999999922323</td>\n",
       "    </tr>\n",
       "    <tr>\n",
       "        <td style=\"padding-left: 1em; padding-right: 1em; text-align: center; vertical-align: top\">11.8455604276</td>\n",
       "        <td style=\"padding-left: 1em; padding-right: 1em; text-align: center; vertical-align: top\">4732</td>\n",
       "        <td style=\"padding-left: 1em; padding-right: 1em; text-align: center; vertical-align: top\">I absolutely loved the<br>view at Mon Ami Gabi. We ...</td>\n",
       "        <td style=\"padding-left: 1em; padding-right: 1em; text-align: center; vertical-align: top\">0.990928325544</td>\n",
       "    </tr>\n",
       "    <tr>\n",
       "        <td style=\"padding-left: 1em; padding-right: 1em; text-align: center; vertical-align: top\">11.7381686126</td>\n",
       "        <td style=\"padding-left: 1em; padding-right: 1em; text-align: center; vertical-align: top\">4952</td>\n",
       "        <td style=\"padding-left: 1em; padding-right: 1em; text-align: center; vertical-align: top\">I had reservations about<br>trying this place due to ...</td>\n",
       "        <td style=\"padding-left: 1em; padding-right: 1em; text-align: center; vertical-align: top\">0.999969999151</td>\n",
       "    </tr>\n",
       "    <tr>\n",
       "        <td style=\"padding-left: 1em; padding-right: 1em; text-align: center; vertical-align: top\">10.6182049463</td>\n",
       "        <td style=\"padding-left: 1em; padding-right: 1em; text-align: center; vertical-align: top\">5083</td>\n",
       "        <td style=\"padding-left: 1em; padding-right: 1em; text-align: center; vertical-align: top\">first of all I should<br>tell you this French ...</td>\n",
       "        <td style=\"padding-left: 1em; padding-right: 1em; text-align: center; vertical-align: top\">0.987676939541</td>\n",
       "    </tr>\n",
       "    <tr>\n",
       "        <td style=\"padding-left: 1em; padding-right: 1em; text-align: center; vertical-align: top\">10.3788331073</td>\n",
       "        <td style=\"padding-left: 1em; padding-right: 1em; text-align: center; vertical-align: top\">142</td>\n",
       "        <td style=\"padding-left: 1em; padding-right: 1em; text-align: center; vertical-align: top\">After searching Yelp for<br>weeks and posting a ...</td>\n",
       "        <td style=\"padding-left: 1em; padding-right: 1em; text-align: center; vertical-align: top\">1.0</td>\n",
       "    </tr>\n",
       "    <tr>\n",
       "        <td style=\"padding-left: 1em; padding-right: 1em; text-align: center; vertical-align: top\">9.19591923992</td>\n",
       "        <td style=\"padding-left: 1em; padding-right: 1em; text-align: center; vertical-align: top\">5318</td>\n",
       "        <td style=\"padding-left: 1em; padding-right: 1em; text-align: center; vertical-align: top\">This is a must stop for<br>me on every Vegas trip. ...</td>\n",
       "        <td style=\"padding-left: 1em; padding-right: 1em; text-align: center; vertical-align: top\">0.999950981081</td>\n",
       "    </tr>\n",
       "    <tr>\n",
       "        <td style=\"padding-left: 1em; padding-right: 1em; text-align: center; vertical-align: top\">9.14200929143</td>\n",
       "        <td style=\"padding-left: 1em; padding-right: 1em; text-align: center; vertical-align: top\">1719</td>\n",
       "        <td style=\"padding-left: 1em; padding-right: 1em; text-align: center; vertical-align: top\">Steak Frites was<br>incredible as usual. ...</td>\n",
       "        <td style=\"padding-left: 1em; padding-right: 1em; text-align: center; vertical-align: top\">0.999736179506</td>\n",
       "    </tr>\n",
       "</table>\n",
       "[50 rows x 4 columns]<br/>Note: Only the head of the SFrame is printed.<br/>You can use print_rows(num_rows=m, num_columns=n) to print more rows and columns.\n",
       "</div>"
      ],
      "text/plain": [
       "Columns:\n",
       "\tscore\tfloat\n",
       "\t__review_id\tint\n",
       "\tX1\tstr\n",
       "\tsentiment_score\tfloat\n",
       "\n",
       "Rows: 50\n",
       "\n",
       "Data:\n",
       "+---------------+-------------+-------------------------------+-----------------+\n",
       "|     score     | __review_id |               X1              | sentiment_score |\n",
       "+---------------+-------------+-------------------------------+-----------------+\n",
       "| 21.5002055173 |     4367    | The quiche Lorraine is lig... |  0.98932230757  |\n",
       "| 16.1333060022 |     4283    | Everything was absolutely ... |  0.999997563257 |\n",
       "|  15.551026925 |     3685    | Came here for my birthday ... |  0.999999961179 |\n",
       "|  12.494580323 |     3274    | You must order steak frite... |  0.999999922323 |\n",
       "| 11.8455604276 |     4732    | I absolutely loved the vie... |  0.990928325544 |\n",
       "| 11.7381686126 |     4952    | I had reservations about t... |  0.999969999151 |\n",
       "| 10.6182049463 |     5083    | first of all I should tell... |  0.987676939541 |\n",
       "| 10.3788331073 |     142     | After searching Yelp for w... |       1.0       |\n",
       "| 9.19591923992 |     5318    | This is a must stop for me... |  0.999950981081 |\n",
       "| 9.14200929143 |     1719    | Steak Frites was incredibl... |  0.999736179506 |\n",
       "+---------------+-------------+-------------------------------+-----------------+\n",
       "[50 rows x 4 columns]\n",
       "Note: Only the head of the SFrame is printed.\n",
       "You can use print_rows(num_rows=m, num_columns=n) to print more rows and columns."
      ]
     },
     "execution_count": 104,
     "metadata": {},
     "output_type": "execute_result"
    }
   ],
   "source": [
    "product_model.review_searcher.query('Cr\\xc3\\xa8me Brulee', num_results=50)"
   ]
  },
  {
   "cell_type": "code",
   "execution_count": 103,
   "metadata": {
    "collapsed": false
   },
   "outputs": [],
   "source": [
    "product_model.review_searcher.query??"
   ]
  },
  {
   "cell_type": "code",
   "execution_count": 149,
   "metadata": {
    "collapsed": false
   },
   "outputs": [
    {
     "data": {
      "text/html": [
       "<pre>Tokenizing...</pre>"
      ],
      "text/plain": [
       "Tokenizing..."
      ]
     },
     "metadata": {},
     "output_type": "display_data"
    },
    {
     "data": {
      "text/html": [
       "<pre>TF-IDF transform...</pre>"
      ],
      "text/plain": [
       "TF-IDF transform..."
      ]
     },
     "metadata": {},
     "output_type": "display_data"
    },
    {
     "data": {
      "text/html": [
       "<pre>Creating inverted index...</pre>"
      ],
      "text/plain": [
       "Creating inverted index..."
      ]
     },
     "metadata": {},
     "output_type": "display_data"
    },
    {
     "data": {
      "text/html": [
       "<pre>Creating query expansion model...</pre>"
      ],
      "text/plain": [
       "Creating query expansion model..."
      ]
     },
     "metadata": {},
     "output_type": "display_data"
    },
    {
     "data": {
      "text/html": [
       "<pre>Saving data for querying...</pre>"
      ],
      "text/plain": [
       "Saving data for querying..."
      ]
     },
     "metadata": {},
     "output_type": "display_data"
    }
   ],
   "source": [
    "pm = text_helpers.ProductModel('4bEjOyTaDG24SY5TxsaUNQ')"
   ]
  },
  {
   "cell_type": "code",
   "execution_count": 151,
   "metadata": {
    "collapsed": false
   },
   "outputs": [
    {
     "data": {
      "text/plain": [
       "'Unfortunately for Mon Ami Gabi, my rating is influenced largely by the way their staff handled a recent incident that occurred while I was eating there. \\n\\nWe arrived at Mon Ami Gabi after the 7:00 showing of the Jersey Boys. Our reservation was not until 9:30, but they were able to seat us immediately at 9:15. We ordered the Warm Brie Cheese, which the menu states is served with black pepper honey, hazelnuts, and croutons. While I still enjoyed the dish, there was actually only ONE hazelnut on the plate. \\n\\nFor our main courses, I ordered the French Onion Soup and my sister ordered the Grilled Salmon Salad. The soup was fine as far as French Onion Soup goes. My sister said the individual components of the salad were fine, but trying to eat all of the different parts together made for a strange taste in her opinion. \\n\\nWhen it came time to pay, I reached down next to my chair where my purse had been sitting during the entire meal to retrieve my wallet, only to find my purse was not there. I had gotten my phone out of it just a few minutes prior, so it had definitely been there during the entire dinner up to that point. I alerted the waiter of what happened, and he said he was going to get the manager. About 10 minutes later, a manager arrives at our table asking what happened. He informed us that he had only been working there for a month and did not know what sort of assistance they could offer me. I asked if we could view surveillance footage and he said that they did not have the \"authority\" (according to the actual senior manager of the restaurant, who neglected to address the situation in person with me at all). \\n\\nOnce we had hit a dead end within the restaurant, security guards from Paris showed up. They continued to ask if I \"was sure\" I hadn\\'t left my purse in the restroom, or at the show I had previously been at. At this point I was sick of people acting as if it was my fault that someone had taken my property. We filed a \"lost and found\" report with the hotel, and I went back to the restaurant to be sure there was nothing else they could do to help me out (which they claimed there was not). After all, we were leaving in the morning and my purse contained my id. Getting through airport security without an id is not the easiest task... \\n\\nYou would think that after the inconvenience of having your purse stolen at the restaurant, they would have offered some sort of condolence, or offered to comp at least our appetizer, but they offered nothing of the sort. No apology, no help. I would not go back to this restaurant for that reason alone. But then, when I finally got back to our hotel, I began to get sick, and I was sick for the rest of the night. Quite the ending to my trip, I must say.'"
      ]
     },
     "execution_count": 151,
     "metadata": {},
     "output_type": "execute_result"
    }
   ],
   "source": [
    "pm.get_most_negative()"
   ]
  },
  {
   "cell_type": "code",
   "execution_count": null,
   "metadata": {
    "collapsed": true
   },
   "outputs": [],
   "source": []
  }
 ],
 "metadata": {
  "kernelspec": {
   "display_name": "Python 2",
   "language": "python",
   "name": "python2"
  },
  "language_info": {
   "codemirror_mode": {
    "name": "ipython",
    "version": 2
   },
   "file_extension": ".py",
   "mimetype": "text/x-python",
   "name": "python",
   "nbconvert_exporter": "python",
   "pygments_lexer": "ipython2",
   "version": "2.7.13"
  }
 },
 "nbformat": 4,
 "nbformat_minor": 2
}
