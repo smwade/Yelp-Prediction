{
 "cells": [
  {
   "cell_type": "code",
   "execution_count": 1,
   "metadata": {
    "collapsed": false
   },
   "outputs": [
    {
     "name": "stdout",
     "output_type": "stream",
     "text": [
      "The autoreload extension is already loaded. To reload it, use:\n",
      "  %reload_ext autoreload\n"
     ]
    },
    {
     "data": {
      "text/html": [
       "<link href='http://fonts.googleapis.com/css?family=Fenix' rel='stylesheet' type='text/css'>\n",
       "<link href='http://fonts.googleapis.com/css?family=Alegreya+Sans:100,300,400,500,700,800,900,100italic,300italic,400italic,500italic,700italic,800italic,900italic' rel='stylesheet' type='text/css'>\n",
       "<link href='http://fonts.googleapis.com/css?family=Source+Code+Pro:300,400' rel='stylesheet' type='text/css'>\n",
       "<link href=\"https://fonts.googleapis.com/css?family=Raleway:200,300,400\" rel=\"stylesheet\" type='text/ccs'>\n",
       "<style>\n",
       "    @font-face {\n",
       "        font-family: \"Computer Modern\";\n",
       "        src: url('http://mirrors.ctan.org/fonts/cm-unicode/fonts/otf/cmunss.otf');\n",
       "    }\n",
       "    h1 {\n",
       "        font-family: 'Raleway', sans-serif;\n",
       "    }\n",
       "    h2 {\n",
       "        font-family: 'Raleway', sans-serif;\n",
       "    }\n",
       "    h3{\n",
       "\tfont-family: 'Raleway', sans-serif;\n",
       "        margin-top:12px;\n",
       "        margin-bottom: 3px;\n",
       "       }\n",
       "    h4{\n",
       "\tfont-family: 'Raleway', sans-serif;\n",
       "    }\n",
       "    h5 {\n",
       "        font-family: 'Raleway', sans-serif;\n",
       "    }\t   \n",
       "    div.text_cell_render{\n",
       "        font-family: 'Raleway', sans-serif;\n",
       "\tline-height: 23px;\n",
       "    }\n",
       "    .CodeMirror{\n",
       "            font-family: \"Source Code Pro\";\n",
       "\t\t\tfont-size: 95%;\n",
       "    }\n",
       "\n",
       "\n",
       "    \n",
       "\n",
       "    .text_cell_render h1 {\n",
       "        font-weight: 200;\n",
       "        font-size: 50pt;\n",
       "\t\tline-height: 100%;\n",
       "        color:#454851;\n",
       "        margin-top: 0.5em;\n",
       "        display: block;\n",
       "\t}\n",
       "\t.text_cell_render h2 {\n",
       "        font-weight: 400;\n",
       "\t\tcolor:#252839;\n",
       "        display: block;\n",
       "    }\t\n",
       "\t.text_cell_render h3 {\n",
       "        font-weight: 300;\n",
       "        display: block;\n",
       "    }\t\n",
       "    .text_cell_render h4 {\n",
       "        font-weight: 300;\n",
       "\tcolor:#CD2305;\n",
       "        display: block;\n",
       "    }\t\n",
       "    .text_cell_render h5 {\n",
       "        font-weight: 300;\n",
       "        font-size: 16pt;\n",
       "        color: #CD2305;\n",
       "        font-style: italic;\n",
       "        margin-bottom: .5em;\n",
       "        margin-top: 0.5em;\n",
       "        display: block;\n",
       "    }\n",
       "    \n",
       "    .warning{\n",
       "        color: rgb( 240, 20, 20 )\n",
       "        }  \n",
       "</style>\n",
       "<script>\n",
       "    MathJax.Hub.Config({\n",
       "                        TeX: {\n",
       "                           extensions: [\"AMSmath.js\"]\n",
       "                           },\n",
       "                tex2jax: {\n",
       "                    inlineMath: [ ['$','$'], [\"\\\\(\",\"\\\\)\"] ],\n",
       "                    displayMath: [ ['$$','$$'], [\"\\\\[\",\"\\\\]\"] ]\n",
       "                },\n",
       "                displayAlign: 'center', // Change this to 'center' to center equations.\n",
       "                \"HTML-CSS\": {\n",
       "                    styles: {'.MathJax_Display': {\"margin\": 4}}\n",
       "                }\n",
       "        });\n",
       "</script>\n"
      ],
      "text/plain": [
       "<IPython.core.display.HTML object>"
      ]
     },
     "execution_count": 1,
     "metadata": {},
     "output_type": "execute_result"
    }
   ],
   "source": [
    "from __future__ import division\n",
    "from pymongo import MongoClient\n",
    "from datetime import datetime\n",
    "from collections import Counter\n",
    "import pandas as pd\n",
    "import tqdm\n",
    "import json\n",
    "from textblob import TextBlob\n",
    "from utils.data_manager import get_business_reviews, get_business\n",
    "import preprocess_reviews\n",
    "\n",
    "from nltk.tokenize import RegexpTokenizer\n",
    "from nltk.stem.porter import PorterStemmer\n",
    "from nltk.corpus import stopwords\n",
    "\n",
    "from matplotlib import pyplot as plt\n",
    "import seaborn as sns\n",
    "%matplotlib inline\n",
    "\n",
    "%load_ext autoreload\n",
    "%autoreload 2\n",
    "\n",
    "from IPython.core.display import HTML\n",
    "import urllib2\n",
    "HTML(urllib2.urlopen('http://seanwade.com/jupyter.css').read())"
   ]
  },
  {
   "cell_type": "code",
   "execution_count": 2,
   "metadata": {
    "collapsed": false
   },
   "outputs": [],
   "source": [
    "client = MongoClient()\n",
    "db = client.yelp"
   ]
  },
  {
   "cell_type": "code",
   "execution_count": 3,
   "metadata": {
    "collapsed": false
   },
   "outputs": [],
   "source": [
    "review_list = get_business_reviews('GzWiVvE6JDdBNowNVshItA')\n",
    "review_list = [x['text'] for x in review_list]"
   ]
  },
  {
   "cell_type": "code",
   "execution_count": 4,
   "metadata": {
    "collapsed": false
   },
   "outputs": [
    {
     "name": "stdout",
     "output_type": "stream",
     "text": [
      "We set out to find Bavarian Point restaurant and stumbled into Zur-Kate by accident.  They are next door to each other, although I had never heard of Zur-Kate before.  What a stroke of luck.\n",
      "\n",
      "The atmosphere was very cozy with lots of German flair.  The place was very crowded at 8pm, and everyone seemed to be having a very god time.  The first thing we noticed about the menu was the far lower prices than the ones on menus we had seen on line for other Valley German restaurants.  Many different kinds of wurst, schitzel and chops are available to choose from.  Each entree comes with a choice of German potato salad, spatzel, potato cake, home fries or french fries.  You also receive your choice of sauerkraut or red cabbage.  A salad bar is included, and basket of rye bread delivered to the table.  There is not an entree on the menu over $12, and you can add a wurst to any entree for $2.50.  Beers are in the $2-$4 range - where does that happen?  These prices are already amazing, but then you see the portion sizes.  The schnitzels are huge, and each comes with a generous portion of side.  I had the Rhein Schitzel - juicy pork, lightly breaded and fried until golden bown and crisp, topped with sauteed onions and a sour-cream based light gravy.  It was fantastic.  Very well seasoned, light, not greasy and absolutley huge.  Add in the red cabbage and spatezel and you have a formidable meal.  I added a knockwurst just to try it, and there was no way that I could finish my dinner.  Everyone at my table felt the same about their meals.  This place is a gem and should not be missed.  I really cannot imagine what more you could want out of a German restaurant, except maybe higher prices.  Im sure the other restaurants in town are also good, but we cant wait to go back to Zur Kate.\n"
     ]
    }
   ],
   "source": [
    "print review_list[0]"
   ]
  },
  {
   "cell_type": "code",
   "execution_count": 50,
   "metadata": {
    "collapsed": true
   },
   "outputs": [],
   "source": [
    "blob = TextBlob(review_list[1])"
   ]
  },
  {
   "cell_type": "markdown",
   "metadata": {},
   "source": [
    "The polarity score is a float within the range [-1.0, 1.0]. The subjectivity is a float within the range [0.0, 1.0] where 0.0 is very objective and 1.0 is very subjective."
   ]
  },
  {
   "cell_type": "code",
   "execution_count": 52,
   "metadata": {
    "collapsed": false
   },
   "outputs": [
    {
     "name": "stdout",
     "output_type": "stream",
     "text": [
      "Sentiment(polarity=0.39999999999999997, subjectivity=0.6166666666666667)\n",
      "Sentiment(polarity=0.0, subjectivity=0.0)\n",
      "Sentiment(polarity=0.0, subjectivity=0.0)\n",
      "Sentiment(polarity=0.845, subjectivity=0.8900000000000001)\n",
      "Sentiment(polarity=0.0, subjectivity=0.0)\n",
      "Sentiment(polarity=0.7, subjectivity=0.6000000000000001)\n",
      "Sentiment(polarity=0.0, subjectivity=0.0)\n",
      "Sentiment(polarity=1.0, subjectivity=1.0)\n",
      "Sentiment(polarity=0.3, subjectivity=0.5)\n",
      "Sentiment(polarity=0.3499999999999999, subjectivity=0.6666666666666666)\n",
      "Sentiment(polarity=0.0, subjectivity=0.0)\n",
      "Sentiment(polarity=0.0, subjectivity=0.0)\n"
     ]
    }
   ],
   "source": [
    "for sent in blob.sentences:\n",
    "    print sent.sentiment"
   ]
  },
  {
   "cell_type": "code",
   "execution_count": 53,
   "metadata": {
    "collapsed": false
   },
   "outputs": [
    {
     "data": {
      "text/plain": [
       "Sentiment(polarity=0.56275, subjectivity=0.6896666666666668)"
      ]
     },
     "execution_count": 53,
     "metadata": {},
     "output_type": "execute_result"
    }
   ],
   "source": [
    "blob.sentiment"
   ]
  },
  {
   "cell_type": "code",
   "execution_count": 49,
   "metadata": {
    "collapsed": false
   },
   "outputs": [
    {
     "data": {
      "text/plain": [
       "[WordList([u'We', u'set', u'out']),\n",
       " WordList([u'set', u'out', u'to']),\n",
       " WordList([u'out', u'to', u'find']),\n",
       " WordList([u'to', u'find', u'Bavarian']),\n",
       " WordList([u'find', u'Bavarian', u'Point']),\n",
       " WordList([u'Bavarian', u'Point', u'restaurant']),\n",
       " WordList([u'Point', u'restaurant', u'and']),\n",
       " WordList([u'restaurant', u'and', u'stumbled']),\n",
       " WordList([u'and', u'stumbled', u'into']),\n",
       " WordList([u'stumbled', u'into', u'Zur-Kate']),\n",
       " WordList([u'into', u'Zur-Kate', u'by']),\n",
       " WordList([u'Zur-Kate', u'by', u'accident']),\n",
       " WordList([u'by', u'accident', u'They']),\n",
       " WordList([u'accident', u'They', u'are']),\n",
       " WordList([u'They', u'are', u'next']),\n",
       " WordList([u'are', u'next', u'door']),\n",
       " WordList([u'next', u'door', u'to']),\n",
       " WordList([u'door', u'to', u'each']),\n",
       " WordList([u'to', u'each', u'other']),\n",
       " WordList([u'each', u'other', u'although']),\n",
       " WordList([u'other', u'although', u'I']),\n",
       " WordList([u'although', u'I', u'had']),\n",
       " WordList([u'I', u'had', u'never']),\n",
       " WordList([u'had', u'never', u'heard']),\n",
       " WordList([u'never', u'heard', u'of']),\n",
       " WordList([u'heard', u'of', u'Zur-Kate']),\n",
       " WordList([u'of', u'Zur-Kate', u'before']),\n",
       " WordList([u'Zur-Kate', u'before', u'What']),\n",
       " WordList([u'before', u'What', u'a']),\n",
       " WordList([u'What', u'a', u'stroke']),\n",
       " WordList([u'a', u'stroke', u'of']),\n",
       " WordList([u'stroke', u'of', u'luck']),\n",
       " WordList([u'of', u'luck', u'The']),\n",
       " WordList([u'luck', u'The', u'atmosphere']),\n",
       " WordList([u'The', u'atmosphere', u'was']),\n",
       " WordList([u'atmosphere', u'was', u'very']),\n",
       " WordList([u'was', u'very', u'cozy']),\n",
       " WordList([u'very', u'cozy', u'with']),\n",
       " WordList([u'cozy', u'with', u'lots']),\n",
       " WordList([u'with', u'lots', u'of']),\n",
       " WordList([u'lots', u'of', u'German']),\n",
       " WordList([u'of', u'German', u'flair']),\n",
       " WordList([u'German', u'flair', u'The']),\n",
       " WordList([u'flair', u'The', u'place']),\n",
       " WordList([u'The', u'place', u'was']),\n",
       " WordList([u'place', u'was', u'very']),\n",
       " WordList([u'was', u'very', u'crowded']),\n",
       " WordList([u'very', u'crowded', u'at']),\n",
       " WordList([u'crowded', u'at', u'8pm']),\n",
       " WordList([u'at', u'8pm', u'and']),\n",
       " WordList([u'8pm', u'and', u'everyone']),\n",
       " WordList([u'and', u'everyone', u'seemed']),\n",
       " WordList([u'everyone', u'seemed', u'to']),\n",
       " WordList([u'seemed', u'to', u'be']),\n",
       " WordList([u'to', u'be', u'having']),\n",
       " WordList([u'be', u'having', u'a']),\n",
       " WordList([u'having', u'a', u'very']),\n",
       " WordList([u'a', u'very', u'god']),\n",
       " WordList([u'very', u'god', u'time']),\n",
       " WordList([u'god', u'time', u'The']),\n",
       " WordList([u'time', u'The', u'first']),\n",
       " WordList([u'The', u'first', u'thing']),\n",
       " WordList([u'first', u'thing', u'we']),\n",
       " WordList([u'thing', u'we', u'noticed']),\n",
       " WordList([u'we', u'noticed', u'about']),\n",
       " WordList([u'noticed', u'about', u'the']),\n",
       " WordList([u'about', u'the', u'menu']),\n",
       " WordList([u'the', u'menu', u'was']),\n",
       " WordList([u'menu', u'was', u'the']),\n",
       " WordList([u'was', u'the', u'far']),\n",
       " WordList([u'the', u'far', u'lower']),\n",
       " WordList([u'far', u'lower', u'prices']),\n",
       " WordList([u'lower', u'prices', u'than']),\n",
       " WordList([u'prices', u'than', u'the']),\n",
       " WordList([u'than', u'the', u'ones']),\n",
       " WordList([u'the', u'ones', u'on']),\n",
       " WordList([u'ones', u'on', u'menus']),\n",
       " WordList([u'on', u'menus', u'we']),\n",
       " WordList([u'menus', u'we', u'had']),\n",
       " WordList([u'we', u'had', u'seen']),\n",
       " WordList([u'had', u'seen', u'on']),\n",
       " WordList([u'seen', u'on', u'line']),\n",
       " WordList([u'on', u'line', u'for']),\n",
       " WordList([u'line', u'for', u'other']),\n",
       " WordList([u'for', u'other', u'Valley']),\n",
       " WordList([u'other', u'Valley', u'German']),\n",
       " WordList([u'Valley', u'German', u'restaurants']),\n",
       " WordList([u'German', u'restaurants', u'Many']),\n",
       " WordList([u'restaurants', u'Many', u'different']),\n",
       " WordList([u'Many', u'different', u'kinds']),\n",
       " WordList([u'different', u'kinds', u'of']),\n",
       " WordList([u'kinds', u'of', u'wurst']),\n",
       " WordList([u'of', u'wurst', u'schitzel']),\n",
       " WordList([u'wurst', u'schitzel', u'and']),\n",
       " WordList([u'schitzel', u'and', u'chops']),\n",
       " WordList([u'and', u'chops', u'are']),\n",
       " WordList([u'chops', u'are', u'available']),\n",
       " WordList([u'are', u'available', u'to']),\n",
       " WordList([u'available', u'to', u'choose']),\n",
       " WordList([u'to', u'choose', u'from']),\n",
       " WordList([u'choose', u'from', u'Each']),\n",
       " WordList([u'from', u'Each', u'entree']),\n",
       " WordList([u'Each', u'entree', u'comes']),\n",
       " WordList([u'entree', u'comes', u'with']),\n",
       " WordList([u'comes', u'with', u'a']),\n",
       " WordList([u'with', u'a', u'choice']),\n",
       " WordList([u'a', u'choice', u'of']),\n",
       " WordList([u'choice', u'of', u'German']),\n",
       " WordList([u'of', u'German', u'potato']),\n",
       " WordList([u'German', u'potato', u'salad']),\n",
       " WordList([u'potato', u'salad', u'spatzel']),\n",
       " WordList([u'salad', u'spatzel', u'potato']),\n",
       " WordList([u'spatzel', u'potato', u'cake']),\n",
       " WordList([u'potato', u'cake', u'home']),\n",
       " WordList([u'cake', u'home', u'fries']),\n",
       " WordList([u'home', u'fries', u'or']),\n",
       " WordList([u'fries', u'or', u'french']),\n",
       " WordList([u'or', u'french', u'fries']),\n",
       " WordList([u'french', u'fries', u'You']),\n",
       " WordList([u'fries', u'You', u'also']),\n",
       " WordList([u'You', u'also', u'receive']),\n",
       " WordList([u'also', u'receive', u'your']),\n",
       " WordList([u'receive', u'your', u'choice']),\n",
       " WordList([u'your', u'choice', u'of']),\n",
       " WordList([u'choice', u'of', u'sauerkraut']),\n",
       " WordList([u'of', u'sauerkraut', u'or']),\n",
       " WordList([u'sauerkraut', u'or', u'red']),\n",
       " WordList([u'or', u'red', u'cabbage']),\n",
       " WordList([u'red', u'cabbage', u'A']),\n",
       " WordList([u'cabbage', u'A', u'salad']),\n",
       " WordList([u'A', u'salad', u'bar']),\n",
       " WordList([u'salad', u'bar', u'is']),\n",
       " WordList([u'bar', u'is', u'included']),\n",
       " WordList([u'is', u'included', u'and']),\n",
       " WordList([u'included', u'and', u'basket']),\n",
       " WordList([u'and', u'basket', u'of']),\n",
       " WordList([u'basket', u'of', u'rye']),\n",
       " WordList([u'of', u'rye', u'bread']),\n",
       " WordList([u'rye', u'bread', u'delivered']),\n",
       " WordList([u'bread', u'delivered', u'to']),\n",
       " WordList([u'delivered', u'to', u'the']),\n",
       " WordList([u'to', u'the', u'table']),\n",
       " WordList([u'the', u'table', u'There']),\n",
       " WordList([u'table', u'There', u'is']),\n",
       " WordList([u'There', u'is', u'not']),\n",
       " WordList([u'is', u'not', u'an']),\n",
       " WordList([u'not', u'an', u'entree']),\n",
       " WordList([u'an', u'entree', u'on']),\n",
       " WordList([u'entree', u'on', u'the']),\n",
       " WordList([u'on', u'the', u'menu']),\n",
       " WordList([u'the', u'menu', u'over']),\n",
       " WordList([u'menu', u'over', u'12']),\n",
       " WordList([u'over', u'12', u'and']),\n",
       " WordList([u'12', u'and', u'you']),\n",
       " WordList([u'and', u'you', u'can']),\n",
       " WordList([u'you', u'can', u'add']),\n",
       " WordList([u'can', u'add', u'a']),\n",
       " WordList([u'add', u'a', u'wurst']),\n",
       " WordList([u'a', u'wurst', u'to']),\n",
       " WordList([u'wurst', u'to', u'any']),\n",
       " WordList([u'to', u'any', u'entree']),\n",
       " WordList([u'any', u'entree', u'for']),\n",
       " WordList([u'entree', u'for', u'2.50']),\n",
       " WordList([u'for', u'2.50', u'Beers']),\n",
       " WordList([u'2.50', u'Beers', u'are']),\n",
       " WordList([u'Beers', u'are', u'in']),\n",
       " WordList([u'are', u'in', u'the']),\n",
       " WordList([u'in', u'the', u'2']),\n",
       " WordList([u'the', u'2', u'4']),\n",
       " WordList([u'2', u'4', u'range']),\n",
       " WordList([u'4', u'range', u'where']),\n",
       " WordList([u'range', u'where', u'does']),\n",
       " WordList([u'where', u'does', u'that']),\n",
       " WordList([u'does', u'that', u'happen']),\n",
       " WordList([u'that', u'happen', u'These']),\n",
       " WordList([u'happen', u'These', u'prices']),\n",
       " WordList([u'These', u'prices', u'are']),\n",
       " WordList([u'prices', u'are', u'already']),\n",
       " WordList([u'are', u'already', u'amazing']),\n",
       " WordList([u'already', u'amazing', u'but']),\n",
       " WordList([u'amazing', u'but', u'then']),\n",
       " WordList([u'but', u'then', u'you']),\n",
       " WordList([u'then', u'you', u'see']),\n",
       " WordList([u'you', u'see', u'the']),\n",
       " WordList([u'see', u'the', u'portion']),\n",
       " WordList([u'the', u'portion', u'sizes']),\n",
       " WordList([u'portion', u'sizes', u'The']),\n",
       " WordList([u'sizes', u'The', u'schnitzels']),\n",
       " WordList([u'The', u'schnitzels', u'are']),\n",
       " WordList([u'schnitzels', u'are', u'huge']),\n",
       " WordList([u'are', u'huge', u'and']),\n",
       " WordList([u'huge', u'and', u'each']),\n",
       " WordList([u'and', u'each', u'comes']),\n",
       " WordList([u'each', u'comes', u'with']),\n",
       " WordList([u'comes', u'with', u'a']),\n",
       " WordList([u'with', u'a', u'generous']),\n",
       " WordList([u'a', u'generous', u'portion']),\n",
       " WordList([u'generous', u'portion', u'of']),\n",
       " WordList([u'portion', u'of', u'side']),\n",
       " WordList([u'of', u'side', u'I']),\n",
       " WordList([u'side', u'I', u'had']),\n",
       " WordList([u'I', u'had', u'the']),\n",
       " WordList([u'had', u'the', u'Rhein']),\n",
       " WordList([u'the', u'Rhein', u'Schitzel']),\n",
       " WordList([u'Rhein', u'Schitzel', u'juicy']),\n",
       " WordList([u'Schitzel', u'juicy', u'pork']),\n",
       " WordList([u'juicy', u'pork', u'lightly']),\n",
       " WordList([u'pork', u'lightly', u'breaded']),\n",
       " WordList([u'lightly', u'breaded', u'and']),\n",
       " WordList([u'breaded', u'and', u'fried']),\n",
       " WordList([u'and', u'fried', u'until']),\n",
       " WordList([u'fried', u'until', u'golden']),\n",
       " WordList([u'until', u'golden', u'bown']),\n",
       " WordList([u'golden', u'bown', u'and']),\n",
       " WordList([u'bown', u'and', u'crisp']),\n",
       " WordList([u'and', u'crisp', u'topped']),\n",
       " WordList([u'crisp', u'topped', u'with']),\n",
       " WordList([u'topped', u'with', u'sauteed']),\n",
       " WordList([u'with', u'sauteed', u'onions']),\n",
       " WordList([u'sauteed', u'onions', u'and']),\n",
       " WordList([u'onions', u'and', u'a']),\n",
       " WordList([u'and', u'a', u'sour-cream']),\n",
       " WordList([u'a', u'sour-cream', u'based']),\n",
       " WordList([u'sour-cream', u'based', u'light']),\n",
       " WordList([u'based', u'light', u'gravy']),\n",
       " WordList([u'light', u'gravy', u'It']),\n",
       " WordList([u'gravy', u'It', u'was']),\n",
       " WordList([u'It', u'was', u'fantastic']),\n",
       " WordList([u'was', u'fantastic', u'Very']),\n",
       " WordList([u'fantastic', u'Very', u'well']),\n",
       " WordList([u'Very', u'well', u'seasoned']),\n",
       " WordList([u'well', u'seasoned', u'light']),\n",
       " WordList([u'seasoned', u'light', u'not']),\n",
       " WordList([u'light', u'not', u'greasy']),\n",
       " WordList([u'not', u'greasy', u'and']),\n",
       " WordList([u'greasy', u'and', u'absolutley']),\n",
       " WordList([u'and', u'absolutley', u'huge']),\n",
       " WordList([u'absolutley', u'huge', u'Add']),\n",
       " WordList([u'huge', u'Add', u'in']),\n",
       " WordList([u'Add', u'in', u'the']),\n",
       " WordList([u'in', u'the', u'red']),\n",
       " WordList([u'the', u'red', u'cabbage']),\n",
       " WordList([u'red', u'cabbage', u'and']),\n",
       " WordList([u'cabbage', u'and', u'spatezel']),\n",
       " WordList([u'and', u'spatezel', u'and']),\n",
       " WordList([u'spatezel', u'and', u'you']),\n",
       " WordList([u'and', u'you', u'have']),\n",
       " WordList([u'you', u'have', u'a']),\n",
       " WordList([u'have', u'a', u'formidable']),\n",
       " WordList([u'a', u'formidable', u'meal']),\n",
       " WordList([u'formidable', u'meal', u'I']),\n",
       " WordList([u'meal', u'I', u'added']),\n",
       " WordList([u'I', u'added', u'a']),\n",
       " WordList([u'added', u'a', u'knockwurst']),\n",
       " WordList([u'a', u'knockwurst', u'just']),\n",
       " WordList([u'knockwurst', u'just', u'to']),\n",
       " WordList([u'just', u'to', u'try']),\n",
       " WordList([u'to', u'try', u'it']),\n",
       " WordList([u'try', u'it', u'and']),\n",
       " WordList([u'it', u'and', u'there']),\n",
       " WordList([u'and', u'there', u'was']),\n",
       " WordList([u'there', u'was', u'no']),\n",
       " WordList([u'was', u'no', u'way']),\n",
       " WordList([u'no', u'way', u'that']),\n",
       " WordList([u'way', u'that', u'I']),\n",
       " WordList([u'that', u'I', u'could']),\n",
       " WordList([u'I', u'could', u'finish']),\n",
       " WordList([u'could', u'finish', u'my']),\n",
       " WordList([u'finish', u'my', u'dinner']),\n",
       " WordList([u'my', u'dinner', u'Everyone']),\n",
       " WordList([u'dinner', u'Everyone', u'at']),\n",
       " WordList([u'Everyone', u'at', u'my']),\n",
       " WordList([u'at', u'my', u'table']),\n",
       " WordList([u'my', u'table', u'felt']),\n",
       " WordList([u'table', u'felt', u'the']),\n",
       " WordList([u'felt', u'the', u'same']),\n",
       " WordList([u'the', u'same', u'about']),\n",
       " WordList([u'same', u'about', u'their']),\n",
       " WordList([u'about', u'their', u'meals']),\n",
       " WordList([u'their', u'meals', u'This']),\n",
       " WordList([u'meals', u'This', u'place']),\n",
       " WordList([u'This', u'place', u'is']),\n",
       " WordList([u'place', u'is', u'a']),\n",
       " WordList([u'is', u'a', u'gem']),\n",
       " WordList([u'a', u'gem', u'and']),\n",
       " WordList([u'gem', u'and', u'should']),\n",
       " WordList([u'and', u'should', u'not']),\n",
       " WordList([u'should', u'not', u'be']),\n",
       " WordList([u'not', u'be', u'missed']),\n",
       " WordList([u'be', u'missed', u'I']),\n",
       " WordList([u'missed', u'I', u'really']),\n",
       " WordList([u'I', u'really', u'can']),\n",
       " WordList([u'really', u'can', u'not']),\n",
       " WordList([u'can', u'not', u'imagine']),\n",
       " WordList([u'not', u'imagine', u'what']),\n",
       " WordList([u'imagine', u'what', u'more']),\n",
       " WordList([u'what', u'more', u'you']),\n",
       " WordList([u'more', u'you', u'could']),\n",
       " WordList([u'you', u'could', u'want']),\n",
       " WordList([u'could', u'want', u'out']),\n",
       " WordList([u'want', u'out', u'of']),\n",
       " WordList([u'out', u'of', u'a']),\n",
       " WordList([u'of', u'a', u'German']),\n",
       " WordList([u'a', u'German', u'restaurant']),\n",
       " WordList([u'German', u'restaurant', u'except']),\n",
       " WordList([u'restaurant', u'except', u'maybe']),\n",
       " WordList([u'except', u'maybe', u'higher']),\n",
       " WordList([u'maybe', u'higher', u'prices']),\n",
       " WordList([u'higher', u'prices', u'Im']),\n",
       " WordList([u'prices', u'Im', u'sure']),\n",
       " WordList([u'Im', u'sure', u'the']),\n",
       " WordList([u'sure', u'the', u'other']),\n",
       " WordList([u'the', u'other', u'restaurants']),\n",
       " WordList([u'other', u'restaurants', u'in']),\n",
       " WordList([u'restaurants', u'in', u'town']),\n",
       " WordList([u'in', u'town', u'are']),\n",
       " WordList([u'town', u'are', u'also']),\n",
       " WordList([u'are', u'also', u'good']),\n",
       " WordList([u'also', u'good', u'but']),\n",
       " WordList([u'good', u'but', u'we']),\n",
       " WordList([u'but', u'we', u'cant']),\n",
       " WordList([u'we', u'cant', u'wait']),\n",
       " WordList([u'cant', u'wait', u'to']),\n",
       " WordList([u'wait', u'to', u'go']),\n",
       " WordList([u'to', u'go', u'back']),\n",
       " WordList([u'go', u'back', u'to']),\n",
       " WordList([u'back', u'to', u'Zur']),\n",
       " WordList([u'to', u'Zur', u'Kate'])]"
      ]
     },
     "execution_count": 49,
     "metadata": {},
     "output_type": "execute_result"
    }
   ],
   "source": [
    "blob.ngrams()"
   ]
  },
  {
   "cell_type": "code",
   "execution_count": 58,
   "metadata": {
    "collapsed": false
   },
   "outputs": [],
   "source": [
    "pos_cursor = db.reviews.find({'stars':{'$gt':3}})\n",
    "neg_cursor = db.reviews.find({'stars':{'$lt':3}})\n",
    "\n",
    "pos_list = []\n",
    "neg_list = []\n",
    "\n",
    "for i in range(10):\n",
    "    pos_review = pos_cursor.next()\n",
    "    neg_review = neg_cursor.next()\n",
    "    \n",
    "    pos_list.append((pos_review['text'], 'pos'))\n",
    "    neg_list.append((neg_review['text'], 'neg'))"
   ]
  },
  {
   "cell_type": "code",
   "execution_count": 62,
   "metadata": {
    "collapsed": false
   },
   "outputs": [
    {
     "data": {
      "text/plain": [
       "([(u'Mr Hoagie is an institution. Walking in, it does seem like a throwback to 30 years ago, old fashioned menu board, booths out of the 70s, and a large selection of food. Their speciality is the Italian Hoagie, and it is voted the best in the area year after year. I usually order the burger, while the patties are obviously cooked from frozen, all of the other ingredients are very fresh. Overall, its a good alternative to Subway, which is down the road.',\n",
       "   'pos'),\n",
       "  (u\"I like this place a lot. It's a good toasted hoagie.\\n\\nI actually don't like a my bun exploding with meat, but as a previous poster mentioned if you do maybe you wouldn't like this place.\\n\\nThe inside badly needs updated though. \\n\\nThe staff is friendly.\",\n",
       "   'pos'),\n",
       "  (u'Cold cheap beer. Good bar food. Good service. \\n\\nLooking for a great Pittsburgh style fish sandwich, this is the place to go. The breading is light, fish is more than plentiful and a good side of home cut fries. \\n\\nGood grilled chicken salads or steak.  Soup of day is homemade and lots of specials. Great place for lunch or bar snacks and beer.',\n",
       "   'pos'),\n",
       "  (u\"I drove by yesterday to get a sneak peak.  It re-opens on July 14th and I can't wait to take my kids.  The new range looks amazing.  The entire range appears to be turf, which may or many not help your game, but it looks really nice.  The tee boxes look state of the art and the club house looks like something you'll see on a newer course.  Can't wait to experience it!\",\n",
       "   'pos'),\n",
       "  (u\"Before I finally made it over to this range I heard the same thing from most people - it's just fine to go work on your swing. I had such a low expectation I was pleasantly surprised. \\n\\nIt's a fairly big range - if you are familiar with Scally's in Moon, it seems like it has almost as many tees, though its not nearly as nice a facility. \\n\\nThe guys in the pro shop were two of the friendlier guys I've come across at ranges or at courses. Yards were indeed marked and there are some targets to aim for, and even some hazards to aim away from. \\n\\nA big red flag to me was the extra charge ($3) to hit off the grass. I am no range expert, but this is the 4th one I've been to and the first I've seen of that sort of nickel and diming....\\n\\nPrice for the golf balls was reasonable and I do plan to be back every week until they close up in October for the season. Hopefully, since its for sale, it will reopen as a golf facility again.\",\n",
       "   'pos')],\n",
       " [(u'Normally, I do not do reviews of an establishment unless the rating is exceptionally great or exceptionally bad.  If I had not felt sucker punched and mugged after I left Mr. Hoagie, I would not be writing this bad review.  On my first and last trip there, I paid $24.59 for two whole hoagies.  \\n\\n1) The Italian (ordered because the woman (she) working there told me it was their most popular hoagie) I ordered with lettuce and onions (no tomato, italian dressing which all come free with the hoagie).  I had to pay $1 to add cheese to the hoagie.  Because I was traveling and would not be eating the hoagie right away, I asked for the italian on the side.  She told me there was a charge for the dressing on the side.  I passed on that on principle.  Are you kidding me?  I just saved her money by declining the tomato.  I was not going to pay for the dressing on the side.  At this point, I am certain something is not right and this place appears to me to be in financial trouble.  That pales in comparison to what happened next.  I opened the hoagie and there were three microscopically thin slices of meat on this hoagie.  Ham, salami, and bologna.  Bologna!?!?!?!?    Who in the hell puts disgusting bologna on an Italian hoagie?  That disqualifies that hoagie as an Italian.  The red flags indicating this place is in financial trouble are blinding my view.  One area of this hoagie only had one slice of bologna, no ham and no salami.\\n\\n2)  The Steak hoagie came with nothing on it but lettuce, tomato, onions, and dressing.  I ordered it without lettuce, tomato, onions, or dressing.  I asked for mayo on the side.  I had to pay for that so I declined.  Are you kidding me?  I just saved them money by passing on the lettuce, tomato, fresh onions, and dressing!  I paid $3 to add saut\\xe9ed mushrooms, onions, and cheese.  Here we go again.  Canned mushrooms that were not even cooked through (were still cold) and onions that were still crunchy/undercooked.  News flash:  you need to serve fresh mushrooms that have been saut\\xe9ed (canned mushrooms are another sign this place is in financial trouble).  I literally had to open the hoagie to find the steak because I could not taste or see it.  The hoagie was 50% mushrooms, 30%onions, 10% cheese and 10% steak.\\n\\nI could have personally made 10 whole hoagies with substantial quality ingredients and toppings for the $24.59 I paid for these two whole hoagies.  I intentionally patronize non-chain restaurants to support small businesses.  In this case, Never. Again.  (The hoagie bun was better than average.)  Wake up or you are going to lose your business.',\n",
       "   'neg'),\n",
       "  (u'Wing sauce is like water. Pretty much a lot of butter and some hot sauce (franks red hot maybe).  The whole wings are good size and crispy, but for $1 a wing the sauce could be better. The hot and extra hot are about the same flavor/heat.  The fish sandwich is good and is a large portion, sides are decent.',\n",
       "   'neg'),\n",
       "  (u\"Owning a driving range inside the city limits is like a license to print money.  I don't think I ask much out of a driving range.  Decent mats, clean balls and accessible hours.  Hell you need even less people now with the advent of the machine that doles out the balls.  This place has none of them.  It is april and there are no grass tees yet.  BTW they opened for the season this week although it has been golfing weather for a month.  The mats look like the carpet at my 107 year old aunt Irene's house.  Worn and thread bare.  Let's talk about the hours.  This place is equipped with lights yet they only sell buckets of balls until 730.  It is still light out.  Finally lets you have the pit to hit into.  When I arrived I wasn't sure if this was a driving range or an excavation site for a mastodon or a strip mining operation.  There is no grass on the range. Just mud.  Makes it a good tool to figure out how far you actually are hitting the ball.  Oh, they are cash only also.\\n\\nBottom line, this place sucks.  The best hope is that the owner sells it to someone that actually wants to make money and service golfers in Pittsburgh.\",\n",
       "   'neg'),\n",
       "  (u\"This place is absolute garbage...  Half of the tees are not available, including all the grass tees.  It is cash only, and they sell the last bucket at 8, despite having lights.  And if you finish even a minute after 8, don't plan on getting a drink.  The vending machines are sold out (of course) and they sell drinks inside, but close the drawers at 8 on the dot.  There are weeds grown all over the place.  I noticed some sort of batting cage, but it looks like those are out of order as well.  Someone should buy this place and turn it into what it should be.\",\n",
       "   'neg'),\n",
       "  (u'Used to go there for tires, brakes, etc.  Their prices have gone way up-$400 for 4 mid-level tires for a Toyota.  Plus, 1 of the new tires went flat within 3 weeks.  Since they don\"t make appointments,  the wait to get the tire looked at was ~2 hours.  Sorry--can\\'t wait that long to get a warranted repair,  They lost my business for good.',\n",
       "   'neg')])"
      ]
     },
     "execution_count": 62,
     "metadata": {},
     "output_type": "execute_result"
    }
   ],
   "source": [
    "preprocess_reviews.prepare_classify(5)"
   ]
  },
  {
   "cell_type": "code",
   "execution_count": 5,
   "metadata": {
    "collapsed": true
   },
   "outputs": [],
   "source": [
    "from sklearn.feature_extraction.text import CountVectorizer\n",
    "from sklearn.pipeline import Pipeline\n",
    "cv = CountVectorizer()"
   ]
  },
  {
   "cell_type": "code",
   "execution_count": 20,
   "metadata": {
    "collapsed": false
   },
   "outputs": [],
   "source": [
    "a = cv.fit_transform(review_list)"
   ]
  },
  {
   "cell_type": "code",
   "execution_count": 22,
   "metadata": {
    "collapsed": false
   },
   "outputs": [
    {
     "data": {
      "text/plain": [
       "(115, 1946)"
      ]
     },
     "execution_count": 22,
     "metadata": {},
     "output_type": "execute_result"
    }
   ],
   "source": [
    "a.toarray().shape"
   ]
  },
  {
   "cell_type": "code",
   "execution_count": 49,
   "metadata": {
    "collapsed": false
   },
   "outputs": [
    {
     "name": "stdout",
     "output_type": "stream",
     "text": [
      "train on 150000 instances, test on 50000 instances\n",
      "accuracy: 0.84008\n",
      "Most Informative Features\n",
      "          unprofessional = True              neg : pos    =    150.4 : 1.0\n",
      "                    2013 = True              neg : pos    =    107.0 : 1.0\n",
      "                Horrible = True              neg : pos    =    102.1 : 1.0\n",
      "                   rude! = True              neg : pos    =     92.3 : 1.0\n",
      "                   Worst = True              neg : pos    =     86.5 : 1.0\n",
      "                apology, = True              neg : pos    =     85.0 : 1.0\n",
      "                   Worse = True              neg : pos    =     80.3 : 1.0\n",
      "               horrible! = True              neg : pos    =     77.0 : 1.0\n",
      "                    Rude = True              neg : pos    =     69.0 : 1.0\n",
      "               Terrible. = True              neg : pos    =     66.3 : 1.0\n"
     ]
    }
   ],
   "source": [
    "def word_feats(words):\n",
    "    return dict([(word, True) for word in words])\n",
    " \n",
    "negfeats = [(word_feats(x), 'neg') for x in negative_reviews]\n",
    "posfeats = [(word_feats(x), 'pos') for x in positive_reviews]\n",
    " \n",
    "negcutoff = int(len(negfeats)*3/4)\n",
    "poscutoff = int(len(posfeats)*3/4)\n",
    " \n",
    "trainfeats = negfeats[:negcutoff] + posfeats[:poscutoff]\n",
    "testfeats = negfeats[negcutoff:] + posfeats[poscutoff:]\n",
    "print 'train on %d instances, test on %d instances' % (len(trainfeats), len(testfeats))\n",
    " \n",
    "classifier = NaiveBayesClassifier.train(trainfeats)\n",
    "print 'accuracy:', nltk.classify.util.accuracy(classifier, testfeats)\n",
    "classifier.show_most_informative_features()"
   ]
  },
  {
   "cell_type": "code",
   "execution_count": 3,
   "metadata": {
    "collapsed": false
   },
   "outputs": [
    {
     "ename": "TypeError",
     "evalue": "'CommandCursor' object has no attribute '__getitem__'",
     "output_type": "error",
     "traceback": [
      "\u001b[0;31m---------------------------------------------------------------------------\u001b[0m",
      "\u001b[0;31mTypeError\u001b[0m                                 Traceback (most recent call last)",
      "\u001b[0;32m<ipython-input-3-b6cdd8f296d7>\u001b[0m in \u001b[0;36m<module>\u001b[0;34m()\u001b[0m\n\u001b[1;32m      1\u001b[0m \u001b[0mpipe\u001b[0m \u001b[0;34m=\u001b[0m \u001b[0;34m[\u001b[0m\u001b[0;34m{\u001b[0m\u001b[0;34m'$group'\u001b[0m\u001b[0;34m:\u001b[0m \u001b[0;34m{\u001b[0m\u001b[0;34m'_id'\u001b[0m\u001b[0;34m:\u001b[0m\u001b[0;34m'$business_id'\u001b[0m\u001b[0;34m,\u001b[0m \u001b[0;34m'count'\u001b[0m\u001b[0;34m:\u001b[0m\u001b[0;34m{\u001b[0m\u001b[0;34m'$sum'\u001b[0m\u001b[0;34m:\u001b[0m\u001b[0;36m1\u001b[0m\u001b[0;34m}\u001b[0m\u001b[0;34m}\u001b[0m\u001b[0;34m}\u001b[0m\u001b[0;34m,\u001b[0m \u001b[0;34m{\u001b[0m\u001b[0;34m'$sort'\u001b[0m\u001b[0;34m:\u001b[0m \u001b[0;34m{\u001b[0m\u001b[0;34m'count'\u001b[0m\u001b[0;34m:\u001b[0m\u001b[0;34m-\u001b[0m\u001b[0;36m1\u001b[0m\u001b[0;34m}\u001b[0m\u001b[0;34m}\u001b[0m\u001b[0;34m]\u001b[0m\u001b[0;34m\u001b[0m\u001b[0m\n\u001b[0;32m----> 2\u001b[0;31m \u001b[0mdb\u001b[0m\u001b[0;34m.\u001b[0m\u001b[0mreviews\u001b[0m\u001b[0;34m.\u001b[0m\u001b[0maggregate\u001b[0m\u001b[0;34m(\u001b[0m\u001b[0mpipe\u001b[0m\u001b[0;34m)\u001b[0m\u001b[0;34m[\u001b[0m\u001b[0;34m'result'\u001b[0m\u001b[0;34m]\u001b[0m\u001b[0;34m\u001b[0m\u001b[0m\n\u001b[0m",
      "\u001b[0;31mTypeError\u001b[0m: 'CommandCursor' object has no attribute '__getitem__'"
     ]
    }
   ],
   "source": [
    "pipe = [{'$group': {'_id':'$business_id', 'count':{'$sum':1}}}, {'$sort': {'count':-1}}]\n",
    "db.reviews.aggregate(pipe)['result']"
   ]
  },
  {
   "cell_type": "code",
   "execution_count": null,
   "metadata": {
    "collapsed": true
   },
   "outputs": [],
   "source": []
  }
 ],
 "metadata": {
  "kernelspec": {
   "display_name": "Python 2",
   "language": "python",
   "name": "python2"
  },
  "language_info": {
   "codemirror_mode": {
    "name": "ipython",
    "version": 2
   },
   "file_extension": ".py",
   "mimetype": "text/x-python",
   "name": "python",
   "nbconvert_exporter": "python",
   "pygments_lexer": "ipython2",
   "version": "2.7.12"
  }
 },
 "nbformat": 4,
 "nbformat_minor": 0
}
