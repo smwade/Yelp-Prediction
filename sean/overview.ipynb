{
 "cells": [
  {
   "cell_type": "markdown",
   "metadata": {},
   "source": [
    "<img  src=\"nb_images/yelp-logo.png\" style=\"width:18%; hieght:20%;\" align=\"left\"/>\n",
    "\n",
    "<h1>HELP</h1>"
   ]
  },
  {
   "cell_type": "markdown",
   "metadata": {},
   "source": [
    "Machine learning for uncovering inisight in your business and market"
   ]
  },
  {
   "cell_type": "markdown",
   "metadata": {},
   "source": [
    "Models/algorithms\n",
    "\n",
    "nearest neighbor\n",
    "naive Bayes\n",
    "linear regression\n",
    "ridge regression\n",
    "logistic regression with and without regularization\n",
    "softmax regression with and without regularization\n",
    "linear discriminant analysis\n",
    "quadratic discriminant analysis\n",
    "Gaussian discriminant analysis\n",
    "mixture models with latent variables (train with EM)\n",
    "support vector machines and the kernel trick\n",
    "decision trees\n",
    "random forests\n",
    "gradient boosted trees\n",
    "XGBoost\n",
    "neural networks\n",
    "Kalman filter\n",
    "AR, MA, ARMA, ARIMA time series models \n",
    "hidden Markov models (more coming on this)\n",
    "\n",
    " \n",
    "\n",
    "Optimization/training tools:\n",
    "\n",
    "stochastic gradient descent\n",
    "Monte Carlo simulation (actually what we did is called rejection sampling)\n",
    "expectation maximization\n",
    "\n",
    " \n",
    "\n",
    "Model selection tools:\n",
    "\n",
    "train and validation set.  holdout method\n",
    "cross validation \n",
    "AIC/BIC\n",
    "Bayesian model selection\n",
    "ROC/AUC\n",
    "out-of-bag estimates for random forests\n",
    "\n",
    "\n",
    "Ideas and concepts to keep in mind:\n",
    "\n",
    "overfitting\n",
    "underfitting\n",
    "loss functions\n",
    "regulatization\n",
    "\n",
    " \n",
    "\n",
    "Still coming (maybe):\n",
    "\n",
    "More about methods for training hidden Markov Models\n",
    "Markov chain Monte Carlo\n",
    "Dimension reduction: SVD/PCA and Johnson-Lindenstrauss\n",
    "Latent Dirichlet Analysis"
   ]
  },
  {
   "cell_type": "code",
   "execution_count": 487,
   "metadata": {
    "collapsed": false
   },
   "outputs": [
    {
     "data": {
      "text/html": [
       "<link href='http://fonts.googleapis.com/css?family=Fenix' rel='stylesheet' type='text/css'>\n",
       "<link href=\"https://fonts.googleapis.com/css?family=Montserrat:300,400,500|Open+Sans\" rel=\"stylesheet\">\n",
       "<link href='http://fonts.googleapis.com/css?family=Source+Code+Pro:300,400' rel='stylesheet' type='text/css'>\n",
       "<link href=\"https://fonts.googleapis.com/css?family=Raleway:200,300,400\" rel=\"stylesheet\" type='text/ccs'>\n",
       "<style>\n",
       "    @font-face {\n",
       "        font-family: \"Computer Modern\";\n",
       "        src: url('http://mirrors.ctan.org/fonts/cm-unicode/fonts/otf/cmunss.otf');\n",
       "    }\n",
       "    h1 {\n",
       "        font-family: 'Montserrat', sans-serif;\n",
       "\tfont-weight:300;\n",
       "    }\n",
       "    h1.main_header {\n",
       "        font-family: 'Montserrat', sans-serif;\n",
       "\tfont-size: 45px !important;\n",
       "\tfont-weight:300 !important;\n",
       "\tcolor: #2874A6 !important;\n",
       "    }\n",
       "    h2 {\n",
       "        font-family: 'Montserrat', sans-serif;\n",
       "    }\n",
       "    h2.section_header {\n",
       "        font-family: 'Montserrat', sans-serif;\n",
       "\tfont-size: 25px !important;\n",
       "\tfont-weight:400 !important;\n",
       "\tcolor: #148F77 !important;\n",
       "    }\n",
       "\n",
       "    h3{\n",
       "\tfont-family: 'Montserrat', sans-serif;\n",
       "        margin-top:12px;\n",
       "        margin-bottom: 3px;\n",
       "       }\n",
       "    h4{\n",
       "\tfont-family: 'Montserrat', sans-serif;\n",
       "    }\n",
       "    h5 {\n",
       "        font-family: 'Montserrat', sans-serif;\n",
       "    }\t   \n",
       "    div.text_cell_render{\n",
       "        font-family: 'Open Sans', sans-serif;\n",
       "\tline-height: 24px;\n",
       "    }\n",
       "    .CodeMirror{\n",
       "            font-family: \"Source Code Pro\";\n",
       "\t\t\tfont-size: 95%;\n",
       "    }\n",
       "\n",
       "\n",
       "    \n",
       "\n",
       "    .text_cell_render h1 {\n",
       "        font-weight: 200;\n",
       "        font-size: 50pt;\n",
       "\t\tline-height: 100%;\n",
       "        color:#454851;\n",
       "        margin-top: 0.5em;\n",
       "        display: block;\n",
       "\t}\n",
       "\t.text_cell_render h2 {\n",
       "        font-weight: 400;\n",
       "\t\tcolor:#252839;\n",
       "        display: block;\n",
       "    }\t\n",
       "\t.text_cell_render h3 {\n",
       "        font-weight: 300;\n",
       "        display: block;\n",
       "    }\t\n",
       "    .text_cell_render h4 {\n",
       "        font-weight: 300;\n",
       "\tcolor:#CD2305;\n",
       "        display: block;\n",
       "    }\t\n",
       "    .text_cell_render h5 {\n",
       "        font-weight: 300;\n",
       "        font-size: 16pt;\n",
       "        color: #CD2305;\n",
       "        font-style: italic;\n",
       "        margin-bottom: .5em;\n",
       "        margin-top: 0.5em;\n",
       "        display: block;\n",
       "    }\n",
       "    \n",
       "    .warning{\n",
       "        color: rgb( 240, 20, 20 )\n",
       "        }  \n",
       "</style>\n",
       "<script>\n",
       "    MathJax.Hub.Config({\n",
       "                        TeX: {\n",
       "                           extensions: [\"AMSmath.js\"]\n",
       "                           },\n",
       "                tex2jax: {\n",
       "                    inlineMath: [ ['$','$'], [\"\\\\(\",\"\\\\)\"] ],\n",
       "                    displayMath: [ ['$$','$$'], [\"\\\\[\",\"\\\\]\"] ]\n",
       "                },\n",
       "                displayAlign: 'center', // Change this to 'center' to center equations.\n",
       "                \"HTML-CSS\": {\n",
       "                    styles: {'.MathJax_Display': {\"margin\": 4}}\n",
       "                }\n",
       "        });\n",
       "</script>\n"
      ],
      "text/plain": [
       "<IPython.core.display.HTML object>"
      ]
     },
     "execution_count": 487,
     "metadata": {},
     "output_type": "execute_result"
    }
   ],
   "source": [
    "from yelp_utils.data_manager import get_business_reviews, get_business_name\n",
    "from yelp_utils.preprocess_reviews import tokenize, get_nouns\n",
    "from pymongo import MongoClient\n",
    "import nltk\n",
    "import re\n",
    "\n",
    "from matplotlib import pyplot as plt\n",
    "import seaborn as sns\n",
    "%matplotlib inline\n",
    "\n",
    "from IPython.core.display import HTML\n",
    "import urllib2\n",
    "HTML(urllib2.urlopen('http://seanwade.com/jupyter.css').read())"
   ]
  },
  {
   "cell_type": "markdown",
   "metadata": {},
   "source": [
    "<h1 class='main_header'>Topic Modeling</h1>\n",
    "<hr>\n",
    "\n",
    "Within machine learning and natural language processing, a *topic model* is a type of statistical model for discovering abstract topics, or groups, that occur in a collection of documents. These topics are latent structures of the documents. The premise behind most of these models is that certain words will be more frequent in certain topics. For example, a document about sports is likly to contain the words \"touchdown\" and \"runner\", while a document about mathematics is much less likly to contain these words.\n",
    "\n",
    "For the Yelp data we will use this genre of model in several ways:\n",
    " - Grouping similar reviews for a business\n",
    " - Finding similar business competitors\n",
    " - Discovering importatntant trends in reviews"
   ]
  },
  {
   "cell_type": "markdown",
   "metadata": {},
   "source": [
    "<h2 class=\"section_header\">Review Clustering</h2>\n",
    "\n",
    "First, we will discover \"documents\" in the reviews. This can be interpreted as the different subjects and types of reviews users leave. Uncovering this latent structure could help a business see the categories that stand out to customers, for better of worse."
   ]
  },
  {
   "cell_type": "code",
   "execution_count": 246,
   "metadata": {
    "collapsed": false
   },
   "outputs": [
    {
     "name": "stdout",
     "output_type": "stream",
     "text": [
      "Mandalay Bay Resort & Casino\n"
     ]
    }
   ],
   "source": [
    "# Select the business\n",
    "BIZ_ID = 'TWD8c5-P7w9v-2KX_GSNZQ'\n",
    "print get_business_name(BIZ_ID)"
   ]
  },
  {
   "cell_type": "code",
   "execution_count": 152,
   "metadata": {
    "collapsed": false
   },
   "outputs": [],
   "source": [
    "# Make a list of reviews and stars\n",
    "review_list = np.array([x['text'] for x in get_business_reviews(BIZ_ID)])\n",
    "star_list = np.array([x['stars'] for x in get_business_reviews(BIZ_ID)])"
   ]
  },
  {
   "cell_type": "code",
   "execution_count": 242,
   "metadata": {
    "collapsed": false
   },
   "outputs": [
    {
     "name": "stdout",
     "output_type": "stream",
     "text": [
      "Rum Jungle is a pretty amazing bar. Worth stopping by in the afternoon just to sit in and look at the decor and fountains. Glad I went.\n"
     ]
    }
   ],
   "source": [
    "print review_list[6]"
   ]
  },
  {
   "cell_type": "code",
   "execution_count": 241,
   "metadata": {
    "collapsed": false
   },
   "outputs": [
    {
     "name": "stdout",
     "output_type": "stream",
     "text": [
      "[u'rum', u'jungle', u'is', u'a', u'pretty', u'amazing', u'bar', u'worth', u'stopping', u'by', u'in', u'the', u'afternoon', u'just', u'to', u'sit', u'in', u'and', u'look', u'at', u'the', u'decor', u'and', u'fountains', u'glad', u'i', u'went']\n"
     ]
    }
   ],
   "source": [
    "# Tokenize those reviews so they can be processed\n",
    "print tokenize(review_list[6])"
   ]
  },
  {
   "cell_type": "markdown",
   "metadata": {},
   "source": [
    "## Term Frequency-Inverse Document Frequency (Tf-idf)\n",
    "\n",
    "After cleaning and tokenizing the text from reviews we can create teh term frequencey-inverse document frequency matrix.  This matrix counts the occurences of every important word in every document. Then like the picture bellow it stacks these vectors so the it is one matrix with the dimension (NUM_DOCUMENTS X VOCAB_SIZE).\n",
    "\n",
    "<img src='nb_images/tf-idf.png'>\n",
    "\n",
    "Once this matrix is created we then weight the words that occur frequently in the document but not in the corpus higher."
   ]
  },
  {
   "cell_type": "code",
   "execution_count": 155,
   "metadata": {
    "collapsed": true
   },
   "outputs": [],
   "source": [
    "from sklearn.feature_extraction.text import TfidfVectorizer\n",
    "from sklearn.metrics.pairwise import cosine_similarity\n",
    "from sklearn.cluster import KMeans"
   ]
  },
  {
   "cell_type": "code",
   "execution_count": 156,
   "metadata": {
    "collapsed": false
   },
   "outputs": [],
   "source": [
    "#define vectorizer parameters\n",
    "tfidf_vectorizer = TfidfVectorizer(max_df=0.6, max_features=200000,\n",
    "                                 min_df=0.1, stop_words='english',\n",
    "                                 use_idf=True, tokenizer=tokenize, ngram_range=(1,3))\n",
    "\n",
    "tfidf_matrix = tfidf_vectorizer.fit_transform(review_list)\n",
    "vocab_list = tfidf_vectorizer.get_feature_names()"
   ]
  },
  {
   "cell_type": "code",
   "execution_count": 157,
   "metadata": {
    "collapsed": false
   },
   "outputs": [
    {
     "name": "stdout",
     "output_type": "stream",
     "text": [
      "(1859, 100)\n"
     ]
    }
   ],
   "source": [
    "print(tfidf_matrix.shape)"
   ]
  },
  {
   "cell_type": "markdown",
   "metadata": {},
   "source": [
    "From this we can see that we have 1859 reviews (aka documents) and a vocab size of 100. Now we can use this matrix to determine the distance between them in the 100 dimensional document space. The metric we will use for this is cosine similarity."
   ]
  },
  {
   "cell_type": "code",
   "execution_count": 158,
   "metadata": {
    "collapsed": false
   },
   "outputs": [],
   "source": [
    "dist = 1 - cosine_similarity(tfidf_matrix)"
   ]
  },
  {
   "cell_type": "markdown",
   "metadata": {},
   "source": [
    "## Clustering Documents"
   ]
  },
  {
   "cell_type": "code",
   "execution_count": 159,
   "metadata": {
    "collapsed": false
   },
   "outputs": [],
   "source": [
    "NUM_CLUSTERS = 4\n",
    "k_means = KMeans(NUM_CLUSTERS)\n",
    "k_means.fit(tfidf_matrix)\n",
    "labels = np.array(k_means.labels_.tolist())"
   ]
  },
  {
   "cell_type": "code",
   "execution_count": 160,
   "metadata": {
    "collapsed": false
   },
   "outputs": [
    {
     "name": "stdout",
     "output_type": "stream",
     "text": [
      "Cluster 0: \n",
      "-------------------------\n",
      "Top Words:  hotel,  place,  great,  nice,  casino,  rooms,  \n",
      "Number of Reviews: 673\n",
      "Avg Stars: 3\n",
      "\n",
      "\n",
      "Cluster 1: \n",
      "-------------------------\n",
      "Top Words:  room,  hotel,  service,  stay,  time,  didn't,  \n",
      "Number of Reviews: 531\n",
      "Avg Stars: 2\n",
      "\n",
      "\n",
      "Cluster 2: \n",
      "-------------------------\n",
      "Top Words:  mandalay,  bay,  mandalay bay,  hotel,  stay,  vegas,  \n",
      "Number of Reviews: 391\n",
      "Avg Stars: 3\n",
      "\n",
      "\n",
      "Cluster 3: \n",
      "-------------------------\n",
      "Top Words:  pool,  lazy,  river,  lazy river,  wave,  wave pool,  \n",
      "Number of Reviews: 264\n",
      "Avg Stars: 3\n",
      "\n",
      "\n"
     ]
    }
   ],
   "source": [
    "for i in range(NUM_CLUSTERS):\n",
    "    print \"Cluster %d: \" % i\n",
    "    print \"-\"*25\n",
    "    print \"Top Words: \",\n",
    "    order_centroids = k_means.cluster_centers_.argsort()[:, ::-1] \n",
    "    for ind in order_centroids[i,:6]:\n",
    "        print vocab_list[ind] + \", \",\n",
    "    print \"\\nNumber of Reviews: %d\" % np.sum(labels == i)\n",
    "    print \"Avg Stars: %d\" % np.mean(star_list[labels == i])\n",
    "    print \"\\n\""
   ]
  },
  {
   "cell_type": "markdown",
   "metadata": {},
   "source": [
    "##  Visualizing Clusters\n",
    "\n",
    "By projecting these 100 dimensional vectors to 2 dimensional space with TSNE, we are able to see the clusters"
   ]
  },
  {
   "cell_type": "code",
   "execution_count": 247,
   "metadata": {
    "collapsed": true
   },
   "outputs": [],
   "source": [
    "from sklearn.manifold import MDS, TSNE"
   ]
  },
  {
   "cell_type": "code",
   "execution_count": 248,
   "metadata": {
    "collapsed": false
   },
   "outputs": [],
   "source": [
    "tsne = TSNE(n_components=2, n_iter=10000)\n",
    "pos = mds.fit_transform(dist)"
   ]
  },
  {
   "cell_type": "code",
   "execution_count": 252,
   "metadata": {
    "collapsed": false
   },
   "outputs": [
    {
     "data": {
      "image/png": "[encoded data removed]",
      "text/plain": [
       "<matplotlib.figure.Figure at 0x1153d57d0>"
      ]
     },
     "metadata": {},
     "output_type": "display_data"
    }
   ],
   "source": [
    "plt.scatter(pos[:,0], pos[:,1], c=labels, cmap=plt.cm.PuBuGn)\n",
    "plt.axis('off')\n",
    "plt.show()"
   ]
  },
  {
   "cell_type": "markdown",
   "metadata": {},
   "source": [
    "<h2 class=\"section_header\">Latent Dirichlet Allocation</h2>\n",
    "\n",
    "LDA is a probabalistic topic model that assumes documents are a mixture of topics and each word in the document is atttributabe to the documents topics. This is useful because given 10 topics, a new topic can be assigned probabilities of being in each topic. By concatinating all the reviews for one business into a document we can then train this model to discover different types of businesses. This can be used to find similar reviews for a business or a businesses competitors by looking at the similarity of their topic distribution."
   ]
  },
  {
   "cell_type": "code",
   "execution_count": 166,
   "metadata": {
    "collapsed": false
   },
   "outputs": [],
   "source": [
    "from gensim import corpora, models, similarities \n",
    "import pyLDAvis.gensim"
   ]
  },
  {
   "cell_type": "code",
   "execution_count": 180,
   "metadata": {
    "collapsed": true
   },
   "outputs": [],
   "source": [
    "#preprocess\n",
    "tokenized_docs = [get_nouns(tokenize(x)) for x in review_list]"
   ]
  },
  {
   "cell_type": "code",
   "execution_count": 182,
   "metadata": {
    "collapsed": false
   },
   "outputs": [],
   "source": [
    "#create a Gensim dictionary from the texts\n",
    "dictionary = corpora.Dictionary(tokenized_docs)\n",
    "\n",
    "#remove extremes (similar to the min/max df step used when creating the tf-idf matrix)\n",
    "dictionary.filter_extremes(no_below=1, no_above=0.8)\n",
    "\n",
    "#convert the dictionary to a bag of words corpus for reference\n",
    "corpus = [dictionary.doc2bow(text) for text in tokenized_docs]"
   ]
  },
  {
   "cell_type": "code",
   "execution_count": 210,
   "metadata": {
    "collapsed": false
   },
   "outputs": [],
   "source": [
    "lda = models.LdaModel(corpus, num_topics=7, id2word=dictionary, \n",
    "                      update_every=5, chunksize=5, passes=6)"
   ]
  },
  {
   "cell_type": "markdown",
   "metadata": {},
   "source": [
    "Ater looking at the words assosiated with the different topics I was able to label these groups."
   ]
  },
  {
   "cell_type": "code",
   "execution_count": 234,
   "metadata": {
    "collapsed": true
   },
   "outputs": [],
   "source": [
    "topic_labels = [\n",
    "    'Families and Groups',\n",
    "    'Rooms and Physical Aspects',\n",
    "    'Entertainment and Events',\n",
    "    'Customer Service',\n",
    "    'Pool and Casino',\n",
    "    'Resturant at Water Show',\n",
    "    'Transportation'\n",
    "]"
   ]
  },
  {
   "cell_type": "code",
   "execution_count": 235,
   "metadata": {
    "collapsed": false,
    "scrolled": false
   },
   "outputs": [
    {
     "name": "stdout",
     "output_type": "stream",
     "text": [
      "\n",
      "Topic 0 (Families and Groups)\n",
      "--------------------\n",
      "i\n",
      "everything\n",
      "suite\n",
      "kids\n",
      "pool\n",
      "family\n",
      "part\n",
      "conference\n",
      "time\n",
      "hotel\n",
      "stay\n",
      "life\n",
      "river\n",
      "room\n",
      "mandalay\n",
      "visit\n",
      "husband\n",
      "bay\n",
      "call\n",
      "party\n",
      "\n",
      "Topic 1 (Rooms and Physical Aspects)\n",
      "--------------------\n",
      "room\n",
      "bathroom\n",
      "shower\n",
      "floor\n",
      "tv\n",
      "bed\n",
      "view\n",
      "door\n",
      "toilet\n",
      "music\n",
      "water\n",
      "level\n",
      "elevators\n",
      "line\n",
      "noise\n",
      "hour\n",
      "price\n",
      "elevator\n",
      "person\n",
      "doors\n",
      "\n",
      "Topic 2 (Entertainment and Events)\n",
      "--------------------\n",
      "show\n",
      "people\n",
      "table\n",
      "business\n",
      "ticket\n",
      "work\n",
      "reservations\n",
      "nights\n",
      "things\n",
      "tickets\n",
      "suite\n",
      "bag\n",
      "michael\n",
      "jackson\n",
      "wedding\n",
      "problem\n",
      "thank\n",
      "years\n",
      "venue\n",
      "guy\n",
      "\n",
      "Topic 3 (Customer Service)\n",
      "--------------------\n",
      "i\n",
      "room\n",
      "hotel\n",
      "service\n",
      "time\n",
      "night\n",
      "mandalay\n",
      "desk\n",
      "bay\n",
      "front\n",
      "valet\n",
      "experience\n",
      "customer\n",
      "rooms\n",
      "coffee\n",
      "staff\n",
      "morning\n",
      "minutes\n",
      "anything\n",
      "manager\n",
      "\n",
      "Topic 4 (Pool and Casino)\n",
      "--------------------\n",
      "pool\n",
      "hotel\n",
      "strip\n",
      "mandalay\n",
      "i\n",
      "bay\n",
      "rooms\n",
      "casino\n",
      "vegas\n",
      "place\n",
      "area\n",
      "people\n",
      "beach\n",
      "check\n",
      "resort\n",
      "it's\n",
      "hotels\n",
      "pools\n",
      "restaurants\n",
      "time\n",
      "\n",
      "Topic 5 (Resturant at Water Show)\n",
      "--------------------\n",
      "day\n",
      "stay\n",
      "line\n",
      "days\n",
      "fee\n",
      "nothing\n",
      "resort\n",
      "hour\n",
      "year\n",
      "options\n",
      "drinks\n",
      "person\n",
      "minutes\n",
      "kind\n",
      "show\n",
      "reservation\n",
      "shark\n",
      "floor\n",
      "reef\n",
      "buffet\n",
      "\n",
      "Topic 6 (Transportation)\n",
      "--------------------\n",
      "parking\n",
      "tram\n",
      "side\n",
      "lots\n",
      "casino\n",
      "bath\n",
      "excalibur\n",
      "lot\n",
      "walk\n",
      "machines\n",
      "airport\n",
      "garage\n",
      "employees\n",
      "luxor\n",
      "center\n",
      "slots\n",
      "monorail\n",
      "cons\n",
      "restaurant\n",
      "poker\n"
     ]
    }
   ],
   "source": [
    "topics_matrix = lda.show_topics(formatted=False, num_words=20)\n",
    "for topic_num, words in topics_matrix:\n",
    "    print \"\\nTopic %s\" % topic_num, \"(\" + topic_labels[topic_num] + \")\" \n",
    "    print \"-\"*20\n",
    "    for word in words:\n",
    "        print word[0]"
   ]
  },
  {
   "cell_type": "code",
   "execution_count": 212,
   "metadata": {
    "collapsed": false
   },
   "outputs": [
    {
     "data": {
      "text/html": [
       "\n",
       "<link rel=\"stylesheet\" type=\"text/css\" href=\"https://cdn.rawgit.com/bmabey/pyLDAvis/files/ldavis.v1.0.0.css\">\n",
       "\n",
       "\n",
       "<div id=\"ldavis_el4301747685141284519761893\"></div>\n",
       "<script type=\"text/javascript\">\n",
       "\n",
       "var ldavis_el4301747685141284519761893_data = {\"plot.opts\": {\"xlab\": \"PC1\", \"ylab\": \"PC2\"}, \"topic.order\": [4, 5, 6, 1, 2, 3, 7], \"token.table\": {\"Topic\": [4, 2, 4, 7, 4, 4, 1, 5, 7, 1, 2, 5, 7, 2, 4, 6, 6, 4, 6, 1, 6, 2, 7, 1, 4, 5, 2, 6, 5, 1, 2, 4, 2, 4, 5, 4, 1, 5, 4, 7, 1, 3, 4, 5, 3, 1, 3, 6, 6, 2, 5, 7, 3, 7, 4, 2, 1, 3, 4, 3, 2, 6, 2, 4, 4, 4, 5, 1, 4, 1, 3, 1, 1, 5, 1, 2, 4, 7, 3, 4, 5, 6, 2, 3, 7, 3, 2, 5, 1, 3, 5, 3, 2, 1, 1, 4, 6, 3, 7, 1, 5, 1, 5, 4, 3, 3, 6, 4, 6, 7, 2, 6, 5, 1, 3, 1, 3, 6, 1, 1, 6, 1, 3, 4, 5, 3, 3, 4, 4, 1, 7, 1, 3, 1, 5, 3, 7, 1, 5, 5, 5, 3, 7, 1, 5, 1, 5, 1, 7, 2, 4, 7, 7, 3, 2, 6, 4, 6, 1, 7, 7, 4, 1, 2, 4, 2, 2, 4, 4, 5, 2, 3, 5, 1, 3, 4, 5, 1, 2, 5, 7, 1, 5, 2, 4, 5, 7, 6, 6, 4, 1, 3, 1, 2, 5, 1, 6, 3, 1, 1, 5, 1, 1, 3, 4, 5, 1, 2, 3, 4, 5, 7, 1, 2, 4, 3, 4, 5, 1, 3, 2, 6, 4, 1, 2, 4, 5, 2, 1, 1, 2, 4, 3, 2, 6, 5, 3, 4, 3, 1, 4, 2, 7, 5, 4, 6, 1, 3, 5, 3, 4, 2, 1, 2, 3, 7, 2, 4, 7, 7, 2, 2, 6, 1, 2, 4, 7, 1, 7, 3, 1, 6, 1, 2, 3, 4, 6, 2, 6, 1, 5, 7, 7, 7, 2, 6, 3, 5, 1, 3, 5, 6, 6, 6, 7, 3, 5, 6, 1, 2, 5, 5, 4, 1, 2, 3, 4, 5, 6, 2, 6, 7, 5, 3, 6, 3, 7, 1, 4, 3, 1, 6, 6, 5, 7, 4, 1, 2, 4, 6, 6, 2, 6, 3, 5, 1, 1, 2, 4, 5, 6, 6, 7, 1, 2, 4, 5, 2, 1, 5, 1, 2, 5, 2, 6, 1, 5, 7, 1, 2, 7, 4, 2, 2, 7, 3, 4, 3, 6, 7, 2, 3, 2, 1, 1, 5, 7, 2, 4, 7, 2, 4, 1, 2, 4, 5, 7, 1, 2, 3, 4, 5, 7, 7, 6, 7, 2, 3, 1, 1, 7, 1, 2, 1, 3, 4, 2, 2, 2, 3, 6, 1, 5, 7, 6, 7, 3, 5, 5, 7, 1, 7, 1, 5, 1, 4, 5, 2, 2, 6, 4, 1, 2, 3, 6, 7, 1, 2, 5, 2, 3, 4, 7, 1, 2, 4, 5, 7, 7, 4, 4, 6, 2, 3, 2, 6, 5, 5, 6, 6, 2, 4, 6, 2, 6, 6, 6, 5, 6, 1, 2, 4, 5, 1, 2, 3, 4, 5, 5, 2, 3, 7, 5, 5, 4, 3, 1, 3, 5, 1, 7, 3, 7, 1, 2, 4, 6, 6, 1, 2, 3, 5, 4, 4, 3, 4, 7, 2, 5, 5, 1, 2, 5, 2, 4, 1, 2, 5, 5, 6, 1, 2, 5, 5, 4, 5, 4, 5, 2, 6, 5, 3, 3, 2, 6, 5], \"Freq\": [0.9762994414826862, 0.9700044509514759, 0.872117026103371, 0.1341718501697494, 0.9795908500102275, 0.9801457869968226, 0.28630574008439563, 0.23517971506932497, 0.47035943013864995, 0.996815961014016, 0.9857296188384833, 0.010162161018953435, 0.002540540254738359, 0.9851017150334256, 0.9589500100136513, 0.93130843988316, 0.9218239612212125, 0.9623593148643801, 0.98079281567691, 0.9790449886736696, 0.013230337684779318, 0.9935059314062404, 0.987503330292511, 0.14612805452301933, 0.002982205194347333, 0.8469462751946426, 0.9733323955717887, 0.01216665494464736, 0.9926234825833088, 0.36369578218125065, 0.5518505365466954, 0.084091510330925, 0.896423786152543, 0.053177682229388144, 0.05064541164703633, 0.9341003283216103, 0.5331351965545512, 0.4640961063532424, 0.9302924532251214, 0.04134633125444984, 0.27431201561775403, 0.15881221956817337, 0.24543706660535886, 0.31762443913634675, 0.9860432941087759, 0.9733107040685157, 0.9863653783141665, 0.9693666598814475, 0.9450457333901358, 0.9814424827631983, 0.093264719918575, 0.8860148392264625, 0.9836672259021144, 0.9354090631805145, 0.9521928349431549, 0.9708577044865186, 0.3079496992759966, 0.6843326650577701, 0.952029299301353, 0.9658169367141981, 0.4484836043658079, 0.5481466275582096, 0.9780201344810692, 0.9854874192832545, 0.9894750233989009, 0.6500388148503425, 0.33380371573395967, 0.9584591973333457, 0.03058912331914933, 0.49829234938654793, 0.4907424653049336, 0.9895794006587405, 0.1976390377581369, 0.7905561510325476, 0.06339763584466275, 0.7744792270753394, 0.029128643496196396, 0.13193562054159544, 0.6543854186703583, 0.3365410724590414, 0.9705263872568568, 0.952198684784901, 0.6044906504202576, 0.11930736521452454, 0.27043002781958897, 0.9850562462288196, 0.5898815414590113, 0.40027676027575765, 0.4033761087495324, 0.5647265522493453, 0.03025320815621493, 0.9763522756088945, 0.9964156150853005, 0.9864795504986466, 0.09328166652087225, 0.8861758319482863, 0.9453445479061585, 0.14131065931706852, 0.847863955902411, 0.9866185003395648, 0.9579518368601716, 0.9931786624078082, 0.9779439393615331, 0.9356132051673877, 0.9893941530093804, 0.983802542396093, 0.9566690975291477, 0.9936608405166112, 0.9573518062373718, 0.9623555741427474, 0.9328933648166186, 0.060186668697846356, 0.9602972816030134, 0.3654829512422477, 0.6192905562715865, 0.9617983462572389, 0.0238462399898489, 0.007948746663282966, 0.9954428552806325, 0.9717068235644158, 0.931858558837522, 0.2644986896919982, 0.6159305151568909, 0.1109784711994398, 0.00924820593328665, 0.9965729492031296, 0.7604824718625564, 0.22290003485626653, 0.9755213135084274, 0.9861175524034789, 0.9402997431029098, 0.9754952622125601, 0.022863170208106878, 0.8697447784533657, 0.12424925406476653, 0.9815117080489311, 0.9499926234735411, 0.40293746163282906, 0.5932134851816651, 0.9931498441731049, 0.9611603913179281, 0.9898288169859271, 0.9633371960296679, 0.34287495087700676, 0.6461874074220512, 0.41503362105768465, 0.5830234200572237, 0.9716487068300503, 0.9679193191875837, 0.9078696963457117, 0.08857265330202066, 0.9836302793850145, 0.9435896748925168, 0.974915878662151, 0.831511774482037, 0.1663023548964074, 0.9178922945082433, 0.08010696388435577, 0.21401154940927325, 0.7805127096102906, 0.9773085779952674, 0.949512074319904, 0.7145433575467631, 0.24965972733561603, 0.03443582446008497, 0.9664734515817937, 0.9884700568272332, 0.9843303474315208, 0.9471436883079218, 0.0457241780562445, 0.1323456301549308, 0.8528940609984429, 0.009803380011476355, 0.28354283326949015, 0.2344681121266938, 0.12813954965063498, 0.3517021681900407, 0.43350997882602926, 0.4440833929437373, 0.050223717059113146, 0.07137054529452921, 0.9630628903710354, 0.0347676133707955, 0.5897360006592068, 0.40017800044731894, 0.9702406693102497, 0.9715545800703287, 0.9261359195158664, 0.9692560780699516, 0.9402583818397358, 0.9683697213345317, 0.021282851018341358, 0.4276650236700701, 0.17664424890720287, 0.3904767607422379, 0.622142193245302, 0.36084247208227516, 0.9824432518560879, 0.9734251236444212, 0.26783561146606255, 0.7142282972428335, 0.980866312356682, 0.970739237388663, 0.6916118464004996, 0.29935438127782815, 0.9493173478643027, 0.41782042238620853, 0.5146394995736334, 0.0005763040308775291, 0.06454605145828325, 0.0023052161235101163, 0.0005763040308775291, 0.13518317502556965, 0.7830421647707525, 0.08162003020411752, 0.642967971184111, 0.08037099639801387, 0.2712521128432968, 0.6434511808555736, 0.3536083065963062, 0.937589132810557, 0.04630069791657072, 0.9914121414822624, 0.7739451602513651, 0.12785437669350744, 0.0925422155114911, 0.005601239359906041, 0.997539955797485, 0.9872293362580936, 0.9762836289152121, 0.8716379826524537, 0.1253153649180844, 0.9702185048198807, 0.4247896672081467, 0.5663862229441956, 0.9767870815125289, 0.1504573018980386, 0.8468596706832459, 0.9907568096861444, 0.385339569518059, 0.6125911105158887, 0.9401670026649586, 0.05530394133323285, 0.9917365453163457, 0.9098310520598049, 0.08748375500575047, 0.2015493247695065, 0.607898769869318, 0.18854614252631252, 0.9873531236432385, 0.945183961089934, 0.987841372793987, 0.023288008073855872, 0.9470456616701388, 0.007762669357951958, 0.023288008073855872, 0.45717104758828003, 0.29359608560715234, 0.24745955786888552, 0.9881054929359798, 0.9865352959139413, 0.4582528276106785, 0.5346282988791249, 0.9819530928095238, 0.6929305468771702, 0.030796913194540896, 0.27717221875086806, 0.9928056195688076, 0.9916571553290144, 0.9842696518203212, 0.9946540943887506, 0.9626222045360459, 0.31893250292882597, 0.6040388313045947, 0.0024161553252183784, 0.07409542997336362, 0.9342964346373642, 0.9921753624928754, 0.964670946437063, 0.1525609387120807, 0.6102437548483228, 0.22884140806812106, 0.9309781641985082, 0.976426361132763, 0.4288225047250934, 0.5619053510190879, 0.9801206301449258, 0.971363006158071, 0.6142392702746481, 0.384824603063635, 0.9621423023100142, 0.9559949075662176, 0.9843271483359312, 0.9678034009042156, 0.9850345842214566, 0.19802320498732134, 0.4488525979712617, 0.35644176897717844, 0.931201095763141, 0.03903238125953286, 0.027880272328237754, 0.9963182310234677, 0.9655037091600519, 0.666684302203864, 0.15418910072996853, 0.08370265468198292, 0.019090079137996104, 0.06461257554398682, 0.013216208633997303, 0.5590445503222692, 0.39133118522558846, 0.039931753594447804, 0.9867729876104315, 0.9896251050099686, 0.9650576309691157, 0.9915961858175452, 0.9686127405359346, 0.9866795937292242, 0.9756848218771248, 0.9930512696823524, 0.9843806137197971, 0.015625089106663447, 0.981716267372649, 0.971817403787668, 0.9933252353603127, 0.9934445428136897, 0.037245193094830126, 0.18622596547415063, 0.6983473705280648, 0.08380168446336779, 0.9716372488124563, 0.7926849369363433, 0.20511523974633142, 0.6934035260861561, 0.3053520114874816, 0.9955190744182856, 0.08811197730562934, 0.7489518070978493, 0.122001199346256, 0.006777844408125333, 0.033889222040626665, 0.9567833043314086, 0.9775294605175406, 0.003738553384775088, 0.8421091499205886, 0.1504767737371973, 0.003738553384775088, 0.9987476563390575, 0.7115365892488897, 0.28013251545231876, 0.9874927646207181, 0.9738395244142327, 0.9846187115830242, 0.6241769902391424, 0.3702744857350845, 0.9839136186149174, 0.5669423402566038, 0.4105444532892648, 0.9845040080878724, 0.9961381799919526, 0.9890232666599137, 0.9734835062249393, 0.9926679016887524, 0.9813266877932426, 0.9341454443270824, 0.9922485006511628, 0.9648489085961324, 0.9908237643774739, 0.8787335284112374, 0.1033804151072044, 0.6966607140179114, 0.30203328424194265, 0.9798195458087599, 0.9774660839081007, 0.4736002692591361, 0.11840006731478403, 0.3946668910492801, 0.9402765016726105, 0.01905965881768805, 0.0381193176353761, 0.6543114439591179, 0.3434231335697027, 0.7154095564529025, 0.062177343757934614, 0.035159807482165406, 0.18690213451045823, 0.00037010323665437274, 0.23920755907769764, 0.6321914061339152, 0.0024408934599765065, 0.08665171782916599, 0.035392955169659346, 0.0024408934599765065, 0.9551114772897897, 0.9304894115449157, 0.9557039592897593, 0.9828744275538522, 0.9900247598750319, 0.9803827206022995, 0.991714099414145, 0.9700504008260007, 0.8640257941115345, 0.1351960702023738, 0.9949852422313733, 0.9936871345739254, 0.9497581983169355, 0.9902385029344664, 0.9831479363096142, 0.9915633469099777, 0.44747251644826574, 0.5493721984117322, 0.17799083288086892, 0.7915908093912328, 0.028103815718031937, 0.9655125241387179, 0.9917500922105762, 0.1860053746086442, 0.8060232899707915, 0.9683281689566219, 0.9682074174633543, 0.26217757528732044, 0.7209883320401312, 0.8063109265500554, 0.18972021801177774, 0.3850546211409667, 0.46756632567117384, 0.13751950755034525, 0.9891078281722436, 0.9888670646722715, 0.9669729499232086, 0.9464065332992025, 0.42271855426451527, 0.49279489213724237, 0.038428959478592296, 0.029386851365982344, 0.015823689197067416, 0.8276184516218323, 0.05642853079239766, 0.11285706158479532, 0.2970508690006539, 0.48552452381486194, 0.2151058016901287, 0.9496692832150624, 0.009199805591800293, 0.9395301460626049, 0.03334929527027606, 0.0045999027959001465, 0.011499756989750365, 0.9664340351443402, 0.9792824450070038, 0.8238837213986818, 0.17464816213981274, 0.9758524859912463, 0.9780726132957709, 0.2491489398885624, 0.7366142570618367, 0.9736726340430033, 0.20303144893385147, 0.7867468646186745, 0.9733729997683469, 0.5709273669571957, 0.3736979129174372, 0.05190248790519961, 0.7348947316231642, 0.2652251663000893, 0.964670946437063, 0.9791667979406082, 0.1276461440014392, 0.8752878445812974, 0.5475628954181403, 0.28586776881714815, 0.126118133301683, 0.03993740887886628, 0.5322149971765148, 0.2374497679710604, 0.004093961516742421, 0.22107392190409073, 0.004093961516742421, 0.9946995013866784, 0.9899447937552185, 0.9764287461192508, 0.9936613551011946, 0.9740326552056214, 0.9787125616997983, 0.9719177426992414, 0.9756695920135883, 0.0080881131628335, 0.0080881131628335, 0.9786616927028534, 0.9963560858288898, 0.9507201372846815, 0.2847718454680721, 0.7119296136701803, 0.18271951693683314, 0.6750051576096233, 0.11174582027541861, 0.03020157304741044, 0.9607861067346118, 0.3647990794453767, 0.23634869935897643, 0.10276030406912019, 0.29286686659699257, 0.9685224544064487, 0.9901899810625864, 0.2242023465039667, 0.026376746647525495, 0.7385489061307139, 0.9684903095078865, 0.9548276993490155, 0.9851565554821526, 0.5049114874470472, 0.24062188073648338, 0.2524557437235236, 0.7660316642014908, 0.2303451857389098, 0.5167586686086508, 0.4476149030905919, 0.03639145553582048, 0.9427178936699762, 0.9767026485349949, 0.5971889695169721, 0.2781428077202336, 0.12271006222951482, 0.9536418773563909, 0.9833435975183853, 0.9644213336733677, 0.03367821756185891, 0.9429900917320495, 0.37926379421662987, 0.6044516720327539, 0.9632565227696543, 0.9734447974584611, 0.9946503226429069, 0.7958864996666838, 0.1973798519173376, 0.9828087768335235], \"Term\": [\"accommodations\", \"addition\", \"adults\", \"adults\", \"advantage\", \"afternoon\", \"airport\", \"airport\", \"airport\", \"anything\", \"area\", \"area\", \"area\", \"areas\", \"attitude\", \"attitudes\", \"baby\", \"bachelorette\", \"bag\", \"bags\", \"bags\", \"bars\", \"bath\", \"bathroom\", \"bathroom\", \"bathroom\", \"bathrooms\", \"bathrooms\", \"bathtub\", \"bay\", \"bay\", \"bay\", \"beach\", \"beach\", \"beach\", \"beautiful\", \"bed\", \"bed\", \"bedroom\", \"bedroom\", \"beds\", \"beds\", \"beds\", \"beds\", \"beer\", \"bell\", \"bellagio\", \"bellman\", \"bites\", \"blues\", \"border\", \"border\", \"bottle\", \"bowl\", \"bread\", \"brother\", \"buffet\", \"buffet\", \"bugs\", \"burger\", \"business\", \"business\", \"cab\", \"cabana\", \"call\", \"can't\", \"can't\", \"car\", \"car\", \"card\", \"card\", \"care\", \"carpet\", \"carpet\", \"casino\", \"casino\", \"casino\", \"casino\", \"casinos\", \"casinos\", \"ceiling\", \"celebration\", \"center\", \"center\", \"center\", \"chair\", \"chairs\", \"chairs\", \"charge\", \"charge\", \"charge\", \"charges\", \"check\", \"check-in\", \"children\", \"children\", \"chips\", \"city\", \"city\", \"cleaning\", \"closets\", \"coffee\", \"comfy\", \"comment\", \"company\", \"concert\", \"concerts\", \"conference\", \"confirmation\", \"cons\", \"convention\", \"convention\", \"counter\", \"couple\", \"couple\", \"credit\", \"credit\", \"credit\", \"customer\", \"customers\", \"damn\", \"day\", \"day\", \"day\", \"day\", \"days\", \"deal\", \"deal\", \"decor\", \"delano\", \"desert\", \"desk\", \"desk\", \"didn't\", \"didn't\", \"dinner\", \"distance\", \"door\", \"door\", \"doors\", \"drain\", \"drinks\", \"drive\", \"elevator\", \"elevator\", \"elevators\", \"elevators\", \"email\", \"employees\", \"end\", \"end\", \"entertainment\", \"entry\", \"events\", \"everyone\", \"everyone\", \"everything\", \"everything\", \"excalibur\", \"excalibur\", \"exit\", \"expedia\", \"experience\", \"experience\", \"experience\", \"experiences\", \"eye\", \"families\", \"family\", \"family\", \"fee\", \"fee\", \"fee\", \"floor\", \"floor\", \"floor\", \"floor\", \"food\", \"food\", \"food\", \"food\", \"front\", \"front\", \"fun\", \"fun\", \"furniture\", \"garage\", \"glass\", \"glasses\", \"gold\", \"guest\", \"guest\", \"guests\", \"guests\", \"guests\", \"guy\", \"guy\", \"gym\", \"hair\", \"hallway\", \"hallway\", \"help\", \"hold\", \"home\", \"home\", \"hospitality\", \"hotel\", \"hotel\", \"hotel\", \"hotel\", \"hotel\", \"hotel\", \"hotels\", \"hotels\", \"hotels\", \"hour\", \"hour\", \"hour\", \"hours\", \"hours\", \"house\", \"house\", \"husband\", \"i\", \"i\", \"i\", \"i\", \"i've\", \"issue\", \"issues\", \"it's\", \"it's\", \"items\", \"jackson\", \"jackson\", \"jacuzzi\", \"kids\", \"kids\", \"kind\", \"king\", \"king\", \"las\", \"las\", \"level\", \"life\", \"life\", \"line\", \"line\", \"line\", \"lines\", \"living\", \"lobby\", \"location\", \"location\", \"location\", \"location\", \"lot\", \"lot\", \"lot\", \"lots\", \"lounge\", \"luck\", \"luck\", \"luggage\", \"luxor\", \"luxor\", \"luxor\", \"m\", \"machines\", \"management\", \"manager\", \"managers\", \"mandalay\", \"mandalay\", \"mandalay\", \"mandalay\", \"marketing\", \"massage\", \"matron\", \"mb\", \"mb\", \"mb\", \"meals\", \"members\", \"michael\", \"michael\", \"middle\", \"midnight\", \"minutes\", \"minutes\", \"mj\", \"mom\", \"moment\", \"monday\", \"monorail\", \"months\", \"months\", \"months\", \"morning\", \"morning\", \"morning\", \"music\", \"needs\", \"night\", \"night\", \"night\", \"night\", \"night\", \"night\", \"nights\", \"nights\", \"nights\", \"noise\", \"none\", \"notch\", \"nothing\", \"ny\", \"offer\", \"option\", \"options\", \"order\", \"order\", \"paper\", \"park\", \"parking\", \"part\", \"party\", \"party\", \"party\", \"party\", \"penthouse\", \"people\", \"people\", \"person\", \"person\", \"phone\", \"place\", \"place\", \"place\", \"place\", \"place\", \"plastic\", \"poker\", \"pool\", \"pool\", \"pool\", \"pool\", \"pools\", \"price\", \"price\", \"prices\", \"pricey\", \"privacy\", \"problem\", \"problem\", \"problems\", \"process\", \"process\", \"properties\", \"property\", \"pros\", \"queens\", \"rate\", \"rates\", \"reception\", \"reef\", \"refund\", \"reservation\", \"reservations\", \"reservations\", \"resort\", \"resort\", \"resorts\", \"response\", \"restaurant\", \"restaurant\", \"restaurant\", \"restaurants\", \"restaurants\", \"restaurants\", \"river\", \"river\", \"room\", \"room\", \"room\", \"room\", \"room\", \"rooms\", \"rooms\", \"rooms\", \"rooms\", \"rooms\", \"rooms\", \"rude\", \"run\", \"rv\", \"sand\", \"saturday\", \"seasons\", \"security\", \"selection\", \"service\", \"service\", \"services\", \"shark\", \"sharks\", \"shoppes\", \"shopping\", \"shops\", \"show\", \"show\", \"shower\", \"shower\", \"shower\", \"shuttle\", \"side\", \"sinks\", \"sinks\", \"sleep\", \"slot\", \"slots\", \"slots\", \"someone\", \"someone\", \"something\", \"something\", \"something\", \"spa\", \"sports\", \"spot\", \"spots\", \"staff\", \"staff\", \"staff\", \"staff\", \"staff\", \"star\", \"star\", \"star\", \"stay\", \"stay\", \"stay\", \"steam\", \"strip\", \"strip\", \"strip\", \"strip\", \"strip\", \"structure\", \"sucks\", \"suite\", \"suite\", \"summer\", \"sunday\", \"table\", \"table\", \"taste\", \"thank\", \"thank\", \"they're\", \"thing\", \"thing\", \"thing\", \"things\", \"things\", \"thunder\", \"ticket\", \"tickets\", \"tickets\", \"time\", \"time\", \"time\", \"time\", \"times\", \"times\", \"times\", \"times\", \"times\", \"toilet\", \"tower\", \"traffic\", \"tram\", \"trash\", \"travel\", \"tube\", \"tubes\", \"tv\", \"tv\", \"tv\", \"valet\", \"vanilla\", \"variety\", \"variety\", \"vegas\", \"vegas\", \"vegas\", \"vegas\", \"venue\", \"view\", \"view\", \"view\", \"view\", \"views\", \"visit\", \"walk\", \"walk\", \"walk\", \"walking\", \"wall\", \"walls\", \"water\", \"water\", \"water\", \"wave\", \"wave\", \"way\", \"way\", \"way\", \"weather\", \"wedding\", \"weekend\", \"weekend\", \"weekend\", \"weekends\", \"weeks\", \"window\", \"windows\", \"windows\", \"work\", \"work\", \"wow\", \"wynn\", \"year\", \"years\", \"years\", \"york\"]}, \"mdsDat\": {\"y\": [0.0918286394362313, -0.17754293105457372, 0.2450014393491413, -0.054573816253848766, 0.1596212667392351, -0.1432784636542065, -0.12105613456197888], \"cluster\": [1, 1, 1, 1, 1, 1, 1], \"Freq\": [30.679065417869307, 26.742003648930275, 12.250798070674627, 9.792174212994745, 9.594014043296225, 5.668259936174514, 5.273684670060333], \"topics\": [1, 2, 3, 4, 5, 6, 7], \"x\": [-0.23847640434799228, -0.18715358039663554, 0.1373885827786663, -0.12007954974507308, 0.00813179623176661, 0.19777794792780842, 0.20241120755145975]}, \"R\": 30, \"lambda.step\": 0.01, \"tinfo\": {\"Category\": [\"Default\", \"Default\", \"Default\", \"Default\", \"Default\", \"Default\", \"Default\", \"Default\", \"Default\", \"Default\", \"Default\", \"Default\", \"Default\", \"Default\", \"Default\", \"Default\", \"Default\", \"Default\", \"Default\", \"Default\", \"Default\", \"Default\", \"Default\", \"Default\", \"Default\", \"Default\", \"Default\", \"Default\", \"Default\", \"Default\", \"Topic1\", \"Topic1\", \"Topic1\", \"Topic1\", \"Topic1\", \"Topic1\", \"Topic1\", \"Topic1\", \"Topic1\", \"Topic1\", \"Topic1\", \"Topic1\", \"Topic1\", \"Topic1\", \"Topic1\", \"Topic1\", \"Topic1\", \"Topic1\", \"Topic1\", \"Topic1\", \"Topic1\", \"Topic1\", \"Topic1\", \"Topic1\", \"Topic1\", \"Topic1\", \"Topic1\", \"Topic1\", \"Topic1\", \"Topic1\", \"Topic1\", \"Topic1\", \"Topic1\", \"Topic1\", \"Topic1\", \"Topic1\", \"Topic1\", \"Topic1\", \"Topic1\", \"Topic1\", \"Topic1\", \"Topic1\", \"Topic1\", \"Topic1\", \"Topic1\", \"Topic1\", \"Topic1\", \"Topic1\", \"Topic1\", \"Topic1\", \"Topic1\", \"Topic1\", \"Topic1\", \"Topic1\", \"Topic1\", \"Topic1\", \"Topic1\", \"Topic1\", \"Topic1\", \"Topic1\", \"Topic2\", \"Topic2\", \"Topic2\", \"Topic2\", \"Topic2\", \"Topic2\", \"Topic2\", \"Topic2\", \"Topic2\", \"Topic2\", \"Topic2\", \"Topic2\", \"Topic2\", \"Topic2\", \"Topic2\", \"Topic2\", \"Topic2\", \"Topic2\", \"Topic2\", \"Topic2\", \"Topic2\", \"Topic2\", \"Topic2\", \"Topic2\", \"Topic2\", \"Topic2\", \"Topic2\", \"Topic2\", \"Topic2\", \"Topic2\", \"Topic2\", \"Topic2\", \"Topic2\", \"Topic2\", \"Topic2\", \"Topic2\", \"Topic2\", \"Topic2\", \"Topic2\", \"Topic2\", \"Topic2\", \"Topic2\", \"Topic2\", \"Topic2\", \"Topic2\", \"Topic2\", \"Topic2\", \"Topic2\", \"Topic2\", \"Topic2\", \"Topic2\", \"Topic2\", \"Topic2\", \"Topic2\", \"Topic2\", \"Topic2\", \"Topic2\", \"Topic2\", \"Topic2\", \"Topic2\", \"Topic2\", \"Topic3\", \"Topic3\", \"Topic3\", \"Topic3\", \"Topic3\", \"Topic3\", \"Topic3\", \"Topic3\", \"Topic3\", \"Topic3\", \"Topic3\", \"Topic3\", \"Topic3\", \"Topic3\", \"Topic3\", \"Topic3\", \"Topic3\", \"Topic3\", \"Topic3\", \"Topic3\", \"Topic3\", \"Topic3\", \"Topic3\", \"Topic3\", \"Topic3\", \"Topic3\", \"Topic3\", \"Topic3\", \"Topic3\", \"Topic3\", \"Topic3\", \"Topic3\", \"Topic3\", \"Topic3\", \"Topic3\", \"Topic3\", \"Topic3\", \"Topic3\", \"Topic3\", \"Topic3\", \"Topic3\", \"Topic3\", \"Topic3\", \"Topic3\", \"Topic3\", \"Topic3\", \"Topic3\", \"Topic3\", \"Topic3\", \"Topic4\", \"Topic4\", \"Topic4\", \"Topic4\", \"Topic4\", \"Topic4\", \"Topic4\", \"Topic4\", \"Topic4\", \"Topic4\", \"Topic4\", \"Topic4\", \"Topic4\", \"Topic4\", \"Topic4\", \"Topic4\", \"Topic4\", \"Topic4\", \"Topic4\", \"Topic4\", \"Topic4\", \"Topic4\", \"Topic4\", \"Topic4\", \"Topic4\", \"Topic4\", \"Topic4\", \"Topic4\", \"Topic4\", \"Topic4\", \"Topic4\", \"Topic4\", \"Topic4\", \"Topic4\", \"Topic4\", \"Topic4\", \"Topic4\", \"Topic4\", \"Topic4\", \"Topic4\", \"Topic4\", \"Topic4\", \"Topic4\", \"Topic4\", \"Topic4\", \"Topic4\", \"Topic4\", \"Topic4\", \"Topic4\", \"Topic4\", \"Topic4\", \"Topic4\", \"Topic4\", \"Topic4\", \"Topic4\", \"Topic4\", \"Topic4\", \"Topic4\", \"Topic5\", \"Topic5\", \"Topic5\", \"Topic5\", \"Topic5\", \"Topic5\", \"Topic5\", \"Topic5\", \"Topic5\", \"Topic5\", \"Topic5\", \"Topic5\", \"Topic5\", \"Topic5\", \"Topic5\", \"Topic5\", \"Topic5\", \"Topic5\", \"Topic5\", \"Topic5\", \"Topic5\", \"Topic5\", \"Topic5\", \"Topic5\", \"Topic5\", \"Topic5\", \"Topic5\", \"Topic5\", \"Topic5\", \"Topic5\", \"Topic5\", \"Topic5\", \"Topic5\", \"Topic5\", \"Topic5\", \"Topic5\", \"Topic5\", \"Topic5\", \"Topic5\", \"Topic5\", \"Topic5\", \"Topic5\", \"Topic5\", \"Topic5\", \"Topic5\", \"Topic5\", \"Topic5\", \"Topic5\", \"Topic5\", \"Topic5\", \"Topic5\", \"Topic5\", \"Topic5\", \"Topic5\", \"Topic6\", \"Topic6\", \"Topic6\", \"Topic6\", \"Topic6\", \"Topic6\", \"Topic6\", \"Topic6\", \"Topic6\", \"Topic6\", \"Topic6\", \"Topic6\", \"Topic6\", \"Topic6\", \"Topic6\", \"Topic6\", \"Topic6\", \"Topic6\", \"Topic6\", \"Topic6\", \"Topic6\", \"Topic6\", \"Topic6\", \"Topic6\", \"Topic6\", \"Topic6\", \"Topic6\", \"Topic6\", \"Topic6\", \"Topic6\", \"Topic6\", \"Topic6\", \"Topic6\", \"Topic6\", \"Topic6\", \"Topic6\", \"Topic6\", \"Topic6\", \"Topic6\", \"Topic6\", \"Topic6\", \"Topic6\", \"Topic6\", \"Topic6\", \"Topic6\", \"Topic6\", \"Topic6\", \"Topic6\", \"Topic6\", \"Topic6\", \"Topic7\", \"Topic7\", \"Topic7\", \"Topic7\", \"Topic7\", \"Topic7\", \"Topic7\", \"Topic7\", \"Topic7\", \"Topic7\", \"Topic7\", \"Topic7\", \"Topic7\", \"Topic7\", \"Topic7\", \"Topic7\", \"Topic7\", \"Topic7\", \"Topic7\", \"Topic7\", \"Topic7\", \"Topic7\", \"Topic7\", \"Topic7\", \"Topic7\", \"Topic7\", \"Topic7\", \"Topic7\", \"Topic7\", \"Topic7\", \"Topic7\", \"Topic7\", \"Topic7\", \"Topic7\", \"Topic7\", \"Topic7\", \"Topic7\", \"Topic7\", \"Topic7\", \"Topic7\", \"Topic7\", \"Topic7\", \"Topic7\", \"Topic7\"], \"Term\": [\"i\", \"room\", \"pool\", \"strip\", \"people\", \"bathroom\", \"hotel\", \"day\", \"service\", \"casino\", \"everything\", \"mandalay\", \"stay\", \"suite\", \"show\", \"area\", \"resort\", \"kids\", \"parking\", \"check\", \"tram\", \"bay\", \"shower\", \"desk\", \"days\", \"line\", \"pools\", \"bed\", \"place\", \"it's\", \"valet\", \"customer\", \"coffee\", \"anything\", \"manager\", \"security\", \"phone\", \"issue\", \"delano\", \"services\", \"prices\", \"care\", \"properties\", \"offer\", \"issues\", \"luggage\", \"bags\", \"m\", \"bell\", \"problems\", \"email\", \"check-in\", \"cleaning\", \"hold\", \"customers\", \"response\", \"help\", \"hair\", \"order\", \"seasons\", \"desk\", \"front\", \"credit\", \"guest\", \"car\", \"morning\", \"service\", \"i\", \"room\", \"didn't\", \"night\", \"experience\", \"someone\", \"time\", \"hotel\", \"price\", \"star\", \"minutes\", \"bay\", \"mandalay\", \"weekend\", \"staff\", \"food\", \"bed\", \"way\", \"rooms\", \"times\", \"view\", \"day\", \"water\", \"check\", \"pools\", \"property\", \"i've\", \"spa\", \"lobby\", \"rate\", \"shops\", \"lounge\", \"bars\", \"shopping\", \"massage\", \"blues\", \"cab\", \"area\", \"rates\", \"sand\", \"summer\", \"tower\", \"resorts\", \"areas\", \"eye\", \"walking\", \"sports\", \"bathrooms\", \"experiences\", \"pricey\", \"brother\", \"addition\", \"shoppes\", \"strip\", \"restaurants\", \"location\", \"las\", \"beach\", \"end\", \"pool\", \"convention\", \"it's\", \"house\", \"people\", \"casino\", \"place\", \"hotels\", \"vegas\", \"mandalay\", \"rooms\", \"resort\", \"hotel\", \"bay\", \"everyone\", \"wave\", \"years\", \"river\", \"staff\", \"i\", \"time\", \"things\", \"food\", \"stay\", \"room\", \"days\", \"nothing\", \"year\", \"options\", \"drinks\", \"kind\", \"reservation\", \"shark\", \"reef\", \"dinner\", \"middle\", \"management\", \"concert\", \"gym\", \"wynn\", \"saturday\", \"bottle\", \"charges\", \"beer\", \"lines\", \"items\", \"chair\", \"company\", \"burger\", \"none\", \"sunday\", \"events\", \"traffic\", \"tubes\", \"bellagio\", \"fee\", \"day\", \"line\", \"person\", \"hour\", \"stay\", \"buffet\", \"deal\", \"home\", \"casinos\", \"show\", \"resort\", \"minutes\", \"couple\", \"card\", \"floor\", \"charge\", \"hours\", \"night\", \"part\", \"conference\", \"visit\", \"husband\", \"call\", \"cabana\", \"weeks\", \"option\", \"tube\", \"decor\", \"bachelorette\", \"families\", \"views\", \"refund\", \"bugs\", \"afternoon\", \"needs\", \"accommodations\", \"living\", \"spots\", \"attitude\", \"sucks\", \"comment\", \"queens\", \"advantage\", \"beautiful\", \"gold\", \"sharks\", \"expedia\", \"bread\", \"family\", \"everything\", \"bedroom\", \"life\", \"kids\", \"suite\", \"children\", \"party\", \"adults\", \"king\", \"something\", \"river\", \"thing\", \"i\", \"can't\", \"pool\", \"stay\", \"fun\", \"lot\", \"time\", \"hotel\", \"mandalay\", \"place\", \"vegas\", \"bay\", \"room\", \"rooms\", \"day\", \"toilet\", \"music\", \"level\", \"noise\", \"doors\", \"walls\", \"tv\", \"bathtub\", \"sleep\", \"window\", \"counter\", \"comfy\", \"travel\", \"trash\", \"privacy\", \"hospitality\", \"wall\", \"park\", \"mj\", \"furniture\", \"york\", \"closets\", \"drain\", \"wow\", \"midnight\", \"ceiling\", \"jacuzzi\", \"weather\", \"weekends\", \"taste\", \"windows\", \"bathroom\", \"shower\", \"sinks\", \"door\", \"bed\", \"elevator\", \"carpet\", \"elevators\", \"room\", \"floor\", \"view\", \"mb\", \"hallway\", \"water\", \"hour\", \"price\", \"person\", \"line\", \"guests\", \"beds\", \"chairs\", \"night\", \"time\", \"ticket\", \"bag\", \"wedding\", \"venue\", \"mom\", \"spot\", \"bellman\", \"moment\", \"concerts\", \"managers\", \"chips\", \"monday\", \"paper\", \"celebration\", \"plastic\", \"they're\", \"penthouse\", \"run\", \"matron\", \"thunder\", \"confirmation\", \"marketing\", \"shuttle\", \"baby\", \"notch\", \"glasses\", \"glass\", \"attitudes\", \"damn\", \"bites\", \"reservations\", \"tickets\", \"table\", \"thank\", \"show\", \"work\", \"business\", \"jackson\", \"michael\", \"nights\", \"people\", \"luck\", \"things\", \"problem\", \"suite\", \"guy\", \"months\", \"years\", \"everything\", \"everyone\", \"parking\", \"tram\", \"side\", \"lots\", \"bath\", \"machines\", \"garage\", \"employees\", \"monorail\", \"cons\", \"poker\", \"entertainment\", \"pros\", \"selection\", \"slot\", \"distance\", \"rude\", \"ny\", \"exit\", \"drive\", \"structure\", \"members\", \"reception\", \"steam\", \"entry\", \"meals\", \"desert\", \"rv\", \"bowl\", \"vanilla\", \"excalibur\", \"walk\", \"city\", \"border\", \"slots\", \"airport\", \"variety\", \"lot\", \"casino\", \"restaurant\", \"luxor\", \"center\", \"food\", \"process\"], \"loglift\": [30.0, 29.0, 28.0, 27.0, 26.0, 25.0, 24.0, 23.0, 22.0, 21.0, 20.0, 19.0, 18.0, 17.0, 16.0, 15.0, 14.0, 13.0, 12.0, 11.0, 10.0, 9.0, 8.0, 7.0, 6.0, 5.0, 4.0, 3.0, 2.0, 1.0, 1.1784, 1.1775, 1.1774, 1.1767, 1.1767, 1.1759, 1.1749, 1.1731, 1.1726, 1.1707, 1.1703, 1.1675, 1.1672, 1.1667, 1.1663, 1.1653, 1.1651, 1.1643, 1.164, 1.1638, 1.1632, 1.1629, 1.1628, 1.1623, 1.1623, 1.1611, 1.1611, 1.1607, 1.1605, 1.1605, 1.158, 1.1453, 1.1457, 1.1481, 1.1423, 1.1087, 1.0359, 0.9252, 0.8467, 1.0394, 0.7756, 0.8462, 0.9695, 0.5786, 0.3088, 0.8448, 0.9875, 0.6947, 0.1713, 0.0393, 0.664, 0.3195, 0.3461, 0.5517, 0.518, -0.2485, 0.5485, 0.1744, -0.1495, 0.4949, 1.3166, 1.3163, 1.3138, 1.3124, 1.312, 1.3115, 1.3086, 1.3081, 1.3077, 1.3076, 1.3064, 1.3064, 1.3053, 1.3051, 1.3042, 1.3034, 1.3034, 1.3032, 1.3007, 1.299, 1.2988, 1.2988, 1.2987, 1.2963, 1.2958, 1.2948, 1.2948, 1.2936, 1.2935, 1.2935, 1.257, 1.2557, 1.2634, 1.255, 1.2089, 1.2228, 1.1469, 1.2487, 1.1826, 1.258, 1.0865, 1.0627, 1.0295, 1.0739, 0.9255, 0.8144, 0.8609, 0.958, 0.6542, 0.7238, 1.1342, 1.0495, 1.0938, 0.8924, 0.6131, -0.7384, 0.0664, 1.0077, 0.5099, 0.1057, -1.4583, 2.0952, 2.0939, 2.0932, 2.0931, 2.0928, 2.0918, 2.0916, 2.0911, 2.09, 2.0881, 2.0866, 2.0854, 2.0837, 2.083, 2.0825, 2.0822, 2.0819, 2.0817, 2.0806, 2.0806, 2.0805, 2.078, 2.0779, 2.0779, 2.0777, 2.0775, 2.077, 2.0763, 2.0757, 2.0746, 1.9383, 1.6154, 1.6032, 1.7292, 1.6618, 1.3789, 1.7235, 1.832, 1.7296, 1.6823, 1.2997, 0.9006, 1.1398, 1.6262, 1.3953, 0.6521, 1.5235, 1.0559, -0.3889, 2.3178, 2.3178, 2.3147, 2.3145, 2.3132, 2.3108, 2.3083, 2.3072, 2.304, 2.3023, 2.2998, 2.2987, 2.2955, 2.2945, 2.2926, 2.2916, 2.2908, 2.2905, 2.2886, 2.2885, 2.2861, 2.2815, 2.2807, 2.2793, 2.2764, 2.2758, 2.275, 2.275, 2.275, 2.2741, 2.2694, 2.2391, 2.26, 2.2261, 2.1579, 2.1293, 2.2109, 1.9591, 2.1703, 1.8283, 1.5654, 1.259, 1.341, -0.0556, 1.8876, 0.4274, 0.7878, 1.4151, 1.0988, 0.2558, -0.416, -0.2793, 0.2242, 0.1284, -0.155, -1.0212, -0.1191, 0.1176, 2.3361, 2.3349, 2.331, 2.3297, 2.3266, 2.3258, 2.3247, 2.3242, 2.3213, 2.3207, 2.3191, 2.3187, 2.3184, 2.3127, 2.3124, 2.3121, 2.3121, 2.3115, 2.311, 2.3086, 2.3079, 2.3074, 2.3072, 2.3071, 2.3067, 2.305, 2.3048, 2.3017, 2.3011, 2.3001, 2.2891, 2.1795, 2.1102, 2.1205, 1.8183, 1.5779, 1.9123, 2.1087, 1.8022, 0.666, 1.3017, 1.1159, 1.8404, 2.0187, 0.9687, 1.0438, 1.0789, 1.1578, 0.6709, 1.4015, 1.1968, 1.4287, -0.3865, -0.8699, 2.855, 2.8494, 2.8479, 2.8437, 2.8407, 2.8405, 2.8404, 2.836, 2.8356, 2.8353, 2.8326, 2.8314, 2.8312, 2.8259, 2.8258, 2.8248, 2.8223, 2.8213, 2.8212, 2.8212, 2.8201, 2.8179, 2.815, 2.8149, 2.8121, 2.8118, 2.8049, 2.8045, 2.8042, 2.8034, 2.7413, 2.7286, 2.5698, 2.6346, 2.268, 2.3764, 2.2621, 2.3091, 2.2856, 1.934, 1.2903, 2.2477, 1.5377, 1.8719, 1.1215, 1.8665, 1.8217, 1.2474, 0.3284, 1.0612, 2.937, 2.9369, 2.9352, 2.9328, 2.9309, 2.9261, 2.9233, 2.9219, 2.917, 2.9168, 2.9145, 2.9144, 2.9142, 2.9138, 2.9128, 2.9109, 2.9078, 2.9039, 2.9015, 2.8976, 2.895, 2.894, 2.8936, 2.8924, 2.8921, 2.8905, 2.8859, 2.8858, 2.8768, 2.8753, 2.6982, 2.6445, 2.7644, 2.8134, 2.6238, 2.1817, 2.5953, 1.54, 0.9153, 2.0233, 1.6562, 1.6386, 0.2971, 2.0746], \"Freq\": [4106.0, 2701.0, 1069.0, 869.0, 468.0, 335.0, 1735.0, 540.0, 813.0, 583.0, 299.0, 1241.0, 488.0, 263.0, 225.0, 393.0, 453.0, 232.0, 150.0, 337.0, 146.0, 951.0, 213.0, 393.0, 184.0, 307.0, 296.0, 260.0, 590.0, 359.0, 251.11006777425493, 198.09980889020628, 190.49575940939573, 164.71864239637037, 164.07417425681578, 140.36218330933985, 121.73047422903966, 95.41948882516257, 97.48609572935725, 73.5654125922317, 71.09080352587478, 56.79302431668603, 56.070258160420046, 53.92113367544554, 52.45568380661821, 49.09196613212553, 74.34409192724148, 46.53063172628269, 45.426596234119145, 44.92818692231067, 43.44796035473749, 54.72023209594514, 42.77386179844446, 41.429538847861764, 41.38606279977233, 39.09135669768014, 38.954230299392655, 38.230544688282464, 62.66353848017727, 37.949596766185145, 384.4726475467049, 277.36334107204846, 121.36951320905047, 90.87559325951008, 94.29487741184192, 166.72861428582667, 703.2929222703447, 3177.513109047132, 1933.1037725142007, 111.70182692202249, 453.740064356316, 249.1705103737678, 119.37588994612634, 520.6164654035297, 724.9281888834057, 127.45441317458035, 87.57307583190838, 166.07849964008733, 346.3889776573184, 396.19672534315043, 145.69948686357753, 186.80751294838936, 164.06420360878417, 138.87102123835572, 141.5133713447558, 196.06097695791357, 129.69605014520596, 142.1703996976718, 142.8311834500644, 127.58096583556927, 336.4212724379409, 295.58694841005536, 151.80389375530945, 120.51316201740092, 112.44896892035716, 104.49508157223772, 75.77198927903775, 71.8294414724807, 69.15826802231445, 68.66761223742918, 62.27882640828633, 65.68974414204784, 57.293800289280895, 56.47318449883321, 387.87423848832213, 50.16622826385649, 51.08862919368502, 49.42895571871293, 42.650591451845976, 39.01862091701821, 46.76058382262126, 38.66784683614824, 38.45212125890882, 34.60268951487524, 80.30846562652833, 32.32030819304505, 32.07559713128907, 31.132510660248656, 31.15724868886573, 30.520442739379742, 817.3256716528451, 295.5215282503231, 121.86451264607183, 135.70105787243958, 353.76322939252367, 246.12500257393313, 900.8508353291459, 123.89935141746601, 313.342769281645, 81.28694625108375, 370.95624495584264, 451.6749121862188, 441.83159153675047, 306.86552097965347, 446.826733146279, 749.6536400568226, 518.2924935670775, 316.178254657108, 892.616002131091, 524.6573767776588, 114.97977954226883, 142.5902802895998, 125.39634537031871, 180.57959276503865, 218.40579717675647, 524.768146316129, 271.91529535328806, 132.56813459023496, 168.45496315894482, 145.0844413104857, 168.08583198691744, 183.83206004745858, 140.38501684375288, 124.86984651840594, 123.05875590907988, 119.41256097276997, 102.14905720779704, 100.12457911497933, 93.79646422052184, 82.84793607750399, 69.49857172248308, 61.43358813073291, 67.11362856847529, 50.02179710429409, 48.05574123723722, 46.45330406773043, 45.66086973016224, 44.94541562821584, 44.26627511737882, 41.793385741488756, 41.73759331477838, 41.45851212334395, 36.760277285095185, 36.59447300945403, 36.47352047973966, 36.57871284844895, 36.004965087897915, 35.09754634327213, 34.01842451567187, 33.02318116292763, 31.64128918667662, 173.61993418893178, 333.1366024786126, 187.2593619807538, 108.53844717811445, 128.49211218698204, 237.44426822884301, 80.25721699872504, 58.36172614142382, 66.91825194362943, 70.4727378055508, 101.43309073235082, 136.76434782038078, 103.50232687518204, 61.35221901482906, 65.49313472837966, 86.2543414592311, 55.74022219205584, 60.74995947150917, 56.546140011515426, 137.1024831941756, 137.07201388814488, 90.09061572657151, 87.9623536621566, 77.01874142490989, 65.1200606752231, 52.078503088148906, 48.39525696220217, 40.35750327319876, 37.12870264973029, 33.48598542572602, 31.711251586806334, 28.109897003692875, 27.182535597548938, 25.45859371436851, 24.70459756139948, 24.055779601579186, 23.783436139051496, 22.476391526337196, 22.44516953918862, 21.09288115724096, 18.60315625208996, 18.43056122399744, 17.689522378556386, 16.554105954511176, 16.329926748548857, 16.20976162786283, 16.04713278458186, 16.05091629897494, 15.991319220365195, 145.02130518003804, 275.33279669537353, 45.39108339788895, 103.68874149823034, 197.0958515667289, 216.87912013240313, 38.31198549963995, 74.5914064925099, 25.574422371099853, 61.67528372614254, 68.14048891608937, 95.39998447984426, 72.12731137857239, 380.34982088419997, 36.80665834457277, 160.6320021378643, 105.08978308163049, 57.421287077460896, 70.05159757889925, 120.336016332446, 112.08358406128418, 91.9512936571986, 72.31518473404506, 73.7269735068528, 79.7777506982576, 95.29489834498914, 71.2259664648012, 59.5489998760179, 99.74224964605835, 86.5268313632002, 60.71233200149444, 54.94641634401694, 45.51841806911566, 42.858369617631205, 121.27095552836333, 39.50716392949012, 34.321928365992676, 33.429003697586495, 31.488281683977707, 30.907518499864686, 30.87396127503899, 24.87498294214942, 24.600302079850405, 24.48708471342749, 24.344821502801576, 23.90551513639023, 24.13340255227957, 21.88589319706272, 21.591365964345353, 21.132272901339782, 21.058987003240464, 21.01004262063027, 20.826812736375633, 19.81771034128781, 19.686959109323467, 18.303040717401846, 18.08146327889859, 17.691979284893243, 28.104916915262404, 284.46232098328755, 168.9797938231019, 38.69225266619129, 105.62247021775761, 121.19003398604805, 49.24481424963466, 31.989938234440935, 58.86535567005135, 504.5876460850682, 129.34199252716306, 113.98694672137732, 39.61438848981678, 32.36050694559348, 64.07402181131287, 54.2407149338877, 50.369797666344375, 48.001703374597675, 57.72877651799722, 41.908702559041565, 43.98685319993238, 38.00866140306436, 44.39101078234278, 38.2477548808151, 53.30435185814124, 38.940079569478655, 36.04115878447422, 30.40451322302084, 27.418476869298868, 27.103259169520392, 27.033857699163157, 23.55988649650622, 23.221700006932455, 23.07193858843201, 21.392955435626995, 20.87145183965004, 20.571065755675306, 18.083307584210758, 17.994055266534534, 17.669785934163468, 16.676675423220317, 16.37333320272288, 17.766187180909803, 17.766187180909803, 15.895165643755476, 15.234987953554203, 14.70071196549257, 14.369417115772004, 13.68685693248554, 13.62392278138159, 12.137513337371406, 12.065027134206554, 12.054167717753403, 11.875754303635492, 51.01414884912869, 47.59220410437572, 68.3559906198208, 31.130486382818177, 123.59442703192595, 51.48886824953882, 54.61846139076659, 36.26166406488513, 37.68669980283986, 49.09444888883554, 96.40476956453196, 28.099965082963035, 47.742187370456676, 34.828370771063895, 45.82439320729798, 29.454395005623642, 26.54369995528511, 30.992213893404763, 23.582648577954572, 22.653366108561816, 149.1846254080697, 146.11582501790707, 113.12175489760047, 84.19567390431669, 70.06957637148946, 49.60574176546758, 42.40961524449356, 39.47390350662848, 31.671521991776643, 31.397775476103423, 28.84967390457646, 28.667971373451564, 28.50634279403538, 28.049965657463822, 27.072005380498275, 25.499099041312284, 23.260566633933177, 20.861790134675733, 19.643604335755928, 17.865497391311735, 16.775086160599134, 16.587469274809976, 16.311033807693004, 16.025823438052328, 16.12473858114107, 15.296654270034763, 14.0698933110352, 14.831163433586056, 13.014846183412383, 11.80245236996537, 62.21992739442873, 56.28599594453262, 23.690162431751652, 18.848365335944397, 33.28139887440824, 45.70263693561675, 24.815919374893042, 58.65331901497324, 76.87275559612067, 30.319215117108193, 35.88928766253929, 34.13135782110954, 26.852951125528588, 21.47606001319861], \"Total\": [4106.0, 2701.0, 1069.0, 869.0, 468.0, 335.0, 1735.0, 540.0, 813.0, 583.0, 299.0, 1241.0, 488.0, 263.0, 225.0, 393.0, 453.0, 232.0, 150.0, 337.0, 146.0, 951.0, 213.0, 393.0, 184.0, 307.0, 296.0, 260.0, 590.0, 359.0, 251.917967451554, 198.9064454575651, 191.3049556857921, 165.5270445631237, 164.8814406185938, 141.1697182511623, 122.54913354753006, 96.22890701372344, 98.3655546578402, 74.37296239092568, 71.8992609806818, 57.60022890740894, 56.88143424501091, 54.729012683745935, 53.26321005482729, 49.90055060553169, 75.58386065613713, 47.34058618686395, 46.23395161678223, 45.73572227137963, 44.25467733115716, 55.7538166626957, 43.583208692316916, 42.23585327640824, 42.193796529702, 39.89908257897846, 39.76077015663481, 39.03741446258467, 63.999635021187935, 38.760373068034745, 393.6461968344512, 287.62399919000234, 125.80599714156484, 93.97237232344573, 98.07407583080183, 179.3382769412869, 813.6331169636954, 4106.234088947383, 2701.9488103906187, 128.77340890642122, 680.9819857752888, 348.4743051210916, 147.58574649256292, 951.4888688762304, 1735.1952206152641, 178.48695614383428, 106.329190495393, 270.2529910303122, 951.3445493507763, 1241.6420288413585, 244.4787285975661, 442.374715075755, 378.3073239608503, 260.7218598552559, 274.78977833565625, 819.372099927397, 244.26218856978983, 389.2553682314388, 540.645400423419, 253.50977979764042, 337.2086857262227, 296.3711585416859, 152.58927230480006, 121.29839942427805, 113.23335718307173, 105.2800610140967, 76.56135538452168, 72.61260737841367, 69.94174489831846, 69.45101968574578, 63.06273726487779, 66.52049878982349, 58.07777939214489, 57.25853489684363, 393.61706555717865, 50.951431997062514, 51.88862236138063, 50.21250722154695, 43.43676563708715, 39.80324761516033, 47.71080923192306, 39.45491290366573, 39.23632443912498, 35.39403955333434, 82.19186000996466, 33.1100662388881, 32.859623375060785, 31.93052890937888, 31.95861624097925, 31.30558941925082, 869.583592845737, 314.8010180765557, 128.82166609036562, 144.6551512811022, 394.9025064577664, 270.96399515280723, 1069.9325616934157, 132.91980056517502, 359.0940347132644, 86.39178630109647, 468.0295823885363, 583.6179773431554, 590.1581327545331, 392.06062433416844, 662.2171622850238, 1241.6420288413585, 819.372099927397, 453.5923924538617, 1735.1952206152641, 951.3445493507763, 138.30231095841725, 186.67635645200488, 157.05757046054913, 276.62667628859185, 442.374715075755, 4106.234088947383, 951.4888688762304, 180.97830107754686, 378.3073239608503, 488.1318828920201, 2701.9488103906187, 184.63274579861752, 141.18650515438767, 125.67230629138068, 123.86067442353108, 120.22280818451044, 102.951601243409, 100.92612187479087, 94.5971792623696, 83.64840052217895, 70.2997217803541, 62.237237054157525, 68.07077702343999, 50.82320673640756, 48.857783805136485, 47.254862443253145, 46.46348441407309, 45.74717832926761, 45.06570128344274, 42.59447861055759, 42.53797247840167, 42.25852196831844, 37.56130692196559, 37.39662286001927, 37.27414443825706, 37.3878954896029, 36.807083145588024, 35.900533334249815, 34.8207691909222, 33.82292557862191, 32.442339019129385, 204.01126934370535, 540.645400423419, 307.61700675953006, 157.19562404771597, 199.07679034815837, 488.1318828920201, 116.9022086549771, 76.26737255093825, 96.87514803093981, 106.97059867597993, 225.71218630737303, 453.5923924538617, 270.2529910303122, 98.49980656454382, 132.45236472374737, 366.7876165332465, 99.16303700781924, 172.5072597619719, 680.9819857752888, 137.90402392465802, 137.87400530826267, 90.89164879594092, 88.76227788418146, 77.8190436131483, 65.95720932416828, 52.88080395421273, 49.19621472398491, 41.155746255758956, 37.92843835152184, 34.290726436882366, 32.509411178370904, 28.910016358019885, 27.98365605168725, 26.25969601812282, 25.506409690950438, 24.8574912476297, 24.582621868093753, 23.27589221322674, 23.24582431115233, 21.898951750051133, 19.40196119809348, 19.238719484276277, 18.490297868324443, 17.354184147210553, 17.128781047265843, 17.016599170000436, 16.84639314338488, 16.850759914201337, 16.803319047191934, 153.0918716874347, 299.59942102720237, 48.37188546891335, 114.30693617738153, 232.6241369376588, 263.38668232406127, 42.880880554433276, 107.39640924442477, 29.812512795637417, 101.20943470398583, 145.43391229551992, 276.62667628859185, 192.66899148004418, 4106.234088947383, 56.91967795572093, 1069.9325616934157, 488.1318828920201, 142.4366155467952, 238.42279727688143, 951.4888688762304, 1735.1952206152641, 1241.6420288413585, 590.1581327545331, 662.2171622850238, 951.3445493507763, 2701.9488103906187, 819.372099927397, 540.645400423419, 100.53287436114448, 87.32149758077725, 61.50827080849594, 55.737237126026265, 46.31728058951621, 43.64788495870594, 123.63823055730728, 40.297253391487125, 35.11206333761328, 34.21740980605113, 32.281670055602, 31.69915856346414, 31.674263939312418, 25.66649061136705, 25.390539206599236, 25.281324579176033, 25.13542497391181, 24.695997320545775, 24.944335097187007, 22.67478646884586, 22.384822478774574, 21.92177016835272, 21.848590713569802, 21.80104624635049, 21.619106211445164, 20.60737375366885, 20.47529126719257, 19.09372901571484, 18.875010029863777, 18.486706281615604, 29.692782825077867, 335.3223319091072, 213.49414115857184, 48.38569863336489, 178.68777876406278, 260.7218598552559, 75.82939475017673, 40.47783317883835, 101.19662087366774, 2701.9488103906187, 366.7876165332465, 389.2553682314388, 65.54757780346654, 44.803601486430864, 253.50977979764042, 199.07679034815837, 178.48695614383428, 157.19562404771597, 307.61700675953006, 107.5608185239098, 138.5283831421804, 94.93431488208593, 680.9819857752888, 951.4888688762304, 54.127652317735894, 39.76374966927497, 36.85871032908347, 31.2244315250976, 28.242828268548937, 27.92218748429745, 27.85323770398919, 24.382137626269433, 24.041750757292792, 23.89307029447268, 22.21412293170025, 21.69862182792473, 21.39110932347281, 18.90361779282036, 18.81303730793906, 18.492397060822338, 17.496241545677208, 17.195252091514707, 18.659212311184035, 18.659212311184035, 16.712769428914473, 16.054861651936054, 15.53579018913369, 15.18728150812342, 14.506905650744537, 14.444067276707461, 12.95706142816807, 12.885097445810214, 12.87749078032808, 12.697798186922384, 58.03807223813198, 54.83910269879422, 92.3142599373984, 39.40276268533371, 225.71218630737303, 84.3739911058372, 100.33811618070997, 63.56086808196776, 67.62704774226138, 125.21363451203933, 468.0295823885363, 52.37283559194941, 180.97830107754686, 94.52447130003172, 263.38668232406127, 80.36747956151834, 75.74869824453347, 157.05757046054913, 299.59942102720237, 138.30231095841725, 150.00122285824406, 146.93134562441682, 113.93999444772116, 85.01116591347846, 70.88583689056027, 50.420651665051395, 43.229686588436145, 40.292614505033725, 32.48616902653412, 32.21262580373617, 29.66662506994553, 29.48262228988252, 29.321858218702516, 28.864479594212753, 27.886586606347628, 26.315993811183834, 24.08095865967862, 21.68049120268713, 20.464365554864546, 18.685046185474658, 17.590440093990473, 17.410427121486265, 17.12795378617481, 16.847970428013344, 16.956522973635273, 16.112085736096404, 14.888869323521435, 15.695236850485998, 13.897663077796446, 12.622010967678438, 79.43496529474395, 75.82436252378486, 28.306427974586992, 21.444336097788156, 45.77050492151817, 97.79755024033508, 35.115831003459135, 238.42279727688143, 583.6179773431554, 76.01347029704108, 129.88314688333912, 125.72568317998437, 378.3073239608503, 51.15158622105082], \"logprob\": [30.0, 29.0, 28.0, 27.0, 26.0, 25.0, 24.0, 23.0, 22.0, 21.0, 20.0, 19.0, 18.0, 17.0, 16.0, 15.0, 14.0, 13.0, 12.0, 11.0, 10.0, 9.0, 8.0, 7.0, 6.0, 5.0, 4.0, 3.0, 2.0, 1.0, -4.5741, -4.8112, -4.8504, -4.9958, -4.9997, -5.1558, -5.2982, -5.5417, -5.5203, -5.8018, -5.836, -6.0606, -6.0734, -6.1125, -6.14, -6.2063, -5.7913, -6.2599, -6.2839, -6.2949, -6.3284, -6.0978, -6.3441, -6.376, -6.3771, -6.4341, -6.4376, -6.4564, -5.9622, -6.4637, -4.1481, -4.4747, -5.3012, -5.5905, -5.5536, -4.9836, -3.5442, -2.0361, -2.5331, -5.3842, -3.9825, -4.5819, -5.3177, -3.845, -3.5139, -5.2522, -5.6275, -4.9875, -4.2524, -4.1181, -5.1185, -4.8699, -4.9997, -5.1665, -5.1476, -4.8216, -5.2348, -5.143, -5.1383, -5.2512, -4.1443, -4.2737, -4.9401, -5.1709, -5.2402, -5.3135, -5.6349, -5.6884, -5.7263, -5.7334, -5.831, -5.7777, -5.9145, -5.9289, -4.002, -6.0473, -6.0291, -6.0621, -6.2096, -6.2986, -6.1176, -6.3076, -6.3132, -6.4187, -5.5768, -6.487, -6.4946, -6.5244, -6.5236, -6.5443, -3.2566, -4.2739, -5.1597, -5.0522, -4.094, -4.4568, -3.1593, -5.1432, -4.2154, -5.5647, -4.0466, -3.8497, -3.8717, -4.2362, -3.8605, -3.343, -3.7121, -4.2063, -3.1685, -3.6999, -5.2179, -5.0027, -5.1312, -4.7665, -4.5763, -3.6997, -4.3572, -5.0756, -4.836, -4.9853, -4.8382, -3.968, -4.2376, -4.3547, -4.3693, -4.3994, -4.5556, -4.5756, -4.6409, -4.765, -4.9407, -5.0641, -4.9756, -5.2695, -5.3096, -5.3436, -5.3608, -5.3766, -5.3918, -5.4493, -5.4506, -5.4573, -5.5776, -5.5821, -5.5854, -5.5825, -5.5983, -5.6239, -5.6551, -5.6848, -5.7275, -4.0251, -3.3735, -3.9495, -4.4949, -4.3261, -3.7121, -4.7968, -5.1153, -4.9785, -4.9268, -4.5626, -4.2637, -4.5424, -5.0654, -5.0001, -4.7247, -5.1613, -5.0752, -5.1469, -4.0373, -4.0375, -4.4572, -4.4811, -4.614, -4.7818, -5.0052, -5.0786, -5.2602, -5.3436, -5.4469, -5.5013, -5.6219, -5.6554, -5.7209, -5.751, -5.7776, -5.789, -5.8455, -5.8469, -5.9091, -6.0347, -6.044, -6.085, -6.1514, -6.165, -6.1724, -6.1825, -6.1822, -6.186, -3.9811, -3.34, -5.1427, -4.3166, -3.6743, -3.5787, -5.3122, -4.646, -5.7164, -4.8361, -4.7364, -4.3999, -4.6796, -3.0169, -5.3523, -3.8789, -4.3032, -4.9076, -4.7088, -4.1677, -4.2388, -4.4367, -4.677, -4.6576, -4.5788, -4.401, -4.6921, -4.8712, -4.335, -4.4771, -4.8314, -4.9312, -5.1194, -5.1797, -4.1395, -5.2611, -5.4018, -5.4281, -5.4879, -5.5066, -5.5076, -5.7237, -5.7348, -5.7394, -5.7452, -5.7634, -5.754, -5.8517, -5.8653, -5.8868, -5.8902, -5.8926, -5.9013, -5.951, -5.9576, -6.0305, -6.0427, -6.0644, -5.6016, -3.287, -3.8078, -5.2819, -4.2777, -4.1402, -5.0408, -5.4721, -4.8623, -2.7138, -4.0751, -4.2015, -5.2584, -5.4606, -4.7775, -4.9441, -5.0182, -5.0663, -4.8818, -5.2021, -5.1537, -5.2997, -5.1445, -5.2935, -4.4353, -4.7493, -4.8266, -4.9967, -5.1001, -5.1116, -5.1142, -5.2518, -5.2662, -5.2727, -5.3482, -5.3729, -5.3874, -5.5163, -5.5213, -5.5394, -5.5973, -5.6156, -5.534, -5.534, -5.6453, -5.6877, -5.7234, -5.7462, -5.7949, -5.7995, -5.915, -5.921, -5.9219, -5.9368, -4.4792, -4.5486, -4.1866, -4.9731, -3.5943, -4.4699, -4.4109, -4.8205, -4.782, -4.5176, -3.8427, -5.0755, -4.5455, -4.8609, -4.5865, -5.0285, -5.1325, -4.9776, -5.2508, -5.291, -3.334, -3.3547, -3.6107, -3.906, -4.0897, -4.435, -4.5918, -4.6635, -4.8837, -4.8924, -4.977, -4.9834, -4.989, -5.0052, -5.0406, -5.1005, -5.1924, -5.3012, -5.3614, -5.4563, -5.5193, -5.5305, -5.5473, -5.5649, -5.5588, -5.6115, -5.6951, -5.6424, -5.7731, -5.8708, -4.2085, -4.3087, -5.1741, -5.4027, -4.8341, -4.517, -5.1277, -4.2675, -3.997, -4.9274, -4.7587, -4.8089, -5.0488, -5.2722]}};\n",
       "\n",
       "function LDAvis_load_lib(url, callback){\n",
       "  var s = document.createElement('script');\n",
       "  s.src = url;\n",
       "  s.async = true;\n",
       "  s.onreadystatechange = s.onload = callback;\n",
       "  s.onerror = function(){console.warn(\"failed to load library \" + url);};\n",
       "  document.getElementsByTagName(\"head\")[0].appendChild(s);\n",
       "}\n",
       "\n",
       "if(typeof(LDAvis) !== \"undefined\"){\n",
       "   // already loaded: just create the visualization\n",
       "   !function(LDAvis){\n",
       "       new LDAvis(\"#\" + \"ldavis_el4301747685141284519761893\", ldavis_el4301747685141284519761893_data);\n",
       "   }(LDAvis);\n",
       "}else if(typeof define === \"function\" && define.amd){\n",
       "   // require.js is available: use it to load d3/LDAvis\n",
       "   require.config({paths: {d3: \"https://cdnjs.cloudflare.com/ajax/libs/d3/3.5.5/d3.min\"}});\n",
       "   require([\"d3\"], function(d3){\n",
       "      window.d3 = d3;\n",
       "      LDAvis_load_lib(\"https://cdn.rawgit.com/bmabey/pyLDAvis/files/ldavis.v1.0.0.js\", function(){\n",
       "        new LDAvis(\"#\" + \"ldavis_el4301747685141284519761893\", ldavis_el4301747685141284519761893_data);\n",
       "      });\n",
       "    });\n",
       "}else{\n",
       "    // require.js not available: dynamically load d3 & LDAvis\n",
       "    LDAvis_load_lib(\"https://cdnjs.cloudflare.com/ajax/libs/d3/3.5.5/d3.min.js\", function(){\n",
       "         LDAvis_load_lib(\"https://cdn.rawgit.com/bmabey/pyLDAvis/files/ldavis.v1.0.0.js\", function(){\n",
       "                 new LDAvis(\"#\" + \"ldavis_el4301747685141284519761893\", ldavis_el4301747685141284519761893_data);\n",
       "            })\n",
       "         });\n",
       "}\n",
       "</script>"
      ],
      "text/plain": [
       "<IPython.core.display.HTML object>"
      ]
     },
     "execution_count": 212,
     "metadata": {},
     "output_type": "execute_result"
    }
   ],
   "source": [
    "vis = pyLDAvis.gensim.prepare(lda, corpus, dictionary)\n",
    "pyLDAvis.display(vis)"
   ]
  },
  {
   "cell_type": "markdown",
   "metadata": {},
   "source": [
    "These topics perform very well in finding the latentent structure of areas of the business. One issue with this model is it is difficult to find the appropriate number of clusters for a new business."
   ]
  },
  {
   "cell_type": "markdown",
   "metadata": {
    "collapsed": true
   },
   "source": [
    "## LDA For Multiple Businesses\n",
    "\n",
    "Next we apply LDA to reviews from 5 different types of businesses. The goal of this is to discover these labels."
   ]
  },
  {
   "cell_type": "code",
   "execution_count": 270,
   "metadata": {
    "collapsed": true
   },
   "outputs": [],
   "source": [
    "# Connect to database\n",
    "client = MongoClient()\n",
    "db = client.yelp"
   ]
  },
  {
   "cell_type": "code",
   "execution_count": 413,
   "metadata": {
    "collapsed": false
   },
   "outputs": [],
   "source": [
    "# Get examples from distinct businesses for training\n",
    "different_categories = ['automotive', 'hair salons', 'pets', 'medical centers', 'butcher']\n",
    "\n",
    "category_dict = {}\n",
    "for category in different_categories:\n",
    "    cursor = db.businesses.find({'categories':{'$in':[category]}}).limit(100)\n",
    "    total_reviews = []\n",
    "    for business in cursor:\n",
    "        biz_reviews = [x['text'] for x in get_business_reviews(business['business_id'])]\n",
    "        concat_biz_review = ' '.join(biz_reviews)\n",
    "        cleaned_review = get_nouns(tokenize(concat_biz_review))\n",
    "        total_reviews.append(cleaned_review)\n",
    "    category_dict[category] = total_reviews"
   ]
  },
  {
   "cell_type": "code",
   "execution_count": 414,
   "metadata": {
    "collapsed": true
   },
   "outputs": [],
   "source": [
    "#preprocess\n",
    "tokenized_docs = []\n",
    "category_labels = []\n",
    "for i, category in enumerate(different_categories):\n",
    "    tokenized_docs += category_dict[category]\n",
    "    category_labels += [i] * len(category_dict[category])"
   ]
  },
  {
   "cell_type": "code",
   "execution_count": 433,
   "metadata": {
    "collapsed": true
   },
   "outputs": [],
   "source": [
    "#create a Gensim dictionary from the texts\n",
    "dictionary = corpora.Dictionary(tokenized_docs)\n",
    "\n",
    "#remove extremes (similar to the min/max df step used when creating the tf-idf matrix)\n",
    "dictionary.filter_extremes(no_below=.05, no_above=0.6)\n",
    "\n",
    "#convert the dictionary to a bag of words corpus for reference\n",
    "corpus = [dictionary.doc2bow(text) for text in tokenized_docs]"
   ]
  },
  {
   "cell_type": "code",
   "execution_count": 434,
   "metadata": {
    "collapsed": false
   },
   "outputs": [],
   "source": [
    "lda = models.LdaModel(corpus, num_topics=5, id2word=dictionary, \n",
    "                      update_every=1, chunksize=100, passes=10)"
   ]
  },
  {
   "cell_type": "code",
   "execution_count": 435,
   "metadata": {
    "collapsed": false
   },
   "outputs": [
    {
     "data": {
      "text/plain": [
       "[(0,\n",
       "  u'0.032*\"bbq\" + 0.029*\"meat\" + 0.027*\"food\" + 0.019*\"brisket\" + 0.016*\"mac\" + 0.016*\"ribs\" + 0.015*\"pork\" + 0.014*\"beans\" + 0.013*\"vegas\" + 0.013*\"cheese\"'),\n",
       " (1,\n",
       "  u'0.025*\"dog\" + 0.016*\"dogs\" + 0.015*\"staff\" + 0.012*\"store\" + 0.012*\"food\" + 0.012*\"service\" + 0.011*\"prices\" + 0.008*\"customer\" + 0.007*\"pet\" + 0.007*\"day\"'),\n",
       " (2,\n",
       "  u'0.019*\"hospital\" + 0.019*\"staff\" + 0.017*\"care\" + 0.014*\"doctor\" + 0.012*\"room\" + 0.011*\"dr\" + 0.010*\"vet\" + 0.009*\"hours\" + 0.008*\"nurses\" + 0.008*\"office\"'),\n",
       " (3,\n",
       "  u'0.032*\"car\" + 0.017*\"service\" + 0.009*\"work\" + 0.007*\"people\" + 0.007*\"insurance\" + 0.007*\"appointment\" + 0.007*\"minutes\" + 0.007*\"experience\" + 0.006*\"oil\" + 0.006*\"day\"'),\n",
       " (4,\n",
       "  u'0.062*\"hair\" + 0.027*\"salon\" + 0.021*\"cut\" + 0.014*\"stylist\" + 0.013*\"haircut\" + 0.012*\"appointment\" + 0.012*\"color\" + 0.010*\"job\" + 0.009*\"years\" + 0.009*\"experience\"')]"
      ]
     },
     "execution_count": 435,
     "metadata": {},
     "output_type": "execute_result"
    }
   ],
   "source": [
    "lda.show_topics()"
   ]
  },
  {
   "cell_type": "code",
   "execution_count": 450,
   "metadata": {
    "collapsed": true
   },
   "outputs": [],
   "source": [
    "topic_labels = [\n",
    "    'butcher',\n",
    "    'pets',\n",
    "    'medical centers',\n",
    "    'automotive',\n",
    "    'hair salons'\n",
    "]"
   ]
  },
  {
   "cell_type": "code",
   "execution_count": 451,
   "metadata": {
    "collapsed": false
   },
   "outputs": [
    {
     "name": "stdout",
     "output_type": "stream",
     "text": [
      "\n",
      "Topic 0 (butcher)\n",
      "--------------------\n",
      "bbq\n",
      "meat\n",
      "food\n",
      "brisket\n",
      "mac\n",
      "ribs\n",
      "pork\n",
      "beans\n",
      "vegas\n",
      "cheese\n",
      "\n",
      "Topic 1 (pets)\n",
      "--------------------\n",
      "dog\n",
      "dogs\n",
      "staff\n",
      "store\n",
      "food\n",
      "service\n",
      "prices\n",
      "customer\n",
      "pet\n",
      "day\n",
      "\n",
      "Topic 2 (medical centers)\n",
      "--------------------\n",
      "hospital\n",
      "staff\n",
      "care\n",
      "doctor\n",
      "room\n",
      "dr\n",
      "vet\n",
      "hours\n",
      "nurses\n",
      "office\n",
      "\n",
      "Topic 3 (automotive)\n",
      "--------------------\n",
      "car\n",
      "service\n",
      "work\n",
      "people\n",
      "insurance\n",
      "appointment\n",
      "minutes\n",
      "experience\n",
      "oil\n",
      "day\n",
      "\n",
      "Topic 4 (hair salons)\n",
      "--------------------\n",
      "hair\n",
      "salon\n",
      "cut\n",
      "stylist\n",
      "haircut\n",
      "appointment\n",
      "color\n",
      "job\n",
      "years\n",
      "experience\n"
     ]
    }
   ],
   "source": [
    "topics_matrix = lda.show_topics(formatted=False, num_words=10)\n",
    "for topic_num, words in topics_matrix:\n",
    "    print \"\\nTopic %s\" % topic_num, \"(\" + topic_labels[topic_num] + \")\" \n",
    "    print \"-\"*20\n",
    "    for word in words:\n",
    "        print word[0]"
   ]
  },
  {
   "cell_type": "markdown",
   "metadata": {},
   "source": [
    "Now that we have discovered these topics, given reviews for a business we can give the amount it belongs to each topic."
   ]
  },
  {
   "cell_type": "code",
   "execution_count": 453,
   "metadata": {
    "collapsed": false
   },
   "outputs": [
    {
     "data": {
      "text/plain": [
       "u\"used to go there for tires brakes etc their prices have gone way up for mid-level tires for a toyota plus of the new tires went flat within weeks since they don t make appointments the wait to get the tire looked at was hours sorry--can't wait that long to get a warranted repair they lost my business for good\""
      ]
     },
     "execution_count": 453,
     "metadata": {},
     "output_type": "execute_result"
    }
   ],
   "source": [
    "' '.join(all_reviews[0])"
   ]
  },
  {
   "cell_type": "code",
   "execution_count": 454,
   "metadata": {
    "collapsed": false
   },
   "outputs": [
    {
     "data": {
      "text/plain": [
       "[(0, 0.1250188690611381), (3, 0.74550391793766135), (4, 0.11561321254180351)]"
      ]
     },
     "execution_count": 454,
     "metadata": {},
     "output_type": "execute_result"
    }
   ],
   "source": [
    "lda[dictionary.doc2bow(all_reviews[0])]"
   ]
  },
  {
   "cell_type": "code",
   "execution_count": 449,
   "metadata": {
    "collapsed": false
   },
   "outputs": [
    {
     "name": "stdout",
     "output_type": "stream",
     "text": [
      "Classes: [1 2 3], Amount: [ 7  1 92]\n",
      "Classes:     [4], Amount: [100]\n",
      "Classes:   [1 2], Amount: [46 54]\n",
      "Classes:   [2 3], Amount: [93  7]\n",
      "Classes:   [0 3], Amount: [98  2]\n"
     ]
    }
   ],
   "source": [
    "accuracy = 0\n",
    "for i, category in enumerate(different_categories):\n",
    "    results = []\n",
    "    num_category = len(category_dict[category])\n",
    "    for review in category_dict[category]:\n",
    "        doc_bow = dictionary.doc2bow(review)\n",
    "        distribution = lda[doc_bow]\n",
    "        percents = np.array([x[1] for x in distribution])\n",
    "        max_indx = np.argmax(percents)\n",
    "        results.append(distribution[max_indx][0])\n",
    "    classes, amounts = np.unique(results, return_counts=True)\n",
    "    print \"Classes: %7s, Amount: %s\" % (classes, amounts)"
   ]
  },
  {
   "cell_type": "markdown",
   "metadata": {},
   "source": [
    "<h1 class='main_header'>Sentiment Analysis</h1>\n",
    "<hr>\n",
    "\n",
    "Sentiment analysis is a branch of natural language processing that aims to systematically identify, extract, and quantify affective states and subjective information. The prototypical example is classifying if a review is positive or negative. For a bisunesses Yelp reviews we will use this so we can determine what is included in the most negative and most positive reviews. This can give concise information on what needs to be fixed and what is going well.\n",
    "\n",
    "There are several teqniques for doing this..."
   ]
  },
  {
   "cell_type": "markdown",
   "metadata": {},
   "source": [
    "<h2 class='section_header'>Naive Bayes</h2>"
   ]
  },
  {
   "cell_type": "markdown",
   "metadata": {},
   "source": [
    "Because of the complex nature of working with text, historically the simple naive bayes model has been the standard for sentiment anaysis. The text is read in and then transformed into a simple bag of words. This gives the probability of words ocurring given a certain sentiment which is then used by naive bayes.\n",
    "\n",
    "$$ P(c\\vert x) = \\frac{P(x\\vert c)P(c)}{P(x)}$$\n",
    "$$ P(c\\vert x) = P(x_1\\vert c) \\times P(x_2\\vert c)\\times \\dots P(x_n\\vert c) \\times P(c)$$"
   ]
  },
  {
   "cell_type": "code",
   "execution_count": 459,
   "metadata": {
    "collapsed": true
   },
   "outputs": [],
   "source": [
    "from yelp_utils.preprocess_reviews import prepare_classify\n",
    "from textblob import TextBlob\n",
    "from textblob.classifiers import NaiveBayesClassifier"
   ]
  },
  {
   "cell_type": "code",
   "execution_count": 460,
   "metadata": {
    "collapsed": false
   },
   "outputs": [],
   "source": [
    "# Create trainging set of positive and negative examples\n",
    "pos_list, neg_list = prepare_classify(700)\n",
    "train = pos_list[:500] + neg_list[:500]\n",
    "test = pos_list[500:] + neg_list[500:]"
   ]
  },
  {
   "cell_type": "code",
   "execution_count": 461,
   "metadata": {
    "collapsed": true
   },
   "outputs": [],
   "source": [
    "naiveBayes = NaiveBayesClassifier(train)"
   ]
  },
  {
   "cell_type": "code",
   "execution_count": 463,
   "metadata": {
    "collapsed": false
   },
   "outputs": [
    {
     "name": "stdout",
     "output_type": "stream",
     "text": [
      "Most Informative Features\n",
      "         contains(Great) = True              pos : neg    =     32.3 : 1.0\n",
      "      contains(terrible) = True              neg : pos    =     24.3 : 1.0\n",
      "         contains(awful) = True              neg : pos    =     19.0 : 1.0\n",
      "         contains(worst) = True              neg : pos    =     16.6 : 1.0\n",
      "          contains(paid) = True              neg : pos    =     16.3 : 1.0\n",
      "       contains(variety) = True              pos : neg    =     15.7 : 1.0\n",
      "         contains(dirty) = True              neg : pos    =     15.0 : 1.0\n",
      "        contains(pricey) = True              pos : neg    =     13.0 : 1.0\n",
      "          contains(Rock) = True              pos : neg    =     11.8 : 1.0\n",
      "         contains(liked) = True              pos : neg    =     11.7 : 1.0\n"
     ]
    }
   ],
   "source": [
    "naiveBayes.show_informative_features()"
   ]
  },
  {
   "cell_type": "code",
   "execution_count": 467,
   "metadata": {
    "collapsed": false
   },
   "outputs": [
    {
     "data": {
      "text/plain": [
       "0.7375"
      ]
     },
     "execution_count": 467,
     "metadata": {},
     "output_type": "execute_result"
    }
   ],
   "source": [
    "naiveBayes.accuracy(test_set)"
   ]
  },
  {
   "cell_type": "markdown",
   "metadata": {},
   "source": [
    "<h1 class='main_header'>Automatic Summary</h1>\n",
    "<hr>"
   ]
  },
  {
   "cell_type": "code",
   "execution_count": 469,
   "metadata": {
    "collapsed": true
   },
   "outputs": [],
   "source": [
    "from sumy.nlp import tokenizers\n",
    "from sumy.parsers import plaintext\n",
    "from sumy.summarizers import lex_rank"
   ]
  },
  {
   "cell_type": "code",
   "execution_count": 471,
   "metadata": {
    "collapsed": false
   },
   "outputs": [],
   "source": [
    "review_list = [x['text'] for x in get_business_reviews(BIZ_ID)]"
   ]
  },
  {
   "cell_type": "code",
   "execution_count": 480,
   "metadata": {
    "collapsed": false
   },
   "outputs": [
    {
     "name": "stdout",
     "output_type": "stream",
     "text": [
      "Ranked Sentences:\n",
      "------------------------------\n",
      "1: I had a great time at Mandalay Bay!\n",
      "\n",
      "\n",
      "2: The only negative I can come up with is that the hotel is located at the end of the Strip, so if you want to see something you will need to walk a lot.\n",
      "\n",
      "\n",
      "3: It has it all.\n",
      "\n",
      "\n",
      "4: It has it all.\n",
      "\n",
      "\n",
      "5: it was great .\n",
      "\n",
      "\n",
      "6: The pool at the Mandalay Bay is the best in Vegas.\n",
      "\n",
      "\n",
      "7: The rooms are nice, not great but very good.\n",
      "\n",
      "\n",
      "8: If you are all about hanging out by a pool, this is the hotel for you.\n",
      "\n",
      "\n",
      "9: There's a bunch of good restaurants that you should try if you are staying there or not....Burger Bar which is in the Mandalay Bay Place is a must!\n",
      "\n",
      "\n",
      "10: The only downfall on the Mandalay Bay is the location...it is located on the south strip...it's the last hotel on the south part of the strip so unless this is your first visit and you want to be more centralized so you can walk around and explore the strip, you might want to stay at this hotel during your return trips back.\n",
      "\n",
      "\n"
     ]
    }
   ],
   "source": [
    "concat_review = ' '.join(review_list[:100])\n",
    "\n",
    "tokenizer = tokenizers.Tokenizer('english')    \n",
    "parse = plaintext.PlaintextParser(concat_review, tokenizer)\n",
    "doc = parse.document  \n",
    "rank = lex_rank.LexRankSummarizer()\n",
    "\n",
    "#Print the top ten results of the sorting\n",
    "print('Ranked Sentences:')\n",
    "print('------------------------------')\n",
    "for i, sentence in enumerate(rank(doc, 10)):\n",
    "    print('{}: {}'.format(i+1, sentence))\n",
    "    print('\\n')"
   ]
  },
  {
   "cell_type": "markdown",
   "metadata": {},
   "source": [
    "<h1 class='main_header'>Time Series</h1>\n",
    "<hr>"
   ]
  },
  {
   "cell_type": "markdown",
   "metadata": {},
   "source": [
    "<h1 class='main_header'>Random</h1>\n",
    "<hr>"
   ]
  },
  {
   "cell_type": "markdown",
   "metadata": {},
   "source": [
    "<h2 class='section_header'>Product Sentiment</h2>"
   ]
  },
  {
   "cell_type": "code",
   "execution_count": 468,
   "metadata": {
    "collapsed": true
   },
   "outputs": [],
   "source": [
    "import graphlab as gl"
   ]
  },
  {
   "cell_type": "code",
   "execution_count": 482,
   "metadata": {
    "collapsed": false
   },
   "outputs": [],
   "source": [
    "review_objects = get_business_reviews(BIZ_ID)\n",
    "reviews = [x['text'].encode('utf-8') for x in review_objects]\n",
    "sf = gl.SFrame(reviews)"
   ]
  },
  {
   "cell_type": "code",
   "execution_count": 483,
   "metadata": {
    "collapsed": false
   },
   "outputs": [
    {
     "data": {
      "text/html": [
       "<pre>Tokenizing...</pre>"
      ],
      "text/plain": [
       "Tokenizing..."
      ]
     },
     "metadata": {},
     "output_type": "display_data"
    },
    {
     "data": {
      "text/html": [
       "<pre>TF-IDF transform...</pre>"
      ],
      "text/plain": [
       "TF-IDF transform..."
      ]
     },
     "metadata": {},
     "output_type": "display_data"
    },
    {
     "data": {
      "text/html": [
       "<pre>Creating inverted index...</pre>"
      ],
      "text/plain": [
       "Creating inverted index..."
      ]
     },
     "metadata": {},
     "output_type": "display_data"
    },
    {
     "data": {
      "text/html": [
       "<pre>Creating query expansion model...</pre>"
      ],
      "text/plain": [
       "Creating query expansion model..."
      ]
     },
     "metadata": {},
     "output_type": "display_data"
    },
    {
     "data": {
      "text/html": [
       "<pre>Saving data for querying...</pre>"
      ],
      "text/plain": [
       "Saving data for querying..."
      ]
     },
     "metadata": {},
     "output_type": "display_data"
    }
   ],
   "source": [
    "product_model = gl.product_sentiment.create(sf, features=['X1'])"
   ]
  },
  {
   "cell_type": "code",
   "execution_count": 484,
   "metadata": {
    "collapsed": false
   },
   "outputs": [
    {
     "data": {
      "text/html": [
       "<div style=\"max-height:1000px;max-width:1500px;overflow:auto;\"><table frame=\"box\" rules=\"cols\">\n",
       "    <tr>\n",
       "        <th style=\"padding-left: 1em; padding-right: 1em; text-align: center\">__review_id</th>\n",
       "        <th style=\"padding-left: 1em; padding-right: 1em; text-align: center\">X1</th>\n",
       "        <th style=\"padding-left: 1em; padding-right: 1em; text-align: center\">sentiment_score</th>\n",
       "    </tr>\n",
       "    <tr>\n",
       "        <td style=\"padding-left: 1em; padding-right: 1em; text-align: center; vertical-align: top\">1467</td>\n",
       "        <td style=\"padding-left: 1em; padding-right: 1em; text-align: center; vertical-align: top\">Stay at Mandalay Bay &amp;<br>You Never Have to ...</td>\n",
       "        <td style=\"padding-left: 1em; padding-right: 1em; text-align: center; vertical-align: top\">1.0</td>\n",
       "    </tr>\n",
       "    <tr>\n",
       "        <td style=\"padding-left: 1em; padding-right: 1em; text-align: center; vertical-align: top\">1335</td>\n",
       "        <td style=\"padding-left: 1em; padding-right: 1em; text-align: center; vertical-align: top\">Being a huge UFC fan, I<br>always wanted to stay ...</td>\n",
       "        <td style=\"padding-left: 1em; padding-right: 1em; text-align: center; vertical-align: top\">1.0</td>\n",
       "    </tr>\n",
       "    <tr>\n",
       "        <td style=\"padding-left: 1em; padding-right: 1em; text-align: center; vertical-align: top\">501</td>\n",
       "        <td style=\"padding-left: 1em; padding-right: 1em; text-align: center; vertical-align: top\">My friends and I came to<br>Mandalay Bay in May for ...</td>\n",
       "        <td style=\"padding-left: 1em; padding-right: 1em; text-align: center; vertical-align: top\">1.0</td>\n",
       "    </tr>\n",
       "    <tr>\n",
       "        <td style=\"padding-left: 1em; padding-right: 1em; text-align: center; vertical-align: top\">1192</td>\n",
       "        <td style=\"padding-left: 1em; padding-right: 1em; text-align: center; vertical-align: top\">I've stayed on the MBay<br>property approximately ...</td>\n",
       "        <td style=\"padding-left: 1em; padding-right: 1em; text-align: center; vertical-align: top\">1.0</td>\n",
       "    </tr>\n",
       "    <tr>\n",
       "        <td style=\"padding-left: 1em; padding-right: 1em; text-align: center; vertical-align: top\">140</td>\n",
       "        <td style=\"padding-left: 1em; padding-right: 1em; text-align: center; vertical-align: top\">My relationship with<br>Mandalay Bay is a love- ...</td>\n",
       "        <td style=\"padding-left: 1em; padding-right: 1em; text-align: center; vertical-align: top\">1.0</td>\n",
       "    </tr>\n",
       "    <tr>\n",
       "        <td style=\"padding-left: 1em; padding-right: 1em; text-align: center; vertical-align: top\">62</td>\n",
       "        <td style=\"padding-left: 1em; padding-right: 1em; text-align: center; vertical-align: top\">Mandalay Bay has been my<br>favorite place to sta ...</td>\n",
       "        <td style=\"padding-left: 1em; padding-right: 1em; text-align: center; vertical-align: top\">1.0</td>\n",
       "    </tr>\n",
       "    <tr>\n",
       "        <td style=\"padding-left: 1em; padding-right: 1em; text-align: center; vertical-align: top\">946</td>\n",
       "        <td style=\"padding-left: 1em; padding-right: 1em; text-align: center; vertical-align: top\">I am a local and my<br>family was coming into ...</td>\n",
       "        <td style=\"padding-left: 1em; padding-right: 1em; text-align: center; vertical-align: top\">1.0</td>\n",
       "    </tr>\n",
       "    <tr>\n",
       "        <td style=\"padding-left: 1em; padding-right: 1em; text-align: center; vertical-align: top\">102</td>\n",
       "        <td style=\"padding-left: 1em; padding-right: 1em; text-align: center; vertical-align: top\">I absolutely loved my<br>experience here and I ...</td>\n",
       "        <td style=\"padding-left: 1em; padding-right: 1em; text-align: center; vertical-align: top\">1.0</td>\n",
       "    </tr>\n",
       "    <tr>\n",
       "        <td style=\"padding-left: 1em; padding-right: 1em; text-align: center; vertical-align: top\">541</td>\n",
       "        <td style=\"padding-left: 1em; padding-right: 1em; text-align: center; vertical-align: top\">This is my favorite<br>budget friendly hotel in ...</td>\n",
       "        <td style=\"padding-left: 1em; padding-right: 1em; text-align: center; vertical-align: top\">1.0</td>\n",
       "    </tr>\n",
       "    <tr>\n",
       "        <td style=\"padding-left: 1em; padding-right: 1em; text-align: center; vertical-align: top\">799</td>\n",
       "        <td style=\"padding-left: 1em; padding-right: 1em; text-align: center; vertical-align: top\">I recently stayed at<br>Mandalay Bay during my ...</td>\n",
       "        <td style=\"padding-left: 1em; padding-right: 1em; text-align: center; vertical-align: top\">1.0</td>\n",
       "    </tr>\n",
       "</table>\n",
       "[10 rows x 3 columns]<br/>\n",
       "</div>"
      ],
      "text/plain": [
       "Columns:\n",
       "\t__review_id\tint\n",
       "\tX1\tstr\n",
       "\tsentiment_score\tfloat\n",
       "\n",
       "Rows: 10\n",
       "\n",
       "Data:\n",
       "+-------------+-------------------------------+-----------------+\n",
       "| __review_id |               X1              | sentiment_score |\n",
       "+-------------+-------------------------------+-----------------+\n",
       "|     1467    | Stay at Mandalay Bay & You... |       1.0       |\n",
       "|     1335    | Being a huge UFC fan, I al... |       1.0       |\n",
       "|     501     | My friends and I came to M... |       1.0       |\n",
       "|     1192    | I've stayed on the MBay pr... |       1.0       |\n",
       "|     140     | My relationship with Manda... |       1.0       |\n",
       "|      62     | Mandalay Bay has been my f... |       1.0       |\n",
       "|     946     | I am a local and my family... |       1.0       |\n",
       "|     102     | I absolutely loved my expe... |       1.0       |\n",
       "|     541     | This is my favorite budget... |       1.0       |\n",
       "|     799     | I recently stayed at Manda... |       1.0       |\n",
       "+-------------+-------------------------------+-----------------+\n",
       "[10 rows x 3 columns]"
      ]
     },
     "execution_count": 484,
     "metadata": {},
     "output_type": "execute_result"
    }
   ],
   "source": [
    "product_model.get_most_positive()"
   ]
  },
  {
   "cell_type": "code",
   "execution_count": 485,
   "metadata": {
    "collapsed": false
   },
   "outputs": [
    {
     "data": {
      "text/html": [
       "<div style=\"max-height:1000px;max-width:1500px;overflow:auto;\"><table frame=\"box\" rules=\"cols\">\n",
       "    <tr>\n",
       "        <th style=\"padding-left: 1em; padding-right: 1em; text-align: center\">keyword</th>\n",
       "        <th style=\"padding-left: 1em; padding-right: 1em; text-align: center\">sd_sentiment</th>\n",
       "        <th style=\"padding-left: 1em; padding-right: 1em; text-align: center\">mean_sentiment</th>\n",
       "        <th style=\"padding-left: 1em; padding-right: 1em; text-align: center\">review_count</th>\n",
       "    </tr>\n",
       "    <tr>\n",
       "        <td style=\"padding-left: 1em; padding-right: 1em; text-align: center; vertical-align: top\">fish</td>\n",
       "        <td style=\"padding-left: 1em; padding-right: 1em; text-align: center; vertical-align: top\">0.0884981417545</td>\n",
       "        <td style=\"padding-left: 1em; padding-right: 1em; text-align: center; vertical-align: top\">0.959784765798</td>\n",
       "        <td style=\"padding-left: 1em; padding-right: 1em; text-align: center; vertical-align: top\">10</td>\n",
       "    </tr>\n",
       "</table>\n",
       "[1 rows x 4 columns]<br/>\n",
       "</div>"
      ],
      "text/plain": [
       "Columns:\n",
       "\tkeyword\tstr\n",
       "\tsd_sentiment\tfloat\n",
       "\tmean_sentiment\tfloat\n",
       "\treview_count\tint\n",
       "\n",
       "Rows: 1\n",
       "\n",
       "Data:\n",
       "+---------+-----------------+----------------+--------------+\n",
       "| keyword |   sd_sentiment  | mean_sentiment | review_count |\n",
       "+---------+-----------------+----------------+--------------+\n",
       "|   fish  | 0.0884981417545 | 0.959784765798 |      10      |\n",
       "+---------+-----------------+----------------+--------------+\n",
       "[1 rows x 4 columns]"
      ]
     },
     "execution_count": 485,
     "metadata": {},
     "output_type": "execute_result"
    }
   ],
   "source": [
    "product_model.sentiment_summary(keywords=['fish'])"
   ]
  },
  {
   "cell_type": "code",
   "execution_count": 486,
   "metadata": {
    "collapsed": false
   },
   "outputs": [
    {
     "data": {
      "text/html": [
       "<div style=\"max-height:1000px;max-width:1500px;overflow:auto;\"><table frame=\"box\" rules=\"cols\">\n",
       "    <tr>\n",
       "        <th style=\"padding-left: 1em; padding-right: 1em; text-align: center\">score</th>\n",
       "        <th style=\"padding-left: 1em; padding-right: 1em; text-align: center\">__review_id</th>\n",
       "        <th style=\"padding-left: 1em; padding-right: 1em; text-align: center\">X1</th>\n",
       "        <th style=\"padding-left: 1em; padding-right: 1em; text-align: center\">sentiment_score</th>\n",
       "    </tr>\n",
       "    <tr>\n",
       "        <td style=\"padding-left: 1em; padding-right: 1em; text-align: center; vertical-align: top\">17.9381183128</td>\n",
       "        <td style=\"padding-left: 1em; padding-right: 1em; text-align: center; vertical-align: top\">789</td>\n",
       "        <td style=\"padding-left: 1em; padding-right: 1em; text-align: center; vertical-align: top\">The room service crème<br>brûlée was the best we ...</td>\n",
       "        <td style=\"padding-left: 1em; padding-right: 1em; text-align: center; vertical-align: top\">0.918700471766</td>\n",
       "    </tr>\n",
       "</table>\n",
       "[1 rows x 4 columns]<br/>\n",
       "</div>"
      ],
      "text/plain": [
       "Columns:\n",
       "\tscore\tfloat\n",
       "\t__review_id\tint\n",
       "\tX1\tstr\n",
       "\tsentiment_score\tfloat\n",
       "\n",
       "Rows: 1\n",
       "\n",
       "Data:\n",
       "+---------------+-------------+-------------------------------+-----------------+\n",
       "|     score     | __review_id |               X1              | sentiment_score |\n",
       "+---------------+-------------+-------------------------------+-----------------+\n",
       "| 17.9381183128 |     789     | The room service crème brû... |  0.918700471766 |\n",
       "+---------------+-------------+-------------------------------+-----------------+\n",
       "[1 rows x 4 columns]"
      ]
     },
     "execution_count": 486,
     "metadata": {},
     "output_type": "execute_result"
    }
   ],
   "source": [
    "product_model.review_searcher.query('Cr\\xc3\\xa8me Brulee', num_results=50)"
   ]
  },
  {
   "cell_type": "markdown",
   "metadata": {},
   "source": [
    "[{u'_id': u'4bEjOyTaDG24SY5TxsaUNQ', u'count': 5558},\n",
    " {u'_id': u'lliksv-tglfUz1T3B3vgvA', u'count': 2911},\n",
    " {u'_id': u'CZjcFdvJhksq9dy58NVEzw', u'count': 2832},\n",
    " {u'_id': u'tFU2Js_nbIZOrnKfYJYBBg', u'count': 2781},\n",
    " {u'_id': u'6LM_Klmp3hOP0JmsMCKRqQ', u'count': 2551},\n",
    " {u'_id': u'eWPFXL1Bmu1ImtIa2Rqliw', u'count': 2459},\n",
    " {u'_id': u'DO3Gk17RyJVW7zYMCtYPnw', u'count': 2369},\n",
    " {u'_id': u'jf67Z1pnwElRSXllpQHiJg', u'count': 2345},\n",
    " {u'_id': u'34uJtlPnKicSaX1V8_tu1A', u'count': 2253},\n",
    " {u'_id': u'NGJDjdiDJHmN2xxU7KauuA', u'count': 2081},\n",
    " {u'_id': u'xyTJYlbE_MLouK6rCou6zg', u'count': 2004},\n",
    " {u'_id': u'-7yF42k0CcJhtPw51oaOqQ', u'count': 1970},\n",
    " {u'_id': u'FV16IeXJp2W6pnghTz2FAw', u'count': 1921},\n",
    " {u'_id': u'SsTxjxo8qvqBMvan1rzNzg', u'count': 1875},\n",
    " {u'_id': u'TWD8c5-P7w9v-2KX_GSNZQ', u'count': 1859},\n",
    " {u'_id': u'G0nUhYF2q4tnoOPwCjXLig', u'count': 1815},\n",
    " {u'_id': u'u9wjRhUjySkHPa_hG3kFOg', u'count': 1746},\n",
    " {u'_id': u'hW0Ne_HTHEAgGF1rAdmR-g', u'count': 1709},\n",
    " {u'_id': u'ripCiWZ0MblMZSLrIKQAKA', u'count': 1698},\n",
    " {u'_id': u'HbUQ_3dlm3uCacmhTEMnuA', u'count': 1651},\n",
    " {u'_id': u'_v6HIliEOn0l0YaAmBOrxw', u'count': 1621},\n",
    " {u'_id': u'JokKtdXU7zXHcr20Lrk29A', u'count': 1610},\n",
    " {u'_id': u'VVeogjZya58oiTxK7qUjAQ', u'count': 1578},\n",
    " {u'_id': u'tqu42L0qXzkvYKSruOz0IA', u'count': 1551},\n",
    " {u'_id': u'bYhpy9u8fKkGhYHtvYXazQ', u'count': 1478},\n",
    " {u'_id': u'DUdBbrvqfaqUe9GYKmYNtA', u'count': 1459},\n",
    " {u'_id': u'WT-v-DgQvW38DewVyTLdTA', u'count': 1416},\n",
    " {u'_id': u'aRkYtXfmEKYG-eTDf_qUsw', u'count': 1390},\n",
    " {u'_id': u'eLPld7Q17XxlclFGzZQX5g', u'count': 1372},\n",
    " {u'_id': u'8IMEf_cj8KyTQojhNOyoPg', u'count': 1369},\n",
    " {u'_id': u'SLyacGZuMUKqrQJEooSkjw', u'count': 1299},\n",
    " {u'_id': u'KjymOs12Mpy0Kd54b7T9MA', u'count': 1293},\n",
    " {u'_id': u'HMr_KN63f6MzM9h8Wije3Q', u'count': 1291},\n",
    " {u'_id': u'OUpcKYGbVYgSS1Oo7aQ56Q', u'count': 1261},\n",
    " {u'_id': u'8buIr1zBCO7OEcAQSZko7w', u'count': 1216},\n",
    " {u'_id': u'3Q0QQPnHcJuX1DLCL9G9Cg', u'count': 1188},\n",
    " {u'_id': u'4UVhuOLaMm2-34SrW8y-ag', u'count': 1162},\n",
    " {u'_id': u'ynK2ljcx5S1qSxouBrN5Xg', u'count': 1160},\n",
    " {u'_id': u'YacTpiq0ZptFcXD7I-kdGA', u'count': 1148},\n",
    " {u'_id': u'K8pM6qQdYu5h6buRE1-_sw', u'count': 1110},\n",
    " {u'_id': u'FHqwLwpLjUjeLP-IdG_o_w', u'count': 1096},\n",
    " {u'_id': u'ASOiJ8MmbBTgK2D1_MQrqg', u'count': 1090},\n",
    " {u'_id': u'Q_Rwcv9APBLggk2KAsBEvg', u'count': 1083},\n",
    " {u'_id': u'SDwYQ6eSu1htn8vHWv128g', u'count': 1067},\n",
    " {u'_id': u'KJnVuzpveyDrHARVNZaYVg', u'count': 1025},\n",
    " {u'_id': u'm7icEOgYpM3B8TlbYsKPzg', u'count': 1022},\n",
    " {u'_id': u'Zx8_4zKdDBSO3qGrkukBIA', u'count': 1021},\n",
    " {u'_id': u'Z0kyK8wCBNGkkUT9UrMWcg', u'count': 973},\n",
    " {u'_id': u'L9UYbtAUOcfTgZFimehlXw', u'count': 968},\n",
    " {u'_id': u'ES-j5yNTgmgbL4He0h6otA', u'count': 966},\n",
    " {u'_id': u'65EJzWvIUnE1YwpfW6Jl1Q', u'count': 907},\n",
    " {u'_id': u'tbTc7094zwIYAtU-0NkU4w', u'count': 864},\n",
    " {u'_id': u'1NZLxU5WvB5roPFzneAlLw', u'count': 857},\n",
    " {u'_id': u'c1yGkETheht_1vjda7G5sA', u'count': 843},\n",
    " {u'_id': u'Q4ULAiIE2qCA4RYplCTrUQ', u'count': 836},\n",
    " {u'_id': u'QJlab4DqvBRJPUfg7Vn5ZQ', u'count': 830},\n",
    " {u'_id': u'RbkLrCFa2AL1K25GCnNK8A', u'count': 830},\n",
    " {u'_id': u'f3EcPjqKftEznBSs2oQVRg', u'count': 803},\n",
    " {u'_id': u'z3yFuLVrmH-3RJruPEMYKw', u'count': 791},\n",
    " {u'_id': u'OFBJtqWGSx6n6CchtVmoRw', u'count': 782},\n",
    " {u'_id': u'q_DrPmiLrHEpR_SQvQXELQ', u'count': 781},\n",
    " {u'_id': u'i3ogCoQD4MY_sR73GCk-BA', u'count': 774},\n",
    " {u'_id': u'DqY2VlbRuQ3Mu2mlxd4xUQ', u'count': 755},\n",
    " {u'_id': u'Zf7fMSe7yuW727JyikdBsg', u'count': 751},\n",
    " {u'_id': u'PqTX5j9yfsPbd1qQCA1EwA', u'count': 739},\n",
    " {u'_id': u'yD1dRYi7USzhYVKiqZ7JVg', u'count': 734},\n",
    " {u'_id': u'n5eQnMnVVt3FfrFENYoU0g', u'count': 733},\n",
    " {u'_id': u'UEUQS4z7s-DRzQjky92KYw', u'count': 725},\n",
    " {u'_id': u'Ensu96ecI0OReupNS2x7ig', u'count': 724},\n",
    " {u'_id': u'fkVBloMEFJG2HTgeCxeNDg', u'count': 720},\n",
    " {u'_id': u'H6CJflwclNpttYrtsBMsVg', u'count': 714},\n",
    " {u'_id': u'AkOruz5CrCxUmXe1p_WoRg', u'count': 706},\n",
    " {u'_id': u'APe_0I6DqbNQonSlEkMSEQ', u'count': 696},\n",
    " {u'_id': u'CrlViaCIcMeQuZc63tbdQA', u'count': 694},\n",
    " {u'_id': u'gkWEjZIVcrUerEzed6IKpg', u'count': 693},\n",
    " {u'_id': u'Yq8LiVymGA7vBpGCQuDfRw', u'count': 688},\n",
    " {u'_id': u'1bJjWGYip-V2PGj4VIwbiQ', u'count': 669},\n",
    " {u'_id': u'lAher1puKzN9r3LALx-JqQ', u'count': 669},\n",
    " {u'_id': u'lddbHJKgFvnVWabK-M8TPA', u'count': 663},\n",
    " {u'_id': u'Pgp3gbOQaJIdyjqC9AOz6g', u'count': 660},\n",
    " {u'_id': u'9Y3aQAVITkEJYe5vLZr13w', u'count': 657},\n",
    " {u'_id': u'mxrXVZWc6PWk81gvOVNOUw', u'count': 656},\n",
    " {u'_id': u'bwu0cUZfksuu-uzTPrrl2A', u'count': 652},\n",
    " {u'_id': u'rMSje59v2QY82OBvE1zBuA', u'count': 647},\n",
    " {u'_id': u'R8VwdLyvsp9iybNqRvm94g', u'count': 641},\n",
    " {u'_id': u'EKzMHI1tip8rC1-ZAy64yg', u'count': 630},\n",
    " {u'_id': u'bmNPNlCLDplWB55ic3Bixg', u'count': 627},\n",
    " {u'_id': u'co0vxQ8ecXiBy2sGDeHi8A', u'count': 626},\n",
    " {u'_id': u'eoDEx1GGQA0CBDhy2ql_Kw', u'count': 615},\n",
    " {u'_id': u'_VN5hYv1VgNIBgwxTQZ_1Q', u'count': 614},\n",
    " {u'_id': u'fkacCsAiwXYQzdlaQZm0Gg', u'count': 611},\n",
    " {u'_id': u'FV0BkoGOd3Yu_eJnXY15ZA', u'count': 596},\n",
    " {u'_id': u'mpDxBBGywUE6GRRKja3sBA', u'count': 590},\n",
    " {u'_id': u'b5cEoKR8iQliq-yT2_O0LQ', u'count': 587},\n",
    " {u'_id': u'cN6aBxe2mQvrQlzk26LyRQ', u'count': 577},\n",
    " {u'_id': u'KwLfgeylp9d8zY3KacREiw', u'count': 563},\n",
    " {u'_id': u'G69-uLxHs3h6uvrikivpVA', u'count': 558},\n",
    " {u'_id': u'gu5Yj92bnXnxNyMdxO14VA', u'count': 555},\n",
    " {u'_id': u'4GQhbPvGU5r23YdVm8EmkQ', u'count': 552},\n",
    " {u'_id': u'2ceeU8e3nZjaPfGmLwh4kg', u'count': 551},\n",
    " {u'_id': u'rDvz5jX65gpfONFu7er9Tw', u'count': 551},\n",
    " {u'_id': u'xxOQ7h6s3InV8o8DOVHlMA', u'count': 550},\n",
    " {u'_id': u'foDMwBRGJvKw791v0AT7OA', u'count': 549},\n",
    " {u'_id': u'6oRAC4uyJCsJl1X0WZpVSA', u'count': 549},\n",
    " {u'_id': u'jh7S78tc9oXCDjAjP_OrLw', u'count': 544},\n",
    " {u'_id': u'bqYrEwL5xjqv0u8XAij--Q', u'count': 542},\n",
    " {u'_id': u'w4SGmsvFzqyAIs7CSQ_J-g', u'count': 540},\n",
    " {u'_id': u'WhBxWYRj6rycigYqdXY9cA', u'count': 538},\n",
    " {u'_id': u'uYVdp5LfCbX8S8ytnhdk-g', u'count': 533},\n",
    " {u'_id': u'tb24fvNJfHhyKEXkKn12Xw', u'count': 530},\n",
    " {u'_id': u'W0TK5K3VLbnNrrzLTaaykw', u'count': 527},\n",
    " {u'_id': u'dcd3C1gWv-vVdQ9XYV8Ubw', u'count': 526},\n",
    " {u'_id': u'qMkIbQFrROSnPaQ7at85-w', u'count': 521},\n",
    " {u'_id': u'wZwZcte4lcbu51NOzCjWbQ', u'count': 519},\n",
    " {u'_id': u'JhupPnWfNlMJivnWB5druA', u'count': 516},\n",
    " {u'_id': u'keV-NU5jaemf9L_7HDX-OA', u'count': 510},\n",
    " {u'_id': u'SMpL3z4FLF07bRA6-y22JQ', u'count': 506},\n",
    " {u'_id': u'-vVQyTVHitF6TOHGijVXxQ', u'count': 505},\n",
    " {u'_id': u'ZgWUM594Yqk52IvBgoIrdA', u'count': 502},\n",
    " {u'_id': u'UKKz4HdQC0aH9j5lLi4u8Q', u'count': 496},\n",
    " {u'_id': u'E4AkhjuG-DY2DTcBrkxkGg', u'count': 490},\n",
    " {u'_id': u'4EhFsjWBSaSp_5TkkLp7LA', u'count': 487},\n",
    " {u'_id': u'PPwJTT-eLjapipmyQSgi9A', u'count': 480},\n",
    " {u'_id': u'TKE1cyjs9q2PoqMXqEV9Eg', u'count': 478},\n",
    " {u'_id': u'5kRug3bEienrpovtPRVVwg', u'count': 478},\n",
    " {u'_id': u'PayaNmMeZFOFeS_jo7eB8g', u'count': 468},\n",
    " {u'_id': u'5IWu0xhlZEopvIz3w7o_3w', u'count': 466},\n",
    " {u'_id': u'rP76z9iDOFczywAiee-l7A', u'count': 465},\n",
    " {u'_id': u'mmuBeBJIVRjMwcc08RG_cw', u'count': 464},\n",
    " {u'_id': u'fWnGkLnZzv2yl3fB7xF40g', u'count': 463},\n",
    " {u'_id': u'jJhNOhuGpIsJX5SEUFFWYQ', u'count': 463},\n",
    " {u'_id': u'bA-Cj6N9TEMlDlOh2aAnUw', u'count': 463},\n",
    " {u'_id': u'd52zg-S0o940WUCK-nNiKw', u'count': 462},\n",
    " {u'_id': u'bpGFetX8muk0GxAT3Oea3Q', u'count': 460},\n",
    " {u'_id': u'KPoTixdjoJxSqRSEApSAGg', u'count': 456},\n",
    " {u'_id': u'LzNJLEIo4gh-X_rmDkNkNg', u'count': 454},\n",
    " {u'_id': u't1sCvl0nSbWeRj0ZgsolRA', u'count': 452},\n",
    " {u'_id': u'YZuHOgbKiP3dN4_ROOUyDQ', u'count': 451},\n",
    " {u'_id': u'lqx--hrRwe0oK6WnFYNXlg', u'count': 451},\n",
    " {u'_id': u'vvur3WRgdgnhYoMUXMZZCA', u'count': 447},\n",
    " {u'_id': u'3rwM9fPYPk9qDkEBOhyHbg', u'count': 443},\n",
    " {u'_id': u'V6BYjHM9SnXscfkln3hCdA', u'count': 442},\n",
    " {u'_id': u'zMa6YoEekpABg1HZnnTZdg', u'count': 442},\n",
    " {u'_id': u'aLWvaNTOUr1wdOizitoOuA', u'count': 436},\n",
    " {u'_id': u'4AKcmN--0hbF0kX9pg8scg', u'count': 436},\n",
    " {u'_id': u'zuqsWG_FamUP3FQnL49Q4Q', u'count': 428},\n",
    " {u'_id': u'7QSYBp2-AOdyUJXEaLnbgA', u'count': 428},\n",
    " {u'_id': u'0UZ31UTcOLRKuqPqPe-VBA', u'count': 426},\n",
    " {u'_id': u'UBvTnbaRD3h_dD6oXWLCBA', u'count': 426},\n",
    " {u'_id': u'sXEOGcIGsO2_zZXYxVadTw', u'count': 426},\n",
    " {u'_id': u'NeUf9FyCCIN4MEseNyqkXQ', u'count': 425},\n",
    " {u'_id': u'DxUn-ukNL27GOuwjnFGFKA', u'count': 424},\n",
    " {u'_id': u'iNT6pcUugoXsDlZgRTyhtw', u'count': 421},\n",
    " {u'_id': u'oCA2OZcd_Jo_ggVmUx3WVw', u'count': 421},\n",
    " {u'_id': u'8_HGHlHsNdCnTsLQYHteAw', u'count': 420},\n",
    " {u'_id': u'6md4A90THda31wTg1bB3hg', u'count': 418},\n",
    " {u'_id': u'luCSjoNQ9q_0QIjKKOy2pQ', u'count': 416},\n",
    " {u'_id': u'cjD2yGRhT5yaSj_KP55Ptw', u'count': 416},\n",
    " {u'_id': u'Bp93pemXBdiEkZqdK-vtgw', u'count': 414},\n",
    " {u'_id': u'-AAig9FG0s8gYE4f8GfowQ', u'count': 414},\n",
    " {u'_id': u'Zy2vca7i9QFGRKa4m0C__A', u'count': 413},\n",
    " {u'_id': u'uR2aNW75R4oYs9w7aw-_kQ', u'count': 411},\n",
    " {u'_id': u'HT-3izSFU8ZMazvSqrADyw', u'count': 411},\n",
    " {u'_id': u'y6sNNP97UCSl_p2o5Wm40A', u'count': 409},\n",
    " {u'_id': u'bQXzuRIQNKGxe0Py-CLDYA', u'count': 409},\n",
    " {u'_id': u'8Hn5X1AqgmSLHRG2KgBJBg', u'count': 407},\n",
    " {u'_id': u'rG_8t33D2ADcbBqcXqwV0Q', u'count': 406},\n",
    " {u'_id': u'bc-lE-wGVAsUrX-kJhtY-Q', u'count': 404},\n",
    " {u'_id': u'uE8UZzb8xMMULary5sXHpQ', u'count': 403},\n",
    " {u'_id': u'VZyE9u5-gAG62zfe53hXWA', u'count': 402},\n",
    " {u'_id': u'dNsKB5LA2Mf8BDqTS_FAIA', u'count': 402},\n",
    " {u'_id': u'TwxHMCcRdF_CQb_EZ6kPQQ', u'count': 402},\n",
    " {u'_id': u'kFVapB4z_5VoOnYazF_ERA', u'count': 401},\n",
    " {u'_id': u'-KDCNt72VIuhV1rSUlF-eg', u'count': 400},\n",
    " {u'_id': u'1bnte8O-rO_RcRlp9y2u7Q', u'count': 396},\n",
    " {u'_id': u'5FPU_0VSLtR2yY7IQzaH5g', u'count': 394},\n",
    " {u'_id': u'upmnxJvYe5aOYE9wVNkGaw', u'count': 393},\n",
    " {u'_id': u'X0cEpOYi0Gf-S_-xb8OZVQ', u'count': 392},\n",
    " {u'_id': u'cVejKU_SrdbvzIbQ4oPV0A', u'count': 391},\n",
    " {u'_id': u'Snp5LyDO9NeQiuFPOlkavw', u'count': 390},\n",
    " {u'_id': u'J3A5V0Hl07o_KQSI2hHf_g', u'count': 388},\n",
    " {u'_id': u'sxRI0je6hAR-MeBDxdyhug', u'count': 388},\n",
    " {u'_id': u'MLPEpxih9E8NySHbM0FSWQ', u'count': 386},\n",
    " {u'_id': u'L2J3JfjXZLnX1rLhWKthqA', u'count': 386},\n",
    " {u'_id': u'SkcccvAydbt5zlQI0EUL2g', u'count': 385},\n",
    " {u'_id': u'5tYLVPc2PKnj6E62sY6QMg', u'count': 384},\n",
    " {u'_id': u'SoCQmHKJz54E09tEhmzwcQ', u'count': 377},\n",
    " {u'_id': u'6qXQQOWdUZiJmWVqkWB-3w', u'count': 376},\n",
    " {u'_id': u'ROQQk4mCm4_tebvTEGjhEQ', u'count': 375},\n",
    " {u'_id': u'18TUn9oiW0k0yB6lheiOvw', u'count': 374},\n",
    " {u'_id': u'N8Q2s-Snz2vL79zB3rEEug', u'count': 370},\n",
    " {u'_id': u'fjaQ3Ixkofh8xGhklUtDnA', u'count': 370},\n",
    " {u'_id': u'bB1bVvOMkfvWFVbNmRl_VA', u'count': 363},\n",
    " {u'_id': u'G9LwkTSdKOyOGqd5BbuIkA', u'count': 362},\n",
    " {u'_id': u'ML1RJdeZ7bbfMrHvJ7m99A', u'count': 359},\n",
    " {u'_id': u'xhh72bIFefOaAxsj4vJJaA', u'count': 358},\n",
    " {u'_id': u'33aOj9haiHsULCUmFOZ7uQ', u'count': 358},\n",
    " {u'_id': u'fF6m3qsD5blnwuZRuYhzWg', u'count': 357},\n",
    " {u'_id': u'Nj6ITW0Zhl7LpovGIH6SAg', u'count': 357},\n",
    " {u'_id': u'NfdZgoNTGsfth9MS8Qaurg', u'count': 357},\n",
    " {u'_id': u'V3ruBXjLGWniPNPQOzRhiw', u'count': 357},\n",
    " {u'_id': u'1ldDbggHHgPlj3k0SpBTKQ', u'count': 357},\n",
    " {u'_id': u'2Dbg35sPSGmZGcbBVNa9dA', u'count': 355},\n",
    " {u'_id': u'vvPzcOhbQn5fLQUAIxcP6A', u'count': 354},\n",
    " {u'_id': u'cE16HnvfgpTAk2GW3mF4Aw', u'count': 353},\n",
    " {u'_id': u'UpkfQApZT5rctZicZ_ZTgw', u'count': 353},\n",
    " {u'_id': u'P5uC-zfGG6yqoQDUyqyAvg', u'count': 352},\n",
    " {u'_id': u'eGevCRobYnA_HSj60sEWvQ', u'count': 351},\n",
    " {u'_id': u'GIGI8bJfN6HyPzmEW-QqjA', u'count': 350},\n",
    " {u'_id': u'cMBZ46gNJPYY7zkxDb1piw', u'count': 347},\n",
    " {u'_id': u'DoEMzev54WS8_lVLJ3NoqQ', u'count': 346},\n",
    " {u'_id': u'UI8iKvzhGn2qZCGIqtQqrQ', u'count': 346},\n",
    " {u'_id': u'2OY8xs4aqOt8eTnYokdrww', u'count': 346},\n",
    " {u'_id': u'jBb5KHHAj4s8hcXVS6QXDg', u'count': 345},\n",
    " {u'_id': u'jTGQUWGIVvL-aY03C5BEmw', u'count': 345},\n",
    " {u'_id': u'ecpYgTTQuXzmYNGxGTvbhw', u'count': 344},\n",
    " {u'_id': u'Hdi7jkB7pHiM1nyPHcqSdw', u'count': 344},\n",
    " {u'_id': u'1Ap6ZNCvyLLKHP0wvCk9yA', u'count': 344},\n",
    " {u'_id': u'6AzXPSXxztBnGwkToG3jKg', u'count': 341},\n",
    " {u'_id': u'woeY1YUkcaXgx6CzWqhATw', u'count': 341},\n",
    " {u'_id': u'zFcd_gelAUEwAvJOgiZpvg', u'count': 340},\n",
    " {u'_id': u'88CNSyeoKhGn1x0SHvz8Ig', u'count': 339},\n",
    " {u'_id': u'-3WVw1TNQbPBzaKCaQQ1AQ', u'count': 338},\n",
    " {u'_id': u'x_MCZPQ9G-IsDnwkJBceIQ', u'count': 338},\n",
    " {u'_id': u'2nzUx_M8Szyzsf4CszHasw', u'count': 337},\n",
    " {u'_id': u'pNyqk-HCo3SXPPppi04Bag', u'count': 336},\n",
    " {u'_id': u'bzSzpGAn4kjGRtsgMM1pvg', u'count': 335},\n",
    " {u'_id': u'_UsqOvmgoNzb_0xWpzwZBg', u'count': 333},\n",
    " {u'_id': u'OvE1oiSg9gaB9cLGzBPlnw', u'count': 331},\n",
    " {u'_id': u'9IbQxDmWBG2t8w9nw9VgEA', u'count': 329},\n",
    " {u'_id': u'mU57qypB4nLScxgowHNEUA', u'count': 327},\n",
    " {u'_id': u'8lLkZOfXbSMumZC-v08GaA', u'count': 327},\n",
    " {u'_id': u'EH7sT3dV-B365RETWCQhIA', u'count': 326},\n",
    " {u'_id': u'r70nuDpkR5-g1oShW2ANvA', u'count': 324},\n",
    " {u'_id': u'YuS7tA9VkXwgywis4TMspg', u'count': 323},\n",
    " {u'_id': u'fEX1IcPNrhJAdwk4DgyVVw', u'count': 323},\n",
    " {u'_id': u'RfR5yc4j9coIPBuxRsOW8Q', u'count': 323},\n",
    " {u'_id': u'Exx5ffvnmk4MrTyCkPRuug', u'count': 321},\n",
    " {u'_id': u'8Nsh8u0zHYegI6XT1L39Lg', u'count': 320},\n",
    " {u'_id': u't0yVlH_n9_eEZskHwr5cnQ', u'count': 320},\n",
    " {u'_id': u'mCUKDoJdHLF4f1tGT9xC0g', u'count': 320},\n",
    " {u'_id': u'P3z-tSjqJRMJPQ9fx_5MSQ', u'count': 319},\n",
    " {u'_id': u'SfrHdU4NCkYWvERnWaOUqQ', u'count': 319},\n",
    " {u'_id': u'kEsKrIJ6M1KOb8UALrpP7g', u'count': 319},\n",
    " {u'_id': u'-bd26a1QEEpqUZjBmtBUiQ', u'count': 318},\n",
    " {u'_id': u'3xEB9FyFXolq1b_Qn_BFtg', u'count': 318},\n",
    " {u'_id': u'Ss7rZpNaKRWs4Wkq_tHuTA', u'count': 317},\n",
    " {u'_id': u'dimWYHJ7U21GQziojKH0xg', u'count': 317},\n",
    " {u'_id': u'7_zL7NX_rDFwhbLp98PwZg', u'count': 317},\n",
    " {u'_id': u'o1GIYYZJjM6nM03fQs_uEQ', u'count': 316},\n",
    " {u'_id': u'IM-9thHqQbBK5tX5MfTzBQ', u'count': 316},\n",
    " {u'_id': u'1Duul3qCnLrNak1Np-iHfw', u'count': 312},\n",
    " {u'_id': u'pF7uRzygyZsltbmVpjIyvw', u'count': 309},\n",
    " {u'_id': u'l2rEBS7iKgIteBe0KgB5Ng', u'count': 308},\n",
    " {u'_id': u'xtX2qS64zP2NRPV_7NNqHw', u'count': 307},\n",
    " {u'_id': u'Dq6g0ubf267tWRU4BSk44A', u'count': 307},\n",
    " {u'_id': u'aidjBZ-cLeRmrsAPM6ZkcA', u'count': 306},\n",
    " {u'_id': u'LMG0zsAkUSscIvmV9vvm3A', u'count': 305},\n",
    " {u'_id': u'3Zsjlum5kl5N5KV712aTMQ', u'count': 304},\n",
    " {u'_id': u'sNuyncpQdcvfEpfZS-3Yew', u'count': 303},\n",
    " {u'_id': u'0vzZ_Bcb02rJljeMU9XkBw', u'count': 303},\n",
    " {u'_id': u'O_ZNZDr6c5CsK6GgsKdDeQ', u'count': 302},\n",
    " {u'_id': u'9tSHBEoAhKu-tkU8n6SKjA', u'count': 301},\n",
    " {u'_id': u'7WGBi29_vj_7RcPVxpLNHA', u'count': 301},\n",
    " {u'_id': u'DKY2be7dDX2CT_WB_Dk4pQ', u'count': 300},\n",
    " {u'_id': u'0udEgNqy5rLR5pZ4kD19Og', u'count': 300},\n",
    " {u'_id': u'BESmH-lmMm34_EefL8X9fQ', u'count': 299},\n",
    " {u'_id': u'MLcXtnpzygZvQ9BtseLLlw', u'count': 299},\n",
    " {u'_id': u'Cp6JGY5YIRncTV_My9nf9g', u'count': 299},\n",
    " {u'_id': u'_tkAI5Q5XQSfgbqJzDKSDQ', u'count': 297},\n",
    " {u'_id': u'Y606ZDAYwBug3CUwgHZQZA', u'count': 297},\n",
    " {u'_id': u'YZxA6w82eFJFntwqJLln6w', u'count': 297},\n",
    " {u'_id': u'd3-h8QpXoQnUlC9nt55HTw', u'count': 297},\n",
    " {u'_id': u'AwD1zOOhuCAbAPSaZ4X68Q', u'count': 296},\n",
    " {u'_id': u'NTfUFk8GyOLL1uPbEO-pVg', u'count': 294},\n",
    " {u'_id': u'un3KC2gyMrSG6yqjVRctXg', u'count': 293},\n",
    " {u'_id': u'c0RSs2KYK5Y-ZlSrNq9LyA', u'count': 293},\n",
    " {u'_id': u'nQUsMhT7qY6pPMvTT6xGcQ', u'count': 293},\n",
    " {u'_id': u'soiGohHtWOltGeomkSxzEw', u'count': 293},\n",
    " {u'_id': u'5FE1Y9cZ-YOQA943nTi7cA', u'count': 292},\n",
    " {u'_id': u'fK7ujDbjhRFEe2D7eIwK4w', u'count': 292},\n",
    " {u'_id': u'XmdTkxKyJd7TuDLoiic1kg', u'count': 291},\n",
    " {u'_id': u'HMUvbAHRnbAczNrYy8e5MA', u'count': 290},\n",
    " {u'_id': u'TuarWzZ4ITf3H7vkPrz-Kw', u'count': 289},\n",
    " {u'_id': u'DlCtdbceo4YNSI53cCL2lg', u'count': 287},\n",
    " {u'_id': u'EnKI5w-x0_ZPAS_3QPYFtQ', u'count': 286},\n",
    " {u'_id': u'uSbUk-3UcgzTPpzyL9dgJQ', u'count': 285},\n",
    " {u'_id': u'hMX4U1Ie3_PLCOQM2-BnDQ', u'count': 285},\n",
    " {u'_id': u'dS5qlJ6au0Wz9FwmbPSjYA', u'count': 285},\n",
    " {u'_id': u'438avb8WSYIKFn77dtsFow', u'count': 284},\n",
    " {u'_id': u'jEWfxxA_kjeJE_Z_ku3zLA', u'count': 283},\n",
    " {u'_id': u'qkc9xYbOFDLhPyA6Kdr8lQ', u'count': 283},\n",
    " {u'_id': u'y75baZnoI51J8WS7NK9FHQ', u'count': 283},\n",
    " {u'_id': u'8Z3jgKCdfp57PvT1AFOWtg', u'count': 280},\n",
    " {u'_id': u'secsGLdQOaJPATB9SnHlew', u'count': 280},\n",
    " {u'_id': u'3UMcsN9IjoeV8JZvC4apag', u'count': 280},\n",
    " {u'_id': u'4MwbNHAVZ6aRE1FWks-HRQ', u'count': 279},\n",
    " {u'_id': u'jJlOPkv4Xl6vxNzr51fnYw', u'count': 279},\n",
    " {u'_id': u'zMN8UGd1zDEreT58OCdnyg', u'count': 278},\n",
    " {u'_id': u'UO80ofDOenKF4QWR2z-oKA', u'count': 278},\n",
    " {u'_id': u'OVtSFFNohXIz9vdWDvbnEw', u'count': 278},\n",
    " {u'_id': u'dl5K9Hc2kUcGcrVIQAOhWQ', u'count': 277},\n",
    " {u'_id': u'0db71MbrvcJnyk71COCJBg', u'count': 277},\n",
    " {u'_id': u'I941jBn1KURuN-2wygJ_5A', u'count': 274},\n",
    " {u'_id': u'WUtPI9rJbs7ET1gPhULnDw', u'count': 273},\n",
    " {u'_id': u'auorqdHiATGZHVd-sd79ZQ', u'count': 272},\n",
    " {u'_id': u'9Vr8jxyP6eP9HQcEbg1awg', u'count': 272},\n",
    " {u'_id': u'jCOTob1avPH52RNuniylkg', u'count': 272},\n",
    " {u'_id': u'QvRK2dyv4EDxuJ-LuodE2Q', u'count': 269},\n",
    " {u'_id': u'Bjt3rB73dvSDe1XEPEWc6w', u'count': 269},\n",
    " {u'_id': u'VpW40mznMS43CqdbelX2wA', u'count': 269},\n",
    " {u'_id': u'e5kc0CQ4R-PCCDgb274gSg', u'count': 268},\n",
    " {u'_id': u'iNvY0zAlaD_ye7Z6rHu-Ug', u'count': 268},\n",
    " {u'_id': u'fjRBF1-0JlJoxH5_jDANgA', u'count': 266},\n",
    " {u'_id': u'5yMcbS15CfhSvVQWCe79tw', u'count': 265},\n",
    " {u'_id': u'Pfb6VOIiroqDWOebfgWGPQ', u'count': 265},\n",
    " {u'_id': u'2X5G4Ujq0s4Wfn4TC7gX0g', u'count': 265},\n",
    " {u'_id': u'E28ht8IEiO6FZbKktSo0Xw', u'count': 264},\n",
    " {u'_id': u'FOfhEC6rN23RQaUlsR2byw', u'count': 264},\n",
    " {u'_id': u'IMGW6y8wHQCfr_6k-YXg_A', u'count': 264},\n",
    " {u'_id': u'vgXE1I7c9ElcfYyZfQiN1Q', u'count': 264},\n",
    " {u'_id': u'2SwC8wqpZC4B9iFVTgYT9A', u'count': 263},\n",
    " {u'_id': u'fVgrpVyp-nPLTac9YIjTug', u'count': 263},\n",
    " {u'_id': u'EHi-lebXGWjSktl4WvSoow', u'count': 262},\n",
    " {u'_id': u'J_3Z0OhfTe90vCG1ThaK_g', u'count': 262},\n",
    " {u'_id': u'k6Si433-EJrY4J7SZxsnjA', u'count': 261},\n",
    " {u'_id': u'3MIy-ca6QVtKWXNzerQxWw', u'count': 261},\n",
    " {u'_id': u'pPJyi5kggzTibTxSPuRd0g', u'count': 261},\n",
    " {u'_id': u's8cHXeSlX_aPI2x49UkCCg', u'count': 261},\n",
    " {u'_id': u'X453V4J1EayCam-DU9d4LQ', u'count': 260},\n",
    " {u'_id': u'UWPQelWfvXOFpFQXTsVzow', u'count': 260},\n",
    " {u'_id': u'QdbZyl-LWFS54u93Vjd5SA', u'count': 260},\n",
    " {u'_id': u'_3f8o37w8APyUboCgwPkhA', u'count': 259},\n",
    " {u'_id': u'gwCWL6Vc9imaTNNpO7sfFg', u'count': 259},\n",
    " {u'_id': u'vAOTGsBMJp2ebRCJ6Ny7NQ', u'count': 258},\n",
    " {u'_id': u'lzoTXcynmfZ6Ler5B4HbfQ', u'count': 258},\n",
    " {u'_id': u'JMOK_Sy6aSOZwd4qgkX7hg', u'count': 256},\n",
    " {u'_id': u'CChwRoYVXA3QZulS8a6xOQ', u'count': 256},\n",
    " {u'_id': u'RGmR2iBzqI3LEMDE6J8nJA', u'count': 255},\n",
    " {u'_id': u'24Qlwel3zvrkNX9zMvBJDg', u'count': 255},\n",
    " {u'_id': u'xPmY3FNTym7gHdWcW7VxrA', u'count': 254},\n",
    " {u'_id': u'tQQxehL2ZVGp7MqAxtSU_g', u'count': 254},\n",
    " {u'_id': u'MQnNtW1lHS-eid3QNUoUIw', u'count': 254},\n",
    " {u'_id': u'6dIZ2hjHfjV2ZaxS2H-fcw', u'count': 254},\n",
    " {u'_id': u'Ca-003BAqWW-IEsFvjlY9g', u'count': 253},\n",
    " {u'_id': u'sF8rL9XOz4v48YdTucaBGQ', u'count': 253},\n",
    " {u'_id': u'KTF-E3NfkJy2wiwcgOPyVQ', u'count': 251},\n",
    " {u'_id': u'LsArM1PhbqvXK3lDK-Ch_w', u'count': 251},\n",
    " {u'_id': u'MAfc2V_EVtyR9rMxxEAPLg', u'count': 250},\n",
    " {u'_id': u'83C1eqPfmQHTy_8MC4Ug6w', u'count': 250},\n",
    " {u'_id': u'-LHHCgIUZy49sUU4j03T2w', u'count': 248},\n",
    " {u'_id': u'cJTgJTzEWg5ErWnvaHsUBA', u'count': 248},\n",
    " {u'_id': u'2Igiyhi82R8_QaaPplRmCw', u'count': 248},\n",
    " {u'_id': u'T-D-YoUQlttcF9a2ZyOxfA', u'count': 247},\n",
    " {u'_id': u'9AbyBqGWHYZC73GlyAuTrQ', u'count': 247},\n",
    " {u'_id': u'DHk8is9rvfnATsW1AudWQg', u'count': 246},\n",
    " {u'_id': u'hWhVP-28LYP3llaMlAJ_JA', u'count': 246},\n",
    " {u'_id': u'wO8c-FbduauxCGiEHchGRA', u'count': 246},\n",
    " {u'_id': u'N2RtQLz2TiTpaMJoDoUpeA', u'count': 245},\n",
    " {u'_id': u'rgmptwPbBH1wLpiBHcbIhA', u'count': 245},\n",
    " {u'_id': u'FGePlnlKXHxBrxYMNGtdAw', u'count': 244},\n",
    " {u'_id': u'TzImzfIWkZTnetKl2a4-SQ', u'count': 244},\n",
    " {u'_id': u'8dEJ_o0UgGrNX1ejHcuZjA', u'count': 243},\n",
    " {u'_id': u'NYIyTj2AZJpAo7XIM-Z7lw', u'count': 242},\n",
    " {u'_id': u'R6aazv8FB-6BeanY3ag8kw', u'count': 242},\n",
    " {u'_id': u'z1Np8_oQECKWGCwJJ8864w', u'count': 240},\n",
    " {u'_id': u'9oImwXLAn-DFppBrfbmkLg', u'count': 240},\n",
    " {u'_id': u'GQ6bCvYZxdGY6ZQyeZFeVg', u'count': 238},\n",
    " {u'_id': u'YQUi5zzpACd0tgGQtcKyYg', u'count': 238},\n",
    " {u'_id': u's9XNBJAZ3ZcNW5u8BRZXuw', u'count': 238},\n",
    " {u'_id': u'-MgFDby-okrbKLBc-SYWdw', u'count': 237},\n",
    " {u'_id': u'yExw6BPRjDui56YsU5Ngbw', u'count': 237},\n",
    " {u'_id': u'MwmXm48K2g2oTRe7XmssFw', u'count': 237},\n",
    " {u'_id': u'q0BDMSKAsBKpdt1AnFOeaQ', u'count': 236},\n",
    " {u'_id': u'JkuXXDySMl5fF0hwmLxNCA', u'count': 236},\n",
    " {u'_id': u'-vHWAsiX0iHWJw-pkqv32Q', u'count': 236},\n",
    " {u'_id': u'Yin_BwfzTOdC8VY9ZD4K6w', u'count': 236},\n",
    " {u'_id': u'd3ni6cKglu4L3JeveOqQDQ', u'count': 236},\n",
    " {u'_id': u'BpWeAIGCrl5jxt-sMJgDsg', u'count': 235},\n",
    " {u'_id': u'vIDQO_9Ytf10vEndDOih8Q', u'count': 235},\n",
    " {u'_id': u'PX3e3qtBx_5VC3vqq47jpQ', u'count': 235},\n",
    " {u'_id': u'6hNibPMNEcMhPRfQuRwjyg', u'count': 234},\n",
    " {u'_id': u'dMwwBt0BcE4zfIiBBXMogg', u'count': 234},\n",
    " {u'_id': u'1MJ5xmHmeCiau07X2bQyUQ', u'count': 234},\n",
    " {u'_id': u'fUdr6QMsrBGOYpxS6Dcjdg', u'count': 234},\n",
    " {u'_id': u'qdAxH_RrFaYqLD-g30N2fA', u'count': 234},\n",
    " {u'_id': u'-3xbryp44xhpN4BohxXDdQ', u'count': 233},\n",
    " {u'_id': u'iDYzGVIF1TDWdjHNgNjCVw', u'count': 232},\n",
    " {u'_id': u'QgeyXkZKSOIS_85pDIVuQQ', u'count': 231},\n",
    " {u'_id': u'rellBaGc6G4mgcqSACGL5w', u'count': 231},\n",
    " {u'_id': u'L_MtTn4IUBTmQtqqM2iFqA', u'count': 231},\n",
    " {u'_id': u'3Nt3CA4IDxt0SeQO24gb-Q', u'count': 231},\n",
    " {u'_id': u'e8kRfAKXM_1qj9LMgp0s2w', u'count': 229},\n",
    " {u'_id': u'Xo9Im4LmIhQrzJcO4R3ZbA', u'count': 229},\n",
    " {u'_id': u'gqLWBFxOKag8dXwVxEvTrg', u'count': 229},\n",
    " {u'_id': u'SYqTY48DJa1cYhglvmgvsQ', u'count': 229},\n",
    " {u'_id': u'ePP0Eqz8JKSbtdt2phiB4A', u'count': 229},\n",
    " {u'_id': u'sbjb1qNUcqQomJvcgPuJCg', u'count': 228},\n",
    " {u'_id': u'u0NbikWwP7TVkMkCily-4g', u'count': 228},\n",
    " {u'_id': u'QVR7dsvBeg8xFt9B-vd1BA', u'count': 228},\n",
    " {u'_id': u'1HbKFWG5QKzYkuNxig6H7w', u'count': 227},\n",
    " {u'_id': u'_F2DNPjsqgkAd50zuX8dYQ', u'count': 227},\n",
    " {u'_id': u'hU1wB9jePbd0dhTBcrpYvQ', u'count': 226},\n",
    " {u'_id': u'paF7fjuCWbqg7pjwSWnMkA', u'count': 226},\n",
    " {u'_id': u'ubwHoadNnVfMB9dFV2uyTQ', u'count': 226},\n",
    " {u'_id': u'vtcEXiQukuSzOMxyVxlh-Q', u'count': 226},\n",
    " {u'_id': u'-gefwOTDqW9HWGDvWBPSMQ', u'count': 226},\n",
    " {u'_id': u'_ZyJLAlkmqefU0WXQ2o6jQ', u'count': 225},\n",
    " {u'_id': u'7U8TYNW4Mvx6m3zexsO0sg', u'count': 225},\n",
    " {u'_id': u'AoO0FJyUm01lmIJJTcPWEQ', u'count': 225},\n",
    " {u'_id': u'lP83pY2HLmsff1VfVoyw-w', u'count': 224},\n",
    " {u'_id': u'JSuzEURjXIr0G8WrECZIoA', u'count': 224},\n",
    " {u'_id': u'YkxyI2guuPcmgWFk0a0aDQ', u'count': 224},\n",
    " {u'_id': u'M85zYyPcMXuGIuMyz7YmfQ', u'count': 224},\n",
    " {u'_id': u'2r8jGeuYvMkyP2ik_X-Bxw', u'count': 224},\n",
    " {u'_id': u'q1nDSpmV-FdTBNj6UuZvTg', u'count': 224},\n",
    " {u'_id': u'5f8tdGEQ_L3a9hyEbMjAwQ', u'count': 223},\n",
    " {u'_id': u'v8TQwyxEj4or2Yng6y0S7A', u'count': 223},\n",
    " {u'_id': u'AyiiaUHG3b3TEWHJZbjslA', u'count': 222},\n",
    " {u'_id': u'hyff2JyqQgf85MaJZslHCg', u'count': 222},\n",
    " {u'_id': u'ME0olHUKPsJ9spaLudZlYA', u'count': 222},\n",
    " {u'_id': u'OBUbR8vRZ7RmotiwvBlVDg', u'count': 222},\n",
    " {u'_id': u'78IaYCf9ktUep4UhhjXbTg', u'count': 222},\n",
    " {u'_id': u'RhOTBt7ISr2rhXisSMLTSw', u'count': 222},\n",
    " {u'_id': u'VcgYPX95J6_mfrEopzR0Zw', u'count': 221},\n",
    " {u'_id': u'KS2w8ychyieJbUqRa6kCHw', u'count': 219},\n",
    " {u'_id': u'jrJgVpJYhhQ9U1AZTBvnkA', u'count': 218},\n",
    " {u'_id': u'WuFqL5uURZwfootmgAMCyA', u'count': 218},\n",
    " {u'_id': u'fPExBO1aXA5c4uwlHFyx2Q', u'count': 216},\n",
    " {u'_id': u'hGQsnkndreW7b26XC2HVRA', u'count': 216},\n",
    " {u'_id': u'naUQ_ZHKq2ONBwW5EhJXJQ', u'count': 216},\n",
    " {u'_id': u'9SPwF-vRgtuHxciFxv5YLA', u'count': 216},\n",
    " {u'_id': u'3nwskbfFgsSjVe6T8keTeg', u'count': 214},\n",
    " {u'_id': u'k2zE7IsSi2lVpnrjqZXAdw', u'count': 214},\n",
    " {u'_id': u'KFyB0ueHjAfN4oadjKsTEw', u'count': 213},\n",
    " {u'_id': u'TRLMm_deLvlPNmGNqRxcow', u'count': 213},\n",
    " {u'_id': u'c7pNpJMmvRXBpC_8kj76nA', u'count': 212},\n",
    " {u'_id': u'ym9QwkmB5ZKTyj7q5huTDw', u'count': 212},\n",
    " {u'_id': u'4rr-CJp0jMKr-kg9wnrTdw', u'count': 212},\n",
    " {u'_id': u'CM4LY-sjD0Q9HivGTFHdoA', u'count': 211},\n",
    " {u'_id': u'FG_GRMLSj68ximzfrr9eWw', u'count': 211},\n",
    " {u'_id': u'CqhsIZ7TzCfJTrZqg5-gqQ', u'count': 211},\n",
    " {u'_id': u'yQONzVpX-DEpGSuKMIov6A', u'count': 211},\n",
    " {u'_id': u'xWlCgISVtozxCztPA4nGaQ', u'count': 210},\n",
    " {u'_id': u'nBfusVbqwul0BU0Rcrlelw', u'count': 210},\n",
    " {u'_id': u'xgK6AAhJ-cYBUCSaLzgTuw', u'count': 210},\n",
    " {u'_id': u'3vKhV2ELR2hmwlnoNqYWaA', u'count': 210},\n",
    " {u'_id': u'nk6_ipMkmUvUtq6Xvncf0A', u'count': 210},\n",
    " {u'_id': u'9LwjYIZEJS5Hp1VJfIuofg', u'count': 209},\n",
    " {u'_id': u'XBm9ffI2pK-A_HcoHXAbcQ', u'count': 209},\n",
    " {u'_id': u'q35bospqfYhJfMsqE79NvA', u'count': 209},\n",
    " {u'_id': u'Xnwjo2TUu4AyGdmsxeG7OQ', u'count': 209},\n",
    " {u'_id': u'0aV8mzabKSFylfi0NQGqlQ', u'count': 209},\n",
    " {u'_id': u'qW9UysjJw3y3CwEbzruEEw', u'count': 208},\n",
    " {u'_id': u'BKR18gyfLzuFz0-4CYTeiw', u'count': 208},\n",
    " {u'_id': u'IoFggnoj1P4EcmNEP2K6Ng', u'count': 208},\n",
    " {u'_id': u'3WgM6mvYrPDxGJ5fADSkUw', u'count': 208},\n",
    " {u'_id': u'4A628qyYpA4EhN6w6o-MYQ', u'count': 207},\n",
    " {u'_id': u'WuCcv_Dyd_1B_1-4jwK7sQ', u'count': 207},\n",
    " {u'_id': u'N_6bV3c3JagKW7sD3X9ldA', u'count': 206},\n",
    " {u'_id': u'AB5RgQ0ZnMThdqgFS3cPuw', u'count': 206},\n",
    " {u'_id': u'wHi8ODv7TGmeUB02XoX-mA', u'count': 206},\n",
    " {u'_id': u'N8NiWbLzee9EOeMnz2MOlw', u'count': 205},\n",
    " {u'_id': u'0ONypOKIhttBz9IJzBE8jg', u'count': 205},\n",
    " {u'_id': u'l1MZjZK2tLxfFRB62lQmsg', u'count': 205},\n",
    " {u'_id': u'Lj_3EwHHkMsbQt1Sxa5Tdw', u'count': 205},\n",
    " {u'_id': u'dxCqGkhtXq-9fYEsX7Mf6Q', u'count': 205},\n",
    " {u'_id': u'EcHuaHD9IcoPEWNsU8vDTw', u'count': 204},\n",
    " {u'_id': u'rcF4ynGx5ySNQ3UFRPpcKA', u'count': 204},\n",
    " {u'_id': u'CFaRVxsnN4Zjf28cbORKIA', u'count': 204},\n",
    " {u'_id': u'zKFX8BVTWYZNa2vJ46UdmQ', u'count': 204},\n",
    " {u'_id': u'xMK01ZbVUYLLoyqoeWAIVw', u'count': 204},\n",
    " {u'_id': u'45puCRQ6Vh_IIAy7kkfFDQ', u'count': 204},\n",
    " {u'_id': u'5KG0A3WlC7K3DAXtrIFFjg', u'count': 204},\n",
    " {u'_id': u'CvRGjwCsrQs1DYYL3z8R7g', u'count': 203},\n",
    " {u'_id': u'EOu5kwsz9XPyq5r-eWrOFQ', u'count': 203},\n",
    " {u'_id': u'PXXFn3kalXTgaWwndlQWHw', u'count': 203},\n",
    " {u'_id': u'Po3kpjcdRfLgtMUhmoK9Aw', u'count': 202},\n",
    " {u'_id': u'lYtEUImN4UeqRiDblcbmkw', u'count': 201},\n",
    " {u'_id': u'pQAIM21Yw4eNdbha2Rxkcg', u'count': 201},\n",
    " {u'_id': u'h7hr0v3E1ulU2sXNItD5UQ', u'count': 200},\n",
    " {u'_id': u'LzpR_jE6VIutJ08s2cdRrw', u'count': 200},\n",
    " {u'_id': u'TqHTtjPANCBKGsjGBjDoQQ', u'count': 199},\n",
    " {u'_id': u'H7KzlC0-o1wIhlGg-Me5Ag', u'count': 198},\n",
    " {u'_id': u'corPOxxIBRJ7DSpryYvorw', u'count': 198},\n",
    " {u'_id': u'nefBMCGgMPvOnASoyO_X1A', u'count': 198},\n",
    " {u'_id': u'dD4-NJBV9DtGApipWwoMTA', u'count': 197},\n",
    " {u'_id': u'waW8k-4ebmByGUJtndmnJQ', u'count': 196},\n",
    " {u'_id': u'PGEcewIyTpHY4AgJGcW94Q', u'count': 196},\n",
    " {u'_id': u'KweGJLJj933YHMbi-f9SAg', u'count': 196},\n",
    " {u'_id': u'1olAT5l8ZiKLVavyWkeElw', u'count': 196},\n",
    " {u'_id': u'2JZv-P1lDKOPKvefQlYDEQ', u'count': 195},\n",
    " {u'_id': u'cjjZt2oOkk0F152RkQMfQw', u'count': 195},\n",
    " {u'_id': u'Rlbb5bQ1W520xjkLaD9OFQ', u'count': 195},\n",
    " {u'_id': u'gNiqOjhVCcGTniZWDBTYtA', u'count': 195},\n",
    " {u'_id': u'fjAQGf-iJlVjD2vizzuORQ', u'count': 195},\n",
    " {u'_id': u'q28CkzJaV5yKPXysY8xewA', u'count': 194},\n",
    " {u'_id': u'ADJIoHN3uLx-JalYl3r3Dw', u'count': 194},\n",
    " {u'_id': u'zwToyWL4dT1clsFPK9wI2w', u'count': 194},\n",
    " {u'_id': u'DR313fx6DQbU_wcEFhr5vg', u'count': 194},\n",
    " {u'_id': u'TxKmAsKQjND5vbhBdUSyIA', u'count': 194},\n",
    " {u'_id': u'52CzJDb4EakSjEQOUys77Q', u'count': 194},\n",
    " {u'_id': u's5ZdjjFX3CS2uS6_oVH7CQ', u'count': 193},\n",
    " {u'_id': u'LcBWyVrCN49IOvkAPNPmZA', u'count': 193},\n",
    " {u'_id': u'fm4X0SV2Kofj-57ZfHiZ_A', u'count': 193},\n",
    " {u'_id': u'_WaHLgLzALd2iThQAhC-sQ', u'count': 193},\n",
    " {u'_id': u'AX8lx9wHNYT45lyd7pxaYw', u'count': 193},\n",
    " {u'_id': u'HIiVx2mseVWKtx8TKfWC_A', u'count': 193},\n",
    " {u'_id': u'IUhO58Il7gUEjl1RMEncHA', u'count': 193},\n",
    " {u'_id': u'mqQwChPNN4o4DhAzaGntIA', u'count': 192},\n",
    " {u'_id': u'pzknmlIv7BLZurzglS-lng', u'count': 192},\n",
    " {u'_id': u'ewZlgc22xN5NNQ1H7U6Y7g', u'count': 192},\n",
    " {u'_id': u'PxeX1M8WtyPxX1MuuGIh-g', u'count': 192},\n",
    " {u'_id': u'hGe8h7iEAEVbCYH4E2G42g', u'count': 192},\n",
    " {u'_id': u'11_Py0PMSwvnok8K9I3AgA', u'count': 191},\n",
    " {u'_id': u'ubfD6-I73lP00v0fkx-keQ', u'count': 190},\n",
    " {u'_id': u'Zkl24YXMfpPnMXzjBLp3aQ', u'count': 190},\n",
    " {u'_id': u'ib-y5nsfn3unE0lLY1vfAw', u'count': 190},\n",
    " {u'_id': u'9wMVSKNAtQ4HFZjHNlruFw', u'count': 190},\n",
    " {u'_id': u'4nZKsWuwzMJzEIigVnxN0g', u'count': 190},\n",
    " {u'_id': u'MLVKDbuI2xaOJQ4-NZj2MQ', u'count': 190},\n",
    " {u'_id': u'CEs_oJMtLsll3xBM9slBQQ', u'count': 189},\n",
    " {u'_id': u'aQ9qHCd6OBIOvClTlnZrZg', u'count': 189},\n",
    " {u'_id': u'-ffo-JFhFj2kR6kZL4qYhg', u'count': 189},\n",
    " {u'_id': u'3SnqTPne49E5XSYv7BvYUw', u'count': 188},\n",
    " {u'_id': u'exNRVWeo9dBaIEyluD63DQ', u'count': 188},\n",
    " {u'_id': u'KNIFSqzQADOZWDO_7T-KzA', u'count': 188},\n",
    " {u'_id': u'KdJJFvYI9w5xF0EVYPbXMA', u'count': 188},\n",
    " {u'_id': u'3EDCh1Wssaak6D7OXx1bqA', u'count': 187},\n",
    " {u'_id': u'I83NNRHZRQZiCPcd9QzC5w', u'count': 187},\n",
    " {u'_id': u'WJtW7xlTmB7QnkRvgW7Pnw', u'count': 186},\n",
    " {u'_id': u'PsOvURXqpy8iZX2J8y429A', u'count': 186},\n",
    " {u'_id': u'OxIeMVcop5oxBUWANi-1Rw', u'count': 186},\n",
    " {u'_id': u'uCFoGYwwjXqsRdmD8Ecskw', u'count': 185},\n",
    " {u'_id': u'eojCmqNcITAlgy5m0dA7jA', u'count': 184},\n",
    " {u'_id': u'E6DnUFy3GoN4DxTqturtug', u'count': 184},\n",
    " {u'_id': u'4OOi0RBsJmIzDfTVQ2mTGA', u'count': 184},\n",
    " {u'_id': u'zgab_7ppM5aqe65dTYXT5g', u'count': 184},\n",
    " {u'_id': u'X3icXUyW9vS4UXY6V_MR4w', u'count': 184},\n",
    " {u'_id': u'VRxelK__tuQD0KBxx2LzeQ', u'count': 184},\n",
    " {u'_id': u'LOef7o-dnn7Z5qGMZCi6pw', u'count': 183},\n",
    " {u'_id': u'NA3tQYxR6Fq5O8nV6u41Tw', u'count': 183},\n",
    " {u'_id': u'5vgmIwBB48fwo_WC8vGiXA', u'count': 183},\n",
    " {u'_id': u'YL_EiYALmGUd1lm5HZgL3w', u'count': 183},\n",
    " {u'_id': u'14NSxaXBNspIVnsrMYJZVw', u'count': 183},\n",
    " {u'_id': u'UNOoJeOzTQgRCUjTup1avA', u'count': 182},\n",
    " {u'_id': u'oB3LAXzg-GgnPbBRUsvxxw', u'count': 182},\n",
    " {u'_id': u'uPDTnuR-sOi47blHH943lg', u'count': 182},\n",
    " {u'_id': u'ioXu3MhPt_v8f5wTWJX4ag', u'count': 182},\n",
    " {u'_id': u'kaIue7GRCmkPzDeHDBTttQ', u'count': 182},\n",
    " {u'_id': u'_RBUU1y4yJrK0SPAd8z0-w', u'count': 182},\n",
    " {u'_id': u'TLGCA3EQW_12ndci12dQWw', u'count': 181},\n",
    " {u'_id': u'F-e-sWfVd3eCYll3BP1QFA', u'count': 181},\n",
    " {u'_id': u'98JCwqDtsGteVZey1cmULg', u'count': 180},\n",
    " {u'_id': u'oGE8GPmBvHXQskP-m2cdLw', u'count': 180},\n",
    " {u'_id': u'AWWyrH4NG8Xi4uRYxHgjTA', u'count': 180},\n",
    " {u'_id': u'ciRNik0_EdguibEypTspFA', u'count': 180},\n",
    " {u'_id': u'SX2jlXA28czDXQBxQ2I0nA', u'count': 179},\n",
    " {u'_id': u'MwaFQkJxzqg8G5_hTip99A', u'count': 179},\n",
    " {u'_id': u'_oQN89kF_d97-cWW0iO8_g', u'count': 179},\n",
    " {u'_id': u'AFDFOs2GaIyUArGyEUDQzQ', u'count': 179},\n",
    " {u'_id': u'98TXQV7QHCpaHXfeziMDfw', u'count': 178},\n",
    " {u'_id': u'it1cP71lWcRaUkr4IwuUNw', u'count': 178},\n",
    " {u'_id': u'nt5HVhwaL9VqsnX9-6QBwg', u'count': 178},\n",
    " {u'_id': u'RHZcJuvnYxiLOkoiE1aTcQ', u'count': 178},\n",
    " {u'_id': u'3Dj0FsIr2Kw0e1nsaDSGig', u'count': 178},\n",
    " {u'_id': u'muCl5p-9ut1sY0aKeUeRhw', u'count': 178},\n",
    " {u'_id': u'TehSM5JrMRikSnjnnfulbw', u'count': 177},\n",
    " {u'_id': u'TgxDGx7L_JICWbuBUCGVqw', u'count': 177},\n",
    " {u'_id': u'rBuePZklY3upbFFE_ZOG2Q', u'count': 177},\n",
    " {u'_id': u'GpK9MeUjEd7rwhejG2ykww', u'count': 177},\n",
    " {u'_id': u'rEiyb2uYjaL-MrVRmndOkw', u'count': 176},\n",
    " {u'_id': u'Ug97walz3YLxPMrpkktsFg', u'count': 176},\n",
    " {u'_id': u'Lvf3N3cfLAmOc5y8Eg8KDg', u'count': 176},\n",
    " {u'_id': u'Pr9rQKypHgC_J1AfufxzIw', u'count': 176},\n",
    " {u'_id': u'qXQ3ZBdwI3GlbR5-eYWqNA', u'count': 176},\n",
    " {u'_id': u'z6vO1HR8L2iW4avr610XKw', u'count': 175},\n",
    " {u'_id': u'rLAeltELaGdQKh_LYIllEA', u'count': 175},\n",
    " {u'_id': u'jzPMl-NoB5F2fwoHX3hN8A', u'count': 175},\n",
    " {u'_id': u'DqzyOJTJXu0Iwi8og5DJDA', u'count': 174},\n",
    " {u'_id': u'GYb6yFYJjDBNYcHM7vX5vg', u'count': 174},\n",
    " {u'_id': u'r8jeeS3k_diihMDSu9IjlA', u'count': 174},\n",
    " {u'_id': u'R-3BEMIs0SfR8ilLu2vvjw', u'count': 173},\n",
    " {u'_id': u'Q9pYlR8ckKpbLe1fn8apGg', u'count': 173},\n",
    " {u'_id': u'3dQqoz-yHhOfHrIBMRCD3w', u'count': 173},\n",
    " {u'_id': u'iSDCXRa2Ldu4jKZqGCFOFg', u'count': 173},\n",
    " {u'_id': u'vfzUNcV9B3RhDyuZp0I1pQ', u'count': 173},\n",
    " {u'_id': u'LYyGQgL60VKdV-p_9OxmWQ', u'count': 173},\n",
    " {u'_id': u'tHQEAEsW8RagML78cJk0AQ', u'count': 172},\n",
    " {u'_id': u'NMLtK_ZDHTD_UQ33-A-N0A', u'count': 172},\n",
    " {u'_id': u'PXmR1MgOAWB066XH20HjxQ', u'count': 172},\n",
    " {u'_id': u'oN552ZjtfJWV7CMtftGrfA', u'count': 172},\n",
    " {u'_id': u'6-rJjW6ITl5o_FliiNgZRA', u'count': 172},\n",
    " {u'_id': u'yJr24Yy1K6bt2G9fX3_zPA', u'count': 172},\n",
    " {u'_id': u'E_nRKWLMGKiCW7ft5FPYvw', u'count': 171},\n",
    " {u'_id': u'5WYyDPDDcWfIIHssy6AmxQ', u'count': 171},\n",
    " {u'_id': u'UIGFrEcoDsw05I1UOrxdOA', u'count': 171},\n",
    " {u'_id': u'o-0IU3bcuXnxflPo14cjUQ', u'count': 170},\n",
    " {u'_id': u'Mm8x_jzeLrWlvDEnqhuCBQ', u'count': 170},\n",
    " {u'_id': u'Ijs6Fjhs-RETgbWRQTXHTw', u'count': 169},\n",
    " {u'_id': u'p879GY3lAFTwkrGOihAn5A', u'count': 169},\n",
    " {u'_id': u'LRpoyZt-3PbCEEbU7nkvwQ', u'count': 169},\n",
    " {u'_id': u'68_EJEA9Ibo55EDp3d-nOg', u'count': 169},\n",
    " {u'_id': u'V3lQtk1LgwAEcF9j-BzchA', u'count': 169},\n",
    " {u'_id': u'ZdQbDVZWDsO-d7q2qW8E3A', u'count': 168},\n",
    " {u'_id': u'gr6AoBJ5MEkZynXP_MHs1w', u'count': 168},\n",
    " {u'_id': u'O0xL1GpKv35u8p26y8Ok6w', u'count': 168},\n",
    " {u'_id': u'2_0P2AmSSFtPgddio0MgYA', u'count': 168},\n",
    " {u'_id': u'YF6Z8PhNWN0ZR33hfvZRjg', u'count': 168},\n",
    " {u'_id': u'a01JeGRdPYArzDgBLP9M5w', u'count': 168},\n",
    " {u'_id': u'l5vzFaqSjvxZiRn0MJeKkg', u'count': 168},\n",
    " {u'_id': u'BjWJRBhTC0sev3qEI3m2Hg', u'count': 168},\n",
    " {u'_id': u'n9iK0s1dKxv5JLi3u1eTkQ', u'count': 168},\n",
    " {u'_id': u'P2GmH6-8wsPXSfu3VoYxSg', u'count': 167},\n",
    " {u'_id': u'kEyCMHBnohaWc81omLDfYg', u'count': 167},\n",
    " {u'_id': u'EbhnT9RcTyyGNBp1s2NQZQ', u'count': 166},\n",
    " {u'_id': u'QzCHw22PCN53f9Y53MDgZQ', u'count': 166},\n",
    " {u'_id': u'Mtp4pMgIP9nXqq1UCJjgAQ', u'count': 166},\n",
    " {u'_id': u'rPwuIBv_mz1O_yI5R-VJ7Q', u'count': 166},\n",
    " {u'_id': u'nzJxNn-tKG7kw_zf7xaYbg', u'count': 166},\n",
    " {u'_id': u'uC8nWYLTBtIc9p6JrcvgkQ', u'count': 166},\n",
    " {u'_id': u'1V8f3A7p3HV2r0BgAbqvaw', u'count': 166},\n",
    " {u'_id': u'Er20nsiOS6TFHmAE717iTA', u'count': 166},\n",
    " {u'_id': u'69c7z9ySnlqV87tITDGENA', u'count': 166},\n",
    " {u'_id': u'gTsg3Nj8pKvsmVz3dbLfiA', u'count': 165},\n",
    " {u'_id': u'XC9tnUvXARu6XjRxO6u8DQ', u'count': 165},\n",
    " {u'_id': u'Q5pTGQKEhxgit1fwgrHEbg', u'count': 165},\n",
    " {u'_id': u'x6BemTnk7_eCuvbv5MflWQ', u'count': 165},\n",
    " {u'_id': u'8H1DwdAAgSBtwDeb2R-hmA', u'count': 165},\n",
    " {u'_id': u'HpSBHeixIP2YxLy4L1f-HA', u'count': 165},\n",
    " {u'_id': u'xfk9eY8gmwn8qsbyd-W6lQ', u'count': 165},\n",
    " {u'_id': u'PoRYjYUSjmeWM1WLsx_45w', u'count': 165},\n",
    " {u'_id': u'kxDGexkbP30fBvxVI0CzFQ', u'count': 165},\n",
    " {u'_id': u'_ODHYjCmrb3W9hIGJI1uaA', u'count': 165},\n",
    " {u'_id': u'pjtB4FadDdq_DeyedjDsOw', u'count': 165},\n",
    " {u'_id': u'DE8UVNCCpOE0vTAbGaMoeQ', u'count': 164},\n",
    " {u'_id': u'cqIHyZ3Q0D4vBi-vb4mi-g', u'count': 164},\n",
    " {u'_id': u'zgCwHvZ7eHDd6A6hkkTcSQ', u'count': 164},\n",
    " {u'_id': u'eaqJQP6bp7rQJQt5KqfvxQ', u'count': 164},\n",
    " {u'_id': u'rrd7NeAgARDNzPsxxsBJiQ', u'count': 163},\n",
    " {u'_id': u'hoDG7g0Qxqje0dP_7MqpHQ', u'count': 163},\n",
    " {u'_id': u'cPicR-HVE2y8J2FGLg65NA', u'count': 163},\n",
    " {u'_id': u'O1NBNVfXWmk3CvszAhOEoQ', u'count': 163},\n",
    " {u'_id': u'sxeuOMBRllOHXJTaUlI9kQ', u'count': 163},\n",
    " {u'_id': u'Li5LOL873Ep8HoPRML18sw', u'count': 163},\n",
    " {u'_id': u'b8ffYmDeW89C6DruqgLmKw', u'count': 162},\n",
    " {u'_id': u'AARPDt5fBYkxoTLSQiNZLw', u'count': 162},\n",
    " {u'_id': u'm9Wqqma30o-hH2fAX7dnug', u'count': 162},\n",
    " {u'_id': u'peA3F-PnIfijYr8HuG-A-Q', u'count': 162},\n",
    " {u'_id': u'qf5lzhvdMcdVkuow7dnO3w', u'count': 162},\n",
    " {u'_id': u'iVTDzzvxHgv6kBSdfCSSoQ', u'count': 161},\n",
    " {u'_id': u'i_hw78DZv-oGvBvTx8FU3A', u'count': 161},\n",
    " {u'_id': u'EfmR4e1tmjC5_ZQOgfnYrg', u'count': 161},\n",
    " {u'_id': u'T4AyBSffvi3prLrw0H2enA', u'count': 161},\n",
    " {u'_id': u'5-X03Zc0nN7U5eoe8uFUdw', u'count': 161},\n",
    " {u'_id': u'aCMhR8XTu-f8GgMHYl0ipA', u'count': 160},\n",
    " {u'_id': u'NERLJXacJ3b6peiZ8ceeqA', u'count': 160},\n",
    " {u'_id': u'YK9JsdBPgMvVSIGMuplX6g', u'count': 160},\n",
    " {u'_id': u'X4CnrlflZBDMRzSPWfMBaQ', u'count': 160},\n",
    " {u'_id': u'4meJyPOhuAKzywUJTmu2hw', u'count': 160},\n",
    " {u'_id': u'Z94doPdgyDOgjtYUVRBNjQ', u'count': 160},\n",
    " {u'_id': u'pj0vl4DIlDCChe80Df40Yw', u'count': 160},\n",
    " {u'_id': u'lIL_VuvmxBr_yQQH_P9QHg', u'count': 160},\n",
    " {u'_id': u'uFJwKlHL6HyHSJmORO8-5w', u'count': 160},\n",
    " {u'_id': u'4yJZUlvlJfFINoNgulSEXg', u'count': 160},\n",
    " {u'_id': u'ohxd8La86GdC_3vgwBWLHA', u'count': 160},\n",
    " {u'_id': u'HLWtNcf3l-wKb6v9duteMQ', u'count': 160},\n",
    " {u'_id': u'8871Si56d_dc0igE3TRpgA', u'count': 160},\n",
    " {u'_id': u'CdOb17NMdQpagyHSxv5mHA', u'count': 159},\n",
    " {u'_id': u'yPfvOB63thP5t3pGZPJExA', u'count': 159},\n",
    " {u'_id': u'JsanjIgKkl_b6kc4qWC55Q', u'count': 159},\n",
    " {u'_id': u'Q9KILetOPQLzIf7Ki3D8-g', u'count': 158},\n",
    " {u'_id': u'CfdCsVkzzM3uJKGRzA0ufA', u'count': 158},\n",
    " {u'_id': u'7Mgly28cnzY-2py2ClEjiA', u'count': 158},\n",
    " {u'_id': u'2l4UTdi_F9zVZ1Kv4Fj-zQ', u'count': 158},\n",
    " {u'_id': u'I2v6oOTiN5kp6jxCOAWTiw', u'count': 158},\n",
    " {u'_id': u'z4KFTJQsAdxqMZA7Fx0A9A', u'count': 158},\n",
    " {u'_id': u'Rus-ewyqLj2D1RlqK-je4w', u'count': 158},\n",
    " {u'_id': u'r7Ge8_c5Y2TXthb4CSjzaA', u'count': 158},\n",
    " {u'_id': u'_9BqmRowpWfy4wDPXLSDHA', u'count': 158},\n",
    " {u'_id': u'CIpzeDYD252nq0nRA4px5A', u'count': 157},\n",
    " {u'_id': u'ky6c1bhp1695tWLfnyKOyQ', u'count': 157},\n",
    " {u'_id': u'BOp3jcpYy31M85H1DLnEEw', u'count': 157},\n",
    " {u'_id': u'podj1OWSL3oEJsOpGj8SUw', u'count': 157},\n",
    " {u'_id': u'xmA5ZYJPzt0-Gyim2rynjA', u'count': 157},\n",
    " {u'_id': u'dYLlSj_SWwHg1aA3Km061w', u'count': 156},\n",
    " {u'_id': u'XbVqzUHS3c9FhG4lI13c3Q', u'count': 156},\n",
    " {u'_id': u'BUsmaloKEZeOvXLrSjKWSQ', u'count': 156},\n",
    " {u'_id': u'yT3OITYWbjqKM15mGNXmyw', u'count': 156},\n",
    " {u'_id': u'7-4FxYXhNUS2lhpUb_q5-w', u'count': 156},\n",
    " {u'_id': u'Rnx0d7HExjZcd8q7PXmrPA', u'count': 155},\n",
    " {u'_id': u'A3ZK7esn3oKG5O3OEWMHiw', u'count': 155},\n",
    " {u'_id': u'6RGD8kxrLwW1PztxZIPXlQ', u'count': 155},\n",
    " {u'_id': u'OPKUjv6D5G46Lh2BHP20fA', u'count': 155},\n",
    " {u'_id': u'qAU5zG59NuOBTkzKwm6urA', u'count': 154},\n",
    " {u'_id': u'NMYXPFV8V5uOi9wUuR3mdg', u'count': 154},\n",
    " {u'_id': u'D0PUyt1EbOJKdLh636hwWw', u'count': 154},\n",
    " {u'_id': u'1oFvqm7eSpJbVpxpPxueaA', u'count': 154},\n",
    " {u'_id': u'8Eh-lPCEXfGP72gQTct-lw', u'count': 153},\n",
    " {u'_id': u'mpXeChWrq1bcRWAEgufY9w', u'count': 153},\n",
    " {u'_id': u'cuXfotyK8zhjO3vifd9x_Q', u'count': 153},\n",
    " {u'_id': u'hqVbmZNLTdR2y7G7oJu9vg', u'count': 153},\n",
    " {u'_id': u'p_HFt0I92MHDNPWvdtyEBA', u'count': 153},\n",
    " {u'_id': u'oQOo1rebP4bieLEEoVHbQg', u'count': 152},\n",
    " {u'_id': u'AjVRPatAHLNwbnx3GWk5Gg', u'count': 152},\n",
    " {u'_id': u'm34siNIv_F15LIzkmxP7-g', u'count': 152},\n",
    " {u'_id': u'MUFYutWoNsC0V9bSUGof3g', u'count': 152},\n",
    " {u'_id': u'2SycDjGWWpFs1ODL-YBoHA', u'count': 151},\n",
    " {u'_id': u'aWoTb2lOmSf5g8MkITvA3A', u'count': 151},\n",
    " {u'_id': u'm_rEr3Vg1-f9Dg-Nag4FWg', u'count': 151},\n",
    " {u'_id': u'VB-tzuBR6BxMzOkY_cOpwQ', u'count': 151},\n",
    " {u'_id': u'9bqhQQnxrAdqPnyLovwHmA', u'count': 151},\n",
    " {u'_id': u'wct7rZKyZqZftzmAU-vhWQ', u'count': 151},\n",
    " {u'_id': u'ishjLG3Sc94ZOelXZZhaIw', u'count': 151},\n",
    " {u'_id': u'ntJAKLAq0cXzzdFgPoo0Iw', u'count': 151},\n",
    " {u'_id': u'c_ZoCRssEFl7cKul3Wzm4Q', u'count': 150},\n",
    " {u'_id': u'8C6xFQHCfwhA-4IdFMgttg', u'count': 150},\n",
    " {u'_id': u'apCfJVnRyaw6oVUBKujpUQ', u'count': 150},\n",
    " {u'_id': u'TypkaxMUTthOfl_Btj5X1A', u'count': 150},\n",
    " {u'_id': u'qy7DyCFqyTPDctp_H1n-Pw', u'count': 150},\n",
    " {u'_id': u'SSbId_gHGjtXWnObc_S0nw', u'count': 149},\n",
    " {u'_id': u'CRvVvR6aE1eWVRtzQ0UC6g', u'count': 149},\n",
    " {u'_id': u'pKeiYrbA8Azh-z1NqN44KQ', u'count': 149},\n",
    " {u'_id': u'ILsZjIibFtGHMDELeX610Q', u'count': 149},\n",
    " {u'_id': u'R_r61_57_RyNpIxSx8obxw', u'count': 149},\n",
    " {u'_id': u'06NjrKnpuwCWQQfKpt4tvQ', u'count': 149},\n",
    " {u'_id': u'IxQ1ATP_Wg_QujO9nywzcQ', u'count': 149},\n",
    " {u'_id': u'MdDCaLarh1aWU9NfB6SQjA', u'count': 149},\n",
    " {u'_id': u'fQHAbfMsBuQlEAWHTImOQg', u'count': 148},\n",
    " {u'_id': u'EYRqt6hDb2Y9gl0si0NdXA', u'count': 148},\n",
    " {u'_id': u'5cybURsCTS0zHH5Qbu0sDQ', u'count': 148},\n",
    " {u'_id': u'a9Wk44qJLWoJQT-_H8MB-w', u'count': 148},\n",
    " {u'_id': u'YEQkTCmphjr6XKPh4m93AQ', u'count': 148},\n",
    " {u'_id': u'RYZ08XAToBaN-bS5HHVEhQ', u'count': 148},\n",
    " {u'_id': u'YldXB1hRpnE1CWLF3mvgpQ', u'count': 148},\n",
    " {u'_id': u'Vk2lc81v4_iO54GzT_fLmw', u'count': 147},\n",
    " {u'_id': u'E_wJCQ9L_0w5tJyrvr0lJQ', u'count': 147},\n",
    " {u'_id': u'0dIChGWBs9ueUXl0hhkw2w', u'count': 147},\n",
    " {u'_id': u'MMNBgMQCdwyVoNaHg0h_QA', u'count': 147},\n",
    " {u'_id': u'fvhWfSPlx5J_3F-ScLpvXQ', u'count': 147},\n",
    " {u'_id': u'ZBVXf0uC7k8iKDYCIMa2tQ', u'count': 147},\n",
    " {u'_id': u'm79L5WLftprDSKdXEtdrIg', u'count': 147},\n",
    " {u'_id': u'trG1k-K6Nq4YKcexa1AGOA', u'count': 147},\n",
    " {u'_id': u'lNutwCfc38nCfYkkSDB8lg', u'count': 147},\n",
    " {u'_id': u'E7nk0lC317pGxMX56gvaVQ', u'count': 146},\n",
    " {u'_id': u'Z3qmQ6N4VEudR45exSHrTg', u'count': 146},\n",
    " {u'_id': u'IwkqtlUI8DV48QxCz80WQw', u'count': 146},\n",
    " {u'_id': u'Uxd43FDZnBoeRFPz0b7Ohw', u'count': 146},\n",
    " {u'_id': u'Ug0LxMh0mZ0j0A-QjKzWng', u'count': 146},\n",
    " {u'_id': u'PEHJjxdw11TGFma9Zhz3ng', u'count': 146},\n",
    " {u'_id': u'BfqmxWbqNdKXCH-JaM_3xg', u'count': 145},\n",
    " {u'_id': u'LxNehlnStQY_rxEwiPof_g', u'count': 145},\n",
    " {u'_id': u'OWQJrnXbWkLTI1-qRkkUpQ', u'count': 145},\n",
    " {u'_id': u'wGAehOy0jG02k_FS5sx8CQ', u'count': 145},\n",
    " {u'_id': u'Vx7-xbazum3dgo3Qj3i4pQ', u'count': 145},\n",
    " {u'_id': u'ed5VpqG6NlI2_ALQpZ0lLA', u'count': 145},\n",
    " {u'_id': u'Tk2dSL0TwQeI_zNJmb442A', u'count': 145},\n",
    " {u'_id': u'xI0UZH734lJtm39DbLf-Bw', u'count': 145},\n",
    " {u'_id': u'T9iBSa4pxYXP129pHlt5Sg', u'count': 145},\n",
    " {u'_id': u'lpomaa_on7jhU-lG4GxpMg', u'count': 144},\n",
    " {u'_id': u'1vK7gWQ_b5ehAyOidOsYtg', u'count': 144},\n",
    " {u'_id': u'3DHwRjWomOtnxM1v6-bPEQ', u'count': 144},\n",
    " {u'_id': u'dJvUc4ViWEJ0NJfQtYo7xg', u'count': 143},\n",
    " {u'_id': u'xm8F51qKjx0cfdOSukTDng', u'count': 143},\n",
    " {u'_id': u'2ap6b16RbPF11dElWoZqug', u'count': 143},\n",
    " {u'_id': u'0qUesn1TBPpPjW20h5Lqfg', u'count': 143},\n",
    " {u'_id': u'j1vRNq9WcwPBTLz67EOhMw', u'count': 143},\n",
    " {u'_id': u'fmWyI5ec05F8PJpx3eNpLg', u'count': 143},\n",
    " {u'_id': u'UW32rmopWuDpT0X1b4RUXA', u'count': 143},\n",
    " {u'_id': u'gHKB66up5VluCWT4vuSZpw', u'count': 143},\n",
    " {u'_id': u'dewq6aevfoNFvJBqM7PG5A', u'count': 143},\n",
    " {u'_id': u'O6MyV5uqwZabD5dKbT294Q', u'count': 143},\n",
    " {u'_id': u'wzIPW_XyKc2DBWdOUM5hlQ', u'count': 142},\n",
    " {u'_id': u'0NaMndmNpVG619STpRCY7Q', u'count': 142},\n",
    " {u'_id': u'K9Bv1h5BQPXZFl2Q0FnXrw', u'count': 142},\n",
    " {u'_id': u'fphcaoXU9ywS5t3zEqYyvA', u'count': 142},\n",
    " {u'_id': u'y6uO4ydAwBHUujfiSktxZg', u'count': 142},\n",
    " {u'_id': u'ZygV0bo1lfQ1ZRnVc0Uwlw', u'count': 142},\n",
    " {u'_id': u'hSl4HdPdu6ohwFKJPfj93A', u'count': 142},\n",
    " {u'_id': u'I7IfnWW1nXljC4ZGqwPe-w', u'count': 141},\n",
    " {u'_id': u'aozcOaCMwOHG8s-lbZ6_gA', u'count': 141},\n",
    " {u'_id': u'q0aoi6vsi9TBU5-k3FfOOw', u'count': 141},\n",
    " {u'_id': u'l1kqHWtICTNk8TdCNisf5A', u'count': 141},\n",
    " {u'_id': u'Our6bzte5W1wlIeOu9luug', u'count': 141},\n",
    " {u'_id': u'MTSuKAjBcxQKSG0vX2sQLQ', u'count': 140},\n",
    " {u'_id': u'pSiR8m18iick2D7TFdmb-Q', u'count': 140},\n",
    " {u'_id': u'rdLy9FgD5iJbEoDmd_0i9Q', u'count': 140},\n",
    " {u'_id': u'XscvZIcLNZAx2eQZmpRnqQ', u'count': 140},\n",
    " {u'_id': u'z0DM0MIg3dhNQHNNg99iGw', u'count': 140},\n",
    " {u'_id': u'McikHxxEqZ2X0joaRNKlaw', u'count': 140},\n",
    " {u'_id': u'-Ogv7rpcgUHkFaSy3vD8Sw', u'count': 140},\n",
    " {u'_id': u'myck1Tde_kSBGZWtS3IcHA', u'count': 139},\n",
    " {u'_id': u'LUFA1zyso9upnRQnO2qbQA', u'count': 139},\n",
    " {u'_id': u'El_0LAdJ1R0-nL_lHzBT-g', u'count': 139},\n",
    " {u'_id': u'CE85IKRDS4GimIaoIp3N5A', u'count': 139},\n",
    " {u'_id': u'vtQOervVVTXjhvSZQiZ6PA', u'count': 139},\n",
    " {u'_id': u'DeAnVirgOxQnI36V1W158A', u'count': 139},\n",
    " {u'_id': u'hODaBUYzv0AbApej_bfZ-w', u'count': 139},\n",
    " {u'_id': u'w7VSMULJ9GtRi3CBRxoJtg', u'count': 138},\n",
    " {u'_id': u'bcjTnJvhHvuksE0HFyg_Zw', u'count': 138},\n",
    " {u'_id': u'N82S_d9LfAVKi3OS59192A', u'count': 138},\n",
    " {u'_id': u'oPhx1YGHyLmtl6sfo3Vr8A', u'count': 137},\n",
    " {u'_id': u'wzP2yNpV5p04nh0injjymA', u'count': 137},\n",
    " {u'_id': u'p8yg26BbovkfL2iw7Pcg0Q', u'count': 137},\n",
    " {u'_id': u'8q8GMsDPYp4JVdx6k-FeTA', u'count': 137},\n",
    " {u'_id': u'4nFqPL-glgDm9v7bZptskQ', u'count': 137},\n",
    " {u'_id': u'oc0Wl6ktfMLb5VZ2Uz6M2A', u'count': 137},\n",
    " {u'_id': u'7LuKiasIyGUEo7uipN10Eg', u'count': 137},\n",
    " {u'_id': u'UqUSbnNUael8_ihzI-EIAw', u'count': 136},\n",
    " {u'_id': u'6HAwTnhNJoR5VNdfUrRoEw', u'count': 136},\n",
    " {u'_id': u'iWlaj4R-2BTsWR7PwL90BQ', u'count': 136},\n",
    " {u'_id': u'oiLe3lqMFaZtsSpRuIUChw', u'count': 136},\n",
    " {u'_id': u'm_9QMfvVYFKsxPjlkCvZqA', u'count': 136},\n",
    " {u'_id': u'Iet7RbjzuVoXX907QfHIOw', u'count': 136},\n",
    " {u'_id': u'8v1MWkAeU3nEuqGd27jZeQ', u'count': 136},\n",
    " {u'_id': u'eThu9hCL8NOjOxswQ-cFSg', u'count': 136},\n",
    " {u'_id': u'PzG0XmAmtXFs6Fdnubf41g', u'count': 136},\n",
    " {u'_id': u'A8Khz3eeqIFFGaXurg3hxw', u'count': 136},\n",
    " {u'_id': u'3UdZcZn_DGPtjk5GSZtLNg', u'count': 136},\n",
    " {u'_id': u'lf42gtgq_2_jPvjfp_K1nQ', u'count': 136},\n",
    " {u'_id': u'-O7H5LhBkE13VQZB0QZI0Q', u'count': 136},"
   ]
  },
  {
   "cell_type": "code",
   "execution_count": null,
   "metadata": {
    "collapsed": true
   },
   "outputs": [],
   "source": []
  }
 ],
 "metadata": {
  "kernelspec": {
   "display_name": "Python 2",
   "language": "python",
   "name": "python2"
  },
  "language_info": {
   "codemirror_mode": {
    "name": "ipython",
    "version": 2
   },
   "file_extension": ".py",
   "mimetype": "text/x-python",
   "name": "python",
   "nbconvert_exporter": "python",
   "pygments_lexer": "ipython2",
   "version": "2.7.13"
  }
 },
 "nbformat": 4,
 "nbformat_minor": 2
}
