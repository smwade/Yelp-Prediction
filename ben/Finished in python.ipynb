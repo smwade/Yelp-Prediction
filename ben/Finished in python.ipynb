{
 "cells": [
  {
   "cell_type": "code",
   "execution_count": 1,
   "metadata": {
    "collapsed": true
   },
   "outputs": [],
   "source": [
    "# these are the commands that everyone needs"
   ]
  },
  {
   "cell_type": "code",
   "execution_count": 3,
   "metadata": {
    "collapsed": true
   },
   "outputs": [],
   "source": [
    "from pymongo import MongoClient\n",
    "import math\n",
    "from geopy.distance import vincenty\n",
    "from tqdm import tqdm\n",
    "import json\n",
    "client = MongoClient()\n",
    "db = client.yelp"
   ]
  },
  {
   "cell_type": "code",
   "execution_count": null,
   "metadata": {
    "collapsed": true
   },
   "outputs": [],
   "source": [
    "user_location = {}\n",
    "category_ave_distance_by_city = {}\n",
    "\n",
    "def get_user_living_location(businesses_in_specified_city):\n",
    "    all_reviews_by_users = db.reviews.find({\"business_id\": {\"$in\": businesses_in_specified_city}})\n",
    "    users_in_city = all_reviews_by_users.distinct(\"user_id\")\n",
    "    \n",
    "    for user in tqdm(users_in_city):\n",
    "        businesses_in_city_reviewed_by_user = db.reviews.find({\"business_id\": {\"$in\": businesses_in_specified_city}, \"user_id\": user}).distinct(\"business_id\")\n",
    "        latitude = 0.0\n",
    "        longitude = 0.0\n",
    "        count = len(businesses_in_city_reviewed_by_user)\n",
    "        business_obj_in_city_reviewed_by_user = db.businesses.find({\"business_id\": {\"$in\": businesses_in_city_reviewed_by_user}})\n",
    "        for b in business_obj_in_city_reviewed_by_user:\n",
    "            latitude += float(b['latitude'])\n",
    "            longitude += float(b['longitude'])\n",
    "        if count > 8:\n",
    "            user_location[user] = [latitude/count, longitude/count]\n",
    "        else:\n",
    "            continue"
   ]
  },
  {
   "cell_type": "code",
   "execution_count": null,
   "metadata": {
    "collapsed": true
   },
   "outputs": [],
   "source": [
    "# import all cities to the database\n",
    "# run exactly once (takes ≈ 24 hours)\n",
    "cities = db.businesses.find().distinct(\"city\")\n",
    "\n",
    "for city in cities:\n",
    "    businesses = db.businesses.find({\"city\": city}).distinct(\"business_id\")\n",
    "    user_location = {}\n",
    "    get_user_living_location(businesses)\n",
    "    print city, len(user_location)\n",
    "\n",
    "    for user in tqdm(user_location):\n",
    "        entry = {'city': city, 'user_id': user, \"living_location\": user_location[user]}\n",
    "        db.userAddress.insert_one(entry)"
   ]
  },
  {
   "cell_type": "code",
   "execution_count": null,
   "metadata": {
    "collapsed": true
   },
   "outputs": [],
   "source": [
    "def get_users_by_reviews(bCategory, newKey, city, users_in_city):\n",
    "    for user in users_in_city:\n",
    "        category_reviews_by_user = db.reviews.find({\"user_id\": user, \"business_id\": {\"$in\": bCategory.distinct(\"business_id\")}})\n",
    "        short_b = category_reviews_by_user.distinct(\"business_id\")\n",
    "\n",
    "        item = db.userAddress.find_one({'city': city, 'user_id': user})\n",
    "        home = item['living_location'] \n",
    "\n",
    "        short_b2 = db.businesses.find({\"business_id\": {\"$in\": short_b}})\n",
    "        for b in short_b2:\n",
    "            business_loc = [float(b['latitude']), float(b['longitude'])]\n",
    "            miles_dist = vincenty(home, business_loc).miles\n",
    "        \n",
    "            temp = category_ave_distance_by_city[newKey]\n",
    "            category_ave_distance_by_city[newKey] = (temp[0] + miles_dist, temp[1] + 1)"
   ]
  },
  {
   "cell_type": "code",
   "execution_count": 4,
   "metadata": {
    "collapsed": false
   },
   "outputs": [
    {
     "name": "stderr",
     "output_type": "stream",
     "text": [
      "  0%|          | 0/185 [00:00<?, ?it/s]\n"
     ]
    },
    {
     "ename": "NameError",
     "evalue": "name 'get_users_by_reviews' is not defined",
     "output_type": "error",
     "traceback": [
      "\u001b[0;31m---------------------------------------------------------------------------\u001b[0m",
      "\u001b[0;31mNameError\u001b[0m                                 Traceback (most recent call last)",
      "\u001b[0;32m<ipython-input-4-316438f9ccce>\u001b[0m in \u001b[0;36m<module>\u001b[0;34m()\u001b[0m\n\u001b[1;32m     13\u001b[0m             \u001b[0mnewKey\u001b[0m \u001b[0;34m=\u001b[0m \u001b[0mcity\u001b[0m \u001b[0;34m+\u001b[0m \u001b[0mindustry\u001b[0m\u001b[0;34m\u001b[0m\u001b[0m\n\u001b[1;32m     14\u001b[0m             \u001b[0mcategory_ave_distance_by_city\u001b[0m\u001b[0;34m[\u001b[0m\u001b[0mnewKey\u001b[0m\u001b[0;34m]\u001b[0m \u001b[0;34m=\u001b[0m \u001b[0;34m(\u001b[0m\u001b[0;36m0.0\u001b[0m\u001b[0;34m,\u001b[0m \u001b[0;36m0.0\u001b[0m\u001b[0;34m)\u001b[0m\u001b[0;34m\u001b[0m\u001b[0m\n\u001b[0;32m---> 15\u001b[0;31m             \u001b[0mget_users_by_reviews\u001b[0m\u001b[0;34m(\u001b[0m\u001b[0mbusinesses_by_category\u001b[0m\u001b[0;34m,\u001b[0m \u001b[0mnewKey\u001b[0m\u001b[0;34m,\u001b[0m \u001b[0mcity\u001b[0m\u001b[0;34m,\u001b[0m \u001b[0musers_in_city\u001b[0m\u001b[0;34m)\u001b[0m\u001b[0;34m\u001b[0m\u001b[0m\n\u001b[0m\u001b[1;32m     16\u001b[0m         \u001b[0;32melse\u001b[0m\u001b[0;34m:\u001b[0m\u001b[0;34m\u001b[0m\u001b[0m\n\u001b[1;32m     17\u001b[0m             \u001b[0;32mcontinue\u001b[0m\u001b[0;34m\u001b[0m\u001b[0m\n",
      "\u001b[0;31mNameError\u001b[0m: name 'get_users_by_reviews' is not defined"
     ]
    }
   ],
   "source": [
    "# also run exactly once (takes forever also)\n",
    "category_ave_distance_by_city = {}\n",
    "cities = db.userAddress.find().distinct('city')\n",
    "for city in tqdm(cities):\n",
    "    users_in_city = db.userAddress.find({'city': city}).distinct('user_id')\n",
    "    industries = db.businesses.find({\"city\": city}).distinct(\"categories\")\n",
    "    businesses = db.businesses.find({\"city\": city}).distinct(\"business_id\")\n",
    "    for industry in industries:\n",
    "        category = [\"{}\".format(industry)]\n",
    "        businesses_by_category = db.businesses.find({\"business_id\": {\"$in\": businesses}, \"categories\": {\"$elemMatch\": {\"$in\": category}}})\n",
    "        size = len(businesses_by_category.distinct(\"business_id\"))\n",
    "        if size > 8:\n",
    "            newKey = city + industry\n",
    "            category_ave_distance_by_city[newKey] = (0.0, 0.0)\n",
    "            get_users_by_reviews(businesses_by_category, newKey, city, users_in_city)\n",
    "        else:\n",
    "            continue\n",
    "\n",
    "        temp = category_ave_distance_by_city[newKey]\n",
    "        if temp[1] != 0:\n",
    "            category_ave_distance_by_city[newKey] = (temp[0]/temp[1], 1)\n",
    "            entry = {'city': city, 'industry': industry, 'ave_travel_dist': category_ave_distance_by_city[newKey][0]}\n",
    "            print entry\n",
    "            db.cityIndustryDist.insert_one(entry)\n",
    "            \n",
    "#     print \"{:25}{}\".format(\"items in category: \",category_ave_distance_by_city[newKey][1])\n",
    "#     for c in category_ave_distance_by_city:\n",
    "#         temp = category_ave_distance_by_city[c]\n",
    "#         if temp[1] != 0:\n",
    "#             category_ave_distance_by_city[c] = (temp[0]/temp[1], 1)\n",
    "\n",
    "#     print \"{:25}{}\".format(newKey, category_ave_distance_by_city[newKey])"
   ]
  },
  {
   "cell_type": "code",
   "execution_count": null,
   "metadata": {
    "collapsed": true
   },
   "outputs": [],
   "source": []
  }
 ],
 "metadata": {
  "kernelspec": {
   "display_name": "Python 2",
   "language": "python",
   "name": "python2"
  },
  "language_info": {
   "codemirror_mode": {
    "name": "ipython",
    "version": 2
   },
   "file_extension": ".py",
   "mimetype": "text/x-python",
   "name": "python",
   "nbconvert_exporter": "python",
   "pygments_lexer": "ipython2",
   "version": "2.7.13"
  }
 },
 "nbformat": 4,
 "nbformat_minor": 2
}
