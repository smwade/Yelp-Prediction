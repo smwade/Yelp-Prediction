{
 "cells": [
  {
   "cell_type": "code",
   "execution_count": 3,
   "metadata": {
    "collapsed": true
   },
   "outputs": [],
   "source": [
    "from pymongo import MongoClient\n",
    "import numpy as np\n",
    "import gpxpy.geo\n",
    "from tqdm import tqdm\n",
    "from collections import defaultdict\n",
    "client = MongoClient()\n",
    "db = client.yelp\n",
    "from sklearn.cluster import KMeans\n",
    "    \n",
    "def get_radius_for_city(city, industry):\n",
    "    def get_all_reviews_by_user_for_city(city):\n",
    "        bizes = list(db.businesses.find({\"city\": city, 'industries': {\"$in\": [industry]}}, { \"business_id\": 1, \"latitude\": 1, \"longitude\": 1}))\n",
    "        user_reviews = defaultdict(list)\n",
    "        for biz in bizes:\n",
    "            rel_review = db.reviews.find({\"business_id\": biz['business_id']})\n",
    "            for review in list(rel_review):\n",
    "                user_reviews[review['user_id']].append((biz[\"latitude\"], biz[\"longitude\"]))\n",
    "        \n",
    "        return user_reviews    \n",
    "    \n",
    "    def get_average_lat_and_long(set_lat_by_long):\n",
    "        set_lat_by_long = np.asarray(set_lat_by_long).copy()\n",
    "        return np.average(set_lat_by_long, axis=0)\n",
    "\n",
    "    def get_max_distance_from_mid(set_lat_by_long):\n",
    "        set_lat_by_long = np.asarray(set_lat_by_long)\n",
    "        mid = get_average_lat_and_long(set_lat_by_long)\n",
    "        return np.max([gpxpy.geo.haversine_distance(mid[0], mid[1], lat, lon)/1609.34 for lat, lon in set_lat_by_long])\n",
    "    \n",
    "    def get_clusters(data, n_clusters=2):\n",
    "        kmeans = KMeans(n_clusters=2).fit(data)\n",
    "        centers = kmeans.cluster_centers_\n",
    "        to_return = [[] for i in range(len(centers))]\n",
    "        for x in data:\n",
    "            dist = np.linalg.norm(centers - x, 1, axis=1)\n",
    "            index = np.argmin(dist)\n",
    "            to_return[index].append(x)\n",
    "        return sorted([np.vstack(i) for i in to_return], key=lambda x: len(x))[::-1]\n",
    "    \n",
    "    city_reviews = get_all_reviews_by_user_for_city(city)\n",
    "    city_radi = []\n",
    "    review_weights = [] # the more reviews that a user has given the more confident we are that they are part of the competitive region\n",
    "    for i, val in enumerate(city_reviews.values()):\n",
    "        if len(val) > 1:\n",
    "            dis_from_mid = get_max_distance_from_mid(val)\n",
    "            k = 2\n",
    "            while dis_from_mid > 100:\n",
    "                val = get_clusters(val, n_clusters=k)[0]\n",
    "                k += 1\n",
    "                dis_from_mid = get_max_distance_from_mid(val)\n",
    "            city_radi.append(dis_from_mid)\n",
    "            review_weights.append(len(val))\n",
    "            \n",
    "    final = np.dot(np.array(review_weights).T, np.array(city_radi))/np.sum(review_weights)\n",
    "    db.cityDistanceMetric.insert_one({\"city\" : city, \"radius\" : final})\n",
    "    return city, final"
   ]
  },
  {
   "cell_type": "code",
   "execution_count": null,
   "metadata": {
    "collapsed": true
   },
   "outputs": [],
   "source": [
    "cities = db.businesses.find().distinct('city')\n",
    "industries = db.businesses.find().distinct('industry')\n",
    "for city in tqdm(cities):\n",
    "    for industry in industries:\n",
    "        get_radius_for_city(city, industry)"
   ]
  },
  {
   "cell_type": "code",
   "execution_count": 6,
   "metadata": {
    "collapsed": false
   },
   "outputs": [
    {
     "data": {
      "text/plain": [
       "MongoClient(host=['localhost:27017'], document_class=dict, tz_aware=False, connect=True)"
      ]
     },
     "execution_count": 6,
     "metadata": {},
     "output_type": "execute_result"
    }
   ],
   "source": [
    "MongoClient()"
   ]
  },
  {
   "cell_type": "code",
   "execution_count": null,
   "metadata": {
    "collapsed": true
   },
   "outputs": [],
   "source": [
    "db.userAddress()"
   ]
  }
 ],
 "metadata": {
  "anaconda-cloud": {},
  "kernelspec": {
   "display_name": "Python [opencv2]",
   "language": "python",
   "name": "Python [opencv2]"
  },
  "language_info": {
   "codemirror_mode": {
    "name": "ipython",
    "version": 2
   },
   "file_extension": ".py",
   "mimetype": "text/x-python",
   "name": "python",
   "nbconvert_exporter": "python",
   "pygments_lexer": "ipython2",
   "version": "2.7.12"
  }
 },
 "nbformat": 4,
 "nbformat_minor": 0
}
