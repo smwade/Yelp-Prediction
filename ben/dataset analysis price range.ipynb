{
 "cells": [
  {
   "cell_type": "code",
   "execution_count": 1,
   "metadata": {
    "collapsed": true
   },
   "outputs": [],
   "source": [
    "from pymongo import MongoClient\n",
    "client = MongoClient()\n",
    "db = client.yelp"
   ]
  },
  {
   "cell_type": "code",
   "execution_count": 18,
   "metadata": {
    "collapsed": false
   },
   "outputs": [
    {
     "name": "stdout",
     "output_type": "stream",
     "text": [
      "{u'city': u'Tempe', u'neighborhood': u'', u'name': u'Innovative Vapors', u'business_id': u'0DI8Dt2PJp07XkVvIElIcQ', u'longitude': -111.936102, u'hours': [u'Monday 11:0-21:0', u'Tuesday 11:0-21:0', u'Wednesday 11:0-21:0', u'Thursday 11:0-21:0', u'Friday 11:0-22:0', u'Saturday 10:0-22:0', u'Sunday 11:0-18:0'], u'state': u'AZ', u'postal_code': u'85283', u'categories': [u'Tobacco Shops', u'Nightlife', u'Vape Shops', u'Shopping'], u'stars': 4.5, u'address': u'227 E Baseline Rd, Ste J2', u'latitude': 33.3782141, u'review_count': 17, u'_id': ObjectId('58c06b45b33b0a8d2afc16fe'), u'type': u'business', u'is_open': 0, u'attributes': [u'BikeParking: True', u'BusinessAcceptsBitcoin: False', u'BusinessAcceptsCreditCards: True', u\"BusinessParking: {'garage': False, 'street': False, 'validated': False, 'lot': True, 'valet': False}\", u'DogsAllowed: False', u'RestaurantsPriceRange2: 2', u'WheelchairAccessible: True']} \n",
      "\n",
      "\n",
      "{u'city': u'Las Vegas', u'neighborhood': u'', u'name': u'Cut and Taste', u'business_id': u'LTlCaCGZE14GuaUXUGbamg', u'longitude': -115.1592718, u'hours': [u'Monday 0:0-0:0', u'Tuesday 0:0-0:0', u'Wednesday 0:0-0:0', u'Thursday 0:0-0:0', u'Friday 0:0-0:0', u'Saturday 0:0-0:0', u'Sunday 0:0-0:0'], u'state': u'NV', u'postal_code': u'89106', u'categories': [u'Caterers', u'Grocery', u'Food', u'Event Planning & Services', u'Party & Event Planning', u'Specialty Food'], u'stars': 5.0, u'address': u'495 S Grand Central Pkwy', u'latitude': 36.1922841, u'review_count': 9, u'_id': ObjectId('58c06b45b33b0a8d2afc16ff'), u'type': u'business', u'is_open': 1, u'attributes': [u'BusinessAcceptsBitcoin: False', u'BusinessAcceptsCreditCards: True']} \n",
      "\n",
      "\n",
      "{u'city': u'Toronto', u'neighborhood': u'Dufferin Grove', u'name': u'Pizza Pizza', u'business_id': u'EDqCEAGXVGCH4FJXgqtjqg', u'longitude': -79.429089, u'hours': [u'Monday 11:0-2:0', u'Tuesday 11:0-2:0', u'Wednesday 11:0-2:0', u'Thursday 11:0-3:0', u'Friday 11:0-3:0', u'Saturday 11:0-3:0', u'Sunday 11:0-2:0'], u'state': u'ON', u'postal_code': u'M6H 1L5', u'categories': [u'Restaurants', u'Pizza', u'Chicken Wings', u'Italian'], u'stars': 2.5, u'address': u'979 Bloor Street W', u'latitude': 43.661054, u'review_count': 7, u'_id': ObjectId('58c06b45b33b0a8d2afc1700'), u'type': u'business', u'is_open': 1, u'attributes': [u'Alcohol: none', u\"Ambience: {'romantic': False, 'intimate': False, 'classy': False, 'hipster': False, 'touristy': False, 'trendy': False, 'upscale': False, 'casual': False}\", u'BikeParking: True', u'BusinessAcceptsCreditCards: True', u\"BusinessParking: {'garage': False, 'street': False, 'validated': False, 'lot': False, 'valet': False}\", u'Caters: True', u'GoodForKids: True', u\"GoodForMeal: {'dessert': False, 'latenight': False, 'lunch': False, 'dinner': False, 'breakfast': False, 'brunch': False}\", u'HasTV: True', u'NoiseLevel: quiet', u'OutdoorSeating: False', u'RestaurantsAttire: casual', u'RestaurantsDelivery: True', u'RestaurantsGoodForGroups: True', u'RestaurantsPriceRange2: 1', u'RestaurantsReservations: False', u'RestaurantsTableService: False', u'RestaurantsTakeOut: True', u'WiFi: free']} \n",
      "\n",
      "\n",
      "{u'city': u'Oakdale', u'neighborhood': u'', u'name': u'Plush Salon and Spa', u'business_id': u'cnGIivYRLxpF7tBVR_JwWA', u'longitude': -80.1745398943, u'hours': [u'Tuesday 10:0-21:0', u'Wednesday 10:0-21:0', u'Thursday 10:0-21:0', u'Friday 10:0-18:0', u'Saturday 9:0-16:0'], u'state': u'PA', u'postal_code': u'15071', u'categories': [u'Hair Removal', u'Beauty & Spas', u'Blow Dry/Out Services', u'Hair Stylists', u'Hair Extensions', u'Massage', u'Permanent Makeup', u'Waxing', u'Hair Salons'], u'stars': 4.0, u'address': u'7014 Steubenville Pike', u'latitude': 40.4445439533, u'review_count': 4, u'_id': ObjectId('58c06b45b33b0a8d2afc1701'), u'type': u'business', u'is_open': 1, u'attributes': [u'AcceptsInsurance: False', u'BusinessAcceptsCreditCards: True', u\"BusinessParking: {'garage': False, 'street': False, 'validated': False, 'lot': True, 'valet': False}\", u'ByAppointmentOnly: True', u\"HairSpecializesIn: {'coloring': False, 'africanamerican': False, 'curly': False, 'perms': False, 'kids': False, 'extensions': False, 'asian': False, 'straightperms': False}\", u'RestaurantsPriceRange2: 3']} \n",
      "\n",
      "\n",
      "{u'city': u'Toronto', u'neighborhood': u'Downtown Core', u'name': u'Comfort Inn', u'business_id': u'cdk-qqJ71q6P7TJTww_DSA', u'longitude': -79.3754006, u'hours': None, u'state': u'ON', u'postal_code': u'M5B 2C2', u'categories': [u'Hotels & Travel', u'Event Planning & Services', u'Hotels'], u'stars': 3.0, u'address': u'321 Jarvis Street', u'latitude': 43.6598286, u'review_count': 8, u'_id': ObjectId('58c06b45b33b0a8d2afc1702'), u'type': u'business', u'is_open': 1, u'attributes': [u'BusinessAcceptsCreditCards: True', u'RestaurantsPriceRange2: 2', u'WiFi: free']} \n",
      "\n",
      "\n",
      "{u'city': u'Markham', u'neighborhood': u'', u'name': u'A Plus Nail', u'business_id': u'Q9rsaUiQ-A3NdEAloy0aJA', u'longitude': -79.342722, u'hours': [u'Monday 10:30-20:0', u'Tuesday 10:30-20:0', u'Thursday 10:30-20:0', u'Friday 10:30-20:0', u'Saturday 10:30-19:0', u'Sunday 10:30-19:0'], u'state': u'ON', u'postal_code': u'L3R 2S3', u'categories': [u'Nail Salons', u'Beauty & Spas'], u'stars': 2.5, u'address': u'30 Gibson Drive, Suite122', u'latitude': 43.82764, u'review_count': 3, u'_id': ObjectId('58c06b45b33b0a8d2afc1703'), u'type': u'business', u'is_open': 1, u'attributes': [u'BusinessAcceptsCreditCards: True', u'ByAppointmentOnly: True', u'RestaurantsPriceRange2: 3']} \n",
      "\n",
      "\n",
      "{u'city': u'Scottsdale', u'neighborhood': u'', u'name': u'Boomerang Baby', u'business_id': u'Cu4_Fheh7IrzGiK-Pc79ig', u'longitude': -111.8349538, u'hours': [u'Monday 10:0-18:0', u'Tuesday 10:0-18:0', u'Wednesday 10:0-18:0', u'Thursday 10:0-18:0', u'Friday 10:0-18:0', u'Saturday 10:0-18:0', u'Sunday 11:0-16:0'], u'state': u'AZ', u'postal_code': u'85259', u'categories': [u'Baby Gear & Furniture', u'Shopping'], u'stars': 3.5, u'address': u'10875 N Frankloyd Wright Blvd', u'latitude': 33.5852707, u'review_count': 8, u'_id': ObjectId('58c06b45b33b0a8d2afc1704'), u'type': u'business', u'is_open': 1, u'attributes': [u'BikeParking: True', u'BusinessAcceptsCreditCards: True', u\"BusinessParking: {'garage': False, 'street': False, 'validated': False, 'lot': True, 'valet': False}\", u'RestaurantsPriceRange2: 2', u'WheelchairAccessible: True']} \n",
      "\n",
      "\n",
      "{u'city': u'Scottsdale', u'neighborhood': u'', u'name': u'Taco Bell', u'business_id': u'GDnbt3isfhd57T1QqU6flg', u'longitude': -111.83541, u'hours': [u'Monday 10:0-22:0', u'Tuesday 10:0-22:0', u'Wednesday 10:0-22:0', u'Thursday 10:0-22:0', u'Friday 10:0-22:0', u'Saturday 10:0-22:0', u'Sunday 10:0-22:0'], u'state': u'AZ', u'postal_code': u'85259', u'categories': [u'Tex-Mex', u'Mexican', u'Fast Food', u'Restaurants'], u'stars': 2.5, u'address': u'11072 No Frank Lloyd Wright', u'latitude': 33.58671, u'review_count': 9, u'_id': ObjectId('58c06b45b33b0a8d2afc1705'), u'type': u'business', u'is_open': 1, u'attributes': [u'Alcohol: none', u\"Ambience: {'romantic': False, 'intimate': False, 'classy': False, 'hipster': False, 'divey': False, 'touristy': False, 'trendy': False, 'upscale': False, 'casual': False}\", u'BikeParking: True', u'BusinessAcceptsCreditCards: True', u\"BusinessParking: {'garage': False, 'street': False, 'validated': False, 'lot': False, 'valet': False}\", u'DriveThru: True', u'GoodForKids: True', u\"GoodForMeal: {'dessert': False, 'latenight': False, 'lunch': False, 'dinner': False, 'breakfast': False, 'brunch': False}\", u'HasTV: False', u'NoiseLevel: quiet', u'OutdoorSeating: False', u'RestaurantsAttire: casual', u'RestaurantsDelivery: False', u'RestaurantsGoodForGroups: True', u'RestaurantsPriceRange2: 1', u'RestaurantsReservations: False', u'RestaurantsTableService: False', u'RestaurantsTakeOut: True', u'WiFi: no']} \n",
      "\n",
      "\n",
      "{u'city': u'Scottsdale', u'neighborhood': u'', u'name': u'CubeSmart Self Storage', u'business_id': u'qwAHit4Tuj1zpO7CxVwOMA', u'longitude': -111.8325788, u'hours': [u'Monday 9:30-18:0', u'Tuesday 9:30-18:0', u'Wednesday 9:30-18:0', u'Thursday 9:30-18:0', u'Friday 9:30-18:0', u'Saturday 8:30-17:0', u'Sunday 11:0-15:0'], u'state': u'AZ', u'postal_code': u'85259', u'categories': [u'Local Services', u'Self Storage'], u'stars': 4.5, u'address': u'11000 North 115th Street', u'latitude': 33.5864403, u'review_count': 11, u'_id': ObjectId('58c06b45b33b0a8d2afc1706'), u'type': u'business', u'is_open': 1, u'attributes': [u'BusinessAcceptsCreditCards: True']} \n",
      "\n",
      "\n",
      "{u'city': u'Stuttgart', u'neighborhood': u'', u'name': u'Sehne Backwaren', u'business_id': u'Nbr0kbtIrVlEcKIZoXWbSw', u'longitude': 9.11242, u'hours': None, u'state': u'BW', u'postal_code': u'70563', u'categories': [u'Food', u'Bakeries'], u'stars': 3.5, u'address': u'Hauptstr. 1', u'latitude': 48.7299, u'review_count': 3, u'_id': ObjectId('58c06b45b33b0a8d2afc1707'), u'type': u'business', u'is_open': 1, u'attributes': [u'BikeParking: True', u'BusinessAcceptsCreditCards: False', u\"BusinessParking: {'garage': False, 'street': False, 'validated': False, 'lot': False, 'valet': False}\", u'RestaurantsDelivery: False', u'RestaurantsPriceRange2: 3', u'RestaurantsTakeOut: True']} \n",
      "\n",
      "\n"
     ]
    }
   ],
   "source": [
    "attributes = db.businesses.find()#({}, {'attributes': 1})\n",
    "count = 0\n",
    "for x in attributes:\n",
    "    print x, \"\\n\\n\"\n",
    "    count += 1\n",
    "    if count == 10:\n",
    "        break\n"
   ]
  },
  {
   "cell_type": "code",
   "execution_count": null,
   "metadata": {
    "collapsed": true
   },
   "outputs": [],
   "source": []
  }
 ],
 "metadata": {
  "kernelspec": {
   "display_name": "Python 2",
   "language": "python",
   "name": "python2"
  },
  "language_info": {
   "codemirror_mode": {
    "name": "ipython",
    "version": 2
   },
   "file_extension": ".py",
   "mimetype": "text/x-python",
   "name": "python",
   "nbconvert_exporter": "python",
   "pygments_lexer": "ipython2",
   "version": "2.7.12"
  }
 },
 "nbformat": 4,
 "nbformat_minor": 2
}
