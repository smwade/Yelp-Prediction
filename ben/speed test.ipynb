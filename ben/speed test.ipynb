{
 "cells": [
  {
   "cell_type": "code",
   "execution_count": 1,
   "metadata": {
    "collapsed": true
   },
   "outputs": [],
   "source": [
    "from pymongo import MongoClient\n",
    "import numpy as np\n",
    "import gpxpy.geo\n",
    "from tqdm import tqdm\n",
    "from collections import defaultdict\n",
    "client = MongoClient()\n",
    "db = client.yelp\n",
    "from sklearn.cluster import KMeans"
   ]
  },
  {
   "cell_type": "code",
   "execution_count": 14,
   "metadata": {
    "collapsed": true
   },
   "outputs": [],
   "source": [
    "businesses = db.businesses.find().distinct('business_id')"
   ]
  },
  {
   "cell_type": "code",
   "execution_count": 5,
   "metadata": {
    "collapsed": false
   },
   "outputs": [
    {
     "name": "stderr",
     "output_type": "stream",
     "text": [
      "100%|██████████| 144072/144072 [03:55<00:00, 610.69it/s]\n"
     ]
    }
   ],
   "source": [
    "cities = db.businesses.find().distinct('city')\n",
    "for city in cities:\n",
    "    # industries given business\n",
    "    industries = db.businesses.find({'city': city}, {\"business_id\": 1, 'industries': 1})\n",
    "        for # get lessen businesses given a industry\n",
    "\n",
    "            for bus in tqdm(businesses):\n",
    "                users = db.reviews.find({'business_id': bus}).distinct('user_id')\n"
   ]
  },
  {
   "cell_type": "code",
   "execution_count": 13,
   "metadata": {
    "collapsed": false
   },
   "outputs": [
    {
     "name": "stdout",
     "output_type": "stream",
     "text": [
      "()\n"
     ]
    }
   ],
   "source": [
    "buz_user_pairs = db.reviews.find({},{'business_id': 1, 'user_id': 1})\n",
    "\n",
    "obj = np.array(buz_user_pairs)\n",
    "\n",
    "print obj.shape"
   ]
  },
  {
   "cell_type": "code",
   "execution_count": null,
   "metadata": {
    "collapsed": true
   },
   "outputs": [],
   "source": [
    "for o in obj:\n",
    "    users = # find users in list of businesses"
   ]
  }
 ],
 "metadata": {
  "kernelspec": {
   "display_name": "Python [opencv2]",
   "language": "python",
   "name": "Python [opencv2]"
  },
  "language_info": {
   "codemirror_mode": {
    "name": "ipython",
    "version": 2
   },
   "file_extension": ".py",
   "mimetype": "text/x-python",
   "name": "python",
   "nbconvert_exporter": "python",
   "pygments_lexer": "ipython2",
   "version": "2.7.12"
  }
 },
 "nbformat": 4,
 "nbformat_minor": 0
}
