{
 "cells": [
  {
   "cell_type": "code",
   "execution_count": 42,
   "metadata": {
    "collapsed": true
   },
   "outputs": [],
   "source": [
    "from pymongo import MongoClient\n",
    "import math\n",
    "import numpy as np\n",
    "import gpxpy.geo\n",
    "from tqdm import tqdm\n",
    "from collections import defaultdict\n",
    "from sklearn.cluster import KMeans\n",
    "import json\n",
    "client = MongoClient()\n",
    "db = client.yelp"
   ]
  },
  {
   "cell_type": "code",
   "execution_count": 45,
   "metadata": {
    "collapsed": true
   },
   "outputs": [],
   "source": [
    "def get_all_reviews_by_user_for_city(city):\n",
    "    \"\"\"A function which queries for all the reviews associated to all the buisnesses in a city\n",
    "    returns a dict (biz_id : review_locations)\"\"\"\n",
    "    bizes = list(db.businesses.find({\"city\": city}, { \"business_id\": 1, \"latitude\": 1, \"longitude\": 1, \"categories\": 1}))\n",
    "    user_reviews = defaultdict(list)\n",
    "    for biz in tqdm(bizes):\n",
    "        biz_id = biz['business_id']\n",
    "        rel_review = db.reviews.find({\"business_id\": biz_id})\n",
    "        for review in list(rel_review):\n",
    "            user_reviews[review['user_id']].append((biz[\"latitude\"], biz[\"longitude\"]))\n",
    "    return user_reviews"
   ]
  },
  {
   "cell_type": "code",
   "execution_count": 47,
   "metadata": {
    "collapsed": false
   },
   "outputs": [
    {
     "name": "stderr",
     "output_type": "stream",
     "text": [
      "100%|██████████| 3788/3788 [00:04<00:00, 829.50it/s]\n"
     ]
    }
   ],
   "source": [
    "henderson_reviews = get_all_reviews_by_user_for_city(\"Henderson\")"
   ]
  },
  {
   "cell_type": "code",
   "execution_count": 48,
   "metadata": {
    "collapsed": true
   },
   "outputs": [],
   "source": [
    "#Manipulating Latitude and Longitude\n",
    "def get_average_lat_and_long(set_lat_by_long):\n",
    "    \"\"\"We get some wierd outliers from the 'set_lat_by_long' we'll need to take care of these some how\n",
    "    returns: the average latitude and longitude \n",
    "    NOTE: this is simply the average of the latitude and longitude values (not based on geodicics)\"\"\"\n",
    "    set_lat_by_long = np.asarray(set_lat_by_long).copy()\n",
    "    return np.average(set_lat_by_long, axis=0)\n",
    "\n",
    "def get_max_distacne_from_mid(set_lat_by_long):\n",
    "    \"\"\"Because of the outliers (these are caused by a missing sign) get_average_lat_and_long returns a point \n",
    "    that is very far from the actual center\"\"\"\n",
    "    set_lat_by_long = np.asarray(set_lat_by_long)\n",
    "    mid = get_average_lat_and_long(set_lat_by_long)\n",
    "    return np.max([gpxpy.geo.haversine_distance(mid[0], mid[1], lat, lon)/1609.34 for lat, lon in set_lat_by_long])"
   ]
  },
  {
   "cell_type": "code",
   "execution_count": null,
   "metadata": {
    "collapsed": true
   },
   "outputs": [],
   "source": []
  }
 ],
 "metadata": {
  "kernelspec": {
   "display_name": "Python 2",
   "language": "python",
   "name": "python2"
  },
  "language_info": {
   "codemirror_mode": {
    "name": "ipython",
    "version": 2
   },
   "file_extension": ".py",
   "mimetype": "text/x-python",
   "name": "python",
   "nbconvert_exporter": "python",
   "pygments_lexer": "ipython2",
   "version": "2.7.12"
  }
 },
 "nbformat": 4,
 "nbformat_minor": 1
}
