{
 "cells": [
  {
   "cell_type": "code",
   "execution_count": 1,
   "metadata": {
    "collapsed": false
   },
   "outputs": [],
   "source": [
    "%matplotlib inline\n",
    "from pymongo import MongoClient\n",
    "\n",
    "import math\n",
    "from matplotlib import pyplot as plt\n",
    "import seaborn as sns\n",
    "import gpxpy.geo"
   ]
  },
  {
   "cell_type": "code",
   "execution_count": 2,
   "metadata": {
    "collapsed": true
   },
   "outputs": [],
   "source": [
    "client = MongoClient()\n",
    "db = client.yelp"
   ]
  },
  {
   "cell_type": "code",
   "execution_count": 3,
   "metadata": {
    "collapsed": false
   },
   "outputs": [],
   "source": [
    "that = db.businesses.find()"
   ]
  },
  {
   "cell_type": "code",
   "execution_count": 4,
   "metadata": {
    "collapsed": false
   },
   "outputs": [
    {
     "data": {
      "text/plain": [
       "144072"
      ]
     },
     "execution_count": 4,
     "metadata": {},
     "output_type": "execute_result"
    }
   ],
   "source": [
    "len(list(that))"
   ]
  },
  {
   "cell_type": "code",
   "execution_count": 17,
   "metadata": {
    "collapsed": false
   },
   "outputs": [],
   "source": [
    "def find_competitors_in_region(business_id, r):\n",
    "    \"\"\"r is in miles\"\"\"\n",
    "    business = db.businesses.find_one({\"business_id\" : business_id})\n",
    "    latitude, longitude = float(business['latitude']), float(business['longitude'])\n",
    "    lat = math.radians(latitude)\n",
    "    lon = math.radians(longitude)\n",
    "\n",
    "    radius  = 3959.\n",
    "    # Radius of the parallel at given latitude\n",
    "    parallel_radius = radius*math.cos(lat)\n",
    "\n",
    "    lat_min = math.degrees(lat - r/radius)\n",
    "    lat_max = math.degrees(lat + r/radius)\n",
    "    lon_min = math.degrees(lon - r/parallel_radius)\n",
    "    lon_max = math.degrees(lon + r/parallel_radius)\n",
    "    \n",
    "    print lat_min, lat_max, lon_min, lon_max\n",
    "    \n",
    "    pipe = {\"latitude\": {\"$gte\": lat_min, \"$lt\": lat_max},\n",
    "            \"longitude\": {\"$gte\": lon_min, \"$lt\": lon_max},\n",
    "            \"categories\" : {\"$elemMatch\":{\"$in\" : business[\"categories\"]}},\n",
    "            \"is_open\" : 1}\n",
    "    \n",
    "    close_enough_biznuz = db.businesses.find(pipe)    \n",
    "    \n",
    "    print business\n",
    "    return [close_biz for close_biz in list(close_enough_biznuz) if \n",
    "            (gpxpy.geo.haversine_distance(latitude, longitude, close_biz['latitude'], close_biz['longitude'])/1609.34) < r]"
   ]
  },
  {
   "cell_type": "code",
   "execution_count": 18,
   "metadata": {
    "collapsed": false
   },
   "outputs": [
    {
     "name": "stdout",
     "output_type": "stream",
     "text": [
      "36.119922671 36.264645529 -115.248934572 -115.069609028\n",
      "{u'city': u'Las Vegas', u'neighborhood': u'', u'name': u'Cut and Taste', u'business_id': u'LTlCaCGZE14GuaUXUGbamg', u'longitude': -115.1592718, u'hours': [u'Monday 0:0-0:0', u'Tuesday 0:0-0:0', u'Wednesday 0:0-0:0', u'Thursday 0:0-0:0', u'Friday 0:0-0:0', u'Saturday 0:0-0:0', u'Sunday 0:0-0:0'], u'state': u'NV', u'postal_code': u'89106', u'categories': [u'Caterers', u'Grocery', u'Food', u'Event Planning & Services', u'Party & Event Planning', u'Specialty Food'], u'stars': 5.0, u'address': u'495 S Grand Central Pkwy', u'latitude': 36.1922841, u'review_count': 9, u'_id': ObjectId('58bc80cec541a94ede79e1d5'), u'type': u'business', u'is_open': 1, u'attributes': [u'BusinessAcceptsBitcoin: False', u'BusinessAcceptsCreditCards: True']}\n"
     ]
    }
   ],
   "source": [
    "competitors = find_competitors_in_region(\"LTlCaCGZE14GuaUXUGbamg\", 5)"
   ]
  },
  {
   "cell_type": "code",
   "execution_count": 20,
   "metadata": {
    "collapsed": false
   },
   "outputs": [
    {
     "name": "stdout",
     "output_type": "stream",
     "text": [
      "{u'city': u'North Las Vegas', u'neighborhood': u'', u'name': u'Dawg Haus', u'business_id': u'FHyLqyxVt-pt6mmOzFbAVg', u'longitude': -115.193509, u'hours': None, u'state': u'NV', u'postal_code': u'89032', u'categories': [u'Street Vendors', u'Food'], u'stars': 4.0, u'address': u'Texas Station', u'latitude': 36.1986381, u'review_count': 4, u'_id': ObjectId('58bc80cec541a94ede79e724'), u'type': u'business', u'is_open': 1, u'attributes': [u'BikeParking: False', u'BusinessAcceptsCreditCards: True', u\"BusinessParking: {'garage': True, 'street': False, 'validated': False, 'lot': False, 'valet': False}\", u'RestaurantsPriceRange2: 1']}\n"
     ]
    }
   ],
   "source": [
    "print competitors[10]"
   ]
  },
  {
   "cell_type": "code",
   "execution_count": null,
   "metadata": {
    "collapsed": false
   },
   "outputs": [],
   "source": []
  },
  {
   "cell_type": "code",
   "execution_count": null,
   "metadata": {
    "collapsed": true
   },
   "outputs": [],
   "source": []
  }
 ],
 "metadata": {
  "kernelspec": {
   "display_name": "Python 2",
   "language": "python",
   "name": "python2"
  },
  "language_info": {
   "codemirror_mode": {
    "name": "ipython",
    "version": 2
   },
   "file_extension": ".py",
   "mimetype": "text/x-python",
   "name": "python",
   "nbconvert_exporter": "python",
   "pygments_lexer": "ipython2",
   "version": "2.7.12"
  }
 },
 "nbformat": 4,
 "nbformat_minor": 1
}
