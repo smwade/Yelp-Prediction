{
 "cells": [
  {
   "cell_type": "markdown",
   "metadata": {},
   "source": [
    "<h6 align=\"right\">Sean Wade, Luke Nelson</h6>\n"
   ]
  },
  {
   "cell_type": "markdown",
   "metadata": {
    "deletable": true,
    "editable": true
   },
   "source": [
    "<img  src=\"nb_images/yelp-logo.png\" style=\"width:18%; hieght:20%;\" align=\"left\"/>\n",
    "<h1 style=\"color:#c41200;\">HELP</h1>\n",
    "\n",
    "#### *Machine learning for uncovering inisight in your business and market*\n",
    "<hr>"
   ]
  },
  {
   "cell_type": "markdown",
   "metadata": {
    "deletable": true,
    "editable": true
   },
   "source": [
    "## Introduction\n",
    "\n",
    "Yelp was designed to help people connect with great local businesses. It allows users to rate, write reviews, upload pictures, and connect with others. While it is typical to focus on the users, this large and rich data offers huge potential to help the businesses and provide market insight. The goal of this project is to help businesses in 3 ways:\n",
    "\n",
    "1. Design a metric to determine \"competitiveness\" between two companies. (<a href=\"#Topic-Modeling\">Topic Modeling</a>)\n",
    "2. Determine the `competitive` radius of a company. (<a href=\"#Estimating-Competitive-Radi\">Estimating Competitive Radi</a>)\n",
    "3. Predict a company's future success and determine what about a company is liked or disliked. (<!--\n",
    "--><a href=\"#Sentiment-Analysis\">Sentiment Analysis</a> and <!--\n",
    "--><a href=\"#Topic-Modeling\">Topic Modeling</a>)"
   ]
  },
  {
   "cell_type": "markdown",
   "metadata": {
    "deletable": true,
    "editable": true
   },
   "source": [
    "## Data Cleaning and Prep\n",
    "\n",
    "#### The Raw Data\n",
    "\n",
    "- **2.7M** reviews and **649K** tips by **687K** users for **86K** businesses\n",
    "- **566K** business attributes, e.g., hours, parking availability, ambience.\n",
    "- Social network of **687K** users for a total of **4.2M** social edges.\n",
    "- Aggregated check-ins over time for each of the **86K** businesses\n",
    "- **200,000** pictures from the included businesses\n",
    "\n",
    "#### Cities\n",
    "- **U.K.** :  Edinburgh\n",
    "- **Germany** :  Karlsruhe\n",
    "- **Canada** :  Montreal and Waterloo\n",
    "- **U.S.** :  Pittsburgh, Charlotte, Urbana-Champaign, Phoenix, Las Vegas, Madison\n",
    "<img  src=\"nb_images/dataset-map.png\"/>\n",
    "*source: yelp.com*\n",
    "\n",
    "As seen above, this data is very rich. Our method will primaraly make use of reviews, ratings, and location. To see more on the data cleaning and visualization see the attached notebok. To store and manage the data we use a MongoDB database. This allowed for fast querying and effecient filtering of the data. The structer and schema of the database can be seen in the `cerate_database.js` file."
   ]
  },
  {
   "cell_type": "code",
   "execution_count": 9,
   "metadata": {
    "collapsed": false,
    "deletable": true,
    "editable": true,
    "scrolled": false
   },
   "outputs": [
    {
     "data": {
      "text/html": [
       "<link href='http://fonts.googleapis.com/css?family=Fenix' rel='stylesheet' type='text/css'>\n",
       "<link href=\"https://fonts.googleapis.com/css?family=Montserrat:300,400,500|Open+Sans\" rel=\"stylesheet\">\n",
       "<link href='http://fonts.googleapis.com/css?family=Source+Code+Pro:300,400' rel='stylesheet' type='text/css'>\n",
       "<link href=\"https://fonts.googleapis.com/css?family=Raleway:200,300,400\" rel=\"stylesheet\" type='text/ccs'>\n",
       "<style>\n",
       "    @font-face {\n",
       "        font-family: \"Computer Modern\";\n",
       "        src: url('http://mirrors.ctan.org/fonts/cm-unicode/fonts/otf/cmunss.otf');\n",
       "    }\n",
       "    h1 {\n",
       "        font-family: 'Montserrat', sans-serif;\n",
       "\tfont-weight:300;\n",
       "    }\n",
       "    h2 {\n",
       "        font-family: 'Montserrat', sans-serif;\n",
       "\t//font-size: 45px !important;\n",
       "\tfont-weight:300 !important;\n",
       "\tcolor: #2874A6 !important;\n",
       "    }\n",
       "    h3 {\n",
       "        font-family: 'Montserrat', sans-serif;\n",
       "\tfont-size: 70 !important;\n",
       "\tfont-weight:400 !important;\n",
       "\tcolor: #148F77 !important;\n",
       "    }\n",
       "    h4{\n",
       "\tfont-family: 'Montserrat', sans-serif;\n",
       "\tfont-size: 30 !important;\n",
       "    }\n",
       "    h5 {\n",
       "        font-family: 'Montserrat', sans-serif;\n",
       "    }\t   \n",
       "    div.text_cell_render{\n",
       "        font-family: 'Open Sans', sans-serif;\n",
       "\tline-height: 24px;\n",
       "    }\n",
       "    .CodeMirror{\n",
       "            font-family: \"Source Code Pro\";\n",
       "\t\t\tfont-size: 95%;\n",
       "    }\n",
       "\n",
       "\n",
       "    \n",
       "\n",
       "    .text_cell_render h1 {\n",
       "        font-weight: 200;\n",
       "        font-size: 50pt;\n",
       "\t\tline-height: 100%;\n",
       "        color:#454851;\n",
       "        margin-top: 0.5em;\n",
       "        display: block;\n",
       "    }\n",
       "    .text_cell_render h2 {\n",
       "        font-weight: 400;\n",
       "\tfont-size:35pt;\n",
       "\tcolor:#252839;\n",
       "        display: block;\n",
       "    }\t\n",
       "    .text_cell_render h3 {\n",
       "        font-weight: 300;\n",
       "        font-size: 20pt;\n",
       "        display: block;\n",
       "    }\t\n",
       "    .text_cell_render h4 {\n",
       "        font-weight: 300;\n",
       "        color:#454851;\n",
       "        font-size: 15pt;\n",
       "        display: block;\n",
       "    }\t\n",
       "    .text_cell_render h5 {\n",
       "        font-weight: 300;\n",
       "        font-size: 16pt;\n",
       "        color: #CD2305;\n",
       "        font-style: italic;\n",
       "        margin-bottom: .5em;\n",
       "        margin-top: 0.5em;\n",
       "        display: block;\n",
       "    }\n",
       "    \n",
       "    .warning{\n",
       "        color: rgb( 240, 20, 20 )\n",
       "        }  \n",
       "</style>\n",
       "<script>\n",
       "    MathJax.Hub.Config({\n",
       "                        TeX: {\n",
       "                           extensions: [\"AMSmath.js\"]\n",
       "                           },\n",
       "                tex2jax: {\n",
       "                    inlineMath: [ ['$','$'], [\"\\\\(\",\"\\\\)\"] ],\n",
       "                    displayMath: [ ['$$','$$'], [\"\\\\[\",\"\\\\]\"] ]\n",
       "                },\n",
       "                displayAlign: 'center', // Change this to 'center' to center equations.\n",
       "                \"HTML-CSS\": {\n",
       "                    styles: {'.MathJax_Display': {\"margin\": 4}}\n",
       "                }\n",
       "        });\n",
       "</script>\n"
      ],
      "text/plain": [
       "<IPython.core.display.HTML object>"
      ]
     },
     "execution_count": 9,
     "metadata": {},
     "output_type": "execute_result"
    }
   ],
   "source": [
    "from yelp_utils.data_manager import get_business_reviews, get_business_name\n",
    "from yelp_utils.preprocess_reviews import tokenize, get_nouns\n",
    "import numpy as np\n",
    "from pymongo import MongoClient\n",
    "import nltk\n",
    "import re\n",
    "\n",
    "from matplotlib import pyplot as plt\n",
    "import seaborn as sns\n",
    "sns.set_style('dark')\n",
    "%matplotlib inline\n",
    "\n",
    "from IPython.core.display import HTML\n",
    "import urllib2\n",
    "HTML(urllib2.urlopen('http://seanwade.com/jupyter_3.css').read())"
   ]
  },
  {
   "cell_type": "markdown",
   "metadata": {
    "collapsed": true,
    "deletable": true,
    "editable": true
   },
   "source": [
    "## Topic Modeling\n",
    "\n",
    "Within machine learning and natural language processing, a *topic model* is a type of statistical model for discovering abstract topics, or groups, that occur in a collection of documents. These topics are latent structures of the documents. The premise behind most of these models is that certain words will be more frequent in certain topics. For example, a document about sports is likly to contain the words \"touchdown\" and \"runner\", while a document about mathematics is much less likly to contain these words.\n",
    "\n",
    "For the Yelp data we will use this genre of model in several ways:\n",
    " - Grouping similar reviews for a business\n",
    " - Finding similar business competitors\n",
    " - Discovering importatntant trends in reviews"
   ]
  },
  {
   "cell_type": "markdown",
   "metadata": {
    "deletable": true,
    "editable": true
   },
   "source": [
    "### Review Clustering\n",
    "\n",
    "First, we will discover \"documents\" in the reviews. This can be interpreted as the different subjects and types of reviews users leave. Uncovering this latent structure could help a business see the categories that stand out to customers, for better of worse."
   ]
  },
  {
   "cell_type": "code",
   "execution_count": 3,
   "metadata": {
    "collapsed": false,
    "deletable": true,
    "editable": true
   },
   "outputs": [
    {
     "name": "stdout",
     "output_type": "stream",
     "text": [
      "Mandalay Bay Resort & Casino\n"
     ]
    }
   ],
   "source": [
    "# Select a well known business for us to perform tests on\n",
    "BIZ_ID = 'eAc9Vd6loOgRQolMXQt6FA'\n",
    "print get_business_name(BIZ_ID)"
   ]
  },
  {
   "cell_type": "code",
   "execution_count": 4,
   "metadata": {
    "collapsed": true,
    "deletable": true,
    "editable": true
   },
   "outputs": [],
   "source": [
    "# Make a list of reviews and stars\n",
    "review_list = np.array([x['text'] for x in get_business_reviews(BIZ_ID)])\n",
    "star_list = np.array([x['stars'] for x in get_business_reviews(BIZ_ID)])"
   ]
  },
  {
   "cell_type": "code",
   "execution_count": 8,
   "metadata": {
    "collapsed": false,
    "deletable": true,
    "editable": true
   },
   "outputs": [
    {
     "name": "stdout",
     "output_type": "stream",
     "text": [
      "Rum Jungle is a pretty amazing bar. Worth stopping by in the afternoon just to sit in and look at the decor and fountains. Glad I went. \n",
      "\n",
      "[u'rum', u'jungle', u'is', u'a', u'pretty', u'amazing', u'bar', u'worth', u'stopping', u'by', u'in', u'the', u'afternoon', u'just', u'to', u'sit', u'in', u'and', u'look', u'at', u'the', u'decor', u'and', u'fountains', u'glad', u'i', u'went']\n"
     ]
    }
   ],
   "source": [
    "#Let us consider a particular review\n",
    "print review_list[9], '\\n'\n",
    "\n",
    "# Tokenize those reviews so they can be processed\n",
    "print tokenize(review_list[9])"
   ]
  },
  {
   "cell_type": "markdown",
   "metadata": {
    "deletable": true,
    "editable": true
   },
   "source": [
    "### Term Frequency-Inverse Document Frequency (Tf-idf)\n",
    "\n",
    "After cleaning and tokenizing the text from reviews we can create teh term frequencey-inverse document frequency matrix.  This matrix counts the occurences of every important word in every document. Then like the picture bellow it stacks these vectors so the it is one matrix with the dimension (NUM_DOCUMENTS X VOCAB_SIZE).\n",
    "\n",
    "<img src='nb_images/tf-idf.png'>\n",
    "\n",
    "Once this matrix is created we then weight the words that occur frequently in the document but not in the corpus higher."
   ]
  },
  {
   "cell_type": "code",
   "execution_count": 6,
   "metadata": {
    "collapsed": true,
    "deletable": true,
    "editable": true
   },
   "outputs": [],
   "source": [
    "from sklearn.feature_extraction.text import TfidfVectorizer\n",
    "from sklearn.metrics.pairwise import cosine_similarity\n",
    "from sklearn.cluster import KMeans"
   ]
  },
  {
   "cell_type": "code",
   "execution_count": 7,
   "metadata": {
    "collapsed": true,
    "deletable": true,
    "editable": true
   },
   "outputs": [],
   "source": [
    "#define vectorizer parameters\n",
    "tfidf_vectorizer = TfidfVectorizer(max_df=0.6, max_features=200000,\n",
    "                                 min_df=0.1, stop_words='english',\n",
    "                                 use_idf=True, tokenizer=tokenize, ngram_range=(1,3))\n",
    "\n",
    "tfidf_matrix = tfidf_vectorizer.fit_transform(review_list)\n",
    "vocab_list = tfidf_vectorizer.get_feature_names()"
   ]
  },
  {
   "cell_type": "markdown",
   "metadata": {
    "deletable": true,
    "editable": true
   },
   "source": [
    "### Clustering Documents\n",
    "\n",
    "Below we cluster reviews (aka documents) by the vocabulary used in them. The goal of this method is to enable us to determine what reviews regard or talk about the most. This will allow us to produce a more refined (and useful) view on the star ratings associated with review. "
   ]
  },
  {
   "cell_type": "code",
   "execution_count": 11,
   "metadata": {
    "collapsed": true,
    "deletable": true,
    "editable": true
   },
   "outputs": [],
   "source": [
    "NUM_CLUSTERS = 4 #One problem with this method is it is very sensitive to this param given a buisness\n",
    "k_means = KMeans(NUM_CLUSTERS)\n",
    "k_means.fit(tfidf_matrix)\n",
    "labels = np.array(k_means.labels_.tolist())"
   ]
  },
  {
   "cell_type": "code",
   "execution_count": 12,
   "metadata": {
    "collapsed": false,
    "deletable": true,
    "editable": true
   },
   "outputs": [
    {
     "name": "stdout",
     "output_type": "stream",
     "text": [
      "Cluster 0: \n",
      "-------------------------\n",
      "Top Words:  pool,  lazy,  river,  wave,  lazy river,  wave pool,  \n",
      "Number of Reviews: 330\n",
      "Avg Stars: 3.84\n",
      "\n",
      "\n",
      "Cluster 1: \n",
      "-------------------------\n",
      "Top Words:  room,  hotel,  check,  stay,  service,  time,  \n",
      "Number of Reviews: 710\n",
      "Avg Stars: 2.69\n",
      "\n",
      "\n",
      "Cluster 2: \n",
      "-------------------------\n",
      "Top Words:  hotel,  great,  place,  nice,  casino,  rooms,  \n",
      "Number of Reviews: 813\n",
      "Avg Stars: 3.56\n",
      "\n",
      "\n",
      "Cluster 3: \n",
      "-------------------------\n",
      "Top Words:  mandalay,  mandalay bay,  bay,  hotel,  stay,  room,  \n",
      "Number of Reviews: 452\n",
      "Avg Stars: 3.41\n",
      "\n",
      "\n"
     ]
    }
   ],
   "source": [
    "for i in range(NUM_CLUSTERS):\n",
    "    print \"Cluster %d: \" % i\n",
    "    print \"-\"*25\n",
    "    print \"Top Words: \",\n",
    "    order_centroids = k_means.cluster_centers_.argsort()[:, ::-1] \n",
    "    for ind in order_centroids[i,:6]:\n",
    "        print vocab_list[ind] + \", \",\n",
    "    print \"\\nNumber of Reviews: %d\" % np.sum(labels == i)\n",
    "    print \"Avg Stars: %.2f\" % np.mean(star_list[labels == i])\n",
    "    print \"\\n\""
   ]
  },
  {
   "cell_type": "markdown",
   "metadata": {
    "deletable": true,
    "editable": true
   },
   "source": [
    "The above result is pretty amazing! \n",
    "\n",
    "People who left reviews about attributes regarding the room or the service rated the service at a whole 1.16 points below those who had something to say about the pool. This could potentially give Mandalay Bay motivation to focus on getting all of its guests to the pool at some point. "
   ]
  },
  {
   "cell_type": "markdown",
   "metadata": {
    "deletable": true,
    "editable": true
   },
   "source": [
    "<h2 class=\"section_header\">Latent Dirichlet Allocation</h2>\n",
    "\n",
    "LDA is a probabalistic topic model that assumes documents are a mixture of topics and each word in the document is atttributabe to the documents topics. This is useful because given 10 topics, a new topic can be assigned probabilities of being in each topic. By concatinating all the reviews for one business into a document we can then train this model to discover different types of businesses. This can be used to find similar reviews for a business or a businesses competitors by looking at the similarity of their topic distribution."
   ]
  },
  {
   "cell_type": "code",
   "execution_count": 47,
   "metadata": {
    "collapsed": false,
    "deletable": true,
    "editable": true
   },
   "outputs": [],
   "source": [
    "from gensim import corpora, models, similarities "
   ]
  },
  {
   "cell_type": "code",
   "execution_count": 48,
   "metadata": {
    "collapsed": false,
    "deletable": true,
    "editable": true
   },
   "outputs": [],
   "source": [
    "#preprocess\n",
    "tokenized_docs = [get_nouns(tokenize(x)) for x in review_list]"
   ]
  },
  {
   "cell_type": "code",
   "execution_count": 49,
   "metadata": {
    "collapsed": true,
    "deletable": true,
    "editable": true
   },
   "outputs": [],
   "source": [
    "#create a Gensim dictionary from the texts\n",
    "dictionary = corpora.Dictionary(tokenized_docs)\n",
    "\n",
    "#remove extremes (similar to the min/max df step used when creating the tf-idf matrix)\n",
    "dictionary.filter_extremes(no_below=1, no_above=0.8)\n",
    "\n",
    "#convert the dictionary to a bag of words corpus for reference\n",
    "corpus = [dictionary.doc2bow(text) for text in tokenized_docs]"
   ]
  },
  {
   "cell_type": "code",
   "execution_count": 61,
   "metadata": {
    "collapsed": true,
    "deletable": true,
    "editable": true
   },
   "outputs": [],
   "source": [
    "lda = models.LdaModel(corpus, num_topics=5, id2word=dictionary, \n",
    "                      update_every=1, chunksize=3, passes=6)"
   ]
  },
  {
   "cell_type": "markdown",
   "metadata": {
    "deletable": true,
    "editable": true
   },
   "source": [
    "After looking at the words assosiated with the different topics the folowing groups were determined."
   ]
  },
  {
   "cell_type": "code",
   "execution_count": 64,
   "metadata": {
    "collapsed": false,
    "deletable": true,
    "editable": true
   },
   "outputs": [],
   "source": [
    "topic_labels = [\n",
    "    'General Hotel',\n",
    "    'Room Amenities',\n",
    "    'Serice',\n",
    "    'night club and resturant',\n",
    "    'Misc'\n",
    "]"
   ]
  },
  {
   "cell_type": "code",
   "execution_count": 65,
   "metadata": {
    "collapsed": false,
    "deletable": true,
    "editable": true,
    "scrolled": false
   },
   "outputs": [
    {
     "name": "stdout",
     "output_type": "stream",
     "text": [
      "\n",
      "Topic 0 (General Hotel)\n",
      "--------------------\n",
      "hotel\n",
      "pool\n",
      "vegas\n",
      "bay\n",
      "mandalay\n",
      "resort\n",
      "casino\n",
      "\n",
      "Topic 1 (Room Amenities)\n",
      "--------------------\n",
      "bathroom\n",
      "tub\n",
      "anything\n",
      "shower\n",
      "work\n",
      "mini\n",
      "brunch\n",
      "\n",
      "Topic 2 (Serice)\n",
      "--------------------\n",
      "i\n",
      "hotel\n",
      "time\n",
      "night\n",
      "service\n",
      "day\n",
      "desk\n",
      "\n",
      "Topic 3 (night club and resturant)\n",
      "--------------------\n",
      "everything\n",
      "nights\n",
      "house\n",
      "plenty\n",
      "drink\n",
      "guests\n",
      "shark\n",
      "\n",
      "Topic 4 (Misc)\n",
      "--------------------\n",
      "room\n",
      "line\n",
      "fee\n",
      "view\n",
      "door\n",
      "bed\n",
      "water\n"
     ]
    }
   ],
   "source": [
    "topics_matrix = lda.show_topics(formatted=False, num_words=20)\n",
    "for topic_num, words in topics_matrix:\n",
    "    print \"\\nTopic %s\" % topic_num, \"(\" + topic_labels[topic_num] + \")\" \n",
    "    print \"-\"*20\n",
    "    for word in words[:7]:\n",
    "        print word[0]"
   ]
  },
  {
   "cell_type": "markdown",
   "metadata": {
    "deletable": true,
    "editable": true
   },
   "source": [
    "## LDA for Determining Business Type\n",
    "\n",
    "Our primary goal with LDA is to be used on all the businesses. The Yelp data does give basic business categories, such as 'food' or 'automotives', but this is still not enough to accuratly determin business competitors. For example, under this metric gourmet burgers and McDonalds are competitors hamburger competitors, which is not true. By training an LDA model with 100 documents we can create a \"business signal/distribution\". Using this unique signal we can leverage DSP techniques for comparing similarity. Then these similar signals will be much more acurate at identifing direct competitors.\n",
    "\n",
    "To establish a baseline we apply LDA to reviews from 5 different types of businesses. The goal of this is to discover these labels ourselves."
   ]
  },
  {
   "cell_type": "code",
   "execution_count": 37,
   "metadata": {
    "collapsed": true,
    "deletable": true,
    "editable": true
   },
   "outputs": [],
   "source": [
    "# Connect to database\n",
    "client = MongoClient()\n",
    "db = client.yelp"
   ]
  },
  {
   "cell_type": "code",
   "execution_count": 38,
   "metadata": {
    "collapsed": true,
    "deletable": true,
    "editable": true
   },
   "outputs": [],
   "source": [
    "# Get examples from distinct businesses for training\n",
    "different_categories = ['Automotive', 'Hair Salons', 'Pets', 'Medical Centers', 'Butcher']\n",
    "\n",
    "category_dict = {}\n",
    "for category in different_categories:\n",
    "    cursor = db.businesses.find({'categories': {\"$elemMatch\":{\"$in\":[category]}}}).limit(100)\n",
    "    total_reviews = []\n",
    "    for business in cursor:\n",
    "        biz_reviews = [x['text'] for x in get_business_reviews(business['business_id'])]\n",
    "        concat_biz_review = ' '.join(biz_reviews)\n",
    "        cleaned_review = get_nouns(tokenize(concat_biz_review))\n",
    "        total_reviews.append(cleaned_review)\n",
    "    category_dict[category] = total_reviews"
   ]
  },
  {
   "cell_type": "code",
   "execution_count": 39,
   "metadata": {
    "collapsed": true,
    "deletable": true,
    "editable": true
   },
   "outputs": [],
   "source": [
    "#preprocess\n",
    "tokenized_docs = []\n",
    "category_labels = []\n",
    "for i, category in enumerate(different_categories):\n",
    "    tokenized_docs += category_dict[category]\n",
    "    category_labels += [i] * len(category_dict[category])"
   ]
  },
  {
   "cell_type": "code",
   "execution_count": 40,
   "metadata": {
    "collapsed": false,
    "deletable": true,
    "editable": true
   },
   "outputs": [],
   "source": [
    "#create a Gensim dictionary from the texts\n",
    "dictionary = corpora.Dictionary(tokenized_docs)\n",
    "\n",
    "#remove extremes (similar to the min/max df step used when creating the tf-idf matrix)\n",
    "dictionary.filter_extremes(no_below=.05, no_above=0.6)\n",
    "\n",
    "#convert the dictionary to a bag of words corpus for reference\n",
    "corpus = [dictionary.doc2bow(text) for text in tokenized_docs]"
   ]
  },
  {
   "cell_type": "code",
   "execution_count": 41,
   "metadata": {
    "collapsed": true,
    "deletable": true,
    "editable": true
   },
   "outputs": [],
   "source": [
    "lda = models.LdaModel(corpus, num_topics=5, id2word=dictionary, \n",
    "                      update_every=1, chunksize=100, passes=10)"
   ]
  },
  {
   "cell_type": "code",
   "execution_count": 45,
   "metadata": {
    "collapsed": true,
    "deletable": true,
    "editable": true
   },
   "outputs": [],
   "source": [
    "topic_labels = [\n",
    "    'Butcher',\n",
    "    'Automotive',\n",
    "    'Pets',\n",
    "    'Medical Centers',\n",
    "    'Hair Salon',  \n",
    "]\n",
    "#These just happen to be the order that the LDA method outputs in, it won't be important for the \n",
    "#buisness signal because lda will return the components of the signal in a consistent order"
   ]
  },
  {
   "cell_type": "code",
   "execution_count": 46,
   "metadata": {
    "collapsed": false,
    "deletable": true,
    "editable": true
   },
   "outputs": [
    {
     "name": "stdout",
     "output_type": "stream",
     "text": [
      "\n",
      "Topic 0 (Butcher)\n",
      "--------------------\n",
      "meat\n",
      "food\n",
      "meats\n",
      "butcher\n",
      "quality\n",
      "beef\n",
      "store\n",
      "selection\n",
      "shop\n",
      "chicken\n",
      "\n",
      "Topic 1 (Automotive)\n",
      "--------------------\n",
      "car\n",
      "customer\n",
      "work\n",
      "oil\n",
      "price\n",
      "tire\n",
      "minutes\n",
      "location\n",
      "business\n",
      "experience\n",
      "\n",
      "Topic 2 (Pets)\n",
      "--------------------\n",
      "dog\n",
      "dogs\n",
      "vet\n",
      "cat\n",
      "pet\n",
      "animals\n",
      "care\n",
      "years\n",
      "day\n",
      "home\n",
      "\n",
      "Topic 3 (Medical Centers)\n",
      "--------------------\n",
      "doctor\n",
      "dr\n",
      "hospital\n",
      "care\n",
      "office\n",
      "room\n",
      "surgery\n",
      "pain\n",
      "people\n",
      "appointment\n",
      "\n",
      "Topic 4 (Hair Salon)\n",
      "--------------------\n",
      "hair\n",
      "salon\n",
      "cut\n",
      "color\n",
      "appointment\n",
      "job\n",
      "stylist\n",
      "experience\n",
      "haircut\n",
      "years\n"
     ]
    }
   ],
   "source": [
    "topics_matrix = lda.show_topics(formatted=False, num_words=10)\n",
    "for topic_num, words in topics_matrix:\n",
    "    print \"\\nTopic %s\" % topic_num, \"(\" + topic_labels[topic_num] + \")\" \n",
    "    print \"-\"*20\n",
    "    for word in words:\n",
    "        print word[0]"
   ]
  },
  {
   "cell_type": "code",
   "execution_count": 44,
   "metadata": {
    "collapsed": false,
    "deletable": true,
    "editable": true
   },
   "outputs": [
    {
     "name": "stdout",
     "output_type": "stream",
     "text": [
      "Classes: [0 1 2 3]       Amount: [ 2 95  2  1]\n",
      "Classes: [1 2 3 4]       Amount: [ 1  1  1 97]\n",
      "Classes: [0 1 2 3]       Amount: [ 3  2 90  5]\n",
      "Classes: [0 1 2 3 4]     Amount: [ 1  2  1 92  4]\n",
      "Classes: [0]             Amount: [100]\n"
     ]
    }
   ],
   "source": [
    "accuracy = 0\n",
    "for i, category in enumerate(different_categories):\n",
    "    results = []\n",
    "    num_category = len(category_dict[category])\n",
    "    for review in category_dict[category]:\n",
    "        doc_bow = dictionary.doc2bow(review)\n",
    "        distribution = lda[doc_bow]\n",
    "        percents = np.array([x[1] for x in distribution])\n",
    "        max_indx = np.argmax(percents)\n",
    "        results.append(distribution[max_indx][0])\n",
    "    classes, amounts = np.unique(results, return_counts=True)\n",
    "    print \"Classes: %-15s Amount: %s\" % (classes, amounts)"
   ]
  },
  {
   "cell_type": "markdown",
   "metadata": {
    "deletable": true,
    "editable": true
   },
   "source": [
    "Not to brag, but these results are pretty great! The \n",
    " topics clearly correspond to the different businesses and we will extend it to all the businesses."
   ]
  },
  {
   "cell_type": "markdown",
   "metadata": {
    "deletable": true,
    "editable": true
   },
   "source": [
    "## Sentiment Analysis\n",
    "\n",
    "Sentiment analysis is a branch of natural language processing that aims to systematically identify, extract, and quantify affective states and subjective information. The prototypical example is classifying if a review is positive or negative. For a bisunesses Yelp reviews we will use this so we can determine what is included in the most negative and most positive reviews. This can give concise information on what needs to be fixed and what is going well."
   ]
  },
  {
   "cell_type": "markdown",
   "metadata": {
    "deletable": true,
    "editable": true
   },
   "source": [
    "### Naive Bayes\n",
    "\n",
    "Because of the complex nature of working with text, historically the simple naive bayes model has been the standard for sentiment anaysis. The text is read in and then transformed into a simple bag of words. This gives the probability of words ocurring given a certain sentiment which is then used by naive bayes.\n",
    "\n",
    "$$ P(c\\vert x) = \\frac{P(x\\vert c)P(c)}{P(x)}$$\n",
    "$$ P(c\\vert x) = P(x_1\\vert c) \\times P(x_2\\vert c)\\times \\dots P(x_n\\vert c) \\times P(c)$$"
   ]
  },
  {
   "cell_type": "code",
   "execution_count": 3,
   "metadata": {
    "collapsed": true,
    "deletable": true,
    "editable": true
   },
   "outputs": [],
   "source": [
    "from yelp_utils.preprocess_reviews import prepare_classify\n",
    "from sklearn.feature_extraction.text import CountVectorizer\n",
    "from sklearn.feature_extraction.text import TfidfTransformer\n",
    "from sklearn.preprocessing import LabelEncoder\n",
    "from mlxtend.preprocessing import DenseTransformer\n",
    "from sklearn.pipeline import Pipeline\n",
    "from sklearn import metrics\n",
    "\n",
    "from sklearn.naive_bayes import MultinomialNB\n",
    "from sklearn.svm import SVC\n",
    "from sklearn.ensemble import GradientBoostingClassifier\n",
    "from sklearn.linear_model import LogisticRegression"
   ]
  },
  {
   "cell_type": "markdown",
   "metadata": {
    "deletable": true,
    "editable": true
   },
   "source": [
    "As before, ew sill use a bag of words approach to create a feature vector for each review. Then to normalize for document size and word occurence we transform the matrix to term frequency inverse document frequency (tf-idf)"
   ]
  },
  {
   "cell_type": "code",
   "execution_count": 5,
   "metadata": {
    "collapsed": false,
    "deletable": true,
    "editable": true
   },
   "outputs": [],
   "source": [
    "# Create trainging set of positive and negative examples\n",
    "NUM_DATA = 10000\n",
    "SPLIT = int(NUM_DATA * .75)\n",
    "pos_list, neg_list = prepare_classify(NUM_DATA)\n",
    "train = pos_list[:SPLIT] + neg_list[:SPLIT]\n",
    "test = pos_list[SPLIT:] + neg_list[SPLIT:]\n",
    "\n",
    "# Split to test/train set\n",
    "x_train, y_train = zip(*train)\n",
    "x_test, y_test = zip(*test)\n",
    "\n",
    "# Make labels binary\n",
    "le = LabelEncoder()\n",
    "le.fit(y_train)\n",
    "\n",
    "y_train = le.transform(y_train)\n",
    "y_test = le.transform(y_test)"
   ]
  },
  {
   "cell_type": "code",
   "execution_count": 5,
   "metadata": {
    "collapsed": true,
    "deletable": true,
    "editable": true
   },
   "outputs": [],
   "source": [
    "naive_bayes = Pipeline([\n",
    "    ('vect', CountVectorizer(max_df=.9, min_df=.1)), # bag of words\n",
    "    ('tfidf', TfidfTransformer()), # adjust for frequency\n",
    "    ('model', MultinomialNB()), # classifier\n",
    "])"
   ]
  },
  {
   "cell_type": "code",
   "execution_count": 6,
   "metadata": {
    "collapsed": false,
    "deletable": true,
    "editable": true
   },
   "outputs": [
    {
     "data": {
      "text/plain": [
       "Pipeline(steps=[('vect', CountVectorizer(analyzer=u'word', binary=False, decode_error=u'strict',\n",
       "        dtype=<type 'numpy.int64'>, encoding=u'utf-8', input=u'content',\n",
       "        lowercase=True, max_df=0.9, max_features=None, min_df=0.1,\n",
       "        ngram_range=(1, 1), preprocessor=None, stop_words=None,\n",
       "        ...lse,\n",
       "         use_idf=True)), ('model', MultinomialNB(alpha=1.0, class_prior=None, fit_prior=True))])"
      ]
     },
     "execution_count": 6,
     "metadata": {},
     "output_type": "execute_result"
    }
   ],
   "source": [
    "naive_bayes.fit(x_train, y_train)"
   ]
  },
  {
   "cell_type": "code",
   "execution_count": 7,
   "metadata": {
    "collapsed": false,
    "deletable": true,
    "editable": true
   },
   "outputs": [
    {
     "name": "stdout",
     "output_type": "stream",
     "text": [
      "Accuracy: 0.792\n"
     ]
    }
   ],
   "source": [
    "y_hat = naive_bayes.predict(x_test)\n",
    "print \"Accuracy: %.3f\" % metrics.accuracy_score(y_hat, y_test)"
   ]
  },
  {
   "cell_type": "markdown",
   "metadata": {
    "deletable": true,
    "editable": true
   },
   "source": [
    "## Other Methods\n",
    "\n",
    "Using the same generated features it is not hard to exend this classification to all classification models. We chose SVM, logistic regression, and gradient boosting because they are both representatives of different classes of classification methods."
   ]
  },
  {
   "cell_type": "markdown",
   "metadata": {
    "deletable": true,
    "editable": true
   },
   "source": [
    "### Logistic Regression"
   ]
  },
  {
   "cell_type": "code",
   "execution_count": 6,
   "metadata": {
    "collapsed": true,
    "deletable": true,
    "editable": true
   },
   "outputs": [],
   "source": [
    "logisticRegres = Pipeline([\n",
    "    ('vect', CountVectorizer()),\n",
    "    ('tfidf', TfidfTransformer()),\n",
    "    ('to_dense', DenseTransformer()), \n",
    "    ('model', LogisticRegression()),\n",
    "])"
   ]
  },
  {
   "cell_type": "code",
   "execution_count": 7,
   "metadata": {
    "collapsed": false,
    "deletable": true,
    "editable": true
   },
   "outputs": [
    {
     "data": {
      "text/plain": [
       "Pipeline(steps=[('vect', CountVectorizer(analyzer=u'word', binary=False, decode_error=u'strict',\n",
       "        dtype=<type 'numpy.int64'>, encoding=u'utf-8', input=u'content',\n",
       "        lowercase=True, max_df=1.0, max_features=None, min_df=1,\n",
       "        ngram_range=(1, 1), preprocessor=None, stop_words=None,\n",
       "        st...ty='l2', random_state=None, solver='liblinear', tol=0.0001,\n",
       "          verbose=0, warm_start=False))])"
      ]
     },
     "execution_count": 7,
     "metadata": {},
     "output_type": "execute_result"
    }
   ],
   "source": [
    "logisticRegres.fit(x_train, y_train)"
   ]
  },
  {
   "cell_type": "code",
   "execution_count": 8,
   "metadata": {
    "collapsed": false,
    "deletable": true,
    "editable": true
   },
   "outputs": [
    {
     "data": {
      "text/plain": [
       "0.92859999999999998"
      ]
     },
     "execution_count": 8,
     "metadata": {},
     "output_type": "execute_result"
    }
   ],
   "source": [
    "y_hat = logisticRegres.predict(x_test)\n",
    "metrics.accuracy_score(y_hat, y_test)"
   ]
  },
  {
   "cell_type": "markdown",
   "metadata": {
    "deletable": true,
    "editable": true
   },
   "source": [
    "### SVM"
   ]
  },
  {
   "cell_type": "code",
   "execution_count": 8,
   "metadata": {
    "collapsed": false,
    "deletable": true,
    "editable": true
   },
   "outputs": [],
   "source": [
    "svm = Pipeline([\n",
    "    ('vect', CountVectorizer()),\n",
    "    ('tfidf', TfidfTransformer()),\n",
    "    ('model', SVC()),\n",
    "])"
   ]
  },
  {
   "cell_type": "code",
   "execution_count": 9,
   "metadata": {
    "collapsed": false,
    "deletable": true,
    "editable": true
   },
   "outputs": [
    {
     "data": {
      "text/plain": [
       "Pipeline(steps=[('vect', CountVectorizer(analyzer=u'word', binary=False, decode_error=u'strict',\n",
       "        dtype=<type 'numpy.int64'>, encoding=u'utf-8', input=u'content',\n",
       "        lowercase=True, max_df=1.0, max_features=None, min_df=1,\n",
       "        ngram_range=(1, 1), preprocessor=None, stop_words=None,\n",
       "        st...,\n",
       "  max_iter=-1, probability=False, random_state=None, shrinking=True,\n",
       "  tol=0.001, verbose=False))])"
      ]
     },
     "execution_count": 9,
     "metadata": {},
     "output_type": "execute_result"
    }
   ],
   "source": [
    "svm.fit(x_train, y_train)"
   ]
  },
  {
   "cell_type": "code",
   "execution_count": 10,
   "metadata": {
    "collapsed": false,
    "deletable": true,
    "editable": true
   },
   "outputs": [
    {
     "data": {
      "text/plain": [
       "0.76259999999999994"
      ]
     },
     "execution_count": 10,
     "metadata": {},
     "output_type": "execute_result"
    }
   ],
   "source": [
    "y_hat = svm.predict(x_test)\n",
    "metrics.accuracy_score(y_hat, y_test)"
   ]
  },
  {
   "cell_type": "markdown",
   "metadata": {
    "deletable": true,
    "editable": true
   },
   "source": [
    "### Gradient Boosting"
   ]
  },
  {
   "cell_type": "code",
   "execution_count": 11,
   "metadata": {
    "collapsed": true,
    "deletable": true,
    "editable": true
   },
   "outputs": [],
   "source": [
    "gb = Pipeline([\n",
    "    ('vect', CountVectorizer()),\n",
    "    ('tfidf', TfidfTransformer()),\n",
    "    ('to_dense', DenseTransformer()), \n",
    "    ('model', GradientBoostingClassifier()),\n",
    "])"
   ]
  },
  {
   "cell_type": "code",
   "execution_count": 12,
   "metadata": {
    "collapsed": false,
    "deletable": true,
    "editable": true
   },
   "outputs": [
    {
     "data": {
      "text/plain": [
       "Pipeline(steps=[('vect', CountVectorizer(analyzer=u'word', binary=False, decode_error=u'strict',\n",
       "        dtype=<type 'numpy.int64'>, encoding=u'utf-8', input=u'content',\n",
       "        lowercase=True, max_df=1.0, max_features=None, min_df=1,\n",
       "        ngram_range=(1, 1), preprocessor=None, stop_words=None,\n",
       "        st...=100, presort='auto', random_state=None,\n",
       "              subsample=1.0, verbose=0, warm_start=False))])"
      ]
     },
     "execution_count": 12,
     "metadata": {},
     "output_type": "execute_result"
    }
   ],
   "source": [
    "gb.fit(x_train, y_train)"
   ]
  },
  {
   "cell_type": "code",
   "execution_count": 13,
   "metadata": {
    "collapsed": false,
    "deletable": true,
    "editable": true
   },
   "outputs": [
    {
     "data": {
      "text/plain": [
       "0.873"
      ]
     },
     "execution_count": 13,
     "metadata": {},
     "output_type": "execute_result"
    }
   ],
   "source": [
    "y_hat = gb.predict(x_test)\n",
    "metrics.accuracy_score(y_hat, y_test)"
   ]
  },
  {
   "cell_type": "markdown",
   "metadata": {
    "deletable": true,
    "editable": true
   },
   "source": [
    "The binary nature of positive and negative reviews makes logistic regression very well suited for this problem. It was able to perform very well."
   ]
  },
  {
   "cell_type": "markdown",
   "metadata": {
    "deletable": true,
    "editable": true
   },
   "source": [
    "## Estimating Competitive Radi\n",
    "<hr>\n",
    "\n",
    "While being able to predict sentiment and topic prediction is pretty freaking cool, they aren't enough to help a company see what they need to do better relative to their competitors. That is to say that proximity is as important as how similar to businesses are. If we could estimate an appropriate radius for a business to consider as their competitor then we could be able to inform them more accuratly how they should focus on there efforts.\n",
    "\n",
    "\n",
    "For this demonstraion we will use Henderson, Nevada (a city next to Las Vegas) to visualize our methods. \n"
   ]
  },
  {
   "cell_type": "code",
   "execution_count": 14,
   "metadata": {
    "collapsed": false,
    "deletable": true,
    "editable": true
   },
   "outputs": [],
   "source": [
    "from yelp_utils.data_manager import get_all_reviews_by_user_for_city, get_average_lat_and_long,\\\n",
    "get_max_distacne_from_mid, get_radius_from_review_centers_dict, clean_reviewer_average_radius_with_get_clusters\n",
    "from sklearn.covariance import EllipticEnvelope\n",
    "from sklearn.ensemble import IsolationForest"
   ]
  },
  {
   "cell_type": "code",
   "execution_count": 31,
   "metadata": {
    "collapsed": true,
    "deletable": true,
    "editable": true
   },
   "outputs": [],
   "source": [
    "def get_all_centers_as_array(reviews_dict):\n",
    "    x_centers_list = []\n",
    "    y_centers_list = []\n",
    "    associated_id = []\n",
    "    for uid, user_review in reviews_dict.iteritems():\n",
    "        if len(user_review) == 1:\n",
    "            continue #We don't care about single reviewers! They give us no information.\n",
    "        x, y = get_average_lat_and_long(user_review)\n",
    "        x_centers_list.append(x)\n",
    "        y_centers_list.append(y)\n",
    "        associated_id.append(uid)\n",
    "    return np.array([x_centers_list, y_centers_list]).T, associated_id\n",
    "\n",
    "def get_all_points_as_array(reviews_dict):\n",
    "    x_list = []\n",
    "    y_list = []\n",
    "    associated_id = []\n",
    "    for uid, user_review in reviews_dict.iteritems():\n",
    "        x, y = get_average_lat_and_long(user_review)\n",
    "        for review in user_review:\n",
    "            x_list.append(review[0])\n",
    "            y_list.append(review[1])\n",
    "    return np.array([x_list, y_list]).T\n",
    "\n",
    "def visualize_all_points(reviews_dict, city_loc=(36.0395, -114.9817)):\n",
    "    #Default values set to be appropriate for henderson\n",
    "    points = get_all_points_as_array(reviews_dict)\n",
    "    plt.scatter(points[:, 0], points[:, 1], alpha=.5)\n",
    "    plt.ylabel('Longitude')\n",
    "    plt.xlabel('Latitude')\n",
    "    if city_loc:\n",
    "        plt.scatter(city_loc[0], city_loc[1], c='r')\n",
    "    return plt\n",
    "\n",
    "def visualize_centers(reviews_dict, city_loc=(36.0395, -114.9817)):\n",
    "    #Default values set to be appropriate for henderson\n",
    "    centers = get_all_centers_as_array(reviews_dict)[0]\n",
    "    plt.scatter(centers[:, 0], centers[:, 1])\n",
    "    if city_loc:\n",
    "        plt.scatter(city_loc[0], city_loc[1], c='r')\n",
    "    plt.ylabel('Longitude')\n",
    "    plt.xlabel('Latitude')\n",
    "    return plt"
   ]
  },
  {
   "cell_type": "markdown",
   "metadata": {
    "deletable": true,
    "editable": true
   },
   "source": [
    "### Dealing with Outliers"
   ]
  },
  {
   "cell_type": "markdown",
   "metadata": {
    "deletable": true,
    "editable": true
   },
   "source": [
    "Our dataset is filled with some pretty awful and sometimes very unperdictable datapoints. These are clearly not within the city limits."
   ]
  },
  {
   "cell_type": "code",
   "execution_count": 32,
   "metadata": {
    "collapsed": true,
    "deletable": true,
    "editable": true
   },
   "outputs": [],
   "source": [
    "henderson_reviews = get_all_reviews_by_user_for_city(\"Henderson\")"
   ]
  },
  {
   "cell_type": "code",
   "execution_count": 33,
   "metadata": {
    "collapsed": false,
    "deletable": true,
    "editable": true
   },
   "outputs": [
    {
     "data": {
      "image/png": "[encoded data removed]",
      "text/plain": [
       "<matplotlib.figure.Figure at 0x7fc54682c810>"
      ]
     },
     "metadata": {},
     "output_type": "display_data"
    }
   ],
   "source": [
    "visualize_all_points(henderson_reviews).show()"
   ]
  },
  {
   "cell_type": "markdown",
   "metadata": {
    "deletable": true,
    "editable": true
   },
   "source": [
    "### Naive K means Outlier Removal\n",
    "This approachis stupid. But time was spent devoloping it so feel free to check it out at our <a href=\"http://htmlpreview.github.io/?https://github.com/smwade/Yelp-Prediction/blob/master/machine_learning/Auxilery.html#Naive-K-means-Outlier-Removal\">auxilery</a>."
   ]
  },
  {
   "cell_type": "markdown",
   "metadata": {
    "deletable": true,
    "editable": true
   },
   "source": [
    "### Cleaning Outliers with EllipticEnvelope\n",
    "\n",
    "Below you can see we clean our data with the \"EllipticEnvelope\". This enables us to remove all those weird blips that are thousands of miles from Hendreson."
   ]
  },
  {
   "cell_type": "code",
   "execution_count": 34,
   "metadata": {
    "collapsed": true,
    "deletable": true,
    "editable": true
   },
   "outputs": [],
   "source": [
    "def clean_reviewer_average_radius_with_EllipticEnvelope(reviews):\n",
    "    \"\"\"A function to clean outliers using the EllipticEnvelope Method\"\"\"\n",
    "    good_points = {}\n",
    "    classifier = EllipticEnvelope(contamination=0.005)\n",
    "    centers, user_ids = get_all_centers_as_array(reviews)\n",
    "    classifier.fit(centers)\n",
    "    inlier_indexes = np.where(classifier.predict(centers) != -1)\n",
    "    user_ids = np.array(user_ids)[inlier_indexes]\n",
    "    for i, user_id in enumerate(user_ids):\n",
    "        good_points[user_id] = reviews[user_id]\n",
    "    return good_points"
   ]
  },
  {
   "cell_type": "code",
   "execution_count": 35,
   "metadata": {
    "collapsed": false,
    "deletable": true,
    "editable": true,
    "scrolled": true
   },
   "outputs": [
    {
     "data": {
      "image/png": "[encoded data removed]",
      "text/plain": [
       "<matplotlib.figure.Figure at 0x7fc598652910>"
      ]
     },
     "metadata": {},
     "output_type": "display_data"
    }
   ],
   "source": [
    "EllipticEnvelope_cleaned = clean_reviewer_average_radius_with_EllipticEnvelope(henderson_reviews)\n",
    "visualize_centers(EllipticEnvelope_cleaned).show()"
   ]
  },
  {
   "cell_type": "markdown",
   "metadata": {
    "deletable": true,
    "editable": true
   },
   "source": [
    "### Random Forest for Anomaly Detection (Isolation Forest)\n",
    "\n",
    "\n",
    "Below you can see we clean our data with the \"IsolationForest\". This enables us to remove all those weird blips that are thousands of miles from Hendreson."
   ]
  },
  {
   "cell_type": "code",
   "execution_count": 36,
   "metadata": {
    "collapsed": true,
    "deletable": true,
    "editable": true
   },
   "outputs": [],
   "source": [
    "def clean_reviewer_average_radius_with_IsolationForest(reviews):\n",
    "    rng = np.random.RandomState(42)\n",
    "    good_points = {}\n",
    "    classifier = IsolationForest(max_samples=1500, random_state=rng, contamination=0.005, n_jobs=-1)\n",
    "    centers, user_ids = get_all_centers_as_array(reviews)\n",
    "    classifier.fit(centers)\n",
    "    des_on = classifier.decision_function(centers)\n",
    "    #Within four standard deviations of the decision_function\n",
    "    inlier_indexes = np.where(abs(des_on - np.mean(des_on))  < 4*np.std(des_on))\n",
    "    user_ids = np.array(user_ids)[inlier_indexes]\n",
    "    for i, user_id in enumerate(user_ids):\n",
    "        good_points[user_id] = reviews[user_id]\n",
    "    return good_points"
   ]
  },
  {
   "cell_type": "code",
   "execution_count": 37,
   "metadata": {
    "collapsed": false,
    "deletable": true,
    "editable": true
   },
   "outputs": [
    {
     "data": {
      "image/png": "[encoded data removed]",
      "text/plain": [
       "<matplotlib.figure.Figure at 0x7fc5561a1f50>"
      ]
     },
     "metadata": {},
     "output_type": "display_data"
    }
   ],
   "source": [
    "IsolationForest_cleaned = clean_reviewer_average_radius_with_IsolationForest(henderson_reviews)\n",
    "visualize_centers(IsolationForest_cleaned).show()"
   ]
  },
  {
   "cell_type": "markdown",
   "metadata": {
    "deletable": true,
    "editable": true
   },
   "source": [
    "As you can see the latter method includes a bit more points futher from the \"center of henderson\" (That that red dot) It is probably a better representation of all the reviews in Henderson. This is likely an issue cause by our hyper-parameter choices (one of them is what percentage of our data ar outliers) and the fact that the former method can fit much more exactly (it's not based on dictance from a point, but rather an (as the name might suggest elipse). "
   ]
  },
  {
   "cell_type": "markdown",
   "metadata": {
    "deletable": true,
    "editable": true
   },
   "source": [
    "## Calculating Radi\n",
    "We've done alot with Henderson, so we will use Phoenix in this section, to make sure we don't limit our selection by a single city. "
   ]
  },
  {
   "cell_type": "code",
   "execution_count": 22,
   "metadata": {
    "collapsed": false,
    "deletable": true,
    "editable": true
   },
   "outputs": [
    {
     "data": {
      "image/png": "[encoded data removed]",
      "text/plain": [
       "<matplotlib.figure.Figure at 0x7fc557745990>"
      ]
     },
     "metadata": {},
     "output_type": "display_data"
    },
    {
     "name": "stdout",
     "output_type": "stream",
     "text": [
      "Naive K-Means Clusters predicted a radius of: 8.9329\n",
      "Elliptic Envelope predicted a radius of: 8.9421\n",
      "Isolation Forest predicted a radius of: 8.9380\n"
     ]
    }
   ],
   "source": [
    "phoenix_reviews = get_all_reviews_by_user_for_city(\"Phoenix\")\n",
    "\n",
    "plt.figure(figsize=(16, 12))\n",
    "\n",
    "plt.subplot(2, 2, 1)\n",
    "visualize_centers(phoenix_reviews, (33.448, -112.074)).title(\"Original\")\n",
    "plt.subplot(2, 2, 2)\n",
    "visualize_centers(clean_reviewer_average_radius_with_IsolationForest(phoenix_reviews), (33.448, -112.074)).title(\"Anomaly Removal with Isolation Forest\")\n",
    "plt.subplot(2, 2, 3)\n",
    "visualize_centers(clean_reviewer_average_radius_with_EllipticEnvelope(phoenix_reviews), (33.448, -112.074)).title(\"Anomaly Removal with EllipticEnvelope\")\n",
    "plt.subplot(2, 2, 4)\n",
    "visualize_centers(clean_reviewer_average_radius_with_get_clusters(phoenix_reviews), (33.448, -112.074)).title(\"Anomaly Removal with Niave K-Means Clusters\")\n",
    "\n",
    "plt.show()\n",
    "\n",
    "print(\"Naive K-Means Clusters predicted a radius of: {0:.4f}\".format(get_radius_from_review_centers_dict(clean_reviewer_average_radius_with_get_clusters(phoenix_reviews))))\n",
    "print(\"Elliptic Envelope predicted a radius of: {0:.4f}\".format(get_radius_from_review_centers_dict(clean_reviewer_average_radius_with_EllipticEnvelope(phoenix_reviews))))\n",
    "print(\"Isolation Forest predicted a radius of: {0:.4f}\".format(get_radius_from_review_centers_dict(clean_reviewer_average_radius_with_IsolationForest(phoenix_reviews))))"
   ]
  },
  {
   "cell_type": "markdown",
   "metadata": {},
   "source": [
    "## Web App\n",
    "\n"
   ]
  },
  {
   "cell_type": "markdown",
   "metadata": {
    "collapsed": true,
    "deletable": true,
    "editable": true
   },
   "source": [
    "## Conclusion\n",
    "<hr>\n",
    "\n",
    "By applying these machine learning we were able to accomplish a successful baseline for our 3 project goals. Topic modeling has shown the competitiveness between companies. Using k-means and random forests we performed anomaly detection on city data. Lastly we applied many different models to sentiment analysis.\n"
   ]
  }
 ],
 "metadata": {
  "kernelspec": {
   "display_name": "Python 2",
   "language": "python",
   "name": "python2"
  },
  "language_info": {
   "codemirror_mode": {
    "name": "ipython",
    "version": 2
   },
   "file_extension": ".py",
   "mimetype": "text/x-python",
   "name": "python",
   "nbconvert_exporter": "python",
   "pygments_lexer": "ipython2",
   "version": "2.7.12"
  }
 },
 "nbformat": 4,
 "nbformat_minor": 1
}
